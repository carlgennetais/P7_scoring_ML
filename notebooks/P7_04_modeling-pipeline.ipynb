{
 "cells": [
  {
   "cell_type": "markdown",
   "metadata": {},
   "source": [
    "# Split train/test\n",
    "To keep some test data unseen by gridsearch"
   ]
  },
  {
   "cell_type": "markdown",
   "metadata": {},
   "source": [
    "# Import"
   ]
  },
  {
   "cell_type": "code",
   "execution_count": 1,
   "metadata": {
    "execution": {
     "iopub.execute_input": "2024-03-08T07:44:31.329128Z",
     "iopub.status.busy": "2024-03-08T07:44:31.329017Z",
     "iopub.status.idle": "2024-03-08T07:44:32.254441Z",
     "shell.execute_reply": "2024-03-08T07:44:32.253890Z",
     "shell.execute_reply.started": "2024-03-08T07:44:31.329120Z"
    }
   },
   "outputs": [],
   "source": [
    "# Graphics\n",
    "import matplotlib.pyplot as plt\n",
    "\n",
    "# Pandas & ML\n",
    "import numpy as np\n",
    "import pandas as pd\n",
    "import seaborn as sns\n",
    "\n",
    "sns.set()\n",
    "\n",
    "# Third party\n",
    "import mlflow\n",
    "import shap\n",
    "from imblearn.combine import SMOTEENN, SMOTETomek\n",
    "from imblearn.over_sampling import SMOTE, RandomOverSampler\n",
    "from imblearn.pipeline import Pipeline\n",
    "from imblearn.under_sampling import RandomUnderSampler\n",
    "from lightgbm import LGBMClassifier\n",
    "from mlflow.models import infer_signature\n",
    "\n",
    "# Pandas & ML\n",
    "# from sklearn.pipeline import Pipeline\n",
    "from sklearn import metrics\n",
    "from sklearn.decomposition import NMF, PCA\n",
    "from sklearn.ensemble import RandomForestClassifier\n",
    "from sklearn.experimental import enable_halving_search_cv, enable_iterative_imputer\n",
    "from sklearn.feature_selection import (\n",
    "    SelectKBest,\n",
    "    VarianceThreshold,\n",
    "    mutual_info_classif,\n",
    ")\n",
    "from sklearn.impute import IterativeImputer, KNNImputer, SimpleImputer\n",
    "from sklearn.linear_model import LogisticRegression\n",
    "from sklearn.metrics._scorer import make_scorer\n",
    "from sklearn.model_selection import GridSearchCV, HalvingGridSearchCV, train_test_split\n",
    "from sklearn.preprocessing import (\n",
    "    FunctionTransformer,\n",
    "    MinMaxScaler,\n",
    "    RobustScaler,\n",
    "    StandardScaler,\n",
    ")\n",
    "from xgboost import XGBClassifier"
   ]
  },
  {
   "cell_type": "code",
   "execution_count": 2,
   "metadata": {
    "execution": {
     "iopub.execute_input": "2024-03-08T07:44:33.648562Z",
     "iopub.status.busy": "2024-03-08T07:44:33.648385Z",
     "iopub.status.idle": "2024-03-08T07:44:34.450414Z",
     "shell.execute_reply": "2024-03-08T07:44:34.449641Z",
     "shell.execute_reply.started": "2024-03-08T07:44:33.648553Z"
    }
   },
   "outputs": [],
   "source": [
    "# load cleaned data\n",
    "df = pd.read_pickle(\"../data/processed/data_cleaned.pkl\")"
   ]
  },
  {
   "cell_type": "code",
   "execution_count": 4,
   "metadata": {
    "execution": {
     "iopub.execute_input": "2024-03-08T07:44:42.990508Z",
     "iopub.status.busy": "2024-03-08T07:44:42.990394Z",
     "iopub.status.idle": "2024-03-08T07:44:43.006208Z",
     "shell.execute_reply": "2024-03-08T07:44:43.005922Z",
     "shell.execute_reply.started": "2024-03-08T07:44:42.990500Z"
    }
   },
   "outputs": [
    {
     "name": "stdout",
     "output_type": "stream",
     "text": [
      "<class 'pandas.core.frame.DataFrame'>\n",
      "Index: 61501 entries, 56200 to 289369\n",
      "Columns: 798 entries, index to CC_COUNT\n",
      "dtypes: bool(133), float64(606), int64(43), object(16)\n",
      "memory usage: 320.3+ MB\n"
     ]
    }
   ],
   "source": [
    "df.info()"
   ]
  },
  {
   "cell_type": "code",
   "execution_count": 3,
   "metadata": {
    "execution": {
     "iopub.execute_input": "2024-03-08T07:44:40.678424Z",
     "iopub.status.busy": "2024-03-08T07:44:40.678272Z",
     "iopub.status.idle": "2024-03-08T07:44:40.952867Z",
     "shell.execute_reply": "2024-03-08T07:44:40.952364Z",
     "shell.execute_reply.started": "2024-03-08T07:44:40.678415Z"
    }
   },
   "outputs": [],
   "source": [
    "# frac\n",
    "df = df.sample(frac=0.2)"
   ]
  },
  {
   "cell_type": "code",
   "execution_count": 5,
   "metadata": {
    "execution": {
     "iopub.execute_input": "2024-03-08T07:44:50.399204Z",
     "iopub.status.busy": "2024-03-08T07:44:50.398701Z",
     "iopub.status.idle": "2024-03-08T07:44:50.677833Z",
     "shell.execute_reply": "2024-03-08T07:44:50.677349Z",
     "shell.execute_reply.started": "2024-03-08T07:44:50.399193Z"
    }
   },
   "outputs": [],
   "source": [
    "# remove inf values not supported by sklearn\n",
    "df.replace([np.inf, -np.inf], np.nan, inplace=True)"
   ]
  },
  {
   "cell_type": "code",
   "execution_count": 6,
   "metadata": {
    "execution": {
     "iopub.execute_input": "2024-03-08T07:45:01.882339Z",
     "iopub.status.busy": "2024-03-08T07:45:01.882227Z",
     "iopub.status.idle": "2024-03-08T07:45:02.061758Z",
     "shell.execute_reply": "2024-03-08T07:45:02.061173Z",
     "shell.execute_reply.started": "2024-03-08T07:45:01.882332Z"
    }
   },
   "outputs": [],
   "source": [
    "# split train / test\n",
    "X_train, X_test, y_train, y_test = train_test_split(\n",
    "    df.drop([\"TARGET\", \"SK_ID_CURR\", \"index\"], axis=1), df.TARGET\n",
    ")"
   ]
  },
  {
   "cell_type": "markdown",
   "metadata": {},
   "source": [
    "# Baseline"
   ]
  },
  {
   "cell_type": "markdown",
   "metadata": {},
   "source": [
    "### Random classifier"
   ]
  },
  {
   "cell_type": "code",
   "execution_count": 52,
   "metadata": {
    "execution": {
     "iopub.execute_input": "2024-03-08T08:05:12.025212Z",
     "iopub.status.busy": "2024-03-08T08:05:12.025085Z",
     "iopub.status.idle": "2024-03-08T08:05:12.033510Z",
     "shell.execute_reply": "2024-03-08T08:05:12.033051Z",
     "shell.execute_reply.started": "2024-03-08T08:05:12.025192Z"
    }
   },
   "outputs": [
    {
     "name": "stdout",
     "output_type": "stream",
     "text": [
      "PNL score with random clf: $-169M\n",
      "PNL score with random clf: 0.5005982069401187\n"
     ]
    }
   ],
   "source": [
    "random_clf = DummyClassifier(strategy=\"uniform\")\n",
    "random_clf.fit(X_train, y_train)\n",
    "y_pred_random = random_clf.predict(X_test)\n",
    "print(\n",
    "    f\"PNL score with random clf: {human_format(pnl(y_test, y_pred_random, normalize=False))}\"\n",
    ")\n",
    "print(f\"ROC score with random clf: {metrics.roc_auc_score(y_test, y_pred_random)}\")"
   ]
  },
  {
   "cell_type": "markdown",
   "metadata": {},
   "source": [
    "### Grant all loans"
   ]
  },
  {
   "cell_type": "code",
   "execution_count": 53,
   "metadata": {
    "execution": {
     "iopub.execute_input": "2024-03-08T08:06:10.665832Z",
     "iopub.status.busy": "2024-03-08T08:06:10.665685Z",
     "iopub.status.idle": "2024-03-08T08:06:10.674205Z",
     "shell.execute_reply": "2024-03-08T08:06:10.673698Z",
     "shell.execute_reply.started": "2024-03-08T08:06:10.665807Z"
    }
   },
   "outputs": [
    {
     "name": "stdout",
     "output_type": "stream",
     "text": [
      "PNL score with grant_all clf: $-77.6M\n",
      "ROC score with grant_all clf: 0.5\n"
     ]
    }
   ],
   "source": [
    "grant_all_clf = DummyClassifier(strategy=\"constant\", constant=0)\n",
    "grant_all_clf.fit(X_train, y_train)\n",
    "y_pred_grant_all = grant_all_clf.predict(X_test)\n",
    "print(\n",
    "    f\"PNL score with grant_all clf: {human_format(pnl(y_test, y_pred_grant_all, normalize=False))}\"\n",
    ")"
   ]
  },
  {
   "cell_type": "markdown",
   "metadata": {},
   "source": [
    "### Deny all loans"
   ]
  },
  {
   "cell_type": "code",
   "execution_count": 48,
   "metadata": {
    "execution": {
     "iopub.execute_input": "2024-03-08T08:00:51.021112Z",
     "iopub.status.busy": "2024-03-08T08:00:51.020944Z",
     "iopub.status.idle": "2024-03-08T08:00:51.027364Z",
     "shell.execute_reply": "2024-03-08T08:00:51.026878Z",
     "shell.execute_reply.started": "2024-03-08T08:00:51.021104Z"
    }
   },
   "outputs": [
    {
     "name": "stdout",
     "output_type": "stream",
     "text": [
      "PNL score with deny_all clf: $-255M\n"
     ]
    }
   ],
   "source": [
    "deny_all_clf = DummyClassifier(strategy=\"constant\", constant=1)\n",
    "deny_all_clf.fit(X_train, y_train)\n",
    "y_pred_deny_all = deny_all_clf.predict(X_test)\n",
    "print(\n",
    "    f\"PNL score with deny_all clf: {human_format(pnl(y_test, y_pred_deny_all, normalize=False))}\"\n",
    ")"
   ]
  },
  {
   "cell_type": "markdown",
   "metadata": {},
   "source": [
    "# Profits and Loss function"
   ]
  },
  {
   "cell_type": "code",
   "execution_count": 7,
   "metadata": {
    "execution": {
     "iopub.execute_input": "2024-03-08T07:45:06.487722Z",
     "iopub.status.busy": "2024-03-08T07:45:06.487587Z",
     "iopub.status.idle": "2024-03-08T07:45:06.490636Z",
     "shell.execute_reply": "2024-03-08T07:45:06.490100Z",
     "shell.execute_reply.started": "2024-03-08T07:45:06.487715Z"
    }
   },
   "outputs": [],
   "source": [
    "def human_format(num: float | int) -> str:\n",
    "    \"\"\"\n",
    "    Format a big number in a human readable way with dollar sign and SI prefixes (k,m,M etc)\n",
    "\n",
    "    Parameters\n",
    "    ----------\n",
    "    num: float | int\n",
    "        Raw number\n",
    "\n",
    "    Returns\n",
    "    -------\n",
    "    str:\n",
    "        Human readable number as a string\n",
    "    \"\"\"\n",
    "    num = float(\"{:.3g}\".format(num))\n",
    "    magnitude = 0\n",
    "    while abs(num) >= 1000:\n",
    "        magnitude += 1\n",
    "        num /= 1000.0\n",
    "    return \"{}{}\".format(\n",
    "        \"${:f}\".format(num).rstrip(\"0\").rstrip(\".\"), [\"\", \"K\", \"M\", \"B\", \"T\"][magnitude]\n",
    "    )"
   ]
  },
  {
   "cell_type": "code",
   "execution_count": 27,
   "metadata": {
    "editable": true,
    "execution": {
     "iopub.execute_input": "2024-03-08T07:51:20.580331Z",
     "iopub.status.busy": "2024-03-08T07:51:20.580222Z",
     "iopub.status.idle": "2024-03-08T07:51:20.733938Z",
     "shell.execute_reply": "2024-03-08T07:51:20.733111Z",
     "shell.execute_reply.started": "2024-03-08T07:51:20.580324Z"
    },
    "slideshow": {
     "slide_type": ""
    },
    "tags": []
   },
   "outputs": [],
   "source": [
    "# compute mean ratio of value of goods, and amount loaned for buying this goods\n",
    "GOODS_CREDIT_RATIO = (\n",
    "    df[df[\"AMT_GOODS_PRICE\"].notna()].AMT_GOODS_PRICE\n",
    "    / df[df[\"AMT_GOODS_PRICE\"].notna()].AMT_CREDIT\n",
    ").mean()\n",
    "\n",
    "\n",
    "def pnl(\n",
    "    y_true: \"ndarray\",\n",
    "    y_pred: \"ndarray\",\n",
    "    interest: \"float\" = 0.03,\n",
    "    goods_recover_rate: \"float\" = 0.60,\n",
    "    normalize: \"bool\" = True,\n",
    "):\n",
    "    \"\"\"\n",
    "    Naive estimation of gains and losses for the bank\n",
    "    if loans are granted according to model predictions.\n",
    "\n",
    "    Parameters\n",
    "    ----------\n",
    "    y_true: ndarray\n",
    "        Numpy array of true classes\n",
    "    y_pred: ndarray\n",
    "        Numpy array of predictions given by a model (0 or 1)\n",
    "    interest: float, default 0.04\n",
    "        Interest rate on credit amount the bank charges when loan is correctly repayed.\n",
    "        Because this value was not provided in the dataset, we'll use current market tendencies.\n",
    "    goods_recover_rate: float, default 0.60\n",
    "        Rate of monetary value recovered on goods seized by the bank for customers that can't repay their loan.\n",
    "    normalize: True | False, default: True\n",
    "        If False, returns total gains in dollars for the bank.\n",
    "        If True (default), returns a 0 to 1 ratio where 1 corresponds to the maximum\n",
    "        gain possible if all predictions are true (if y_pred == y_true)\n",
    "\n",
    "    Returns\n",
    "    -------\n",
    "    float:\n",
    "        Total sum of gains and losses for the bank\n",
    "    \"\"\"\n",
    "    # TODO: X en param\n",
    "    # df.apply(bank_revenue)\n",
    "    # y_proba\n",
    "    credit = df.loc[X_test.index, \"AMT_CREDIT\"]\n",
    "    # when goods value is missing, use 90% of credit amount\n",
    "    seized_goods = (\n",
    "        np.where(\n",
    "            df.loc[X_test.index, \"AMT_GOODS_PRICE\"].notna(),\n",
    "            df.loc[X_test.index, \"AMT_GOODS_PRICE\"],\n",
    "            df.loc[X_test.index, \"AMT_CREDIT\"] * GOODS_CREDIT_RATIO,\n",
    "        )\n",
    "        * goods_recover_rate\n",
    "    )\n",
    "    bank_revenue = pd.Series(np.nan)\n",
    "    # TP: loan correctly denied = no loss, no gain\n",
    "    bank_revenue = np.where((y_pred == 1) & (y_true == 1), 0, bank_revenue)\n",
    "    # FP: loan incorreclty denied: loss of interest\n",
    "    bank_revenue = np.where(\n",
    "        (y_pred == 1) & (y_true == 0),\n",
    "        -credit * interest,\n",
    "        bank_revenue,\n",
    "    )\n",
    "    # TN: loan correcly granted: gain of interest\n",
    "    bank_revenue = np.where(\n",
    "        (y_pred == 0) & (y_true == 0),\n",
    "        credit * interest,\n",
    "        bank_revenue,\n",
    "    )\n",
    "    # FN: loan incorrectly granted: loan amount is lost, customer goods are seized and sold\n",
    "    bank_revenue = np.where(\n",
    "        (y_pred == 0) & (y_true == 1),\n",
    "        -credit + seized_goods,\n",
    "        bank_revenue,\n",
    "    )\n",
    "    if normalize:\n",
    "        return bank_revenue.sum() / pnl(\n",
    "            y_true, y_true, interest, goods_recover_rate, normalize=False\n",
    "        )\n",
    "    else:\n",
    "        return bank_revenue.sum()"
   ]
  },
  {
   "cell_type": "markdown",
   "metadata": {},
   "source": [
    "### Create customer scorer from custom pnl function"
   ]
  },
  {
   "cell_type": "code",
   "execution_count": 9,
   "metadata": {
    "execution": {
     "iopub.execute_input": "2024-03-08T07:45:11.522132Z",
     "iopub.status.busy": "2024-03-08T07:45:11.522011Z",
     "iopub.status.idle": "2024-03-08T07:45:11.524494Z",
     "shell.execute_reply": "2024-03-08T07:45:11.524100Z",
     "shell.execute_reply.started": "2024-03-08T07:45:11.522124Z"
    }
   },
   "outputs": [],
   "source": [
    "pnl_scorer = make_scorer(pnl, greater_is_better=True)"
   ]
  },
  {
   "cell_type": "markdown",
   "metadata": {},
   "source": [
    "# Naive undersampler to fix target imbalance"
   ]
  },
  {
   "cell_type": "code",
   "execution_count": 9,
   "metadata": {
    "execution": {
     "iopub.execute_input": "2024-03-07T23:23:43.738314Z",
     "iopub.status.busy": "2024-03-07T23:23:43.738194Z",
     "iopub.status.idle": "2024-03-07T23:23:43.740851Z",
     "shell.execute_reply": "2024-03-07T23:23:43.740521Z",
     "shell.execute_reply.started": "2024-03-07T23:23:43.738306Z"
    }
   },
   "outputs": [],
   "source": [
    "# def NaiveUnderSampler(df):\n",
    "#     # find the minority class\n",
    "#     min_class = df.TARGET.value_counts().idxmin()\n",
    "#     # keep same number of majority class than minority\n",
    "#     target_minority_count = df[df.TARGET == min_class].shape[0]\n",
    "#     df_balanced = pd.concat(\n",
    "#         [\n",
    "#             df[df.TARGET == min_class].sample(target_minority_count),\n",
    "#             df[df.TARGET != min_class].sample(target_minority_count),\n",
    "#         ]\n",
    "#     )\n",
    "#     # shuffle rows\n",
    "#     return df_balanced.sample(frac=1)"
   ]
  },
  {
   "cell_type": "code",
   "execution_count": 10,
   "metadata": {
    "execution": {
     "iopub.execute_input": "2024-03-07T23:23:44.485887Z",
     "iopub.status.busy": "2024-03-07T23:23:44.485771Z",
     "iopub.status.idle": "2024-03-07T23:23:44.488732Z",
     "shell.execute_reply": "2024-03-07T23:23:44.488457Z",
     "shell.execute_reply.started": "2024-03-07T23:23:44.485879Z"
    }
   },
   "outputs": [],
   "source": [
    "def NaiveUnderSampler(X, y):\n",
    "    # TODO: docstring\n",
    "    # find the minority class\n",
    "    min_class = y.value_counts().idxmin()\n",
    "    # keep same number of majority class than minority\n",
    "    target_minority_count = y[y == min_class].shape[0]\n",
    "    df_balanced = pd.concat(\n",
    "        [\n",
    "            X[y == min_class].sample(target_minority_count),\n",
    "            X[y != min_class].sample(target_minority_count),\n",
    "        ]\n",
    "    )\n",
    "    # shuffle rows\n",
    "    return df_balanced.sample(frac=1)"
   ]
  },
  {
   "cell_type": "code",
   "execution_count": 11,
   "metadata": {
    "execution": {
     "iopub.execute_input": "2024-03-07T23:23:44.972675Z",
     "iopub.status.busy": "2024-03-07T23:23:44.972548Z",
     "iopub.status.idle": "2024-03-07T23:23:44.974873Z",
     "shell.execute_reply": "2024-03-07T23:23:44.974638Z",
     "shell.execute_reply.started": "2024-03-07T23:23:44.972668Z"
    }
   },
   "outputs": [],
   "source": [
    "# create transformer with fit methods from my function\n",
    "NaiveUnderSamplerTf = FunctionTransformer(NaiveUnderSampler)"
   ]
  },
  {
   "cell_type": "code",
   "execution_count": 12,
   "metadata": {
    "execution": {
     "iopub.execute_input": "2024-03-07T23:23:45.351310Z",
     "iopub.status.busy": "2024-03-07T23:23:45.350903Z",
     "iopub.status.idle": "2024-03-07T23:23:45.353398Z",
     "shell.execute_reply": "2024-03-07T23:23:45.352940Z",
     "shell.execute_reply.started": "2024-03-07T23:23:45.351298Z"
    }
   },
   "outputs": [],
   "source": [
    "# test naive imbalance fixer\n",
    "# df.pipe(NaiveUnderSampler).TARGET.value_counts()"
   ]
  },
  {
   "cell_type": "markdown",
   "metadata": {},
   "source": [
    "# Model Optimization"
   ]
  },
  {
   "cell_type": "code",
   "execution_count": 10,
   "metadata": {
    "execution": {
     "iopub.execute_input": "2024-03-08T07:45:16.534346Z",
     "iopub.status.busy": "2024-03-08T07:45:16.533815Z",
     "iopub.status.idle": "2024-03-08T07:45:16.557963Z",
     "shell.execute_reply": "2024-03-08T07:45:16.557635Z",
     "shell.execute_reply.started": "2024-03-08T07:45:16.534335Z"
    }
   },
   "outputs": [
    {
     "data": {
      "text/plain": [
       "<Experiment: artifact_location='mlflow-artifacts:/132287291501882802', creation_time=1708695008003, experiment_id='132287291501882802', last_update_time=1708695008003, lifecycle_stage='active', name='P7 ML', tags={}>"
      ]
     },
     "execution_count": 10,
     "metadata": {},
     "output_type": "execute_result"
    }
   ],
   "source": [
    "# local server must be running: $ mlflow ui\n",
    "mlflow.set_tracking_uri(uri=\"http://127.0.0.1:5000\")\n",
    "mlflow.set_experiment(\"P7 ML\")\n",
    "# mlflow.sklearn.autolog()  # log only sklearn model, not shap etc"
   ]
  },
  {
   "cell_type": "code",
   "execution_count": 11,
   "metadata": {
    "execution": {
     "iopub.execute_input": "2024-03-08T07:45:17.690593Z",
     "iopub.status.busy": "2024-03-08T07:45:17.690480Z",
     "iopub.status.idle": "2024-03-08T07:45:17.702933Z",
     "shell.execute_reply": "2024-03-08T07:45:17.702469Z",
     "shell.execute_reply.started": "2024-03-08T07:45:17.690587Z"
    }
   },
   "outputs": [],
   "source": [
    "from sklearn.compose import make_column_transformer\n",
    "from sklearn.preprocessing import TargetEncoder"
   ]
  },
  {
   "cell_type": "code",
   "execution_count": 12,
   "metadata": {
    "execution": {
     "iopub.execute_input": "2024-03-08T07:45:23.579023Z",
     "iopub.status.busy": "2024-03-08T07:45:23.578861Z",
     "iopub.status.idle": "2024-03-08T07:45:23.620698Z",
     "shell.execute_reply": "2024-03-08T07:45:23.620329Z",
     "shell.execute_reply.started": "2024-03-08T07:45:23.579015Z"
    }
   },
   "outputs": [],
   "source": [
    "# subset columns by dtype\n",
    "num_cols = X_train.select_dtypes(include=[\"bool\", \"int64\", \"float64\"]).columns.tolist()\n",
    "categorical_columns = X_train.select_dtypes(include=[\"object\"]).columns.tolist()"
   ]
  },
  {
   "cell_type": "code",
   "execution_count": 13,
   "metadata": {
    "execution": {
     "iopub.execute_input": "2024-03-08T07:45:24.456540Z",
     "iopub.status.busy": "2024-03-08T07:45:24.455947Z",
     "iopub.status.idle": "2024-03-08T07:45:24.458951Z",
     "shell.execute_reply": "2024-03-08T07:45:24.458553Z",
     "shell.execute_reply.started": "2024-03-08T07:45:24.456527Z"
    }
   },
   "outputs": [],
   "source": [
    "column_based_imputer = make_column_transformer(\n",
    "    (SimpleImputer(strategy=\"median\"), num_cols),\n",
    "    (\n",
    "        SimpleImputer(strategy=\"most_frequent\"),\n",
    "        categorical_columns,\n",
    "    ),\n",
    ")\n",
    "\n",
    "# empty pipe, just a list of steps\n",
    "pipe = Pipeline(\n",
    "    [\n",
    "        (\"imputer\", column_based_imputer),\n",
    "        (\"scaler\", [RobustScaler()]),\n",
    "        (\"category_encoding\", TargetEncoder()),\n",
    "        (\"reduce_dim\", [VarianceThreshold()]),\n",
    "        (\"sampler\", [RandomOverSampler()]),\n",
    "        (\"classifier\", [LGBMClassifier()]),\n",
    "    ]\n",
    ")"
   ]
  },
  {
   "cell_type": "code",
   "execution_count": 14,
   "metadata": {
    "execution": {
     "iopub.execute_input": "2024-03-08T07:45:56.231264Z",
     "iopub.status.busy": "2024-03-08T07:45:56.231127Z",
     "iopub.status.idle": "2024-03-08T07:46:38.174464Z",
     "shell.execute_reply": "2024-03-08T07:46:38.173937Z",
     "shell.execute_reply.started": "2024-03-08T07:45:56.231257Z"
    }
   },
   "outputs": [
    {
     "name": "stdout",
     "output_type": "stream",
     "text": [
      "[LightGBM] [Info] Number of positive: 3713, number of negative: 3713\n",
      "[LightGBM] [Info] Auto-choosing col-wise multi-threading, the overhead of testing was 0.003795 seconds.\n",
      "You can set `force_col_wise=true` to remove the overhead.\n",
      "[LightGBM] [Info] Total Bins 22461\n",
      "[LightGBM] [Info] Number of data points in the train set: 7426, number of used features: 200\n",
      "[LightGBM] [Info] [binary:BoostFromScore]: pavg=0.500000 -> initscore=0.000000\n"
     ]
    },
    {
     "data": {
      "text/html": [
       "<div>\n",
       "<style scoped>\n",
       "    .dataframe tbody tr th:only-of-type {\n",
       "        vertical-align: middle;\n",
       "    }\n",
       "\n",
       "    .dataframe tbody tr th {\n",
       "        vertical-align: top;\n",
       "    }\n",
       "\n",
       "    .dataframe thead th {\n",
       "        text-align: right;\n",
       "    }\n",
       "</style>\n",
       "<table border=\"1\" class=\"dataframe\">\n",
       "  <thead>\n",
       "    <tr style=\"text-align: right;\">\n",
       "      <th></th>\n",
       "      <th>4</th>\n",
       "      <th>5</th>\n",
       "      <th>2</th>\n",
       "      <th>3</th>\n",
       "      <th>1</th>\n",
       "      <th>0</th>\n",
       "    </tr>\n",
       "  </thead>\n",
       "  <tbody>\n",
       "    <tr>\n",
       "      <th>iter</th>\n",
       "      <td>1</td>\n",
       "      <td>1</td>\n",
       "      <td>0</td>\n",
       "      <td>0</td>\n",
       "      <td>0</td>\n",
       "      <td>0</td>\n",
       "    </tr>\n",
       "    <tr>\n",
       "      <th>n_resources</th>\n",
       "      <td>46125</td>\n",
       "      <td>46125</td>\n",
       "      <td>15375</td>\n",
       "      <td>15375</td>\n",
       "      <td>15375</td>\n",
       "      <td>15375</td>\n",
       "    </tr>\n",
       "    <tr>\n",
       "      <th>mean_fit_time</th>\n",
       "      <td>7.937018</td>\n",
       "      <td>7.983824</td>\n",
       "      <td>3.932006</td>\n",
       "      <td>3.66639</td>\n",
       "      <td>3.625587</td>\n",
       "      <td>3.279863</td>\n",
       "    </tr>\n",
       "    <tr>\n",
       "      <th>std_fit_time</th>\n",
       "      <td>0.137517</td>\n",
       "      <td>0.02398</td>\n",
       "      <td>0.619566</td>\n",
       "      <td>0.515106</td>\n",
       "      <td>0.736373</td>\n",
       "      <td>0.104202</td>\n",
       "    </tr>\n",
       "    <tr>\n",
       "      <th>mean_score_time</th>\n",
       "      <td>1.899029</td>\n",
       "      <td>1.961844</td>\n",
       "      <td>0.716712</td>\n",
       "      <td>0.806614</td>\n",
       "      <td>0.816585</td>\n",
       "      <td>0.970154</td>\n",
       "    </tr>\n",
       "    <tr>\n",
       "      <th>std_score_time</th>\n",
       "      <td>0.060425</td>\n",
       "      <td>0.012801</td>\n",
       "      <td>0.018333</td>\n",
       "      <td>0.115176</td>\n",
       "      <td>0.056623</td>\n",
       "      <td>0.133896</td>\n",
       "    </tr>\n",
       "    <tr>\n",
       "      <th>param_classifier</th>\n",
       "      <td>LGBMClassifier(colsample_bytree=0.3, learning_...</td>\n",
       "      <td>LGBMClassifier(colsample_bytree=0.3, learning_...</td>\n",
       "      <td>LGBMClassifier(colsample_bytree=0.3, learning_...</td>\n",
       "      <td>LGBMClassifier(colsample_bytree=0.3, learning_...</td>\n",
       "      <td>LGBMClassifier(colsample_bytree=0.3, learning_...</td>\n",
       "      <td>LGBMClassifier(colsample_bytree=0.3, learning_...</td>\n",
       "    </tr>\n",
       "    <tr>\n",
       "      <th>param_classifier__colsample_bytree</th>\n",
       "      <td>0.3</td>\n",
       "      <td>0.3</td>\n",
       "      <td>0.3</td>\n",
       "      <td>0.3</td>\n",
       "      <td>0.3</td>\n",
       "      <td>0.3</td>\n",
       "    </tr>\n",
       "    <tr>\n",
       "      <th>param_classifier__learning_rate</th>\n",
       "      <td>0.04</td>\n",
       "      <td>0.04</td>\n",
       "      <td>0.04</td>\n",
       "      <td>0.04</td>\n",
       "      <td>0.04</td>\n",
       "      <td>0.04</td>\n",
       "    </tr>\n",
       "    <tr>\n",
       "      <th>param_classifier__max_depth</th>\n",
       "      <td>8</td>\n",
       "      <td>8</td>\n",
       "      <td>8</td>\n",
       "      <td>8</td>\n",
       "      <td>8</td>\n",
       "      <td>8</td>\n",
       "    </tr>\n",
       "    <tr>\n",
       "      <th>param_classifier__min_child_samples</th>\n",
       "      <td>3</td>\n",
       "      <td>3</td>\n",
       "      <td>3</td>\n",
       "      <td>3</td>\n",
       "      <td>3</td>\n",
       "      <td>3</td>\n",
       "    </tr>\n",
       "    <tr>\n",
       "      <th>param_classifier__n_estimators</th>\n",
       "      <td>200</td>\n",
       "      <td>200</td>\n",
       "      <td>200</td>\n",
       "      <td>200</td>\n",
       "      <td>200</td>\n",
       "      <td>200</td>\n",
       "    </tr>\n",
       "    <tr>\n",
       "      <th>param_classifier__num_leaves</th>\n",
       "      <td>3</td>\n",
       "      <td>3</td>\n",
       "      <td>3</td>\n",
       "      <td>3</td>\n",
       "      <td>2</td>\n",
       "      <td>2</td>\n",
       "    </tr>\n",
       "    <tr>\n",
       "      <th>param_reduce_dim</th>\n",
       "      <td>SelectKBest(k=200)</td>\n",
       "      <td>SelectKBest(k=200)</td>\n",
       "      <td>SelectKBest(k=200)</td>\n",
       "      <td>SelectKBest(k=200)</td>\n",
       "      <td>SelectKBest(k=200)</td>\n",
       "      <td>SelectKBest(k=200)</td>\n",
       "    </tr>\n",
       "    <tr>\n",
       "      <th>param_reduce_dim__k</th>\n",
       "      <td>200</td>\n",
       "      <td>150</td>\n",
       "      <td>150</td>\n",
       "      <td>200</td>\n",
       "      <td>200</td>\n",
       "      <td>150</td>\n",
       "    </tr>\n",
       "    <tr>\n",
       "      <th>param_sampler</th>\n",
       "      <td>RandomUnderSampler()</td>\n",
       "      <td>RandomUnderSampler()</td>\n",
       "      <td>RandomUnderSampler()</td>\n",
       "      <td>RandomUnderSampler()</td>\n",
       "      <td>RandomUnderSampler()</td>\n",
       "      <td>RandomUnderSampler()</td>\n",
       "    </tr>\n",
       "    <tr>\n",
       "      <th>param_scaler</th>\n",
       "      <td>StandardScaler()</td>\n",
       "      <td>StandardScaler()</td>\n",
       "      <td>StandardScaler()</td>\n",
       "      <td>StandardScaler()</td>\n",
       "      <td>StandardScaler()</td>\n",
       "      <td>StandardScaler()</td>\n",
       "    </tr>\n",
       "    <tr>\n",
       "      <th>params</th>\n",
       "      <td>{'classifier': LGBMClassifier(colsample_bytree...</td>\n",
       "      <td>{'classifier': LGBMClassifier(colsample_bytree...</td>\n",
       "      <td>{'classifier': LGBMClassifier(colsample_bytree...</td>\n",
       "      <td>{'classifier': LGBMClassifier(colsample_bytree...</td>\n",
       "      <td>{'classifier': LGBMClassifier(colsample_bytree...</td>\n",
       "      <td>{'classifier': LGBMClassifier(colsample_bytree...</td>\n",
       "    </tr>\n",
       "    <tr>\n",
       "      <th>split0_test_score</th>\n",
       "      <td>0.699978</td>\n",
       "      <td>0.702207</td>\n",
       "      <td>0.657796</td>\n",
       "      <td>0.652223</td>\n",
       "      <td>0.639935</td>\n",
       "      <td>0.639417</td>\n",
       "    </tr>\n",
       "    <tr>\n",
       "      <th>split1_test_score</th>\n",
       "      <td>0.701247</td>\n",
       "      <td>0.701155</td>\n",
       "      <td>0.682228</td>\n",
       "      <td>0.674583</td>\n",
       "      <td>0.651528</td>\n",
       "      <td>0.6551</td>\n",
       "    </tr>\n",
       "    <tr>\n",
       "      <th>split2_test_score</th>\n",
       "      <td>0.708516</td>\n",
       "      <td>0.703546</td>\n",
       "      <td>0.659915</td>\n",
       "      <td>0.663288</td>\n",
       "      <td>0.674698</td>\n",
       "      <td>0.659668</td>\n",
       "    </tr>\n",
       "    <tr>\n",
       "      <th>mean_test_score</th>\n",
       "      <td>0.703247</td>\n",
       "      <td>0.702303</td>\n",
       "      <td>0.666646</td>\n",
       "      <td>0.663365</td>\n",
       "      <td>0.655387</td>\n",
       "      <td>0.651395</td>\n",
       "    </tr>\n",
       "    <tr>\n",
       "      <th>std_test_score</th>\n",
       "      <td>0.003761</td>\n",
       "      <td>0.000978</td>\n",
       "      <td>0.011052</td>\n",
       "      <td>0.009129</td>\n",
       "      <td>0.014452</td>\n",
       "      <td>0.008673</td>\n",
       "    </tr>\n",
       "    <tr>\n",
       "      <th>rank_test_score</th>\n",
       "      <td>1</td>\n",
       "      <td>2</td>\n",
       "      <td>3</td>\n",
       "      <td>4</td>\n",
       "      <td>5</td>\n",
       "      <td>6</td>\n",
       "    </tr>\n",
       "    <tr>\n",
       "      <th>split0_train_score</th>\n",
       "      <td>0.909114</td>\n",
       "      <td>0.899452</td>\n",
       "      <td>0.987192</td>\n",
       "      <td>0.885624</td>\n",
       "      <td>0.940705</td>\n",
       "      <td>0.909175</td>\n",
       "    </tr>\n",
       "    <tr>\n",
       "      <th>split1_train_score</th>\n",
       "      <td>0.928612</td>\n",
       "      <td>0.869124</td>\n",
       "      <td>0.985949</td>\n",
       "      <td>0.944576</td>\n",
       "      <td>0.952909</td>\n",
       "      <td>0.992607</td>\n",
       "    </tr>\n",
       "    <tr>\n",
       "      <th>split2_train_score</th>\n",
       "      <td>0.941216</td>\n",
       "      <td>0.919806</td>\n",
       "      <td>0.936199</td>\n",
       "      <td>0.907725</td>\n",
       "      <td>0.971211</td>\n",
       "      <td>0.905514</td>\n",
       "    </tr>\n",
       "    <tr>\n",
       "      <th>mean_train_score</th>\n",
       "      <td>0.926314</td>\n",
       "      <td>0.896127</td>\n",
       "      <td>0.96978</td>\n",
       "      <td>0.912642</td>\n",
       "      <td>0.954942</td>\n",
       "      <td>0.935765</td>\n",
       "    </tr>\n",
       "    <tr>\n",
       "      <th>std_train_score</th>\n",
       "      <td>0.013206</td>\n",
       "      <td>0.020824</td>\n",
       "      <td>0.023751</td>\n",
       "      <td>0.024317</td>\n",
       "      <td>0.012537</td>\n",
       "      <td>0.040221</td>\n",
       "    </tr>\n",
       "  </tbody>\n",
       "</table>\n",
       "</div>"
      ],
      "text/plain": [
       "                                                                                     4  \\\n",
       "iter                                                                                 1   \n",
       "n_resources                                                                      46125   \n",
       "mean_fit_time                                                                 7.937018   \n",
       "std_fit_time                                                                  0.137517   \n",
       "mean_score_time                                                               1.899029   \n",
       "std_score_time                                                                0.060425   \n",
       "param_classifier                     LGBMClassifier(colsample_bytree=0.3, learning_...   \n",
       "param_classifier__colsample_bytree                                                 0.3   \n",
       "param_classifier__learning_rate                                                   0.04   \n",
       "param_classifier__max_depth                                                          8   \n",
       "param_classifier__min_child_samples                                                  3   \n",
       "param_classifier__n_estimators                                                     200   \n",
       "param_classifier__num_leaves                                                         3   \n",
       "param_reduce_dim                                                    SelectKBest(k=200)   \n",
       "param_reduce_dim__k                                                                200   \n",
       "param_sampler                                                     RandomUnderSampler()   \n",
       "param_scaler                                                          StandardScaler()   \n",
       "params                               {'classifier': LGBMClassifier(colsample_bytree...   \n",
       "split0_test_score                                                             0.699978   \n",
       "split1_test_score                                                             0.701247   \n",
       "split2_test_score                                                             0.708516   \n",
       "mean_test_score                                                               0.703247   \n",
       "std_test_score                                                                0.003761   \n",
       "rank_test_score                                                                      1   \n",
       "split0_train_score                                                            0.909114   \n",
       "split1_train_score                                                            0.928612   \n",
       "split2_train_score                                                            0.941216   \n",
       "mean_train_score                                                              0.926314   \n",
       "std_train_score                                                               0.013206   \n",
       "\n",
       "                                                                                     5  \\\n",
       "iter                                                                                 1   \n",
       "n_resources                                                                      46125   \n",
       "mean_fit_time                                                                 7.983824   \n",
       "std_fit_time                                                                   0.02398   \n",
       "mean_score_time                                                               1.961844   \n",
       "std_score_time                                                                0.012801   \n",
       "param_classifier                     LGBMClassifier(colsample_bytree=0.3, learning_...   \n",
       "param_classifier__colsample_bytree                                                 0.3   \n",
       "param_classifier__learning_rate                                                   0.04   \n",
       "param_classifier__max_depth                                                          8   \n",
       "param_classifier__min_child_samples                                                  3   \n",
       "param_classifier__n_estimators                                                     200   \n",
       "param_classifier__num_leaves                                                         3   \n",
       "param_reduce_dim                                                    SelectKBest(k=200)   \n",
       "param_reduce_dim__k                                                                150   \n",
       "param_sampler                                                     RandomUnderSampler()   \n",
       "param_scaler                                                          StandardScaler()   \n",
       "params                               {'classifier': LGBMClassifier(colsample_bytree...   \n",
       "split0_test_score                                                             0.702207   \n",
       "split1_test_score                                                             0.701155   \n",
       "split2_test_score                                                             0.703546   \n",
       "mean_test_score                                                               0.702303   \n",
       "std_test_score                                                                0.000978   \n",
       "rank_test_score                                                                      2   \n",
       "split0_train_score                                                            0.899452   \n",
       "split1_train_score                                                            0.869124   \n",
       "split2_train_score                                                            0.919806   \n",
       "mean_train_score                                                              0.896127   \n",
       "std_train_score                                                               0.020824   \n",
       "\n",
       "                                                                                     2  \\\n",
       "iter                                                                                 0   \n",
       "n_resources                                                                      15375   \n",
       "mean_fit_time                                                                 3.932006   \n",
       "std_fit_time                                                                  0.619566   \n",
       "mean_score_time                                                               0.716712   \n",
       "std_score_time                                                                0.018333   \n",
       "param_classifier                     LGBMClassifier(colsample_bytree=0.3, learning_...   \n",
       "param_classifier__colsample_bytree                                                 0.3   \n",
       "param_classifier__learning_rate                                                   0.04   \n",
       "param_classifier__max_depth                                                          8   \n",
       "param_classifier__min_child_samples                                                  3   \n",
       "param_classifier__n_estimators                                                     200   \n",
       "param_classifier__num_leaves                                                         3   \n",
       "param_reduce_dim                                                    SelectKBest(k=200)   \n",
       "param_reduce_dim__k                                                                150   \n",
       "param_sampler                                                     RandomUnderSampler()   \n",
       "param_scaler                                                          StandardScaler()   \n",
       "params                               {'classifier': LGBMClassifier(colsample_bytree...   \n",
       "split0_test_score                                                             0.657796   \n",
       "split1_test_score                                                             0.682228   \n",
       "split2_test_score                                                             0.659915   \n",
       "mean_test_score                                                               0.666646   \n",
       "std_test_score                                                                0.011052   \n",
       "rank_test_score                                                                      3   \n",
       "split0_train_score                                                            0.987192   \n",
       "split1_train_score                                                            0.985949   \n",
       "split2_train_score                                                            0.936199   \n",
       "mean_train_score                                                               0.96978   \n",
       "std_train_score                                                               0.023751   \n",
       "\n",
       "                                                                                     3  \\\n",
       "iter                                                                                 0   \n",
       "n_resources                                                                      15375   \n",
       "mean_fit_time                                                                  3.66639   \n",
       "std_fit_time                                                                  0.515106   \n",
       "mean_score_time                                                               0.806614   \n",
       "std_score_time                                                                0.115176   \n",
       "param_classifier                     LGBMClassifier(colsample_bytree=0.3, learning_...   \n",
       "param_classifier__colsample_bytree                                                 0.3   \n",
       "param_classifier__learning_rate                                                   0.04   \n",
       "param_classifier__max_depth                                                          8   \n",
       "param_classifier__min_child_samples                                                  3   \n",
       "param_classifier__n_estimators                                                     200   \n",
       "param_classifier__num_leaves                                                         3   \n",
       "param_reduce_dim                                                    SelectKBest(k=200)   \n",
       "param_reduce_dim__k                                                                200   \n",
       "param_sampler                                                     RandomUnderSampler()   \n",
       "param_scaler                                                          StandardScaler()   \n",
       "params                               {'classifier': LGBMClassifier(colsample_bytree...   \n",
       "split0_test_score                                                             0.652223   \n",
       "split1_test_score                                                             0.674583   \n",
       "split2_test_score                                                             0.663288   \n",
       "mean_test_score                                                               0.663365   \n",
       "std_test_score                                                                0.009129   \n",
       "rank_test_score                                                                      4   \n",
       "split0_train_score                                                            0.885624   \n",
       "split1_train_score                                                            0.944576   \n",
       "split2_train_score                                                            0.907725   \n",
       "mean_train_score                                                              0.912642   \n",
       "std_train_score                                                               0.024317   \n",
       "\n",
       "                                                                                     1  \\\n",
       "iter                                                                                 0   \n",
       "n_resources                                                                      15375   \n",
       "mean_fit_time                                                                 3.625587   \n",
       "std_fit_time                                                                  0.736373   \n",
       "mean_score_time                                                               0.816585   \n",
       "std_score_time                                                                0.056623   \n",
       "param_classifier                     LGBMClassifier(colsample_bytree=0.3, learning_...   \n",
       "param_classifier__colsample_bytree                                                 0.3   \n",
       "param_classifier__learning_rate                                                   0.04   \n",
       "param_classifier__max_depth                                                          8   \n",
       "param_classifier__min_child_samples                                                  3   \n",
       "param_classifier__n_estimators                                                     200   \n",
       "param_classifier__num_leaves                                                         2   \n",
       "param_reduce_dim                                                    SelectKBest(k=200)   \n",
       "param_reduce_dim__k                                                                200   \n",
       "param_sampler                                                     RandomUnderSampler()   \n",
       "param_scaler                                                          StandardScaler()   \n",
       "params                               {'classifier': LGBMClassifier(colsample_bytree...   \n",
       "split0_test_score                                                             0.639935   \n",
       "split1_test_score                                                             0.651528   \n",
       "split2_test_score                                                             0.674698   \n",
       "mean_test_score                                                               0.655387   \n",
       "std_test_score                                                                0.014452   \n",
       "rank_test_score                                                                      5   \n",
       "split0_train_score                                                            0.940705   \n",
       "split1_train_score                                                            0.952909   \n",
       "split2_train_score                                                            0.971211   \n",
       "mean_train_score                                                              0.954942   \n",
       "std_train_score                                                               0.012537   \n",
       "\n",
       "                                                                                     0  \n",
       "iter                                                                                 0  \n",
       "n_resources                                                                      15375  \n",
       "mean_fit_time                                                                 3.279863  \n",
       "std_fit_time                                                                  0.104202  \n",
       "mean_score_time                                                               0.970154  \n",
       "std_score_time                                                                0.133896  \n",
       "param_classifier                     LGBMClassifier(colsample_bytree=0.3, learning_...  \n",
       "param_classifier__colsample_bytree                                                 0.3  \n",
       "param_classifier__learning_rate                                                   0.04  \n",
       "param_classifier__max_depth                                                          8  \n",
       "param_classifier__min_child_samples                                                  3  \n",
       "param_classifier__n_estimators                                                     200  \n",
       "param_classifier__num_leaves                                                         2  \n",
       "param_reduce_dim                                                    SelectKBest(k=200)  \n",
       "param_reduce_dim__k                                                                150  \n",
       "param_sampler                                                     RandomUnderSampler()  \n",
       "param_scaler                                                          StandardScaler()  \n",
       "params                               {'classifier': LGBMClassifier(colsample_bytree...  \n",
       "split0_test_score                                                             0.639417  \n",
       "split1_test_score                                                               0.6551  \n",
       "split2_test_score                                                             0.659668  \n",
       "mean_test_score                                                               0.651395  \n",
       "std_test_score                                                                0.008673  \n",
       "rank_test_score                                                                      6  \n",
       "split0_train_score                                                            0.909175  \n",
       "split1_train_score                                                            0.992607  \n",
       "split2_train_score                                                            0.905514  \n",
       "mean_train_score                                                              0.935765  \n",
       "std_train_score                                                               0.040221  "
      ]
     },
     "metadata": {},
     "output_type": "display_data"
    },
    {
     "data": {
      "text/html": [
       "<style>#sk-container-id-1 {color: black;}#sk-container-id-1 pre{padding: 0;}#sk-container-id-1 div.sk-toggleable {background-color: white;}#sk-container-id-1 label.sk-toggleable__label {cursor: pointer;display: block;width: 100%;margin-bottom: 0;padding: 0.3em;box-sizing: border-box;text-align: center;}#sk-container-id-1 label.sk-toggleable__label-arrow:before {content: \"▸\";float: left;margin-right: 0.25em;color: #696969;}#sk-container-id-1 label.sk-toggleable__label-arrow:hover:before {color: black;}#sk-container-id-1 div.sk-estimator:hover label.sk-toggleable__label-arrow:before {color: black;}#sk-container-id-1 div.sk-toggleable__content {max-height: 0;max-width: 0;overflow: hidden;text-align: left;background-color: #f0f8ff;}#sk-container-id-1 div.sk-toggleable__content pre {margin: 0.2em;color: black;border-radius: 0.25em;background-color: #f0f8ff;}#sk-container-id-1 input.sk-toggleable__control:checked~div.sk-toggleable__content {max-height: 200px;max-width: 100%;overflow: auto;}#sk-container-id-1 input.sk-toggleable__control:checked~label.sk-toggleable__label-arrow:before {content: \"▾\";}#sk-container-id-1 div.sk-estimator input.sk-toggleable__control:checked~label.sk-toggleable__label {background-color: #d4ebff;}#sk-container-id-1 div.sk-label input.sk-toggleable__control:checked~label.sk-toggleable__label {background-color: #d4ebff;}#sk-container-id-1 input.sk-hidden--visually {border: 0;clip: rect(1px 1px 1px 1px);clip: rect(1px, 1px, 1px, 1px);height: 1px;margin: -1px;overflow: hidden;padding: 0;position: absolute;width: 1px;}#sk-container-id-1 div.sk-estimator {font-family: monospace;background-color: #f0f8ff;border: 1px dotted black;border-radius: 0.25em;box-sizing: border-box;margin-bottom: 0.5em;}#sk-container-id-1 div.sk-estimator:hover {background-color: #d4ebff;}#sk-container-id-1 div.sk-parallel-item::after {content: \"\";width: 100%;border-bottom: 1px solid gray;flex-grow: 1;}#sk-container-id-1 div.sk-label:hover label.sk-toggleable__label {background-color: #d4ebff;}#sk-container-id-1 div.sk-serial::before {content: \"\";position: absolute;border-left: 1px solid gray;box-sizing: border-box;top: 0;bottom: 0;left: 50%;z-index: 0;}#sk-container-id-1 div.sk-serial {display: flex;flex-direction: column;align-items: center;background-color: white;padding-right: 0.2em;padding-left: 0.2em;position: relative;}#sk-container-id-1 div.sk-item {position: relative;z-index: 1;}#sk-container-id-1 div.sk-parallel {display: flex;align-items: stretch;justify-content: center;background-color: white;position: relative;}#sk-container-id-1 div.sk-item::before, #sk-container-id-1 div.sk-parallel-item::before {content: \"\";position: absolute;border-left: 1px solid gray;box-sizing: border-box;top: 0;bottom: 0;left: 50%;z-index: -1;}#sk-container-id-1 div.sk-parallel-item {display: flex;flex-direction: column;z-index: 1;position: relative;background-color: white;}#sk-container-id-1 div.sk-parallel-item:first-child::after {align-self: flex-end;width: 50%;}#sk-container-id-1 div.sk-parallel-item:last-child::after {align-self: flex-start;width: 50%;}#sk-container-id-1 div.sk-parallel-item:only-child::after {width: 0;}#sk-container-id-1 div.sk-dashed-wrapped {border: 1px dashed gray;margin: 0 0.4em 0.5em 0.4em;box-sizing: border-box;padding-bottom: 0.4em;background-color: white;}#sk-container-id-1 div.sk-label label {font-family: monospace;font-weight: bold;display: inline-block;line-height: 1.2em;}#sk-container-id-1 div.sk-label-container {text-align: center;}#sk-container-id-1 div.sk-container {/* jupyter's `normalize.less` sets `[hidden] { display: none; }` but bootstrap.min.css set `[hidden] { display: none !important; }` so we also need the `!important` here to be able to override the default hidden behavior on the sphinx rendered scikit-learn.org. See: https://github.com/scikit-learn/scikit-learn/issues/21755 */display: inline-block !important;position: relative;}#sk-container-id-1 div.sk-text-repr-fallback {display: none;}</style><div id=\"sk-container-id-1\" class=\"sk-top-container\"><div class=\"sk-text-repr-fallback\"><pre>Pipeline(steps=[(&#x27;imputer&#x27;,\n",
       "                 ColumnTransformer(transformers=[(&#x27;simpleimputer-1&#x27;,\n",
       "                                                  SimpleImputer(strategy=&#x27;median&#x27;),\n",
       "                                                  [&#x27;CODE_GENDER&#x27;,\n",
       "                                                   &#x27;FLAG_OWN_CAR&#x27;,\n",
       "                                                   &#x27;FLAG_OWN_REALTY&#x27;,\n",
       "                                                   &#x27;CNT_CHILDREN&#x27;,\n",
       "                                                   &#x27;AMT_INCOME_TOTAL&#x27;,\n",
       "                                                   &#x27;AMT_CREDIT&#x27;, &#x27;AMT_ANNUITY&#x27;,\n",
       "                                                   &#x27;AMT_GOODS_PRICE&#x27;,\n",
       "                                                   &#x27;REGION_POPULATION_RELATIVE&#x27;,\n",
       "                                                   &#x27;DAYS_BIRTH&#x27;,\n",
       "                                                   &#x27;DAYS_EMPLOYED&#x27;,\n",
       "                                                   &#x27;DAYS_REGISTRATION&#x27;,\n",
       "                                                   &#x27;DAYS_ID_PUBLISH&#x27;,\n",
       "                                                   &#x27;OWN_CAR_AGE&#x27;, &#x27;F...\n",
       "                                                   &#x27;CC_NAME_CONTRACT_STATUS_Signed_MAX&#x27;,\n",
       "                                                   &#x27;CC_NAME_CONTRACT_STATUS_nan_MIN&#x27;,\n",
       "                                                   &#x27;CC_NAME_CONTRACT_STATUS_nan_MAX&#x27;])])),\n",
       "                (&#x27;scaler&#x27;, StandardScaler()),\n",
       "                (&#x27;category_encoding&#x27;, TargetEncoder()),\n",
       "                (&#x27;reduce_dim&#x27;, SelectKBest(k=200)),\n",
       "                (&#x27;sampler&#x27;, RandomUnderSampler()),\n",
       "                (&#x27;classifier&#x27;,\n",
       "                 LGBMClassifier(colsample_bytree=0.3, learning_rate=0.04,\n",
       "                                max_depth=8, min_child_samples=3,\n",
       "                                n_estimators=200, num_leaves=3))])</pre><b>In a Jupyter environment, please rerun this cell to show the HTML representation or trust the notebook. <br />On GitHub, the HTML representation is unable to render, please try loading this page with nbviewer.org.</b></div><div class=\"sk-container\" hidden><div class=\"sk-item sk-dashed-wrapped\"><div class=\"sk-label-container\"><div class=\"sk-label sk-toggleable\"><input class=\"sk-toggleable__control sk-hidden--visually\" id=\"sk-estimator-id-1\" type=\"checkbox\" ><label for=\"sk-estimator-id-1\" class=\"sk-toggleable__label sk-toggleable__label-arrow\">Pipeline</label><div class=\"sk-toggleable__content\"><pre>Pipeline(steps=[(&#x27;imputer&#x27;,\n",
       "                 ColumnTransformer(transformers=[(&#x27;simpleimputer-1&#x27;,\n",
       "                                                  SimpleImputer(strategy=&#x27;median&#x27;),\n",
       "                                                  [&#x27;CODE_GENDER&#x27;,\n",
       "                                                   &#x27;FLAG_OWN_CAR&#x27;,\n",
       "                                                   &#x27;FLAG_OWN_REALTY&#x27;,\n",
       "                                                   &#x27;CNT_CHILDREN&#x27;,\n",
       "                                                   &#x27;AMT_INCOME_TOTAL&#x27;,\n",
       "                                                   &#x27;AMT_CREDIT&#x27;, &#x27;AMT_ANNUITY&#x27;,\n",
       "                                                   &#x27;AMT_GOODS_PRICE&#x27;,\n",
       "                                                   &#x27;REGION_POPULATION_RELATIVE&#x27;,\n",
       "                                                   &#x27;DAYS_BIRTH&#x27;,\n",
       "                                                   &#x27;DAYS_EMPLOYED&#x27;,\n",
       "                                                   &#x27;DAYS_REGISTRATION&#x27;,\n",
       "                                                   &#x27;DAYS_ID_PUBLISH&#x27;,\n",
       "                                                   &#x27;OWN_CAR_AGE&#x27;, &#x27;F...\n",
       "                                                   &#x27;CC_NAME_CONTRACT_STATUS_Signed_MAX&#x27;,\n",
       "                                                   &#x27;CC_NAME_CONTRACT_STATUS_nan_MIN&#x27;,\n",
       "                                                   &#x27;CC_NAME_CONTRACT_STATUS_nan_MAX&#x27;])])),\n",
       "                (&#x27;scaler&#x27;, StandardScaler()),\n",
       "                (&#x27;category_encoding&#x27;, TargetEncoder()),\n",
       "                (&#x27;reduce_dim&#x27;, SelectKBest(k=200)),\n",
       "                (&#x27;sampler&#x27;, RandomUnderSampler()),\n",
       "                (&#x27;classifier&#x27;,\n",
       "                 LGBMClassifier(colsample_bytree=0.3, learning_rate=0.04,\n",
       "                                max_depth=8, min_child_samples=3,\n",
       "                                n_estimators=200, num_leaves=3))])</pre></div></div></div><div class=\"sk-serial\"><div class=\"sk-item sk-dashed-wrapped\"><div class=\"sk-label-container\"><div class=\"sk-label sk-toggleable\"><input class=\"sk-toggleable__control sk-hidden--visually\" id=\"sk-estimator-id-2\" type=\"checkbox\" ><label for=\"sk-estimator-id-2\" class=\"sk-toggleable__label sk-toggleable__label-arrow\">imputer: ColumnTransformer</label><div class=\"sk-toggleable__content\"><pre>ColumnTransformer(transformers=[(&#x27;simpleimputer-1&#x27;,\n",
       "                                 SimpleImputer(strategy=&#x27;median&#x27;),\n",
       "                                 [&#x27;CODE_GENDER&#x27;, &#x27;FLAG_OWN_CAR&#x27;,\n",
       "                                  &#x27;FLAG_OWN_REALTY&#x27;, &#x27;CNT_CHILDREN&#x27;,\n",
       "                                  &#x27;AMT_INCOME_TOTAL&#x27;, &#x27;AMT_CREDIT&#x27;,\n",
       "                                  &#x27;AMT_ANNUITY&#x27;, &#x27;AMT_GOODS_PRICE&#x27;,\n",
       "                                  &#x27;REGION_POPULATION_RELATIVE&#x27;, &#x27;DAYS_BIRTH&#x27;,\n",
       "                                  &#x27;DAYS_EMPLOYED&#x27;, &#x27;DAYS_REGISTRATION&#x27;,\n",
       "                                  &#x27;DAYS_ID_PUBLISH&#x27;, &#x27;OWN_CAR_AGE&#x27;,\n",
       "                                  &#x27;FLAG_MOBIL&#x27;, &#x27;FLAG_EMP_PHONE&#x27;...\n",
       "                                  &#x27;CC_NAME_CONTRACT_STATUS_Demand_MIN&#x27;,\n",
       "                                  &#x27;CC_NAME_CONTRACT_STATUS_Demand_MAX&#x27;,\n",
       "                                  &#x27;CC_NAME_CONTRACT_STATUS_Refused_MIN&#x27;,\n",
       "                                  &#x27;CC_NAME_CONTRACT_STATUS_Refused_MAX&#x27;,\n",
       "                                  &#x27;CC_NAME_CONTRACT_STATUS_Sent proposal_MIN&#x27;,\n",
       "                                  &#x27;CC_NAME_CONTRACT_STATUS_Sent proposal_MAX&#x27;,\n",
       "                                  &#x27;CC_NAME_CONTRACT_STATUS_Signed_MIN&#x27;,\n",
       "                                  &#x27;CC_NAME_CONTRACT_STATUS_Signed_MAX&#x27;,\n",
       "                                  &#x27;CC_NAME_CONTRACT_STATUS_nan_MIN&#x27;,\n",
       "                                  &#x27;CC_NAME_CONTRACT_STATUS_nan_MAX&#x27;])])</pre></div></div></div><div class=\"sk-parallel\"><div class=\"sk-parallel-item\"><div class=\"sk-item\"><div class=\"sk-label-container\"><div class=\"sk-label sk-toggleable\"><input class=\"sk-toggleable__control sk-hidden--visually\" id=\"sk-estimator-id-3\" type=\"checkbox\" ><label for=\"sk-estimator-id-3\" class=\"sk-toggleable__label sk-toggleable__label-arrow\">simpleimputer-1</label><div class=\"sk-toggleable__content\"><pre>[&#x27;CODE_GENDER&#x27;, &#x27;FLAG_OWN_CAR&#x27;, &#x27;FLAG_OWN_REALTY&#x27;, &#x27;CNT_CHILDREN&#x27;, &#x27;AMT_INCOME_TOTAL&#x27;, &#x27;AMT_CREDIT&#x27;, &#x27;AMT_ANNUITY&#x27;, &#x27;AMT_GOODS_PRICE&#x27;, &#x27;REGION_POPULATION_RELATIVE&#x27;, &#x27;DAYS_BIRTH&#x27;, &#x27;DAYS_EMPLOYED&#x27;, &#x27;DAYS_REGISTRATION&#x27;, &#x27;DAYS_ID_PUBLISH&#x27;, &#x27;OWN_CAR_AGE&#x27;, &#x27;FLAG_MOBIL&#x27;, &#x27;FLAG_EMP_PHONE&#x27;, &#x27;FLAG_WORK_PHONE&#x27;, &#x27;FLAG_CONT_MOBILE&#x27;, &#x27;FLAG_PHONE&#x27;, &#x27;FLAG_EMAIL&#x27;, &#x27;CNT_FAM_MEMBERS&#x27;, &#x27;REGION_RATING_CLIENT&#x27;, &#x27;REGION_RATING_CLIENT_W_CITY&#x27;, &#x27;HOUR_APPR_PROCESS_START&#x27;, &#x27;REG_REGION_NOT_LIVE_REGION&#x27;, &#x27;REG_REGION_NOT_WORK_REGION&#x27;, &#x27;LIVE_REGION_NOT_WORK_REGION&#x27;, &#x27;REG_CITY_NOT_LIVE_CITY&#x27;, &#x27;REG_CITY_NOT_WORK_CITY&#x27;, &#x27;LIVE_CITY_NOT_WORK_CITY&#x27;, &#x27;EXT_SOURCE_1&#x27;, &#x27;EXT_SOURCE_2&#x27;, &#x27;EXT_SOURCE_3&#x27;, &#x27;APARTMENTS_AVG&#x27;, &#x27;BASEMENTAREA_AVG&#x27;, &#x27;YEARS_BEGINEXPLUATATION_AVG&#x27;, &#x27;YEARS_BUILD_AVG&#x27;, &#x27;COMMONAREA_AVG&#x27;, &#x27;ELEVATORS_AVG&#x27;, &#x27;ENTRANCES_AVG&#x27;, &#x27;FLOORSMAX_AVG&#x27;, &#x27;FLOORSMIN_AVG&#x27;, &#x27;LANDAREA_AVG&#x27;, &#x27;LIVINGAPARTMENTS_AVG&#x27;, &#x27;LIVINGAREA_AVG&#x27;, &#x27;NONLIVINGAPARTMENTS_AVG&#x27;, &#x27;NONLIVINGAREA_AVG&#x27;, &#x27;APARTMENTS_MODE&#x27;, &#x27;BASEMENTAREA_MODE&#x27;, &#x27;YEARS_BEGINEXPLUATATION_MODE&#x27;, &#x27;YEARS_BUILD_MODE&#x27;, &#x27;COMMONAREA_MODE&#x27;, &#x27;ELEVATORS_MODE&#x27;, &#x27;ENTRANCES_MODE&#x27;, &#x27;FLOORSMAX_MODE&#x27;, &#x27;FLOORSMIN_MODE&#x27;, &#x27;LANDAREA_MODE&#x27;, &#x27;LIVINGAPARTMENTS_MODE&#x27;, &#x27;LIVINGAREA_MODE&#x27;, &#x27;NONLIVINGAPARTMENTS_MODE&#x27;, &#x27;NONLIVINGAREA_MODE&#x27;, &#x27;APARTMENTS_MEDI&#x27;, &#x27;BASEMENTAREA_MEDI&#x27;, &#x27;YEARS_BEGINEXPLUATATION_MEDI&#x27;, &#x27;YEARS_BUILD_MEDI&#x27;, &#x27;COMMONAREA_MEDI&#x27;, &#x27;ELEVATORS_MEDI&#x27;, &#x27;ENTRANCES_MEDI&#x27;, &#x27;FLOORSMAX_MEDI&#x27;, &#x27;FLOORSMIN_MEDI&#x27;, &#x27;LANDAREA_MEDI&#x27;, &#x27;LIVINGAPARTMENTS_MEDI&#x27;, &#x27;LIVINGAREA_MEDI&#x27;, &#x27;NONLIVINGAPARTMENTS_MEDI&#x27;, &#x27;NONLIVINGAREA_MEDI&#x27;, &#x27;TOTALAREA_MODE&#x27;, &#x27;OBS_30_CNT_SOCIAL_CIRCLE&#x27;, &#x27;DEF_30_CNT_SOCIAL_CIRCLE&#x27;, &#x27;OBS_60_CNT_SOCIAL_CIRCLE&#x27;, &#x27;DEF_60_CNT_SOCIAL_CIRCLE&#x27;, &#x27;DAYS_LAST_PHONE_CHANGE&#x27;, &#x27;FLAG_DOCUMENT_2&#x27;, &#x27;FLAG_DOCUMENT_3&#x27;, &#x27;FLAG_DOCUMENT_4&#x27;, &#x27;FLAG_DOCUMENT_5&#x27;, &#x27;FLAG_DOCUMENT_6&#x27;, &#x27;FLAG_DOCUMENT_7&#x27;, &#x27;FLAG_DOCUMENT_8&#x27;, &#x27;FLAG_DOCUMENT_9&#x27;, &#x27;FLAG_DOCUMENT_10&#x27;, &#x27;FLAG_DOCUMENT_11&#x27;, &#x27;FLAG_DOCUMENT_12&#x27;, &#x27;FLAG_DOCUMENT_13&#x27;, &#x27;FLAG_DOCUMENT_14&#x27;, &#x27;FLAG_DOCUMENT_15&#x27;, &#x27;FLAG_DOCUMENT_16&#x27;, &#x27;FLAG_DOCUMENT_17&#x27;, &#x27;FLAG_DOCUMENT_18&#x27;, &#x27;FLAG_DOCUMENT_19&#x27;, &#x27;FLAG_DOCUMENT_20&#x27;, &#x27;FLAG_DOCUMENT_21&#x27;, &#x27;AMT_REQ_CREDIT_BUREAU_HOUR&#x27;, &#x27;AMT_REQ_CREDIT_BUREAU_DAY&#x27;, &#x27;AMT_REQ_CREDIT_BUREAU_WEEK&#x27;, &#x27;AMT_REQ_CREDIT_BUREAU_MON&#x27;, &#x27;AMT_REQ_CREDIT_BUREAU_QRT&#x27;, &#x27;AMT_REQ_CREDIT_BUREAU_YEAR&#x27;, &#x27;NAME_CONTRACT_TYPE_Cash loans&#x27;, &#x27;NAME_CONTRACT_TYPE_Revolving loans&#x27;, &#x27;NAME_TYPE_SUITE_Children&#x27;, &#x27;NAME_TYPE_SUITE_Family&#x27;, &#x27;NAME_TYPE_SUITE_Group of people&#x27;, &#x27;NAME_TYPE_SUITE_Other_A&#x27;, &#x27;NAME_TYPE_SUITE_Other_B&#x27;, &#x27;NAME_TYPE_SUITE_Spouse, partner&#x27;, &#x27;NAME_TYPE_SUITE_Unaccompanied&#x27;, &#x27;NAME_INCOME_TYPE_Businessman&#x27;, &#x27;NAME_INCOME_TYPE_Commercial associate&#x27;, &#x27;NAME_INCOME_TYPE_Maternity leave&#x27;, &#x27;NAME_INCOME_TYPE_Pensioner&#x27;, &#x27;NAME_INCOME_TYPE_State servant&#x27;, &#x27;NAME_INCOME_TYPE_Student&#x27;, &#x27;NAME_INCOME_TYPE_Unemployed&#x27;, &#x27;NAME_INCOME_TYPE_Working&#x27;, &#x27;NAME_EDUCATION_TYPE_Academic degree&#x27;, &#x27;NAME_EDUCATION_TYPE_Higher education&#x27;, &#x27;NAME_EDUCATION_TYPE_Incomplete higher&#x27;, &#x27;NAME_EDUCATION_TYPE_Lower secondary&#x27;, &#x27;NAME_EDUCATION_TYPE_Secondary / secondary special&#x27;, &#x27;NAME_FAMILY_STATUS_Civil marriage&#x27;, &#x27;NAME_FAMILY_STATUS_Married&#x27;, &#x27;NAME_FAMILY_STATUS_Separated&#x27;, &#x27;NAME_FAMILY_STATUS_Single / not married&#x27;, &#x27;NAME_FAMILY_STATUS_Unknown&#x27;, &#x27;NAME_FAMILY_STATUS_Widow&#x27;, &#x27;NAME_HOUSING_TYPE_Co-op apartment&#x27;, &#x27;NAME_HOUSING_TYPE_House / apartment&#x27;, &#x27;NAME_HOUSING_TYPE_Municipal apartment&#x27;, &#x27;NAME_HOUSING_TYPE_Office apartment&#x27;, &#x27;NAME_HOUSING_TYPE_Rented apartment&#x27;, &#x27;NAME_HOUSING_TYPE_With parents&#x27;, &#x27;OCCUPATION_TYPE_Accountants&#x27;, &#x27;OCCUPATION_TYPE_Cleaning staff&#x27;, &#x27;OCCUPATION_TYPE_Cooking staff&#x27;, &#x27;OCCUPATION_TYPE_Core staff&#x27;, &#x27;OCCUPATION_TYPE_Drivers&#x27;, &#x27;OCCUPATION_TYPE_HR staff&#x27;, &#x27;OCCUPATION_TYPE_High skill tech staff&#x27;, &#x27;OCCUPATION_TYPE_IT staff&#x27;, &#x27;OCCUPATION_TYPE_Laborers&#x27;, &#x27;OCCUPATION_TYPE_Low-skill Laborers&#x27;, &#x27;OCCUPATION_TYPE_Managers&#x27;, &#x27;OCCUPATION_TYPE_Medicine staff&#x27;, &#x27;OCCUPATION_TYPE_Private service staff&#x27;, &#x27;OCCUPATION_TYPE_Realty agents&#x27;, &#x27;OCCUPATION_TYPE_Sales staff&#x27;, &#x27;OCCUPATION_TYPE_Secretaries&#x27;, &#x27;OCCUPATION_TYPE_Security staff&#x27;, &#x27;OCCUPATION_TYPE_Waiters/barmen staff&#x27;, &#x27;WEEKDAY_APPR_PROCESS_START_FRIDAY&#x27;, &#x27;WEEKDAY_APPR_PROCESS_START_MONDAY&#x27;, &#x27;WEEKDAY_APPR_PROCESS_START_SATURDAY&#x27;, &#x27;WEEKDAY_APPR_PROCESS_START_SUNDAY&#x27;, &#x27;WEEKDAY_APPR_PROCESS_START_THURSDAY&#x27;, &#x27;WEEKDAY_APPR_PROCESS_START_TUESDAY&#x27;, &#x27;WEEKDAY_APPR_PROCESS_START_WEDNESDAY&#x27;, &#x27;ORGANIZATION_TYPE_Advertising&#x27;, &#x27;ORGANIZATION_TYPE_Agriculture&#x27;, &#x27;ORGANIZATION_TYPE_Bank&#x27;, &#x27;ORGANIZATION_TYPE_Business Entity Type 1&#x27;, &#x27;ORGANIZATION_TYPE_Business Entity Type 2&#x27;, &#x27;ORGANIZATION_TYPE_Business Entity Type 3&#x27;, &#x27;ORGANIZATION_TYPE_Cleaning&#x27;, &#x27;ORGANIZATION_TYPE_Construction&#x27;, &#x27;ORGANIZATION_TYPE_Culture&#x27;, &#x27;ORGANIZATION_TYPE_Electricity&#x27;, &#x27;ORGANIZATION_TYPE_Emergency&#x27;, &#x27;ORGANIZATION_TYPE_Government&#x27;, &#x27;ORGANIZATION_TYPE_Hotel&#x27;, &#x27;ORGANIZATION_TYPE_Housing&#x27;, &#x27;ORGANIZATION_TYPE_Industry: type 1&#x27;, &#x27;ORGANIZATION_TYPE_Industry: type 10&#x27;, &#x27;ORGANIZATION_TYPE_Industry: type 11&#x27;, &#x27;ORGANIZATION_TYPE_Industry: type 12&#x27;, &#x27;ORGANIZATION_TYPE_Industry: type 13&#x27;, &#x27;ORGANIZATION_TYPE_Industry: type 2&#x27;, &#x27;ORGANIZATION_TYPE_Industry: type 3&#x27;, &#x27;ORGANIZATION_TYPE_Industry: type 4&#x27;, &#x27;ORGANIZATION_TYPE_Industry: type 5&#x27;, &#x27;ORGANIZATION_TYPE_Industry: type 6&#x27;, &#x27;ORGANIZATION_TYPE_Industry: type 7&#x27;, &#x27;ORGANIZATION_TYPE_Industry: type 8&#x27;, &#x27;ORGANIZATION_TYPE_Industry: type 9&#x27;, &#x27;ORGANIZATION_TYPE_Insurance&#x27;, &#x27;ORGANIZATION_TYPE_Kindergarten&#x27;, &#x27;ORGANIZATION_TYPE_Legal Services&#x27;, &#x27;ORGANIZATION_TYPE_Medicine&#x27;, &#x27;ORGANIZATION_TYPE_Military&#x27;, &#x27;ORGANIZATION_TYPE_Mobile&#x27;, &#x27;ORGANIZATION_TYPE_Other&#x27;, &#x27;ORGANIZATION_TYPE_Police&#x27;, &#x27;ORGANIZATION_TYPE_Postal&#x27;, &#x27;ORGANIZATION_TYPE_Realtor&#x27;, &#x27;ORGANIZATION_TYPE_Religion&#x27;, &#x27;ORGANIZATION_TYPE_Restaurant&#x27;, &#x27;ORGANIZATION_TYPE_School&#x27;, &#x27;ORGANIZATION_TYPE_Security&#x27;, &#x27;ORGANIZATION_TYPE_Security Ministries&#x27;, &#x27;ORGANIZATION_TYPE_Self-employed&#x27;, &#x27;ORGANIZATION_TYPE_Services&#x27;, &#x27;ORGANIZATION_TYPE_Telecom&#x27;, &#x27;ORGANIZATION_TYPE_Trade: type 1&#x27;, &#x27;ORGANIZATION_TYPE_Trade: type 2&#x27;, &#x27;ORGANIZATION_TYPE_Trade: type 3&#x27;, &#x27;ORGANIZATION_TYPE_Trade: type 4&#x27;, &#x27;ORGANIZATION_TYPE_Trade: type 5&#x27;, &#x27;ORGANIZATION_TYPE_Trade: type 6&#x27;, &#x27;ORGANIZATION_TYPE_Trade: type 7&#x27;, &#x27;ORGANIZATION_TYPE_Transport: type 1&#x27;, &#x27;ORGANIZATION_TYPE_Transport: type 2&#x27;, &#x27;ORGANIZATION_TYPE_Transport: type 3&#x27;, &#x27;ORGANIZATION_TYPE_Transport: type 4&#x27;, &#x27;ORGANIZATION_TYPE_University&#x27;, &#x27;ORGANIZATION_TYPE_XNA&#x27;, &#x27;FONDKAPREMONT_MODE_not specified&#x27;, &#x27;FONDKAPREMONT_MODE_org spec account&#x27;, &#x27;FONDKAPREMONT_MODE_reg oper account&#x27;, &#x27;FONDKAPREMONT_MODE_reg oper spec account&#x27;, &#x27;HOUSETYPE_MODE_block of flats&#x27;, &#x27;HOUSETYPE_MODE_specific housing&#x27;, &#x27;HOUSETYPE_MODE_terraced house&#x27;, &#x27;WALLSMATERIAL_MODE_Block&#x27;, &#x27;WALLSMATERIAL_MODE_Mixed&#x27;, &#x27;WALLSMATERIAL_MODE_Monolithic&#x27;, &#x27;WALLSMATERIAL_MODE_Others&#x27;, &#x27;WALLSMATERIAL_MODE_Panel&#x27;, &#x27;WALLSMATERIAL_MODE_Stone, brick&#x27;, &#x27;WALLSMATERIAL_MODE_Wooden&#x27;, &#x27;EMERGENCYSTATE_MODE_No&#x27;, &#x27;EMERGENCYSTATE_MODE_Yes&#x27;, &#x27;DAYS_EMPLOYED_PERC&#x27;, &#x27;INCOME_CREDIT_PERC&#x27;, &#x27;INCOME_PER_PERSON&#x27;, &#x27;ANNUITY_INCOME_PERC&#x27;, &#x27;PAYMENT_RATE&#x27;, &#x27;BURO_DAYS_CREDIT_MIN&#x27;, &#x27;BURO_DAYS_CREDIT_MAX&#x27;, &#x27;BURO_DAYS_CREDIT_MEAN&#x27;, &#x27;BURO_DAYS_CREDIT_VAR&#x27;, &#x27;BURO_DAYS_CREDIT_ENDDATE_MIN&#x27;, &#x27;BURO_DAYS_CREDIT_ENDDATE_MAX&#x27;, &#x27;BURO_DAYS_CREDIT_ENDDATE_MEAN&#x27;, &#x27;BURO_DAYS_CREDIT_UPDATE_MEAN&#x27;, &#x27;BURO_CREDIT_DAY_OVERDUE_MAX&#x27;, &#x27;BURO_CREDIT_DAY_OVERDUE_MEAN&#x27;, &#x27;BURO_AMT_CREDIT_MAX_OVERDUE_MEAN&#x27;, &#x27;BURO_AMT_CREDIT_SUM_MAX&#x27;, &#x27;BURO_AMT_CREDIT_SUM_MEAN&#x27;, &#x27;BURO_AMT_CREDIT_SUM_SUM&#x27;, &#x27;BURO_AMT_CREDIT_SUM_DEBT_MAX&#x27;, &#x27;BURO_AMT_CREDIT_SUM_DEBT_MEAN&#x27;, &#x27;BURO_AMT_CREDIT_SUM_DEBT_SUM&#x27;, &#x27;BURO_AMT_CREDIT_SUM_OVERDUE_MEAN&#x27;, &#x27;BURO_AMT_CREDIT_SUM_LIMIT_MEAN&#x27;, &#x27;BURO_AMT_CREDIT_SUM_LIMIT_SUM&#x27;, &#x27;BURO_AMT_ANNUITY_MAX&#x27;, &#x27;BURO_AMT_ANNUITY_MEAN&#x27;, &#x27;BURO_CNT_CREDIT_PROLONG_SUM&#x27;, &#x27;BURO_MONTHS_BALANCE_MIN_MIN&#x27;, &#x27;BURO_MONTHS_BALANCE_MAX_MAX&#x27;, &#x27;BURO_MONTHS_BALANCE_SIZE_MEAN&#x27;, &#x27;BURO_MONTHS_BALANCE_SIZE_SUM&#x27;, &#x27;BURO_CREDIT_ACTIVE_Active_MEAN&#x27;, &#x27;BURO_CREDIT_ACTIVE_Bad debt_MEAN&#x27;, &#x27;BURO_CREDIT_ACTIVE_Closed_MEAN&#x27;, &#x27;BURO_CREDIT_ACTIVE_Sold_MEAN&#x27;, &#x27;BURO_CREDIT_ACTIVE_nan_MEAN&#x27;, &#x27;BURO_CREDIT_CURRENCY_currency 1_MEAN&#x27;, &#x27;BURO_CREDIT_CURRENCY_currency 2_MEAN&#x27;, &#x27;BURO_CREDIT_CURRENCY_currency 3_MEAN&#x27;, &#x27;BURO_CREDIT_CURRENCY_currency 4_MEAN&#x27;, &#x27;BURO_CREDIT_CURRENCY_nan_MEAN&#x27;, &#x27;BURO_CREDIT_TYPE_Another type of loan_MEAN&#x27;, &#x27;BURO_CREDIT_TYPE_Car loan_MEAN&#x27;, &#x27;BURO_CREDIT_TYPE_Cash loan (non-earmarked)_MEAN&#x27;, &#x27;BURO_CREDIT_TYPE_Consumer credit_MEAN&#x27;, &#x27;BURO_CREDIT_TYPE_Credit card_MEAN&#x27;, &#x27;BURO_CREDIT_TYPE_Interbank credit_MEAN&#x27;, &#x27;BURO_CREDIT_TYPE_Loan for business development_MEAN&#x27;, &#x27;BURO_CREDIT_TYPE_Loan for purchase of shares (margin lending)_MEAN&#x27;, &#x27;BURO_CREDIT_TYPE_Loan for the purchase of equipment_MEAN&#x27;, &#x27;BURO_CREDIT_TYPE_Loan for working capital replenishment_MEAN&#x27;, &#x27;BURO_CREDIT_TYPE_Microloan_MEAN&#x27;, &#x27;BURO_CREDIT_TYPE_Mobile operator loan_MEAN&#x27;, &#x27;BURO_CREDIT_TYPE_Mortgage_MEAN&#x27;, &#x27;BURO_CREDIT_TYPE_Real estate loan_MEAN&#x27;, &#x27;BURO_CREDIT_TYPE_Unknown type of loan_MEAN&#x27;, &#x27;BURO_CREDIT_TYPE_nan_MEAN&#x27;, &#x27;BURO_STATUS_0_MEAN_MEAN&#x27;, &#x27;BURO_STATUS_1_MEAN_MEAN&#x27;, &#x27;BURO_STATUS_2_MEAN_MEAN&#x27;, &#x27;BURO_STATUS_3_MEAN_MEAN&#x27;, &#x27;BURO_STATUS_4_MEAN_MEAN&#x27;, &#x27;BURO_STATUS_5_MEAN_MEAN&#x27;, &#x27;BURO_STATUS_C_MEAN_MEAN&#x27;, &#x27;BURO_STATUS_X_MEAN_MEAN&#x27;, &#x27;BURO_STATUS_nan_MEAN_MEAN&#x27;, &#x27;ACTIVE_DAYS_CREDIT_MIN&#x27;, &#x27;ACTIVE_DAYS_CREDIT_MAX&#x27;, &#x27;ACTIVE_DAYS_CREDIT_MEAN&#x27;, &#x27;ACTIVE_DAYS_CREDIT_VAR&#x27;, &#x27;ACTIVE_DAYS_CREDIT_ENDDATE_MIN&#x27;, &#x27;ACTIVE_DAYS_CREDIT_ENDDATE_MAX&#x27;, &#x27;ACTIVE_DAYS_CREDIT_ENDDATE_MEAN&#x27;, &#x27;ACTIVE_DAYS_CREDIT_UPDATE_MEAN&#x27;, &#x27;ACTIVE_CREDIT_DAY_OVERDUE_MAX&#x27;, &#x27;ACTIVE_CREDIT_DAY_OVERDUE_MEAN&#x27;, &#x27;ACTIVE_AMT_CREDIT_MAX_OVERDUE_MEAN&#x27;, &#x27;ACTIVE_AMT_CREDIT_SUM_MAX&#x27;, &#x27;ACTIVE_AMT_CREDIT_SUM_MEAN&#x27;, &#x27;ACTIVE_AMT_CREDIT_SUM_SUM&#x27;, &#x27;ACTIVE_AMT_CREDIT_SUM_DEBT_MAX&#x27;, &#x27;ACTIVE_AMT_CREDIT_SUM_DEBT_MEAN&#x27;, &#x27;ACTIVE_AMT_CREDIT_SUM_DEBT_SUM&#x27;, &#x27;ACTIVE_AMT_CREDIT_SUM_OVERDUE_MEAN&#x27;, &#x27;ACTIVE_AMT_CREDIT_SUM_LIMIT_MEAN&#x27;, &#x27;ACTIVE_AMT_CREDIT_SUM_LIMIT_SUM&#x27;, &#x27;ACTIVE_AMT_ANNUITY_MAX&#x27;, &#x27;ACTIVE_AMT_ANNUITY_MEAN&#x27;, &#x27;ACTIVE_CNT_CREDIT_PROLONG_SUM&#x27;, &#x27;ACTIVE_MONTHS_BALANCE_MIN_MIN&#x27;, &#x27;ACTIVE_MONTHS_BALANCE_MAX_MAX&#x27;, &#x27;ACTIVE_MONTHS_BALANCE_SIZE_MEAN&#x27;, &#x27;ACTIVE_MONTHS_BALANCE_SIZE_SUM&#x27;, &#x27;CLOSED_DAYS_CREDIT_MIN&#x27;, &#x27;CLOSED_DAYS_CREDIT_MAX&#x27;, &#x27;CLOSED_DAYS_CREDIT_MEAN&#x27;, &#x27;CLOSED_DAYS_CREDIT_VAR&#x27;, &#x27;CLOSED_DAYS_CREDIT_ENDDATE_MIN&#x27;, &#x27;CLOSED_DAYS_CREDIT_ENDDATE_MAX&#x27;, &#x27;CLOSED_DAYS_CREDIT_ENDDATE_MEAN&#x27;, &#x27;CLOSED_DAYS_CREDIT_UPDATE_MEAN&#x27;, &#x27;CLOSED_CREDIT_DAY_OVERDUE_MAX&#x27;, &#x27;CLOSED_CREDIT_DAY_OVERDUE_MEAN&#x27;, &#x27;CLOSED_AMT_CREDIT_MAX_OVERDUE_MEAN&#x27;, &#x27;CLOSED_AMT_CREDIT_SUM_MAX&#x27;, &#x27;CLOSED_AMT_CREDIT_SUM_MEAN&#x27;, &#x27;CLOSED_AMT_CREDIT_SUM_SUM&#x27;, &#x27;CLOSED_AMT_CREDIT_SUM_DEBT_MAX&#x27;, &#x27;CLOSED_AMT_CREDIT_SUM_DEBT_MEAN&#x27;, &#x27;CLOSED_AMT_CREDIT_SUM_DEBT_SUM&#x27;, &#x27;CLOSED_AMT_CREDIT_SUM_OVERDUE_MEAN&#x27;, &#x27;CLOSED_AMT_CREDIT_SUM_LIMIT_MEAN&#x27;, &#x27;CLOSED_AMT_CREDIT_SUM_LIMIT_SUM&#x27;, &#x27;CLOSED_AMT_ANNUITY_MAX&#x27;, &#x27;CLOSED_AMT_ANNUITY_MEAN&#x27;, &#x27;CLOSED_CNT_CREDIT_PROLONG_SUM&#x27;, &#x27;CLOSED_MONTHS_BALANCE_MIN_MIN&#x27;, &#x27;CLOSED_MONTHS_BALANCE_MAX_MAX&#x27;, &#x27;CLOSED_MONTHS_BALANCE_SIZE_MEAN&#x27;, &#x27;CLOSED_MONTHS_BALANCE_SIZE_SUM&#x27;, &#x27;PREV_AMT_ANNUITY_MIN&#x27;, &#x27;PREV_AMT_ANNUITY_MAX&#x27;, &#x27;PREV_AMT_ANNUITY_MEAN&#x27;, &#x27;PREV_AMT_APPLICATION_MIN&#x27;, &#x27;PREV_AMT_APPLICATION_MAX&#x27;, &#x27;PREV_AMT_APPLICATION_MEAN&#x27;, &#x27;PREV_AMT_CREDIT_MIN&#x27;, &#x27;PREV_AMT_CREDIT_MAX&#x27;, &#x27;PREV_AMT_CREDIT_MEAN&#x27;, &#x27;PREV_APP_CREDIT_PERC_MIN&#x27;, &#x27;PREV_APP_CREDIT_PERC_MAX&#x27;, &#x27;PREV_APP_CREDIT_PERC_MEAN&#x27;, &#x27;PREV_APP_CREDIT_PERC_VAR&#x27;, &#x27;PREV_AMT_DOWN_PAYMENT_MIN&#x27;, &#x27;PREV_AMT_DOWN_PAYMENT_MAX&#x27;, &#x27;PREV_AMT_DOWN_PAYMENT_MEAN&#x27;, &#x27;PREV_AMT_GOODS_PRICE_MIN&#x27;, &#x27;PREV_AMT_GOODS_PRICE_MAX&#x27;, &#x27;PREV_AMT_GOODS_PRICE_MEAN&#x27;, &#x27;PREV_HOUR_APPR_PROCESS_START_MIN&#x27;, &#x27;PREV_HOUR_APPR_PROCESS_START_MAX&#x27;, &#x27;PREV_HOUR_APPR_PROCESS_START_MEAN&#x27;, &#x27;PREV_RATE_DOWN_PAYMENT_MIN&#x27;, &#x27;PREV_RATE_DOWN_PAYMENT_MAX&#x27;, &#x27;PREV_RATE_DOWN_PAYMENT_MEAN&#x27;, &#x27;PREV_DAYS_DECISION_MIN&#x27;, &#x27;PREV_DAYS_DECISION_MAX&#x27;, &#x27;PREV_DAYS_DECISION_MEAN&#x27;, &#x27;PREV_CNT_PAYMENT_MEAN&#x27;, &#x27;PREV_CNT_PAYMENT_SUM&#x27;, &#x27;PREV_NAME_CONTRACT_TYPE_Cash loans_MEAN&#x27;, &#x27;PREV_NAME_CONTRACT_TYPE_Consumer loans_MEAN&#x27;, &#x27;PREV_NAME_CONTRACT_TYPE_Revolving loans_MEAN&#x27;, &#x27;PREV_NAME_CONTRACT_TYPE_XNA_MEAN&#x27;, &#x27;PREV_NAME_CONTRACT_TYPE_nan_MEAN&#x27;, &#x27;PREV_WEEKDAY_APPR_PROCESS_START_FRIDAY_MEAN&#x27;, &#x27;PREV_WEEKDAY_APPR_PROCESS_START_MONDAY_MEAN&#x27;, &#x27;PREV_WEEKDAY_APPR_PROCESS_START_SATURDAY_MEAN&#x27;, &#x27;PREV_WEEKDAY_APPR_PROCESS_START_SUNDAY_MEAN&#x27;, &#x27;PREV_WEEKDAY_APPR_PROCESS_START_THURSDAY_MEAN&#x27;, &#x27;PREV_WEEKDAY_APPR_PROCESS_START_TUESDAY_MEAN&#x27;, &#x27;PREV_WEEKDAY_APPR_PROCESS_START_WEDNESDAY_MEAN&#x27;, &#x27;PREV_WEEKDAY_APPR_PROCESS_START_nan_MEAN&#x27;, &#x27;PREV_FLAG_LAST_APPL_PER_CONTRACT_N_MEAN&#x27;, &#x27;PREV_FLAG_LAST_APPL_PER_CONTRACT_Y_MEAN&#x27;, &#x27;PREV_FLAG_LAST_APPL_PER_CONTRACT_nan_MEAN&#x27;, &#x27;PREV_NAME_CASH_LOAN_PURPOSE_Building a house or an annex_MEAN&#x27;, &#x27;PREV_NAME_CASH_LOAN_PURPOSE_Business development_MEAN&#x27;, &#x27;PREV_NAME_CASH_LOAN_PURPOSE_Buying a garage_MEAN&#x27;, &#x27;PREV_NAME_CASH_LOAN_PURPOSE_Buying a holiday home / land_MEAN&#x27;, &#x27;PREV_NAME_CASH_LOAN_PURPOSE_Buying a home_MEAN&#x27;, &#x27;PREV_NAME_CASH_LOAN_PURPOSE_Buying a new car_MEAN&#x27;, &#x27;PREV_NAME_CASH_LOAN_PURPOSE_Buying a used car_MEAN&#x27;, &#x27;PREV_NAME_CASH_LOAN_PURPOSE_Car repairs_MEAN&#x27;, &#x27;PREV_NAME_CASH_LOAN_PURPOSE_Education_MEAN&#x27;, &#x27;PREV_NAME_CASH_LOAN_PURPOSE_Everyday expenses_MEAN&#x27;, &#x27;PREV_NAME_CASH_LOAN_PURPOSE_Furniture_MEAN&#x27;, &#x27;PREV_NAME_CASH_LOAN_PURPOSE_Gasification / water supply_MEAN&#x27;, &#x27;PREV_NAME_CASH_LOAN_PURPOSE_Hobby_MEAN&#x27;, &#x27;PREV_NAME_CASH_LOAN_PURPOSE_Journey_MEAN&#x27;, &#x27;PREV_NAME_CASH_LOAN_PURPOSE_Medicine_MEAN&#x27;, &#x27;PREV_NAME_CASH_LOAN_PURPOSE_Money for a third person_MEAN&#x27;, &#x27;PREV_NAME_CASH_LOAN_PURPOSE_Other_MEAN&#x27;, &#x27;PREV_NAME_CASH_LOAN_PURPOSE_Payments on other loans_MEAN&#x27;, &#x27;PREV_NAME_CASH_LOAN_PURPOSE_Purchase of electronic equipment_MEAN&#x27;, &#x27;PREV_NAME_CASH_LOAN_PURPOSE_Refusal to name the goal_MEAN&#x27;, &#x27;PREV_NAME_CASH_LOAN_PURPOSE_Repairs_MEAN&#x27;, &#x27;PREV_NAME_CASH_LOAN_PURPOSE_Urgent needs_MEAN&#x27;, &#x27;PREV_NAME_CASH_LOAN_PURPOSE_Wedding / gift / holiday_MEAN&#x27;, &#x27;PREV_NAME_CASH_LOAN_PURPOSE_XAP_MEAN&#x27;, &#x27;PREV_NAME_CASH_LOAN_PURPOSE_XNA_MEAN&#x27;, &#x27;PREV_NAME_CASH_LOAN_PURPOSE_nan_MEAN&#x27;, &#x27;PREV_NAME_CONTRACT_STATUS_Approved_MEAN&#x27;, &#x27;PREV_NAME_CONTRACT_STATUS_Canceled_MEAN&#x27;, &#x27;PREV_NAME_CONTRACT_STATUS_Refused_MEAN&#x27;, &#x27;PREV_NAME_CONTRACT_STATUS_Unused offer_MEAN&#x27;, &#x27;PREV_NAME_CONTRACT_STATUS_nan_MEAN&#x27;, &#x27;PREV_NAME_PAYMENT_TYPE_Cash through the bank_MEAN&#x27;, &#x27;PREV_NAME_PAYMENT_TYPE_Cashless from the account of the employer_MEAN&#x27;, &#x27;PREV_NAME_PAYMENT_TYPE_Non-cash from your account_MEAN&#x27;, &#x27;PREV_NAME_PAYMENT_TYPE_XNA_MEAN&#x27;, &#x27;PREV_NAME_PAYMENT_TYPE_nan_MEAN&#x27;, &#x27;PREV_CODE_REJECT_REASON_CLIENT_MEAN&#x27;, &#x27;PREV_CODE_REJECT_REASON_HC_MEAN&#x27;, &#x27;PREV_CODE_REJECT_REASON_LIMIT_MEAN&#x27;, &#x27;PREV_CODE_REJECT_REASON_SCO_MEAN&#x27;, &#x27;PREV_CODE_REJECT_REASON_SCOFR_MEAN&#x27;, &#x27;PREV_CODE_REJECT_REASON_SYSTEM_MEAN&#x27;, &#x27;PREV_CODE_REJECT_REASON_VERIF_MEAN&#x27;, &#x27;PREV_CODE_REJECT_REASON_XAP_MEAN&#x27;, &#x27;PREV_CODE_REJECT_REASON_XNA_MEAN&#x27;, &#x27;PREV_CODE_REJECT_REASON_nan_MEAN&#x27;, &#x27;PREV_NAME_TYPE_SUITE_Children_MEAN&#x27;, &#x27;PREV_NAME_TYPE_SUITE_Family_MEAN&#x27;, &#x27;PREV_NAME_TYPE_SUITE_Group of people_MEAN&#x27;, &#x27;PREV_NAME_TYPE_SUITE_Other_A_MEAN&#x27;, &#x27;PREV_NAME_TYPE_SUITE_Other_B_MEAN&#x27;, &#x27;PREV_NAME_TYPE_SUITE_Spouse, partner_MEAN&#x27;, &#x27;PREV_NAME_TYPE_SUITE_Unaccompanied_MEAN&#x27;, &#x27;PREV_NAME_TYPE_SUITE_nan_MEAN&#x27;, &#x27;PREV_NAME_CLIENT_TYPE_New_MEAN&#x27;, &#x27;PREV_NAME_CLIENT_TYPE_Refreshed_MEAN&#x27;, &#x27;PREV_NAME_CLIENT_TYPE_Repeater_MEAN&#x27;, &#x27;PREV_NAME_CLIENT_TYPE_XNA_MEAN&#x27;, &#x27;PREV_NAME_CLIENT_TYPE_nan_MEAN&#x27;, &#x27;PREV_NAME_GOODS_CATEGORY_Additional Service_MEAN&#x27;, &#x27;PREV_NAME_GOODS_CATEGORY_Animals_MEAN&#x27;, &#x27;PREV_NAME_GOODS_CATEGORY_Audio/Video_MEAN&#x27;, &#x27;PREV_NAME_GOODS_CATEGORY_Auto Accessories_MEAN&#x27;, &#x27;PREV_NAME_GOODS_CATEGORY_Clothing and Accessories_MEAN&#x27;, &#x27;PREV_NAME_GOODS_CATEGORY_Computers_MEAN&#x27;, &#x27;PREV_NAME_GOODS_CATEGORY_Construction Materials_MEAN&#x27;, &#x27;PREV_NAME_GOODS_CATEGORY_Consumer Electronics_MEAN&#x27;, &#x27;PREV_NAME_GOODS_CATEGORY_Direct Sales_MEAN&#x27;, &#x27;PREV_NAME_GOODS_CATEGORY_Education_MEAN&#x27;, &#x27;PREV_NAME_GOODS_CATEGORY_Fitness_MEAN&#x27;, &#x27;PREV_NAME_GOODS_CATEGORY_Furniture_MEAN&#x27;, &#x27;PREV_NAME_GOODS_CATEGORY_Gardening_MEAN&#x27;, &#x27;PREV_NAME_GOODS_CATEGORY_Homewares_MEAN&#x27;, &#x27;PREV_NAME_GOODS_CATEGORY_House Construction_MEAN&#x27;, &#x27;PREV_NAME_GOODS_CATEGORY_Insurance_MEAN&#x27;, &#x27;PREV_NAME_GOODS_CATEGORY_Jewelry_MEAN&#x27;, &#x27;PREV_NAME_GOODS_CATEGORY_Medical Supplies_MEAN&#x27;, &#x27;PREV_NAME_GOODS_CATEGORY_Medicine_MEAN&#x27;, &#x27;PREV_NAME_GOODS_CATEGORY_Mobile_MEAN&#x27;, &#x27;PREV_NAME_GOODS_CATEGORY_Office Appliances_MEAN&#x27;, &#x27;PREV_NAME_GOODS_CATEGORY_Other_MEAN&#x27;, &#x27;PREV_NAME_GOODS_CATEGORY_Photo / Cinema Equipment_MEAN&#x27;, &#x27;PREV_NAME_GOODS_CATEGORY_Sport and Leisure_MEAN&#x27;, &#x27;PREV_NAME_GOODS_CATEGORY_Tourism_MEAN&#x27;, &#x27;PREV_NAME_GOODS_CATEGORY_Vehicles_MEAN&#x27;, &#x27;PREV_NAME_GOODS_CATEGORY_Weapon_MEAN&#x27;, &#x27;PREV_NAME_GOODS_CATEGORY_XNA_MEAN&#x27;, &#x27;PREV_NAME_GOODS_CATEGORY_nan_MEAN&#x27;, &#x27;PREV_NAME_PORTFOLIO_Cards_MEAN&#x27;, &#x27;PREV_NAME_PORTFOLIO_Cars_MEAN&#x27;, &#x27;PREV_NAME_PORTFOLIO_Cash_MEAN&#x27;, &#x27;PREV_NAME_PORTFOLIO_POS_MEAN&#x27;, &#x27;PREV_NAME_PORTFOLIO_XNA_MEAN&#x27;, &#x27;PREV_NAME_PORTFOLIO_nan_MEAN&#x27;, &#x27;PREV_NAME_PRODUCT_TYPE_XNA_MEAN&#x27;, &#x27;PREV_NAME_PRODUCT_TYPE_walk-in_MEAN&#x27;, &#x27;PREV_NAME_PRODUCT_TYPE_x-sell_MEAN&#x27;, &#x27;PREV_NAME_PRODUCT_TYPE_nan_MEAN&#x27;, &#x27;PREV_CHANNEL_TYPE_AP+ (Cash loan)_MEAN&#x27;, &#x27;PREV_CHANNEL_TYPE_Car dealer_MEAN&#x27;, &#x27;PREV_CHANNEL_TYPE_Channel of corporate sales_MEAN&#x27;, &#x27;PREV_CHANNEL_TYPE_Contact center_MEAN&#x27;, &#x27;PREV_CHANNEL_TYPE_Country-wide_MEAN&#x27;, &#x27;PREV_CHANNEL_TYPE_Credit and cash offices_MEAN&#x27;, &#x27;PREV_CHANNEL_TYPE_Regional / Local_MEAN&#x27;, &#x27;PREV_CHANNEL_TYPE_Stone_MEAN&#x27;, &#x27;PREV_CHANNEL_TYPE_nan_MEAN&#x27;, &#x27;PREV_NAME_SELLER_INDUSTRY_Auto technology_MEAN&#x27;, &#x27;PREV_NAME_SELLER_INDUSTRY_Clothing_MEAN&#x27;, &#x27;PREV_NAME_SELLER_INDUSTRY_Connectivity_MEAN&#x27;, &#x27;PREV_NAME_SELLER_INDUSTRY_Construction_MEAN&#x27;, &#x27;PREV_NAME_SELLER_INDUSTRY_Consumer electronics_MEAN&#x27;, &#x27;PREV_NAME_SELLER_INDUSTRY_Furniture_MEAN&#x27;, &#x27;PREV_NAME_SELLER_INDUSTRY_Industry_MEAN&#x27;, &#x27;PREV_NAME_SELLER_INDUSTRY_Jewelry_MEAN&#x27;, &#x27;PREV_NAME_SELLER_INDUSTRY_MLM partners_MEAN&#x27;, &#x27;PREV_NAME_SELLER_INDUSTRY_Tourism_MEAN&#x27;, &#x27;PREV_NAME_SELLER_INDUSTRY_XNA_MEAN&#x27;, &#x27;PREV_NAME_SELLER_INDUSTRY_nan_MEAN&#x27;, &#x27;PREV_NAME_YIELD_GROUP_XNA_MEAN&#x27;, &#x27;PREV_NAME_YIELD_GROUP_high_MEAN&#x27;, &#x27;PREV_NAME_YIELD_GROUP_low_action_MEAN&#x27;, &#x27;PREV_NAME_YIELD_GROUP_low_normal_MEAN&#x27;, &#x27;PREV_NAME_YIELD_GROUP_middle_MEAN&#x27;, &#x27;PREV_NAME_YIELD_GROUP_nan_MEAN&#x27;, &#x27;PREV_PRODUCT_COMBINATION_Card Street_MEAN&#x27;, &#x27;PREV_PRODUCT_COMBINATION_Card X-Sell_MEAN&#x27;, &#x27;PREV_PRODUCT_COMBINATION_Cash_MEAN&#x27;, &#x27;PREV_PRODUCT_COMBINATION_Cash Street: high_MEAN&#x27;, &#x27;PREV_PRODUCT_COMBINATION_Cash Street: low_MEAN&#x27;, &#x27;PREV_PRODUCT_COMBINATION_Cash Street: middle_MEAN&#x27;, &#x27;PREV_PRODUCT_COMBINATION_Cash X-Sell: high_MEAN&#x27;, &#x27;PREV_PRODUCT_COMBINATION_Cash X-Sell: low_MEAN&#x27;, &#x27;PREV_PRODUCT_COMBINATION_Cash X-Sell: middle_MEAN&#x27;, &#x27;PREV_PRODUCT_COMBINATION_POS household with interest_MEAN&#x27;, &#x27;PREV_PRODUCT_COMBINATION_POS household without interest_MEAN&#x27;, &#x27;PREV_PRODUCT_COMBINATION_POS industry with interest_MEAN&#x27;, &#x27;PREV_PRODUCT_COMBINATION_POS industry without interest_MEAN&#x27;, &#x27;PREV_PRODUCT_COMBINATION_POS mobile with interest_MEAN&#x27;, &#x27;PREV_PRODUCT_COMBINATION_POS mobile without interest_MEAN&#x27;, &#x27;PREV_PRODUCT_COMBINATION_POS other with interest_MEAN&#x27;, &#x27;PREV_PRODUCT_COMBINATION_POS others without interest_MEAN&#x27;, &#x27;PREV_PRODUCT_COMBINATION_nan_MEAN&#x27;, &#x27;APPROVED_AMT_ANNUITY_MIN&#x27;, &#x27;APPROVED_AMT_ANNUITY_MAX&#x27;, &#x27;APPROVED_AMT_ANNUITY_MEAN&#x27;, &#x27;APPROVED_AMT_APPLICATION_MIN&#x27;, &#x27;APPROVED_AMT_APPLICATION_MAX&#x27;, &#x27;APPROVED_AMT_APPLICATION_MEAN&#x27;, &#x27;APPROVED_AMT_CREDIT_MIN&#x27;, &#x27;APPROVED_AMT_CREDIT_MAX&#x27;, &#x27;APPROVED_AMT_CREDIT_MEAN&#x27;, &#x27;APPROVED_APP_CREDIT_PERC_MIN&#x27;, &#x27;APPROVED_APP_CREDIT_PERC_MAX&#x27;, &#x27;APPROVED_APP_CREDIT_PERC_MEAN&#x27;, &#x27;APPROVED_APP_CREDIT_PERC_VAR&#x27;, &#x27;APPROVED_AMT_DOWN_PAYMENT_MIN&#x27;, &#x27;APPROVED_AMT_DOWN_PAYMENT_MAX&#x27;, &#x27;APPROVED_AMT_DOWN_PAYMENT_MEAN&#x27;, &#x27;APPROVED_AMT_GOODS_PRICE_MIN&#x27;, &#x27;APPROVED_AMT_GOODS_PRICE_MAX&#x27;, &#x27;APPROVED_AMT_GOODS_PRICE_MEAN&#x27;, &#x27;APPROVED_HOUR_APPR_PROCESS_START_MIN&#x27;, &#x27;APPROVED_HOUR_APPR_PROCESS_START_MAX&#x27;, &#x27;APPROVED_HOUR_APPR_PROCESS_START_MEAN&#x27;, &#x27;APPROVED_RATE_DOWN_PAYMENT_MIN&#x27;, &#x27;APPROVED_RATE_DOWN_PAYMENT_MAX&#x27;, &#x27;APPROVED_RATE_DOWN_PAYMENT_MEAN&#x27;, &#x27;APPROVED_DAYS_DECISION_MIN&#x27;, &#x27;APPROVED_DAYS_DECISION_MAX&#x27;, &#x27;APPROVED_DAYS_DECISION_MEAN&#x27;, &#x27;APPROVED_CNT_PAYMENT_MEAN&#x27;, &#x27;APPROVED_CNT_PAYMENT_SUM&#x27;, &#x27;REFUSED_AMT_ANNUITY_MIN&#x27;, &#x27;REFUSED_AMT_ANNUITY_MAX&#x27;, &#x27;REFUSED_AMT_ANNUITY_MEAN&#x27;, &#x27;REFUSED_AMT_APPLICATION_MIN&#x27;, &#x27;REFUSED_AMT_APPLICATION_MAX&#x27;, &#x27;REFUSED_AMT_APPLICATION_MEAN&#x27;, &#x27;REFUSED_AMT_CREDIT_MIN&#x27;, &#x27;REFUSED_AMT_CREDIT_MAX&#x27;, &#x27;REFUSED_AMT_CREDIT_MEAN&#x27;, &#x27;REFUSED_APP_CREDIT_PERC_MIN&#x27;, &#x27;REFUSED_APP_CREDIT_PERC_MAX&#x27;, &#x27;REFUSED_APP_CREDIT_PERC_MEAN&#x27;, &#x27;REFUSED_APP_CREDIT_PERC_VAR&#x27;, &#x27;REFUSED_AMT_DOWN_PAYMENT_MIN&#x27;, &#x27;REFUSED_AMT_DOWN_PAYMENT_MAX&#x27;, &#x27;REFUSED_AMT_DOWN_PAYMENT_MEAN&#x27;, &#x27;REFUSED_AMT_GOODS_PRICE_MIN&#x27;, &#x27;REFUSED_AMT_GOODS_PRICE_MAX&#x27;, &#x27;REFUSED_AMT_GOODS_PRICE_MEAN&#x27;, &#x27;REFUSED_HOUR_APPR_PROCESS_START_MIN&#x27;, &#x27;REFUSED_HOUR_APPR_PROCESS_START_MAX&#x27;, &#x27;REFUSED_HOUR_APPR_PROCESS_START_MEAN&#x27;, &#x27;REFUSED_RATE_DOWN_PAYMENT_MIN&#x27;, &#x27;REFUSED_RATE_DOWN_PAYMENT_MAX&#x27;, &#x27;REFUSED_RATE_DOWN_PAYMENT_MEAN&#x27;, &#x27;REFUSED_DAYS_DECISION_MIN&#x27;, &#x27;REFUSED_DAYS_DECISION_MAX&#x27;, &#x27;REFUSED_DAYS_DECISION_MEAN&#x27;, &#x27;REFUSED_CNT_PAYMENT_MEAN&#x27;, &#x27;REFUSED_CNT_PAYMENT_SUM&#x27;, &#x27;POS_MONTHS_BALANCE_MAX&#x27;, &#x27;POS_MONTHS_BALANCE_MEAN&#x27;, &#x27;POS_MONTHS_BALANCE_SIZE&#x27;, &#x27;POS_SK_DPD_MAX&#x27;, &#x27;POS_SK_DPD_MEAN&#x27;, &#x27;POS_SK_DPD_DEF_MAX&#x27;, &#x27;POS_SK_DPD_DEF_MEAN&#x27;, &#x27;POS_NAME_CONTRACT_STATUS_Active_MEAN&#x27;, &#x27;POS_NAME_CONTRACT_STATUS_Amortized debt_MEAN&#x27;, &#x27;POS_NAME_CONTRACT_STATUS_Approved_MEAN&#x27;, &#x27;POS_NAME_CONTRACT_STATUS_Canceled_MEAN&#x27;, &#x27;POS_NAME_CONTRACT_STATUS_Completed_MEAN&#x27;, &#x27;POS_NAME_CONTRACT_STATUS_Demand_MEAN&#x27;, &#x27;POS_NAME_CONTRACT_STATUS_Returned to the store_MEAN&#x27;, &#x27;POS_NAME_CONTRACT_STATUS_Signed_MEAN&#x27;, &#x27;POS_NAME_CONTRACT_STATUS_XNA_MEAN&#x27;, &#x27;POS_NAME_CONTRACT_STATUS_nan_MEAN&#x27;, &#x27;POS_COUNT&#x27;, &#x27;INSTAL_NUM_INSTALMENT_VERSION_NUNIQUE&#x27;, &#x27;INSTAL_DPD_MAX&#x27;, &#x27;INSTAL_DPD_MEAN&#x27;, &#x27;INSTAL_DPD_SUM&#x27;, &#x27;INSTAL_DBD_MAX&#x27;, &#x27;INSTAL_DBD_MEAN&#x27;, &#x27;INSTAL_DBD_SUM&#x27;, &#x27;INSTAL_PAYMENT_PERC_MAX&#x27;, &#x27;INSTAL_PAYMENT_PERC_MEAN&#x27;, &#x27;INSTAL_PAYMENT_PERC_SUM&#x27;, &#x27;INSTAL_PAYMENT_PERC_VAR&#x27;, &#x27;INSTAL_PAYMENT_DIFF_MAX&#x27;, &#x27;INSTAL_PAYMENT_DIFF_MEAN&#x27;, &#x27;INSTAL_PAYMENT_DIFF_SUM&#x27;, &#x27;INSTAL_PAYMENT_DIFF_VAR&#x27;, &#x27;INSTAL_AMT_INSTALMENT_MAX&#x27;, &#x27;INSTAL_AMT_INSTALMENT_MEAN&#x27;, &#x27;INSTAL_AMT_INSTALMENT_SUM&#x27;, &#x27;INSTAL_AMT_PAYMENT_MIN&#x27;, &#x27;INSTAL_AMT_PAYMENT_MAX&#x27;, &#x27;INSTAL_AMT_PAYMENT_MEAN&#x27;, &#x27;INSTAL_AMT_PAYMENT_SUM&#x27;, &#x27;INSTAL_DAYS_ENTRY_PAYMENT_MAX&#x27;, &#x27;INSTAL_DAYS_ENTRY_PAYMENT_MEAN&#x27;, &#x27;INSTAL_DAYS_ENTRY_PAYMENT_SUM&#x27;, &#x27;INSTAL_COUNT&#x27;, &#x27;CC_MONTHS_BALANCE_MIN&#x27;, &#x27;CC_MONTHS_BALANCE_MAX&#x27;, &#x27;CC_MONTHS_BALANCE_MEAN&#x27;, &#x27;CC_MONTHS_BALANCE_SUM&#x27;, &#x27;CC_MONTHS_BALANCE_VAR&#x27;, &#x27;CC_AMT_BALANCE_MIN&#x27;, &#x27;CC_AMT_BALANCE_MAX&#x27;, &#x27;CC_AMT_BALANCE_MEAN&#x27;, &#x27;CC_AMT_BALANCE_SUM&#x27;, &#x27;CC_AMT_BALANCE_VAR&#x27;, &#x27;CC_AMT_CREDIT_LIMIT_ACTUAL_MIN&#x27;, &#x27;CC_AMT_CREDIT_LIMIT_ACTUAL_MAX&#x27;, &#x27;CC_AMT_CREDIT_LIMIT_ACTUAL_MEAN&#x27;, &#x27;CC_AMT_CREDIT_LIMIT_ACTUAL_SUM&#x27;, &#x27;CC_AMT_CREDIT_LIMIT_ACTUAL_VAR&#x27;, &#x27;CC_AMT_DRAWINGS_ATM_CURRENT_MIN&#x27;, &#x27;CC_AMT_DRAWINGS_ATM_CURRENT_MAX&#x27;, &#x27;CC_AMT_DRAWINGS_ATM_CURRENT_MEAN&#x27;, &#x27;CC_AMT_DRAWINGS_ATM_CURRENT_SUM&#x27;, &#x27;CC_AMT_DRAWINGS_ATM_CURRENT_VAR&#x27;, &#x27;CC_AMT_DRAWINGS_CURRENT_MIN&#x27;, &#x27;CC_AMT_DRAWINGS_CURRENT_MAX&#x27;, &#x27;CC_AMT_DRAWINGS_CURRENT_MEAN&#x27;, &#x27;CC_AMT_DRAWINGS_CURRENT_SUM&#x27;, &#x27;CC_AMT_DRAWINGS_CURRENT_VAR&#x27;, &#x27;CC_AMT_DRAWINGS_OTHER_CURRENT_MIN&#x27;, &#x27;CC_AMT_DRAWINGS_OTHER_CURRENT_MAX&#x27;, &#x27;CC_AMT_DRAWINGS_OTHER_CURRENT_MEAN&#x27;, &#x27;CC_AMT_DRAWINGS_OTHER_CURRENT_SUM&#x27;, &#x27;CC_AMT_DRAWINGS_OTHER_CURRENT_VAR&#x27;, &#x27;CC_AMT_DRAWINGS_POS_CURRENT_MIN&#x27;, &#x27;CC_AMT_DRAWINGS_POS_CURRENT_MAX&#x27;, &#x27;CC_AMT_DRAWINGS_POS_CURRENT_MEAN&#x27;, &#x27;CC_AMT_DRAWINGS_POS_CURRENT_SUM&#x27;, &#x27;CC_AMT_DRAWINGS_POS_CURRENT_VAR&#x27;, &#x27;CC_AMT_INST_MIN_REGULARITY_MIN&#x27;, &#x27;CC_AMT_INST_MIN_REGULARITY_MAX&#x27;, &#x27;CC_AMT_INST_MIN_REGULARITY_MEAN&#x27;, &#x27;CC_AMT_INST_MIN_REGULARITY_SUM&#x27;, &#x27;CC_AMT_INST_MIN_REGULARITY_VAR&#x27;, &#x27;CC_AMT_PAYMENT_CURRENT_MIN&#x27;, &#x27;CC_AMT_PAYMENT_CURRENT_MAX&#x27;, &#x27;CC_AMT_PAYMENT_CURRENT_MEAN&#x27;, &#x27;CC_AMT_PAYMENT_CURRENT_SUM&#x27;, &#x27;CC_AMT_PAYMENT_CURRENT_VAR&#x27;, &#x27;CC_AMT_PAYMENT_TOTAL_CURRENT_MIN&#x27;, &#x27;CC_AMT_PAYMENT_TOTAL_CURRENT_MAX&#x27;, &#x27;CC_AMT_PAYMENT_TOTAL_CURRENT_MEAN&#x27;, &#x27;CC_AMT_PAYMENT_TOTAL_CURRENT_SUM&#x27;, &#x27;CC_AMT_PAYMENT_TOTAL_CURRENT_VAR&#x27;, &#x27;CC_AMT_RECEIVABLE_PRINCIPAL_MIN&#x27;, &#x27;CC_AMT_RECEIVABLE_PRINCIPAL_MAX&#x27;, &#x27;CC_AMT_RECEIVABLE_PRINCIPAL_MEAN&#x27;, &#x27;CC_AMT_RECEIVABLE_PRINCIPAL_SUM&#x27;, &#x27;CC_AMT_RECEIVABLE_PRINCIPAL_VAR&#x27;, &#x27;CC_AMT_RECIVABLE_MIN&#x27;, &#x27;CC_AMT_RECIVABLE_MAX&#x27;, &#x27;CC_AMT_RECIVABLE_MEAN&#x27;, &#x27;CC_AMT_RECIVABLE_SUM&#x27;, &#x27;CC_AMT_RECIVABLE_VAR&#x27;, &#x27;CC_AMT_TOTAL_RECEIVABLE_MIN&#x27;, &#x27;CC_AMT_TOTAL_RECEIVABLE_MAX&#x27;, &#x27;CC_AMT_TOTAL_RECEIVABLE_MEAN&#x27;, &#x27;CC_AMT_TOTAL_RECEIVABLE_SUM&#x27;, &#x27;CC_AMT_TOTAL_RECEIVABLE_VAR&#x27;, &#x27;CC_CNT_DRAWINGS_ATM_CURRENT_MIN&#x27;, &#x27;CC_CNT_DRAWINGS_ATM_CURRENT_MAX&#x27;, &#x27;CC_CNT_DRAWINGS_ATM_CURRENT_MEAN&#x27;, &#x27;CC_CNT_DRAWINGS_ATM_CURRENT_SUM&#x27;, &#x27;CC_CNT_DRAWINGS_ATM_CURRENT_VAR&#x27;, &#x27;CC_CNT_DRAWINGS_CURRENT_MIN&#x27;, &#x27;CC_CNT_DRAWINGS_CURRENT_MAX&#x27;, &#x27;CC_CNT_DRAWINGS_CURRENT_MEAN&#x27;, &#x27;CC_CNT_DRAWINGS_CURRENT_SUM&#x27;, &#x27;CC_CNT_DRAWINGS_CURRENT_VAR&#x27;, &#x27;CC_CNT_DRAWINGS_OTHER_CURRENT_MIN&#x27;, &#x27;CC_CNT_DRAWINGS_OTHER_CURRENT_MAX&#x27;, &#x27;CC_CNT_DRAWINGS_OTHER_CURRENT_MEAN&#x27;, &#x27;CC_CNT_DRAWINGS_OTHER_CURRENT_SUM&#x27;, &#x27;CC_CNT_DRAWINGS_OTHER_CURRENT_VAR&#x27;, &#x27;CC_CNT_DRAWINGS_POS_CURRENT_MIN&#x27;, &#x27;CC_CNT_DRAWINGS_POS_CURRENT_MAX&#x27;, &#x27;CC_CNT_DRAWINGS_POS_CURRENT_MEAN&#x27;, &#x27;CC_CNT_DRAWINGS_POS_CURRENT_SUM&#x27;, &#x27;CC_CNT_DRAWINGS_POS_CURRENT_VAR&#x27;, &#x27;CC_CNT_INSTALMENT_MATURE_CUM_MIN&#x27;, &#x27;CC_CNT_INSTALMENT_MATURE_CUM_MAX&#x27;, &#x27;CC_CNT_INSTALMENT_MATURE_CUM_MEAN&#x27;, &#x27;CC_CNT_INSTALMENT_MATURE_CUM_SUM&#x27;, &#x27;CC_CNT_INSTALMENT_MATURE_CUM_VAR&#x27;, &#x27;CC_SK_DPD_MIN&#x27;, &#x27;CC_SK_DPD_MAX&#x27;, &#x27;CC_SK_DPD_MEAN&#x27;, &#x27;CC_SK_DPD_SUM&#x27;, &#x27;CC_SK_DPD_VAR&#x27;, &#x27;CC_SK_DPD_DEF_MIN&#x27;, &#x27;CC_SK_DPD_DEF_MAX&#x27;, &#x27;CC_SK_DPD_DEF_MEAN&#x27;, &#x27;CC_SK_DPD_DEF_SUM&#x27;, &#x27;CC_SK_DPD_DEF_VAR&#x27;, &#x27;CC_NAME_CONTRACT_STATUS_Active_MEAN&#x27;, &#x27;CC_NAME_CONTRACT_STATUS_Active_SUM&#x27;, &#x27;CC_NAME_CONTRACT_STATUS_Active_VAR&#x27;, &#x27;CC_NAME_CONTRACT_STATUS_Approved_MEAN&#x27;, &#x27;CC_NAME_CONTRACT_STATUS_Approved_SUM&#x27;, &#x27;CC_NAME_CONTRACT_STATUS_Approved_VAR&#x27;, &#x27;CC_NAME_CONTRACT_STATUS_Completed_MEAN&#x27;, &#x27;CC_NAME_CONTRACT_STATUS_Completed_SUM&#x27;, &#x27;CC_NAME_CONTRACT_STATUS_Completed_VAR&#x27;, &#x27;CC_NAME_CONTRACT_STATUS_Demand_MEAN&#x27;, &#x27;CC_NAME_CONTRACT_STATUS_Demand_SUM&#x27;, &#x27;CC_NAME_CONTRACT_STATUS_Demand_VAR&#x27;, &#x27;CC_NAME_CONTRACT_STATUS_Refused_MEAN&#x27;, &#x27;CC_NAME_CONTRACT_STATUS_Refused_SUM&#x27;, &#x27;CC_NAME_CONTRACT_STATUS_Refused_VAR&#x27;, &#x27;CC_NAME_CONTRACT_STATUS_Sent proposal_MEAN&#x27;, &#x27;CC_NAME_CONTRACT_STATUS_Sent proposal_SUM&#x27;, &#x27;CC_NAME_CONTRACT_STATUS_Sent proposal_VAR&#x27;, &#x27;CC_NAME_CONTRACT_STATUS_Signed_MEAN&#x27;, &#x27;CC_NAME_CONTRACT_STATUS_Signed_SUM&#x27;, &#x27;CC_NAME_CONTRACT_STATUS_Signed_VAR&#x27;, &#x27;CC_NAME_CONTRACT_STATUS_nan_MEAN&#x27;, &#x27;CC_NAME_CONTRACT_STATUS_nan_SUM&#x27;, &#x27;CC_NAME_CONTRACT_STATUS_nan_VAR&#x27;, &#x27;CC_COUNT&#x27;]</pre></div></div></div><div class=\"sk-serial\"><div class=\"sk-item\"><div class=\"sk-estimator sk-toggleable\"><input class=\"sk-toggleable__control sk-hidden--visually\" id=\"sk-estimator-id-4\" type=\"checkbox\" ><label for=\"sk-estimator-id-4\" class=\"sk-toggleable__label sk-toggleable__label-arrow\">SimpleImputer</label><div class=\"sk-toggleable__content\"><pre>SimpleImputer(strategy=&#x27;median&#x27;)</pre></div></div></div></div></div></div><div class=\"sk-parallel-item\"><div class=\"sk-item\"><div class=\"sk-label-container\"><div class=\"sk-label sk-toggleable\"><input class=\"sk-toggleable__control sk-hidden--visually\" id=\"sk-estimator-id-5\" type=\"checkbox\" ><label for=\"sk-estimator-id-5\" class=\"sk-toggleable__label sk-toggleable__label-arrow\">simpleimputer-2</label><div class=\"sk-toggleable__content\"><pre>[&#x27;CC_NAME_CONTRACT_STATUS_Active_MIN&#x27;, &#x27;CC_NAME_CONTRACT_STATUS_Active_MAX&#x27;, &#x27;CC_NAME_CONTRACT_STATUS_Approved_MIN&#x27;, &#x27;CC_NAME_CONTRACT_STATUS_Approved_MAX&#x27;, &#x27;CC_NAME_CONTRACT_STATUS_Completed_MIN&#x27;, &#x27;CC_NAME_CONTRACT_STATUS_Completed_MAX&#x27;, &#x27;CC_NAME_CONTRACT_STATUS_Demand_MIN&#x27;, &#x27;CC_NAME_CONTRACT_STATUS_Demand_MAX&#x27;, &#x27;CC_NAME_CONTRACT_STATUS_Refused_MIN&#x27;, &#x27;CC_NAME_CONTRACT_STATUS_Refused_MAX&#x27;, &#x27;CC_NAME_CONTRACT_STATUS_Sent proposal_MIN&#x27;, &#x27;CC_NAME_CONTRACT_STATUS_Sent proposal_MAX&#x27;, &#x27;CC_NAME_CONTRACT_STATUS_Signed_MIN&#x27;, &#x27;CC_NAME_CONTRACT_STATUS_Signed_MAX&#x27;, &#x27;CC_NAME_CONTRACT_STATUS_nan_MIN&#x27;, &#x27;CC_NAME_CONTRACT_STATUS_nan_MAX&#x27;]</pre></div></div></div><div class=\"sk-serial\"><div class=\"sk-item\"><div class=\"sk-estimator sk-toggleable\"><input class=\"sk-toggleable__control sk-hidden--visually\" id=\"sk-estimator-id-6\" type=\"checkbox\" ><label for=\"sk-estimator-id-6\" class=\"sk-toggleable__label sk-toggleable__label-arrow\">SimpleImputer</label><div class=\"sk-toggleable__content\"><pre>SimpleImputer(strategy=&#x27;most_frequent&#x27;)</pre></div></div></div></div></div></div></div></div><div class=\"sk-item\"><div class=\"sk-estimator sk-toggleable\"><input class=\"sk-toggleable__control sk-hidden--visually\" id=\"sk-estimator-id-7\" type=\"checkbox\" ><label for=\"sk-estimator-id-7\" class=\"sk-toggleable__label sk-toggleable__label-arrow\">StandardScaler</label><div class=\"sk-toggleable__content\"><pre>StandardScaler()</pre></div></div></div><div class=\"sk-item\"><div class=\"sk-estimator sk-toggleable\"><input class=\"sk-toggleable__control sk-hidden--visually\" id=\"sk-estimator-id-8\" type=\"checkbox\" ><label for=\"sk-estimator-id-8\" class=\"sk-toggleable__label sk-toggleable__label-arrow\">TargetEncoder</label><div class=\"sk-toggleable__content\"><pre>TargetEncoder()</pre></div></div></div><div class=\"sk-item\"><div class=\"sk-estimator sk-toggleable\"><input class=\"sk-toggleable__control sk-hidden--visually\" id=\"sk-estimator-id-9\" type=\"checkbox\" ><label for=\"sk-estimator-id-9\" class=\"sk-toggleable__label sk-toggleable__label-arrow\">SelectKBest</label><div class=\"sk-toggleable__content\"><pre>SelectKBest(k=200)</pre></div></div></div><div class=\"sk-item\"><div class=\"sk-estimator sk-toggleable\"><input class=\"sk-toggleable__control sk-hidden--visually\" id=\"sk-estimator-id-10\" type=\"checkbox\" ><label for=\"sk-estimator-id-10\" class=\"sk-toggleable__label sk-toggleable__label-arrow\">RandomUnderSampler</label><div class=\"sk-toggleable__content\"><pre>RandomUnderSampler()</pre></div></div></div><div class=\"sk-item\"><div class=\"sk-estimator sk-toggleable\"><input class=\"sk-toggleable__control sk-hidden--visually\" id=\"sk-estimator-id-11\" type=\"checkbox\" ><label for=\"sk-estimator-id-11\" class=\"sk-toggleable__label sk-toggleable__label-arrow\">LGBMClassifier</label><div class=\"sk-toggleable__content\"><pre>LGBMClassifier(colsample_bytree=0.3, learning_rate=0.04, max_depth=8,\n",
       "               min_child_samples=3, n_estimators=200, num_leaves=3)</pre></div></div></div></div></div></div></div>"
      ],
      "text/plain": [
       "Pipeline(steps=[('imputer',\n",
       "                 ColumnTransformer(transformers=[('simpleimputer-1',\n",
       "                                                  SimpleImputer(strategy='median'),\n",
       "                                                  ['CODE_GENDER',\n",
       "                                                   'FLAG_OWN_CAR',\n",
       "                                                   'FLAG_OWN_REALTY',\n",
       "                                                   'CNT_CHILDREN',\n",
       "                                                   'AMT_INCOME_TOTAL',\n",
       "                                                   'AMT_CREDIT', 'AMT_ANNUITY',\n",
       "                                                   'AMT_GOODS_PRICE',\n",
       "                                                   'REGION_POPULATION_RELATIVE',\n",
       "                                                   'DAYS_BIRTH',\n",
       "                                                   'DAYS_EMPLOYED',\n",
       "                                                   'DAYS_REGISTRATION',\n",
       "                                                   'DAYS_ID_PUBLISH',\n",
       "                                                   'OWN_CAR_AGE', 'F...\n",
       "                                                   'CC_NAME_CONTRACT_STATUS_Signed_MAX',\n",
       "                                                   'CC_NAME_CONTRACT_STATUS_nan_MIN',\n",
       "                                                   'CC_NAME_CONTRACT_STATUS_nan_MAX'])])),\n",
       "                ('scaler', StandardScaler()),\n",
       "                ('category_encoding', TargetEncoder()),\n",
       "                ('reduce_dim', SelectKBest(k=200)),\n",
       "                ('sampler', RandomUnderSampler()),\n",
       "                ('classifier',\n",
       "                 LGBMClassifier(colsample_bytree=0.3, learning_rate=0.04,\n",
       "                                max_depth=8, min_child_samples=3,\n",
       "                                n_estimators=200, num_leaves=3))])"
      ]
     },
     "metadata": {},
     "output_type": "display_data"
    },
    {
     "name": "stderr",
     "output_type": "stream",
     "text": [
      "Hint: Inferred schema contains integer column(s). Integer columns in Python cannot represent missing values. If your input data contains missing values at inference time, it will be encoded as floats and will cause a schema enforcement error. The best way to avoid this problem is to infer the model schema based on a realistic data sample (training dataset) that includes missing values. Alternatively, you can declare integer columns as doubles (float64) whenever these columns may have missing values. See `Handling Integers With Missing Values <https://www.mlflow.org/docs/latest/models.html#handling-integers-with-missing-values>`_ for more details.\n",
      "DataFrame.applymap has been deprecated. Use DataFrame.map instead.\n",
      "Hint: Inferred schema contains integer column(s). Integer columns in Python cannot represent missing values. If your input data contains missing values at inference time, it will be encoded as floats and will cause a schema enforcement error. The best way to avoid this problem is to infer the model schema based on a realistic data sample (training dataset) that includes missing values. Alternatively, you can declare integer columns as doubles (float64) whenever these columns may have missing values. See `Handling Integers With Missing Values <https://www.mlflow.org/docs/latest/models.html#handling-integers-with-missing-values>`_ for more details.\n",
      "Setuptools is replacing distutils.\n"
     ]
    }
   ],
   "source": [
    "# each step if selected through successive gridsearched\n",
    "# options that are not optimal are commented out\n",
    "param_grid = [\n",
    "    {\n",
    "        # \"imputer\": [\n",
    "        #     # SimpleImputer(),\n",
    "        #     # IterativeImputer(),\n",
    "        #     # KNNImputer(),\n",
    "        # ],\n",
    "        \"scaler\": [\n",
    "            # RobustScaler(),\n",
    "            # MinMaxScaler(),\n",
    "            StandardScaler(),\n",
    "        ],\n",
    "        \"sampler\": [\n",
    "            RandomUnderSampler(),\n",
    "            # RandomOverSampler(),\n",
    "            # SMOTE(),\n",
    "        ],\n",
    "        \"reduce_dim\": [\n",
    "            # VarianceThreshold(),\n",
    "            # PCA(n_components=80),\n",
    "            SelectKBest(),\n",
    "        ],\n",
    "        \"reduce_dim__k\": [150, 200],\n",
    "        # \"reduce_dim__threshold\": [0.02],\n",
    "        \"classifier\": [\n",
    "            LGBMClassifier(),\n",
    "            # LogisticRegression(max_iter=500),\n",
    "            # RandomForestClassifier(),\n",
    "            # XGBClassifier(),\n",
    "        ],\n",
    "        # \"classifier__eta\": np.linspace(0, 1, 6),\n",
    "        \"classifier__max_depth\": [8],\n",
    "        # \"classifier__boosting_type\": [\"gbdt\"],\n",
    "        \"classifier__colsample_bytree\": [0.3],\n",
    "        \"classifier__learning_rate\": [0.04],\n",
    "        \"classifier__min_child_samples\": [3],\n",
    "        \"classifier__n_estimators\": [200],\n",
    "        \"classifier__num_leaves\": [3, 5],\n",
    "    },\n",
    "]\n",
    "grid = HalvingGridSearchCV(\n",
    "    pipe, param_grid=param_grid, cv=3, n_jobs=-1, verbose=0, scoring=\"roc_auc\"\n",
    ")\n",
    "# use frac to keep training time reasonable\n",
    "frac_idx = X_train.sample(frac=1).index\n",
    "grid.fit(\n",
    "    X_train.loc[frac_idx],\n",
    "    y_train.loc[frac_idx],\n",
    "    classifier__eval_metric=\"roc_auc\",\n",
    "    # classifier__early_stopping_round=20,\n",
    ")\n",
    "#\n",
    "# store results\n",
    "grid_results = pd.DataFrame(grid.cv_results_).sort_values(by=\"rank_test_score\")\n",
    "display(grid_results.T)\n",
    "# select and display best model\n",
    "model = grid.best_estimator_\n",
    "display(model)\n",
    "\n",
    "# Log best model in MLFlow\n",
    "with mlflow.start_run(nested=True):\n",
    "    # Log the hyperparameters\n",
    "    # mlflow.log_params(model.get_params())\n",
    "    mlflow.log_params(param_grid[0])\n",
    "    # use best model to make predictions on test\n",
    "    y_pred = grid.predict(X_test)\n",
    "    # Log the loss metric\n",
    "    mlflow.log_metric(\"roc_auc_train\", grid_results.iloc[0].mean_test_score)\n",
    "    mlflow.log_metric(\"roc_auc_test\", metrics.roc_auc_score(y_test, y_pred))\n",
    "    # mlflow.log_metric(\"custom_pnl\", pnl(y_pred, y_test))\n",
    "\n",
    "    # Infer the model signature\n",
    "    signature = infer_signature(X_train, model.predict(X_train))\n",
    "\n",
    "    # Log dataset\n",
    "    dataset = mlflow.data.from_pandas(X_train)\n",
    "    mlflow.log_input(dataset, context=\"train\")\n",
    "\n",
    "    # Log the model\n",
    "    model_info = mlflow.sklearn.log_model(\n",
    "        sk_model=model,\n",
    "        artifact_path=\"P7_model\",\n",
    "        signature=signature,\n",
    "    )\n",
    "\n",
    "    # Log results from other gridsearch candidates\n",
    "    for candidate in (\n",
    "        grid_results[[\"params\", \"mean_fit_time\", \"mean_test_score\"]].iloc[1:, :].values\n",
    "    ):\n",
    "        with mlflow.start_run(nested=True):\n",
    "            mlflow.log_input(dataset, context=\"train\")\n",
    "            mlflow.log_params(candidate[0])\n",
    "            mlflow.set_tag(\"duration\", candidate[1])\n",
    "            mlflow.log_metric(\"roc_auc_train\", candidate[2])\n",
    "mlflow.end_run()"
   ]
  },
  {
   "cell_type": "code",
   "execution_count": 16,
   "metadata": {
    "execution": {
     "iopub.execute_input": "2024-03-08T07:47:38.044010Z",
     "iopub.status.busy": "2024-03-08T07:47:38.043891Z",
     "iopub.status.idle": "2024-03-08T07:47:38.048024Z",
     "shell.execute_reply": "2024-03-08T07:47:38.047789Z",
     "shell.execute_reply.started": "2024-03-08T07:47:38.044002Z"
    }
   },
   "outputs": [
    {
     "data": {
      "text/plain": [
       "0.6553621011341599"
      ]
     },
     "execution_count": 16,
     "metadata": {},
     "output_type": "execute_result"
    }
   ],
   "source": [
    "metrics.roc_auc_score(y_test, y_pred)"
   ]
  },
  {
   "cell_type": "code",
   "execution_count": 23,
   "metadata": {
    "execution": {
     "iopub.execute_input": "2024-03-07T22:58:30.428514Z",
     "iopub.status.busy": "2024-03-07T22:58:30.428393Z",
     "iopub.status.idle": "2024-03-07T22:58:58.544606Z",
     "shell.execute_reply": "2024-03-07T22:58:58.544047Z",
     "shell.execute_reply.started": "2024-03-07T22:58:30.428507Z"
    }
   },
   "outputs": [
    {
     "data": {
      "text/plain": [
       "0.4557525401126339"
      ]
     },
     "execution_count": 23,
     "metadata": {},
     "output_type": "execute_result"
    }
   ],
   "source": [
    "metrics.roc_auc_score(y_train, model.predict(X_train))"
   ]
  },
  {
   "cell_type": "code",
   "execution_count": null,
   "metadata": {
    "execution": {
     "iopub.status.busy": "2024-03-07T22:31:58.306945Z",
     "iopub.status.idle": "2024-03-07T22:31:58.307053Z",
     "shell.execute_reply": "2024-03-07T22:31:58.307008Z",
     "shell.execute_reply.started": "2024-03-07T22:31:58.307004Z"
    }
   },
   "outputs": [],
   "source": [
    "pnl(y_test, y_pred, normalize=False)"
   ]
  },
  {
   "cell_type": "markdown",
   "metadata": {},
   "source": [
    "# Proba predict treshold"
   ]
  },
  {
   "cell_type": "code",
   "execution_count": null,
   "metadata": {
    "execution": {
     "iopub.status.busy": "2024-03-07T19:57:16.520548Z",
     "iopub.status.idle": "2024-03-07T19:57:16.520617Z",
     "shell.execute_reply": "2024-03-07T19:57:16.520586Z",
     "shell.execute_reply.started": "2024-03-07T19:57:16.520583Z"
    }
   },
   "outputs": [],
   "source": [
    "# faire varier seuil et afficher graphiquement resultats"
   ]
  },
  {
   "cell_type": "code",
   "execution_count": 19,
   "metadata": {
    "execution": {
     "iopub.execute_input": "2024-03-08T07:48:33.329941Z",
     "iopub.status.busy": "2024-03-08T07:48:33.329812Z",
     "iopub.status.idle": "2024-03-08T07:48:33.346799Z",
     "shell.execute_reply": "2024-03-08T07:48:33.346335Z",
     "shell.execute_reply.started": "2024-03-08T07:48:33.329930Z"
    }
   },
   "outputs": [
    {
     "data": {
      "text/html": [
       "<style>#sk-container-id-2 {color: black;}#sk-container-id-2 pre{padding: 0;}#sk-container-id-2 div.sk-toggleable {background-color: white;}#sk-container-id-2 label.sk-toggleable__label {cursor: pointer;display: block;width: 100%;margin-bottom: 0;padding: 0.3em;box-sizing: border-box;text-align: center;}#sk-container-id-2 label.sk-toggleable__label-arrow:before {content: \"▸\";float: left;margin-right: 0.25em;color: #696969;}#sk-container-id-2 label.sk-toggleable__label-arrow:hover:before {color: black;}#sk-container-id-2 div.sk-estimator:hover label.sk-toggleable__label-arrow:before {color: black;}#sk-container-id-2 div.sk-toggleable__content {max-height: 0;max-width: 0;overflow: hidden;text-align: left;background-color: #f0f8ff;}#sk-container-id-2 div.sk-toggleable__content pre {margin: 0.2em;color: black;border-radius: 0.25em;background-color: #f0f8ff;}#sk-container-id-2 input.sk-toggleable__control:checked~div.sk-toggleable__content {max-height: 200px;max-width: 100%;overflow: auto;}#sk-container-id-2 input.sk-toggleable__control:checked~label.sk-toggleable__label-arrow:before {content: \"▾\";}#sk-container-id-2 div.sk-estimator input.sk-toggleable__control:checked~label.sk-toggleable__label {background-color: #d4ebff;}#sk-container-id-2 div.sk-label input.sk-toggleable__control:checked~label.sk-toggleable__label {background-color: #d4ebff;}#sk-container-id-2 input.sk-hidden--visually {border: 0;clip: rect(1px 1px 1px 1px);clip: rect(1px, 1px, 1px, 1px);height: 1px;margin: -1px;overflow: hidden;padding: 0;position: absolute;width: 1px;}#sk-container-id-2 div.sk-estimator {font-family: monospace;background-color: #f0f8ff;border: 1px dotted black;border-radius: 0.25em;box-sizing: border-box;margin-bottom: 0.5em;}#sk-container-id-2 div.sk-estimator:hover {background-color: #d4ebff;}#sk-container-id-2 div.sk-parallel-item::after {content: \"\";width: 100%;border-bottom: 1px solid gray;flex-grow: 1;}#sk-container-id-2 div.sk-label:hover label.sk-toggleable__label {background-color: #d4ebff;}#sk-container-id-2 div.sk-serial::before {content: \"\";position: absolute;border-left: 1px solid gray;box-sizing: border-box;top: 0;bottom: 0;left: 50%;z-index: 0;}#sk-container-id-2 div.sk-serial {display: flex;flex-direction: column;align-items: center;background-color: white;padding-right: 0.2em;padding-left: 0.2em;position: relative;}#sk-container-id-2 div.sk-item {position: relative;z-index: 1;}#sk-container-id-2 div.sk-parallel {display: flex;align-items: stretch;justify-content: center;background-color: white;position: relative;}#sk-container-id-2 div.sk-item::before, #sk-container-id-2 div.sk-parallel-item::before {content: \"\";position: absolute;border-left: 1px solid gray;box-sizing: border-box;top: 0;bottom: 0;left: 50%;z-index: -1;}#sk-container-id-2 div.sk-parallel-item {display: flex;flex-direction: column;z-index: 1;position: relative;background-color: white;}#sk-container-id-2 div.sk-parallel-item:first-child::after {align-self: flex-end;width: 50%;}#sk-container-id-2 div.sk-parallel-item:last-child::after {align-self: flex-start;width: 50%;}#sk-container-id-2 div.sk-parallel-item:only-child::after {width: 0;}#sk-container-id-2 div.sk-dashed-wrapped {border: 1px dashed gray;margin: 0 0.4em 0.5em 0.4em;box-sizing: border-box;padding-bottom: 0.4em;background-color: white;}#sk-container-id-2 div.sk-label label {font-family: monospace;font-weight: bold;display: inline-block;line-height: 1.2em;}#sk-container-id-2 div.sk-label-container {text-align: center;}#sk-container-id-2 div.sk-container {/* jupyter's `normalize.less` sets `[hidden] { display: none; }` but bootstrap.min.css set `[hidden] { display: none !important; }` so we also need the `!important` here to be able to override the default hidden behavior on the sphinx rendered scikit-learn.org. See: https://github.com/scikit-learn/scikit-learn/issues/21755 */display: inline-block !important;position: relative;}#sk-container-id-2 div.sk-text-repr-fallback {display: none;}</style><div id=\"sk-container-id-2\" class=\"sk-top-container\"><div class=\"sk-text-repr-fallback\"><pre>Pipeline(steps=[(&#x27;imputer&#x27;,\n",
       "                 ColumnTransformer(transformers=[(&#x27;simpleimputer-1&#x27;,\n",
       "                                                  SimpleImputer(strategy=&#x27;median&#x27;),\n",
       "                                                  [&#x27;CODE_GENDER&#x27;,\n",
       "                                                   &#x27;FLAG_OWN_CAR&#x27;,\n",
       "                                                   &#x27;FLAG_OWN_REALTY&#x27;,\n",
       "                                                   &#x27;CNT_CHILDREN&#x27;,\n",
       "                                                   &#x27;AMT_INCOME_TOTAL&#x27;,\n",
       "                                                   &#x27;AMT_CREDIT&#x27;, &#x27;AMT_ANNUITY&#x27;,\n",
       "                                                   &#x27;AMT_GOODS_PRICE&#x27;,\n",
       "                                                   &#x27;REGION_POPULATION_RELATIVE&#x27;,\n",
       "                                                   &#x27;DAYS_BIRTH&#x27;,\n",
       "                                                   &#x27;DAYS_EMPLOYED&#x27;,\n",
       "                                                   &#x27;DAYS_REGISTRATION&#x27;,\n",
       "                                                   &#x27;DAYS_ID_PUBLISH&#x27;,\n",
       "                                                   &#x27;OWN_CAR_AGE&#x27;, &#x27;F...\n",
       "                                                   &#x27;CC_NAME_CONTRACT_STATUS_Signed_MAX&#x27;,\n",
       "                                                   &#x27;CC_NAME_CONTRACT_STATUS_nan_MIN&#x27;,\n",
       "                                                   &#x27;CC_NAME_CONTRACT_STATUS_nan_MAX&#x27;])])),\n",
       "                (&#x27;scaler&#x27;, StandardScaler()),\n",
       "                (&#x27;category_encoding&#x27;, TargetEncoder()),\n",
       "                (&#x27;reduce_dim&#x27;, SelectKBest(k=200)),\n",
       "                (&#x27;sampler&#x27;, RandomUnderSampler()),\n",
       "                (&#x27;classifier&#x27;,\n",
       "                 LGBMClassifier(colsample_bytree=0.3, learning_rate=0.04,\n",
       "                                max_depth=8, min_child_samples=3,\n",
       "                                n_estimators=200, num_leaves=3))])</pre><b>In a Jupyter environment, please rerun this cell to show the HTML representation or trust the notebook. <br />On GitHub, the HTML representation is unable to render, please try loading this page with nbviewer.org.</b></div><div class=\"sk-container\" hidden><div class=\"sk-item sk-dashed-wrapped\"><div class=\"sk-label-container\"><div class=\"sk-label sk-toggleable\"><input class=\"sk-toggleable__control sk-hidden--visually\" id=\"sk-estimator-id-12\" type=\"checkbox\" ><label for=\"sk-estimator-id-12\" class=\"sk-toggleable__label sk-toggleable__label-arrow\">Pipeline</label><div class=\"sk-toggleable__content\"><pre>Pipeline(steps=[(&#x27;imputer&#x27;,\n",
       "                 ColumnTransformer(transformers=[(&#x27;simpleimputer-1&#x27;,\n",
       "                                                  SimpleImputer(strategy=&#x27;median&#x27;),\n",
       "                                                  [&#x27;CODE_GENDER&#x27;,\n",
       "                                                   &#x27;FLAG_OWN_CAR&#x27;,\n",
       "                                                   &#x27;FLAG_OWN_REALTY&#x27;,\n",
       "                                                   &#x27;CNT_CHILDREN&#x27;,\n",
       "                                                   &#x27;AMT_INCOME_TOTAL&#x27;,\n",
       "                                                   &#x27;AMT_CREDIT&#x27;, &#x27;AMT_ANNUITY&#x27;,\n",
       "                                                   &#x27;AMT_GOODS_PRICE&#x27;,\n",
       "                                                   &#x27;REGION_POPULATION_RELATIVE&#x27;,\n",
       "                                                   &#x27;DAYS_BIRTH&#x27;,\n",
       "                                                   &#x27;DAYS_EMPLOYED&#x27;,\n",
       "                                                   &#x27;DAYS_REGISTRATION&#x27;,\n",
       "                                                   &#x27;DAYS_ID_PUBLISH&#x27;,\n",
       "                                                   &#x27;OWN_CAR_AGE&#x27;, &#x27;F...\n",
       "                                                   &#x27;CC_NAME_CONTRACT_STATUS_Signed_MAX&#x27;,\n",
       "                                                   &#x27;CC_NAME_CONTRACT_STATUS_nan_MIN&#x27;,\n",
       "                                                   &#x27;CC_NAME_CONTRACT_STATUS_nan_MAX&#x27;])])),\n",
       "                (&#x27;scaler&#x27;, StandardScaler()),\n",
       "                (&#x27;category_encoding&#x27;, TargetEncoder()),\n",
       "                (&#x27;reduce_dim&#x27;, SelectKBest(k=200)),\n",
       "                (&#x27;sampler&#x27;, RandomUnderSampler()),\n",
       "                (&#x27;classifier&#x27;,\n",
       "                 LGBMClassifier(colsample_bytree=0.3, learning_rate=0.04,\n",
       "                                max_depth=8, min_child_samples=3,\n",
       "                                n_estimators=200, num_leaves=3))])</pre></div></div></div><div class=\"sk-serial\"><div class=\"sk-item sk-dashed-wrapped\"><div class=\"sk-label-container\"><div class=\"sk-label sk-toggleable\"><input class=\"sk-toggleable__control sk-hidden--visually\" id=\"sk-estimator-id-13\" type=\"checkbox\" ><label for=\"sk-estimator-id-13\" class=\"sk-toggleable__label sk-toggleable__label-arrow\">imputer: ColumnTransformer</label><div class=\"sk-toggleable__content\"><pre>ColumnTransformer(transformers=[(&#x27;simpleimputer-1&#x27;,\n",
       "                                 SimpleImputer(strategy=&#x27;median&#x27;),\n",
       "                                 [&#x27;CODE_GENDER&#x27;, &#x27;FLAG_OWN_CAR&#x27;,\n",
       "                                  &#x27;FLAG_OWN_REALTY&#x27;, &#x27;CNT_CHILDREN&#x27;,\n",
       "                                  &#x27;AMT_INCOME_TOTAL&#x27;, &#x27;AMT_CREDIT&#x27;,\n",
       "                                  &#x27;AMT_ANNUITY&#x27;, &#x27;AMT_GOODS_PRICE&#x27;,\n",
       "                                  &#x27;REGION_POPULATION_RELATIVE&#x27;, &#x27;DAYS_BIRTH&#x27;,\n",
       "                                  &#x27;DAYS_EMPLOYED&#x27;, &#x27;DAYS_REGISTRATION&#x27;,\n",
       "                                  &#x27;DAYS_ID_PUBLISH&#x27;, &#x27;OWN_CAR_AGE&#x27;,\n",
       "                                  &#x27;FLAG_MOBIL&#x27;, &#x27;FLAG_EMP_PHONE&#x27;...\n",
       "                                  &#x27;CC_NAME_CONTRACT_STATUS_Demand_MIN&#x27;,\n",
       "                                  &#x27;CC_NAME_CONTRACT_STATUS_Demand_MAX&#x27;,\n",
       "                                  &#x27;CC_NAME_CONTRACT_STATUS_Refused_MIN&#x27;,\n",
       "                                  &#x27;CC_NAME_CONTRACT_STATUS_Refused_MAX&#x27;,\n",
       "                                  &#x27;CC_NAME_CONTRACT_STATUS_Sent proposal_MIN&#x27;,\n",
       "                                  &#x27;CC_NAME_CONTRACT_STATUS_Sent proposal_MAX&#x27;,\n",
       "                                  &#x27;CC_NAME_CONTRACT_STATUS_Signed_MIN&#x27;,\n",
       "                                  &#x27;CC_NAME_CONTRACT_STATUS_Signed_MAX&#x27;,\n",
       "                                  &#x27;CC_NAME_CONTRACT_STATUS_nan_MIN&#x27;,\n",
       "                                  &#x27;CC_NAME_CONTRACT_STATUS_nan_MAX&#x27;])])</pre></div></div></div><div class=\"sk-parallel\"><div class=\"sk-parallel-item\"><div class=\"sk-item\"><div class=\"sk-label-container\"><div class=\"sk-label sk-toggleable\"><input class=\"sk-toggleable__control sk-hidden--visually\" id=\"sk-estimator-id-14\" type=\"checkbox\" ><label for=\"sk-estimator-id-14\" class=\"sk-toggleable__label sk-toggleable__label-arrow\">simpleimputer-1</label><div class=\"sk-toggleable__content\"><pre>[&#x27;CODE_GENDER&#x27;, &#x27;FLAG_OWN_CAR&#x27;, &#x27;FLAG_OWN_REALTY&#x27;, &#x27;CNT_CHILDREN&#x27;, &#x27;AMT_INCOME_TOTAL&#x27;, &#x27;AMT_CREDIT&#x27;, &#x27;AMT_ANNUITY&#x27;, &#x27;AMT_GOODS_PRICE&#x27;, &#x27;REGION_POPULATION_RELATIVE&#x27;, &#x27;DAYS_BIRTH&#x27;, &#x27;DAYS_EMPLOYED&#x27;, &#x27;DAYS_REGISTRATION&#x27;, &#x27;DAYS_ID_PUBLISH&#x27;, &#x27;OWN_CAR_AGE&#x27;, &#x27;FLAG_MOBIL&#x27;, &#x27;FLAG_EMP_PHONE&#x27;, &#x27;FLAG_WORK_PHONE&#x27;, &#x27;FLAG_CONT_MOBILE&#x27;, &#x27;FLAG_PHONE&#x27;, &#x27;FLAG_EMAIL&#x27;, &#x27;CNT_FAM_MEMBERS&#x27;, &#x27;REGION_RATING_CLIENT&#x27;, &#x27;REGION_RATING_CLIENT_W_CITY&#x27;, &#x27;HOUR_APPR_PROCESS_START&#x27;, &#x27;REG_REGION_NOT_LIVE_REGION&#x27;, &#x27;REG_REGION_NOT_WORK_REGION&#x27;, &#x27;LIVE_REGION_NOT_WORK_REGION&#x27;, &#x27;REG_CITY_NOT_LIVE_CITY&#x27;, &#x27;REG_CITY_NOT_WORK_CITY&#x27;, &#x27;LIVE_CITY_NOT_WORK_CITY&#x27;, &#x27;EXT_SOURCE_1&#x27;, &#x27;EXT_SOURCE_2&#x27;, &#x27;EXT_SOURCE_3&#x27;, &#x27;APARTMENTS_AVG&#x27;, &#x27;BASEMENTAREA_AVG&#x27;, &#x27;YEARS_BEGINEXPLUATATION_AVG&#x27;, &#x27;YEARS_BUILD_AVG&#x27;, &#x27;COMMONAREA_AVG&#x27;, &#x27;ELEVATORS_AVG&#x27;, &#x27;ENTRANCES_AVG&#x27;, &#x27;FLOORSMAX_AVG&#x27;, &#x27;FLOORSMIN_AVG&#x27;, &#x27;LANDAREA_AVG&#x27;, &#x27;LIVINGAPARTMENTS_AVG&#x27;, &#x27;LIVINGAREA_AVG&#x27;, &#x27;NONLIVINGAPARTMENTS_AVG&#x27;, &#x27;NONLIVINGAREA_AVG&#x27;, &#x27;APARTMENTS_MODE&#x27;, &#x27;BASEMENTAREA_MODE&#x27;, &#x27;YEARS_BEGINEXPLUATATION_MODE&#x27;, &#x27;YEARS_BUILD_MODE&#x27;, &#x27;COMMONAREA_MODE&#x27;, &#x27;ELEVATORS_MODE&#x27;, &#x27;ENTRANCES_MODE&#x27;, &#x27;FLOORSMAX_MODE&#x27;, &#x27;FLOORSMIN_MODE&#x27;, &#x27;LANDAREA_MODE&#x27;, &#x27;LIVINGAPARTMENTS_MODE&#x27;, &#x27;LIVINGAREA_MODE&#x27;, &#x27;NONLIVINGAPARTMENTS_MODE&#x27;, &#x27;NONLIVINGAREA_MODE&#x27;, &#x27;APARTMENTS_MEDI&#x27;, &#x27;BASEMENTAREA_MEDI&#x27;, &#x27;YEARS_BEGINEXPLUATATION_MEDI&#x27;, &#x27;YEARS_BUILD_MEDI&#x27;, &#x27;COMMONAREA_MEDI&#x27;, &#x27;ELEVATORS_MEDI&#x27;, &#x27;ENTRANCES_MEDI&#x27;, &#x27;FLOORSMAX_MEDI&#x27;, &#x27;FLOORSMIN_MEDI&#x27;, &#x27;LANDAREA_MEDI&#x27;, &#x27;LIVINGAPARTMENTS_MEDI&#x27;, &#x27;LIVINGAREA_MEDI&#x27;, &#x27;NONLIVINGAPARTMENTS_MEDI&#x27;, &#x27;NONLIVINGAREA_MEDI&#x27;, &#x27;TOTALAREA_MODE&#x27;, &#x27;OBS_30_CNT_SOCIAL_CIRCLE&#x27;, &#x27;DEF_30_CNT_SOCIAL_CIRCLE&#x27;, &#x27;OBS_60_CNT_SOCIAL_CIRCLE&#x27;, &#x27;DEF_60_CNT_SOCIAL_CIRCLE&#x27;, &#x27;DAYS_LAST_PHONE_CHANGE&#x27;, &#x27;FLAG_DOCUMENT_2&#x27;, &#x27;FLAG_DOCUMENT_3&#x27;, &#x27;FLAG_DOCUMENT_4&#x27;, &#x27;FLAG_DOCUMENT_5&#x27;, &#x27;FLAG_DOCUMENT_6&#x27;, &#x27;FLAG_DOCUMENT_7&#x27;, &#x27;FLAG_DOCUMENT_8&#x27;, &#x27;FLAG_DOCUMENT_9&#x27;, &#x27;FLAG_DOCUMENT_10&#x27;, &#x27;FLAG_DOCUMENT_11&#x27;, &#x27;FLAG_DOCUMENT_12&#x27;, &#x27;FLAG_DOCUMENT_13&#x27;, &#x27;FLAG_DOCUMENT_14&#x27;, &#x27;FLAG_DOCUMENT_15&#x27;, &#x27;FLAG_DOCUMENT_16&#x27;, &#x27;FLAG_DOCUMENT_17&#x27;, &#x27;FLAG_DOCUMENT_18&#x27;, &#x27;FLAG_DOCUMENT_19&#x27;, &#x27;FLAG_DOCUMENT_20&#x27;, &#x27;FLAG_DOCUMENT_21&#x27;, &#x27;AMT_REQ_CREDIT_BUREAU_HOUR&#x27;, &#x27;AMT_REQ_CREDIT_BUREAU_DAY&#x27;, &#x27;AMT_REQ_CREDIT_BUREAU_WEEK&#x27;, &#x27;AMT_REQ_CREDIT_BUREAU_MON&#x27;, &#x27;AMT_REQ_CREDIT_BUREAU_QRT&#x27;, &#x27;AMT_REQ_CREDIT_BUREAU_YEAR&#x27;, &#x27;NAME_CONTRACT_TYPE_Cash loans&#x27;, &#x27;NAME_CONTRACT_TYPE_Revolving loans&#x27;, &#x27;NAME_TYPE_SUITE_Children&#x27;, &#x27;NAME_TYPE_SUITE_Family&#x27;, &#x27;NAME_TYPE_SUITE_Group of people&#x27;, &#x27;NAME_TYPE_SUITE_Other_A&#x27;, &#x27;NAME_TYPE_SUITE_Other_B&#x27;, &#x27;NAME_TYPE_SUITE_Spouse, partner&#x27;, &#x27;NAME_TYPE_SUITE_Unaccompanied&#x27;, &#x27;NAME_INCOME_TYPE_Businessman&#x27;, &#x27;NAME_INCOME_TYPE_Commercial associate&#x27;, &#x27;NAME_INCOME_TYPE_Maternity leave&#x27;, &#x27;NAME_INCOME_TYPE_Pensioner&#x27;, &#x27;NAME_INCOME_TYPE_State servant&#x27;, &#x27;NAME_INCOME_TYPE_Student&#x27;, &#x27;NAME_INCOME_TYPE_Unemployed&#x27;, &#x27;NAME_INCOME_TYPE_Working&#x27;, &#x27;NAME_EDUCATION_TYPE_Academic degree&#x27;, &#x27;NAME_EDUCATION_TYPE_Higher education&#x27;, &#x27;NAME_EDUCATION_TYPE_Incomplete higher&#x27;, &#x27;NAME_EDUCATION_TYPE_Lower secondary&#x27;, &#x27;NAME_EDUCATION_TYPE_Secondary / secondary special&#x27;, &#x27;NAME_FAMILY_STATUS_Civil marriage&#x27;, &#x27;NAME_FAMILY_STATUS_Married&#x27;, &#x27;NAME_FAMILY_STATUS_Separated&#x27;, &#x27;NAME_FAMILY_STATUS_Single / not married&#x27;, &#x27;NAME_FAMILY_STATUS_Unknown&#x27;, &#x27;NAME_FAMILY_STATUS_Widow&#x27;, &#x27;NAME_HOUSING_TYPE_Co-op apartment&#x27;, &#x27;NAME_HOUSING_TYPE_House / apartment&#x27;, &#x27;NAME_HOUSING_TYPE_Municipal apartment&#x27;, &#x27;NAME_HOUSING_TYPE_Office apartment&#x27;, &#x27;NAME_HOUSING_TYPE_Rented apartment&#x27;, &#x27;NAME_HOUSING_TYPE_With parents&#x27;, &#x27;OCCUPATION_TYPE_Accountants&#x27;, &#x27;OCCUPATION_TYPE_Cleaning staff&#x27;, &#x27;OCCUPATION_TYPE_Cooking staff&#x27;, &#x27;OCCUPATION_TYPE_Core staff&#x27;, &#x27;OCCUPATION_TYPE_Drivers&#x27;, &#x27;OCCUPATION_TYPE_HR staff&#x27;, &#x27;OCCUPATION_TYPE_High skill tech staff&#x27;, &#x27;OCCUPATION_TYPE_IT staff&#x27;, &#x27;OCCUPATION_TYPE_Laborers&#x27;, &#x27;OCCUPATION_TYPE_Low-skill Laborers&#x27;, &#x27;OCCUPATION_TYPE_Managers&#x27;, &#x27;OCCUPATION_TYPE_Medicine staff&#x27;, &#x27;OCCUPATION_TYPE_Private service staff&#x27;, &#x27;OCCUPATION_TYPE_Realty agents&#x27;, &#x27;OCCUPATION_TYPE_Sales staff&#x27;, &#x27;OCCUPATION_TYPE_Secretaries&#x27;, &#x27;OCCUPATION_TYPE_Security staff&#x27;, &#x27;OCCUPATION_TYPE_Waiters/barmen staff&#x27;, &#x27;WEEKDAY_APPR_PROCESS_START_FRIDAY&#x27;, &#x27;WEEKDAY_APPR_PROCESS_START_MONDAY&#x27;, &#x27;WEEKDAY_APPR_PROCESS_START_SATURDAY&#x27;, &#x27;WEEKDAY_APPR_PROCESS_START_SUNDAY&#x27;, &#x27;WEEKDAY_APPR_PROCESS_START_THURSDAY&#x27;, &#x27;WEEKDAY_APPR_PROCESS_START_TUESDAY&#x27;, &#x27;WEEKDAY_APPR_PROCESS_START_WEDNESDAY&#x27;, &#x27;ORGANIZATION_TYPE_Advertising&#x27;, &#x27;ORGANIZATION_TYPE_Agriculture&#x27;, &#x27;ORGANIZATION_TYPE_Bank&#x27;, &#x27;ORGANIZATION_TYPE_Business Entity Type 1&#x27;, &#x27;ORGANIZATION_TYPE_Business Entity Type 2&#x27;, &#x27;ORGANIZATION_TYPE_Business Entity Type 3&#x27;, &#x27;ORGANIZATION_TYPE_Cleaning&#x27;, &#x27;ORGANIZATION_TYPE_Construction&#x27;, &#x27;ORGANIZATION_TYPE_Culture&#x27;, &#x27;ORGANIZATION_TYPE_Electricity&#x27;, &#x27;ORGANIZATION_TYPE_Emergency&#x27;, &#x27;ORGANIZATION_TYPE_Government&#x27;, &#x27;ORGANIZATION_TYPE_Hotel&#x27;, &#x27;ORGANIZATION_TYPE_Housing&#x27;, &#x27;ORGANIZATION_TYPE_Industry: type 1&#x27;, &#x27;ORGANIZATION_TYPE_Industry: type 10&#x27;, &#x27;ORGANIZATION_TYPE_Industry: type 11&#x27;, &#x27;ORGANIZATION_TYPE_Industry: type 12&#x27;, &#x27;ORGANIZATION_TYPE_Industry: type 13&#x27;, &#x27;ORGANIZATION_TYPE_Industry: type 2&#x27;, &#x27;ORGANIZATION_TYPE_Industry: type 3&#x27;, &#x27;ORGANIZATION_TYPE_Industry: type 4&#x27;, &#x27;ORGANIZATION_TYPE_Industry: type 5&#x27;, &#x27;ORGANIZATION_TYPE_Industry: type 6&#x27;, &#x27;ORGANIZATION_TYPE_Industry: type 7&#x27;, &#x27;ORGANIZATION_TYPE_Industry: type 8&#x27;, &#x27;ORGANIZATION_TYPE_Industry: type 9&#x27;, &#x27;ORGANIZATION_TYPE_Insurance&#x27;, &#x27;ORGANIZATION_TYPE_Kindergarten&#x27;, &#x27;ORGANIZATION_TYPE_Legal Services&#x27;, &#x27;ORGANIZATION_TYPE_Medicine&#x27;, &#x27;ORGANIZATION_TYPE_Military&#x27;, &#x27;ORGANIZATION_TYPE_Mobile&#x27;, &#x27;ORGANIZATION_TYPE_Other&#x27;, &#x27;ORGANIZATION_TYPE_Police&#x27;, &#x27;ORGANIZATION_TYPE_Postal&#x27;, &#x27;ORGANIZATION_TYPE_Realtor&#x27;, &#x27;ORGANIZATION_TYPE_Religion&#x27;, &#x27;ORGANIZATION_TYPE_Restaurant&#x27;, &#x27;ORGANIZATION_TYPE_School&#x27;, &#x27;ORGANIZATION_TYPE_Security&#x27;, &#x27;ORGANIZATION_TYPE_Security Ministries&#x27;, &#x27;ORGANIZATION_TYPE_Self-employed&#x27;, &#x27;ORGANIZATION_TYPE_Services&#x27;, &#x27;ORGANIZATION_TYPE_Telecom&#x27;, &#x27;ORGANIZATION_TYPE_Trade: type 1&#x27;, &#x27;ORGANIZATION_TYPE_Trade: type 2&#x27;, &#x27;ORGANIZATION_TYPE_Trade: type 3&#x27;, &#x27;ORGANIZATION_TYPE_Trade: type 4&#x27;, &#x27;ORGANIZATION_TYPE_Trade: type 5&#x27;, &#x27;ORGANIZATION_TYPE_Trade: type 6&#x27;, &#x27;ORGANIZATION_TYPE_Trade: type 7&#x27;, &#x27;ORGANIZATION_TYPE_Transport: type 1&#x27;, &#x27;ORGANIZATION_TYPE_Transport: type 2&#x27;, &#x27;ORGANIZATION_TYPE_Transport: type 3&#x27;, &#x27;ORGANIZATION_TYPE_Transport: type 4&#x27;, &#x27;ORGANIZATION_TYPE_University&#x27;, &#x27;ORGANIZATION_TYPE_XNA&#x27;, &#x27;FONDKAPREMONT_MODE_not specified&#x27;, &#x27;FONDKAPREMONT_MODE_org spec account&#x27;, &#x27;FONDKAPREMONT_MODE_reg oper account&#x27;, &#x27;FONDKAPREMONT_MODE_reg oper spec account&#x27;, &#x27;HOUSETYPE_MODE_block of flats&#x27;, &#x27;HOUSETYPE_MODE_specific housing&#x27;, &#x27;HOUSETYPE_MODE_terraced house&#x27;, &#x27;WALLSMATERIAL_MODE_Block&#x27;, &#x27;WALLSMATERIAL_MODE_Mixed&#x27;, &#x27;WALLSMATERIAL_MODE_Monolithic&#x27;, &#x27;WALLSMATERIAL_MODE_Others&#x27;, &#x27;WALLSMATERIAL_MODE_Panel&#x27;, &#x27;WALLSMATERIAL_MODE_Stone, brick&#x27;, &#x27;WALLSMATERIAL_MODE_Wooden&#x27;, &#x27;EMERGENCYSTATE_MODE_No&#x27;, &#x27;EMERGENCYSTATE_MODE_Yes&#x27;, &#x27;DAYS_EMPLOYED_PERC&#x27;, &#x27;INCOME_CREDIT_PERC&#x27;, &#x27;INCOME_PER_PERSON&#x27;, &#x27;ANNUITY_INCOME_PERC&#x27;, &#x27;PAYMENT_RATE&#x27;, &#x27;BURO_DAYS_CREDIT_MIN&#x27;, &#x27;BURO_DAYS_CREDIT_MAX&#x27;, &#x27;BURO_DAYS_CREDIT_MEAN&#x27;, &#x27;BURO_DAYS_CREDIT_VAR&#x27;, &#x27;BURO_DAYS_CREDIT_ENDDATE_MIN&#x27;, &#x27;BURO_DAYS_CREDIT_ENDDATE_MAX&#x27;, &#x27;BURO_DAYS_CREDIT_ENDDATE_MEAN&#x27;, &#x27;BURO_DAYS_CREDIT_UPDATE_MEAN&#x27;, &#x27;BURO_CREDIT_DAY_OVERDUE_MAX&#x27;, &#x27;BURO_CREDIT_DAY_OVERDUE_MEAN&#x27;, &#x27;BURO_AMT_CREDIT_MAX_OVERDUE_MEAN&#x27;, &#x27;BURO_AMT_CREDIT_SUM_MAX&#x27;, &#x27;BURO_AMT_CREDIT_SUM_MEAN&#x27;, &#x27;BURO_AMT_CREDIT_SUM_SUM&#x27;, &#x27;BURO_AMT_CREDIT_SUM_DEBT_MAX&#x27;, &#x27;BURO_AMT_CREDIT_SUM_DEBT_MEAN&#x27;, &#x27;BURO_AMT_CREDIT_SUM_DEBT_SUM&#x27;, &#x27;BURO_AMT_CREDIT_SUM_OVERDUE_MEAN&#x27;, &#x27;BURO_AMT_CREDIT_SUM_LIMIT_MEAN&#x27;, &#x27;BURO_AMT_CREDIT_SUM_LIMIT_SUM&#x27;, &#x27;BURO_AMT_ANNUITY_MAX&#x27;, &#x27;BURO_AMT_ANNUITY_MEAN&#x27;, &#x27;BURO_CNT_CREDIT_PROLONG_SUM&#x27;, &#x27;BURO_MONTHS_BALANCE_MIN_MIN&#x27;, &#x27;BURO_MONTHS_BALANCE_MAX_MAX&#x27;, &#x27;BURO_MONTHS_BALANCE_SIZE_MEAN&#x27;, &#x27;BURO_MONTHS_BALANCE_SIZE_SUM&#x27;, &#x27;BURO_CREDIT_ACTIVE_Active_MEAN&#x27;, &#x27;BURO_CREDIT_ACTIVE_Bad debt_MEAN&#x27;, &#x27;BURO_CREDIT_ACTIVE_Closed_MEAN&#x27;, &#x27;BURO_CREDIT_ACTIVE_Sold_MEAN&#x27;, &#x27;BURO_CREDIT_ACTIVE_nan_MEAN&#x27;, &#x27;BURO_CREDIT_CURRENCY_currency 1_MEAN&#x27;, &#x27;BURO_CREDIT_CURRENCY_currency 2_MEAN&#x27;, &#x27;BURO_CREDIT_CURRENCY_currency 3_MEAN&#x27;, &#x27;BURO_CREDIT_CURRENCY_currency 4_MEAN&#x27;, &#x27;BURO_CREDIT_CURRENCY_nan_MEAN&#x27;, &#x27;BURO_CREDIT_TYPE_Another type of loan_MEAN&#x27;, &#x27;BURO_CREDIT_TYPE_Car loan_MEAN&#x27;, &#x27;BURO_CREDIT_TYPE_Cash loan (non-earmarked)_MEAN&#x27;, &#x27;BURO_CREDIT_TYPE_Consumer credit_MEAN&#x27;, &#x27;BURO_CREDIT_TYPE_Credit card_MEAN&#x27;, &#x27;BURO_CREDIT_TYPE_Interbank credit_MEAN&#x27;, &#x27;BURO_CREDIT_TYPE_Loan for business development_MEAN&#x27;, &#x27;BURO_CREDIT_TYPE_Loan for purchase of shares (margin lending)_MEAN&#x27;, &#x27;BURO_CREDIT_TYPE_Loan for the purchase of equipment_MEAN&#x27;, &#x27;BURO_CREDIT_TYPE_Loan for working capital replenishment_MEAN&#x27;, &#x27;BURO_CREDIT_TYPE_Microloan_MEAN&#x27;, &#x27;BURO_CREDIT_TYPE_Mobile operator loan_MEAN&#x27;, &#x27;BURO_CREDIT_TYPE_Mortgage_MEAN&#x27;, &#x27;BURO_CREDIT_TYPE_Real estate loan_MEAN&#x27;, &#x27;BURO_CREDIT_TYPE_Unknown type of loan_MEAN&#x27;, &#x27;BURO_CREDIT_TYPE_nan_MEAN&#x27;, &#x27;BURO_STATUS_0_MEAN_MEAN&#x27;, &#x27;BURO_STATUS_1_MEAN_MEAN&#x27;, &#x27;BURO_STATUS_2_MEAN_MEAN&#x27;, &#x27;BURO_STATUS_3_MEAN_MEAN&#x27;, &#x27;BURO_STATUS_4_MEAN_MEAN&#x27;, &#x27;BURO_STATUS_5_MEAN_MEAN&#x27;, &#x27;BURO_STATUS_C_MEAN_MEAN&#x27;, &#x27;BURO_STATUS_X_MEAN_MEAN&#x27;, &#x27;BURO_STATUS_nan_MEAN_MEAN&#x27;, &#x27;ACTIVE_DAYS_CREDIT_MIN&#x27;, &#x27;ACTIVE_DAYS_CREDIT_MAX&#x27;, &#x27;ACTIVE_DAYS_CREDIT_MEAN&#x27;, &#x27;ACTIVE_DAYS_CREDIT_VAR&#x27;, &#x27;ACTIVE_DAYS_CREDIT_ENDDATE_MIN&#x27;, &#x27;ACTIVE_DAYS_CREDIT_ENDDATE_MAX&#x27;, &#x27;ACTIVE_DAYS_CREDIT_ENDDATE_MEAN&#x27;, &#x27;ACTIVE_DAYS_CREDIT_UPDATE_MEAN&#x27;, &#x27;ACTIVE_CREDIT_DAY_OVERDUE_MAX&#x27;, &#x27;ACTIVE_CREDIT_DAY_OVERDUE_MEAN&#x27;, &#x27;ACTIVE_AMT_CREDIT_MAX_OVERDUE_MEAN&#x27;, &#x27;ACTIVE_AMT_CREDIT_SUM_MAX&#x27;, &#x27;ACTIVE_AMT_CREDIT_SUM_MEAN&#x27;, &#x27;ACTIVE_AMT_CREDIT_SUM_SUM&#x27;, &#x27;ACTIVE_AMT_CREDIT_SUM_DEBT_MAX&#x27;, &#x27;ACTIVE_AMT_CREDIT_SUM_DEBT_MEAN&#x27;, &#x27;ACTIVE_AMT_CREDIT_SUM_DEBT_SUM&#x27;, &#x27;ACTIVE_AMT_CREDIT_SUM_OVERDUE_MEAN&#x27;, &#x27;ACTIVE_AMT_CREDIT_SUM_LIMIT_MEAN&#x27;, &#x27;ACTIVE_AMT_CREDIT_SUM_LIMIT_SUM&#x27;, &#x27;ACTIVE_AMT_ANNUITY_MAX&#x27;, &#x27;ACTIVE_AMT_ANNUITY_MEAN&#x27;, &#x27;ACTIVE_CNT_CREDIT_PROLONG_SUM&#x27;, &#x27;ACTIVE_MONTHS_BALANCE_MIN_MIN&#x27;, &#x27;ACTIVE_MONTHS_BALANCE_MAX_MAX&#x27;, &#x27;ACTIVE_MONTHS_BALANCE_SIZE_MEAN&#x27;, &#x27;ACTIVE_MONTHS_BALANCE_SIZE_SUM&#x27;, &#x27;CLOSED_DAYS_CREDIT_MIN&#x27;, &#x27;CLOSED_DAYS_CREDIT_MAX&#x27;, &#x27;CLOSED_DAYS_CREDIT_MEAN&#x27;, &#x27;CLOSED_DAYS_CREDIT_VAR&#x27;, &#x27;CLOSED_DAYS_CREDIT_ENDDATE_MIN&#x27;, &#x27;CLOSED_DAYS_CREDIT_ENDDATE_MAX&#x27;, &#x27;CLOSED_DAYS_CREDIT_ENDDATE_MEAN&#x27;, &#x27;CLOSED_DAYS_CREDIT_UPDATE_MEAN&#x27;, &#x27;CLOSED_CREDIT_DAY_OVERDUE_MAX&#x27;, &#x27;CLOSED_CREDIT_DAY_OVERDUE_MEAN&#x27;, &#x27;CLOSED_AMT_CREDIT_MAX_OVERDUE_MEAN&#x27;, &#x27;CLOSED_AMT_CREDIT_SUM_MAX&#x27;, &#x27;CLOSED_AMT_CREDIT_SUM_MEAN&#x27;, &#x27;CLOSED_AMT_CREDIT_SUM_SUM&#x27;, &#x27;CLOSED_AMT_CREDIT_SUM_DEBT_MAX&#x27;, &#x27;CLOSED_AMT_CREDIT_SUM_DEBT_MEAN&#x27;, &#x27;CLOSED_AMT_CREDIT_SUM_DEBT_SUM&#x27;, &#x27;CLOSED_AMT_CREDIT_SUM_OVERDUE_MEAN&#x27;, &#x27;CLOSED_AMT_CREDIT_SUM_LIMIT_MEAN&#x27;, &#x27;CLOSED_AMT_CREDIT_SUM_LIMIT_SUM&#x27;, &#x27;CLOSED_AMT_ANNUITY_MAX&#x27;, &#x27;CLOSED_AMT_ANNUITY_MEAN&#x27;, &#x27;CLOSED_CNT_CREDIT_PROLONG_SUM&#x27;, &#x27;CLOSED_MONTHS_BALANCE_MIN_MIN&#x27;, &#x27;CLOSED_MONTHS_BALANCE_MAX_MAX&#x27;, &#x27;CLOSED_MONTHS_BALANCE_SIZE_MEAN&#x27;, &#x27;CLOSED_MONTHS_BALANCE_SIZE_SUM&#x27;, &#x27;PREV_AMT_ANNUITY_MIN&#x27;, &#x27;PREV_AMT_ANNUITY_MAX&#x27;, &#x27;PREV_AMT_ANNUITY_MEAN&#x27;, &#x27;PREV_AMT_APPLICATION_MIN&#x27;, &#x27;PREV_AMT_APPLICATION_MAX&#x27;, &#x27;PREV_AMT_APPLICATION_MEAN&#x27;, &#x27;PREV_AMT_CREDIT_MIN&#x27;, &#x27;PREV_AMT_CREDIT_MAX&#x27;, &#x27;PREV_AMT_CREDIT_MEAN&#x27;, &#x27;PREV_APP_CREDIT_PERC_MIN&#x27;, &#x27;PREV_APP_CREDIT_PERC_MAX&#x27;, &#x27;PREV_APP_CREDIT_PERC_MEAN&#x27;, &#x27;PREV_APP_CREDIT_PERC_VAR&#x27;, &#x27;PREV_AMT_DOWN_PAYMENT_MIN&#x27;, &#x27;PREV_AMT_DOWN_PAYMENT_MAX&#x27;, &#x27;PREV_AMT_DOWN_PAYMENT_MEAN&#x27;, &#x27;PREV_AMT_GOODS_PRICE_MIN&#x27;, &#x27;PREV_AMT_GOODS_PRICE_MAX&#x27;, &#x27;PREV_AMT_GOODS_PRICE_MEAN&#x27;, &#x27;PREV_HOUR_APPR_PROCESS_START_MIN&#x27;, &#x27;PREV_HOUR_APPR_PROCESS_START_MAX&#x27;, &#x27;PREV_HOUR_APPR_PROCESS_START_MEAN&#x27;, &#x27;PREV_RATE_DOWN_PAYMENT_MIN&#x27;, &#x27;PREV_RATE_DOWN_PAYMENT_MAX&#x27;, &#x27;PREV_RATE_DOWN_PAYMENT_MEAN&#x27;, &#x27;PREV_DAYS_DECISION_MIN&#x27;, &#x27;PREV_DAYS_DECISION_MAX&#x27;, &#x27;PREV_DAYS_DECISION_MEAN&#x27;, &#x27;PREV_CNT_PAYMENT_MEAN&#x27;, &#x27;PREV_CNT_PAYMENT_SUM&#x27;, &#x27;PREV_NAME_CONTRACT_TYPE_Cash loans_MEAN&#x27;, &#x27;PREV_NAME_CONTRACT_TYPE_Consumer loans_MEAN&#x27;, &#x27;PREV_NAME_CONTRACT_TYPE_Revolving loans_MEAN&#x27;, &#x27;PREV_NAME_CONTRACT_TYPE_XNA_MEAN&#x27;, &#x27;PREV_NAME_CONTRACT_TYPE_nan_MEAN&#x27;, &#x27;PREV_WEEKDAY_APPR_PROCESS_START_FRIDAY_MEAN&#x27;, &#x27;PREV_WEEKDAY_APPR_PROCESS_START_MONDAY_MEAN&#x27;, &#x27;PREV_WEEKDAY_APPR_PROCESS_START_SATURDAY_MEAN&#x27;, &#x27;PREV_WEEKDAY_APPR_PROCESS_START_SUNDAY_MEAN&#x27;, &#x27;PREV_WEEKDAY_APPR_PROCESS_START_THURSDAY_MEAN&#x27;, &#x27;PREV_WEEKDAY_APPR_PROCESS_START_TUESDAY_MEAN&#x27;, &#x27;PREV_WEEKDAY_APPR_PROCESS_START_WEDNESDAY_MEAN&#x27;, &#x27;PREV_WEEKDAY_APPR_PROCESS_START_nan_MEAN&#x27;, &#x27;PREV_FLAG_LAST_APPL_PER_CONTRACT_N_MEAN&#x27;, &#x27;PREV_FLAG_LAST_APPL_PER_CONTRACT_Y_MEAN&#x27;, &#x27;PREV_FLAG_LAST_APPL_PER_CONTRACT_nan_MEAN&#x27;, &#x27;PREV_NAME_CASH_LOAN_PURPOSE_Building a house or an annex_MEAN&#x27;, &#x27;PREV_NAME_CASH_LOAN_PURPOSE_Business development_MEAN&#x27;, &#x27;PREV_NAME_CASH_LOAN_PURPOSE_Buying a garage_MEAN&#x27;, &#x27;PREV_NAME_CASH_LOAN_PURPOSE_Buying a holiday home / land_MEAN&#x27;, &#x27;PREV_NAME_CASH_LOAN_PURPOSE_Buying a home_MEAN&#x27;, &#x27;PREV_NAME_CASH_LOAN_PURPOSE_Buying a new car_MEAN&#x27;, &#x27;PREV_NAME_CASH_LOAN_PURPOSE_Buying a used car_MEAN&#x27;, &#x27;PREV_NAME_CASH_LOAN_PURPOSE_Car repairs_MEAN&#x27;, &#x27;PREV_NAME_CASH_LOAN_PURPOSE_Education_MEAN&#x27;, &#x27;PREV_NAME_CASH_LOAN_PURPOSE_Everyday expenses_MEAN&#x27;, &#x27;PREV_NAME_CASH_LOAN_PURPOSE_Furniture_MEAN&#x27;, &#x27;PREV_NAME_CASH_LOAN_PURPOSE_Gasification / water supply_MEAN&#x27;, &#x27;PREV_NAME_CASH_LOAN_PURPOSE_Hobby_MEAN&#x27;, &#x27;PREV_NAME_CASH_LOAN_PURPOSE_Journey_MEAN&#x27;, &#x27;PREV_NAME_CASH_LOAN_PURPOSE_Medicine_MEAN&#x27;, &#x27;PREV_NAME_CASH_LOAN_PURPOSE_Money for a third person_MEAN&#x27;, &#x27;PREV_NAME_CASH_LOAN_PURPOSE_Other_MEAN&#x27;, &#x27;PREV_NAME_CASH_LOAN_PURPOSE_Payments on other loans_MEAN&#x27;, &#x27;PREV_NAME_CASH_LOAN_PURPOSE_Purchase of electronic equipment_MEAN&#x27;, &#x27;PREV_NAME_CASH_LOAN_PURPOSE_Refusal to name the goal_MEAN&#x27;, &#x27;PREV_NAME_CASH_LOAN_PURPOSE_Repairs_MEAN&#x27;, &#x27;PREV_NAME_CASH_LOAN_PURPOSE_Urgent needs_MEAN&#x27;, &#x27;PREV_NAME_CASH_LOAN_PURPOSE_Wedding / gift / holiday_MEAN&#x27;, &#x27;PREV_NAME_CASH_LOAN_PURPOSE_XAP_MEAN&#x27;, &#x27;PREV_NAME_CASH_LOAN_PURPOSE_XNA_MEAN&#x27;, &#x27;PREV_NAME_CASH_LOAN_PURPOSE_nan_MEAN&#x27;, &#x27;PREV_NAME_CONTRACT_STATUS_Approved_MEAN&#x27;, &#x27;PREV_NAME_CONTRACT_STATUS_Canceled_MEAN&#x27;, &#x27;PREV_NAME_CONTRACT_STATUS_Refused_MEAN&#x27;, &#x27;PREV_NAME_CONTRACT_STATUS_Unused offer_MEAN&#x27;, &#x27;PREV_NAME_CONTRACT_STATUS_nan_MEAN&#x27;, &#x27;PREV_NAME_PAYMENT_TYPE_Cash through the bank_MEAN&#x27;, &#x27;PREV_NAME_PAYMENT_TYPE_Cashless from the account of the employer_MEAN&#x27;, &#x27;PREV_NAME_PAYMENT_TYPE_Non-cash from your account_MEAN&#x27;, &#x27;PREV_NAME_PAYMENT_TYPE_XNA_MEAN&#x27;, &#x27;PREV_NAME_PAYMENT_TYPE_nan_MEAN&#x27;, &#x27;PREV_CODE_REJECT_REASON_CLIENT_MEAN&#x27;, &#x27;PREV_CODE_REJECT_REASON_HC_MEAN&#x27;, &#x27;PREV_CODE_REJECT_REASON_LIMIT_MEAN&#x27;, &#x27;PREV_CODE_REJECT_REASON_SCO_MEAN&#x27;, &#x27;PREV_CODE_REJECT_REASON_SCOFR_MEAN&#x27;, &#x27;PREV_CODE_REJECT_REASON_SYSTEM_MEAN&#x27;, &#x27;PREV_CODE_REJECT_REASON_VERIF_MEAN&#x27;, &#x27;PREV_CODE_REJECT_REASON_XAP_MEAN&#x27;, &#x27;PREV_CODE_REJECT_REASON_XNA_MEAN&#x27;, &#x27;PREV_CODE_REJECT_REASON_nan_MEAN&#x27;, &#x27;PREV_NAME_TYPE_SUITE_Children_MEAN&#x27;, &#x27;PREV_NAME_TYPE_SUITE_Family_MEAN&#x27;, &#x27;PREV_NAME_TYPE_SUITE_Group of people_MEAN&#x27;, &#x27;PREV_NAME_TYPE_SUITE_Other_A_MEAN&#x27;, &#x27;PREV_NAME_TYPE_SUITE_Other_B_MEAN&#x27;, &#x27;PREV_NAME_TYPE_SUITE_Spouse, partner_MEAN&#x27;, &#x27;PREV_NAME_TYPE_SUITE_Unaccompanied_MEAN&#x27;, &#x27;PREV_NAME_TYPE_SUITE_nan_MEAN&#x27;, &#x27;PREV_NAME_CLIENT_TYPE_New_MEAN&#x27;, &#x27;PREV_NAME_CLIENT_TYPE_Refreshed_MEAN&#x27;, &#x27;PREV_NAME_CLIENT_TYPE_Repeater_MEAN&#x27;, &#x27;PREV_NAME_CLIENT_TYPE_XNA_MEAN&#x27;, &#x27;PREV_NAME_CLIENT_TYPE_nan_MEAN&#x27;, &#x27;PREV_NAME_GOODS_CATEGORY_Additional Service_MEAN&#x27;, &#x27;PREV_NAME_GOODS_CATEGORY_Animals_MEAN&#x27;, &#x27;PREV_NAME_GOODS_CATEGORY_Audio/Video_MEAN&#x27;, &#x27;PREV_NAME_GOODS_CATEGORY_Auto Accessories_MEAN&#x27;, &#x27;PREV_NAME_GOODS_CATEGORY_Clothing and Accessories_MEAN&#x27;, &#x27;PREV_NAME_GOODS_CATEGORY_Computers_MEAN&#x27;, &#x27;PREV_NAME_GOODS_CATEGORY_Construction Materials_MEAN&#x27;, &#x27;PREV_NAME_GOODS_CATEGORY_Consumer Electronics_MEAN&#x27;, &#x27;PREV_NAME_GOODS_CATEGORY_Direct Sales_MEAN&#x27;, &#x27;PREV_NAME_GOODS_CATEGORY_Education_MEAN&#x27;, &#x27;PREV_NAME_GOODS_CATEGORY_Fitness_MEAN&#x27;, &#x27;PREV_NAME_GOODS_CATEGORY_Furniture_MEAN&#x27;, &#x27;PREV_NAME_GOODS_CATEGORY_Gardening_MEAN&#x27;, &#x27;PREV_NAME_GOODS_CATEGORY_Homewares_MEAN&#x27;, &#x27;PREV_NAME_GOODS_CATEGORY_House Construction_MEAN&#x27;, &#x27;PREV_NAME_GOODS_CATEGORY_Insurance_MEAN&#x27;, &#x27;PREV_NAME_GOODS_CATEGORY_Jewelry_MEAN&#x27;, &#x27;PREV_NAME_GOODS_CATEGORY_Medical Supplies_MEAN&#x27;, &#x27;PREV_NAME_GOODS_CATEGORY_Medicine_MEAN&#x27;, &#x27;PREV_NAME_GOODS_CATEGORY_Mobile_MEAN&#x27;, &#x27;PREV_NAME_GOODS_CATEGORY_Office Appliances_MEAN&#x27;, &#x27;PREV_NAME_GOODS_CATEGORY_Other_MEAN&#x27;, &#x27;PREV_NAME_GOODS_CATEGORY_Photo / Cinema Equipment_MEAN&#x27;, &#x27;PREV_NAME_GOODS_CATEGORY_Sport and Leisure_MEAN&#x27;, &#x27;PREV_NAME_GOODS_CATEGORY_Tourism_MEAN&#x27;, &#x27;PREV_NAME_GOODS_CATEGORY_Vehicles_MEAN&#x27;, &#x27;PREV_NAME_GOODS_CATEGORY_Weapon_MEAN&#x27;, &#x27;PREV_NAME_GOODS_CATEGORY_XNA_MEAN&#x27;, &#x27;PREV_NAME_GOODS_CATEGORY_nan_MEAN&#x27;, &#x27;PREV_NAME_PORTFOLIO_Cards_MEAN&#x27;, &#x27;PREV_NAME_PORTFOLIO_Cars_MEAN&#x27;, &#x27;PREV_NAME_PORTFOLIO_Cash_MEAN&#x27;, &#x27;PREV_NAME_PORTFOLIO_POS_MEAN&#x27;, &#x27;PREV_NAME_PORTFOLIO_XNA_MEAN&#x27;, &#x27;PREV_NAME_PORTFOLIO_nan_MEAN&#x27;, &#x27;PREV_NAME_PRODUCT_TYPE_XNA_MEAN&#x27;, &#x27;PREV_NAME_PRODUCT_TYPE_walk-in_MEAN&#x27;, &#x27;PREV_NAME_PRODUCT_TYPE_x-sell_MEAN&#x27;, &#x27;PREV_NAME_PRODUCT_TYPE_nan_MEAN&#x27;, &#x27;PREV_CHANNEL_TYPE_AP+ (Cash loan)_MEAN&#x27;, &#x27;PREV_CHANNEL_TYPE_Car dealer_MEAN&#x27;, &#x27;PREV_CHANNEL_TYPE_Channel of corporate sales_MEAN&#x27;, &#x27;PREV_CHANNEL_TYPE_Contact center_MEAN&#x27;, &#x27;PREV_CHANNEL_TYPE_Country-wide_MEAN&#x27;, &#x27;PREV_CHANNEL_TYPE_Credit and cash offices_MEAN&#x27;, &#x27;PREV_CHANNEL_TYPE_Regional / Local_MEAN&#x27;, &#x27;PREV_CHANNEL_TYPE_Stone_MEAN&#x27;, &#x27;PREV_CHANNEL_TYPE_nan_MEAN&#x27;, &#x27;PREV_NAME_SELLER_INDUSTRY_Auto technology_MEAN&#x27;, &#x27;PREV_NAME_SELLER_INDUSTRY_Clothing_MEAN&#x27;, &#x27;PREV_NAME_SELLER_INDUSTRY_Connectivity_MEAN&#x27;, &#x27;PREV_NAME_SELLER_INDUSTRY_Construction_MEAN&#x27;, &#x27;PREV_NAME_SELLER_INDUSTRY_Consumer electronics_MEAN&#x27;, &#x27;PREV_NAME_SELLER_INDUSTRY_Furniture_MEAN&#x27;, &#x27;PREV_NAME_SELLER_INDUSTRY_Industry_MEAN&#x27;, &#x27;PREV_NAME_SELLER_INDUSTRY_Jewelry_MEAN&#x27;, &#x27;PREV_NAME_SELLER_INDUSTRY_MLM partners_MEAN&#x27;, &#x27;PREV_NAME_SELLER_INDUSTRY_Tourism_MEAN&#x27;, &#x27;PREV_NAME_SELLER_INDUSTRY_XNA_MEAN&#x27;, &#x27;PREV_NAME_SELLER_INDUSTRY_nan_MEAN&#x27;, &#x27;PREV_NAME_YIELD_GROUP_XNA_MEAN&#x27;, &#x27;PREV_NAME_YIELD_GROUP_high_MEAN&#x27;, &#x27;PREV_NAME_YIELD_GROUP_low_action_MEAN&#x27;, &#x27;PREV_NAME_YIELD_GROUP_low_normal_MEAN&#x27;, &#x27;PREV_NAME_YIELD_GROUP_middle_MEAN&#x27;, &#x27;PREV_NAME_YIELD_GROUP_nan_MEAN&#x27;, &#x27;PREV_PRODUCT_COMBINATION_Card Street_MEAN&#x27;, &#x27;PREV_PRODUCT_COMBINATION_Card X-Sell_MEAN&#x27;, &#x27;PREV_PRODUCT_COMBINATION_Cash_MEAN&#x27;, &#x27;PREV_PRODUCT_COMBINATION_Cash Street: high_MEAN&#x27;, &#x27;PREV_PRODUCT_COMBINATION_Cash Street: low_MEAN&#x27;, &#x27;PREV_PRODUCT_COMBINATION_Cash Street: middle_MEAN&#x27;, &#x27;PREV_PRODUCT_COMBINATION_Cash X-Sell: high_MEAN&#x27;, &#x27;PREV_PRODUCT_COMBINATION_Cash X-Sell: low_MEAN&#x27;, &#x27;PREV_PRODUCT_COMBINATION_Cash X-Sell: middle_MEAN&#x27;, &#x27;PREV_PRODUCT_COMBINATION_POS household with interest_MEAN&#x27;, &#x27;PREV_PRODUCT_COMBINATION_POS household without interest_MEAN&#x27;, &#x27;PREV_PRODUCT_COMBINATION_POS industry with interest_MEAN&#x27;, &#x27;PREV_PRODUCT_COMBINATION_POS industry without interest_MEAN&#x27;, &#x27;PREV_PRODUCT_COMBINATION_POS mobile with interest_MEAN&#x27;, &#x27;PREV_PRODUCT_COMBINATION_POS mobile without interest_MEAN&#x27;, &#x27;PREV_PRODUCT_COMBINATION_POS other with interest_MEAN&#x27;, &#x27;PREV_PRODUCT_COMBINATION_POS others without interest_MEAN&#x27;, &#x27;PREV_PRODUCT_COMBINATION_nan_MEAN&#x27;, &#x27;APPROVED_AMT_ANNUITY_MIN&#x27;, &#x27;APPROVED_AMT_ANNUITY_MAX&#x27;, &#x27;APPROVED_AMT_ANNUITY_MEAN&#x27;, &#x27;APPROVED_AMT_APPLICATION_MIN&#x27;, &#x27;APPROVED_AMT_APPLICATION_MAX&#x27;, &#x27;APPROVED_AMT_APPLICATION_MEAN&#x27;, &#x27;APPROVED_AMT_CREDIT_MIN&#x27;, &#x27;APPROVED_AMT_CREDIT_MAX&#x27;, &#x27;APPROVED_AMT_CREDIT_MEAN&#x27;, &#x27;APPROVED_APP_CREDIT_PERC_MIN&#x27;, &#x27;APPROVED_APP_CREDIT_PERC_MAX&#x27;, &#x27;APPROVED_APP_CREDIT_PERC_MEAN&#x27;, &#x27;APPROVED_APP_CREDIT_PERC_VAR&#x27;, &#x27;APPROVED_AMT_DOWN_PAYMENT_MIN&#x27;, &#x27;APPROVED_AMT_DOWN_PAYMENT_MAX&#x27;, &#x27;APPROVED_AMT_DOWN_PAYMENT_MEAN&#x27;, &#x27;APPROVED_AMT_GOODS_PRICE_MIN&#x27;, &#x27;APPROVED_AMT_GOODS_PRICE_MAX&#x27;, &#x27;APPROVED_AMT_GOODS_PRICE_MEAN&#x27;, &#x27;APPROVED_HOUR_APPR_PROCESS_START_MIN&#x27;, &#x27;APPROVED_HOUR_APPR_PROCESS_START_MAX&#x27;, &#x27;APPROVED_HOUR_APPR_PROCESS_START_MEAN&#x27;, &#x27;APPROVED_RATE_DOWN_PAYMENT_MIN&#x27;, &#x27;APPROVED_RATE_DOWN_PAYMENT_MAX&#x27;, &#x27;APPROVED_RATE_DOWN_PAYMENT_MEAN&#x27;, &#x27;APPROVED_DAYS_DECISION_MIN&#x27;, &#x27;APPROVED_DAYS_DECISION_MAX&#x27;, &#x27;APPROVED_DAYS_DECISION_MEAN&#x27;, &#x27;APPROVED_CNT_PAYMENT_MEAN&#x27;, &#x27;APPROVED_CNT_PAYMENT_SUM&#x27;, &#x27;REFUSED_AMT_ANNUITY_MIN&#x27;, &#x27;REFUSED_AMT_ANNUITY_MAX&#x27;, &#x27;REFUSED_AMT_ANNUITY_MEAN&#x27;, &#x27;REFUSED_AMT_APPLICATION_MIN&#x27;, &#x27;REFUSED_AMT_APPLICATION_MAX&#x27;, &#x27;REFUSED_AMT_APPLICATION_MEAN&#x27;, &#x27;REFUSED_AMT_CREDIT_MIN&#x27;, &#x27;REFUSED_AMT_CREDIT_MAX&#x27;, &#x27;REFUSED_AMT_CREDIT_MEAN&#x27;, &#x27;REFUSED_APP_CREDIT_PERC_MIN&#x27;, &#x27;REFUSED_APP_CREDIT_PERC_MAX&#x27;, &#x27;REFUSED_APP_CREDIT_PERC_MEAN&#x27;, &#x27;REFUSED_APP_CREDIT_PERC_VAR&#x27;, &#x27;REFUSED_AMT_DOWN_PAYMENT_MIN&#x27;, &#x27;REFUSED_AMT_DOWN_PAYMENT_MAX&#x27;, &#x27;REFUSED_AMT_DOWN_PAYMENT_MEAN&#x27;, &#x27;REFUSED_AMT_GOODS_PRICE_MIN&#x27;, &#x27;REFUSED_AMT_GOODS_PRICE_MAX&#x27;, &#x27;REFUSED_AMT_GOODS_PRICE_MEAN&#x27;, &#x27;REFUSED_HOUR_APPR_PROCESS_START_MIN&#x27;, &#x27;REFUSED_HOUR_APPR_PROCESS_START_MAX&#x27;, &#x27;REFUSED_HOUR_APPR_PROCESS_START_MEAN&#x27;, &#x27;REFUSED_RATE_DOWN_PAYMENT_MIN&#x27;, &#x27;REFUSED_RATE_DOWN_PAYMENT_MAX&#x27;, &#x27;REFUSED_RATE_DOWN_PAYMENT_MEAN&#x27;, &#x27;REFUSED_DAYS_DECISION_MIN&#x27;, &#x27;REFUSED_DAYS_DECISION_MAX&#x27;, &#x27;REFUSED_DAYS_DECISION_MEAN&#x27;, &#x27;REFUSED_CNT_PAYMENT_MEAN&#x27;, &#x27;REFUSED_CNT_PAYMENT_SUM&#x27;, &#x27;POS_MONTHS_BALANCE_MAX&#x27;, &#x27;POS_MONTHS_BALANCE_MEAN&#x27;, &#x27;POS_MONTHS_BALANCE_SIZE&#x27;, &#x27;POS_SK_DPD_MAX&#x27;, &#x27;POS_SK_DPD_MEAN&#x27;, &#x27;POS_SK_DPD_DEF_MAX&#x27;, &#x27;POS_SK_DPD_DEF_MEAN&#x27;, &#x27;POS_NAME_CONTRACT_STATUS_Active_MEAN&#x27;, &#x27;POS_NAME_CONTRACT_STATUS_Amortized debt_MEAN&#x27;, &#x27;POS_NAME_CONTRACT_STATUS_Approved_MEAN&#x27;, &#x27;POS_NAME_CONTRACT_STATUS_Canceled_MEAN&#x27;, &#x27;POS_NAME_CONTRACT_STATUS_Completed_MEAN&#x27;, &#x27;POS_NAME_CONTRACT_STATUS_Demand_MEAN&#x27;, &#x27;POS_NAME_CONTRACT_STATUS_Returned to the store_MEAN&#x27;, &#x27;POS_NAME_CONTRACT_STATUS_Signed_MEAN&#x27;, &#x27;POS_NAME_CONTRACT_STATUS_XNA_MEAN&#x27;, &#x27;POS_NAME_CONTRACT_STATUS_nan_MEAN&#x27;, &#x27;POS_COUNT&#x27;, &#x27;INSTAL_NUM_INSTALMENT_VERSION_NUNIQUE&#x27;, &#x27;INSTAL_DPD_MAX&#x27;, &#x27;INSTAL_DPD_MEAN&#x27;, &#x27;INSTAL_DPD_SUM&#x27;, &#x27;INSTAL_DBD_MAX&#x27;, &#x27;INSTAL_DBD_MEAN&#x27;, &#x27;INSTAL_DBD_SUM&#x27;, &#x27;INSTAL_PAYMENT_PERC_MAX&#x27;, &#x27;INSTAL_PAYMENT_PERC_MEAN&#x27;, &#x27;INSTAL_PAYMENT_PERC_SUM&#x27;, &#x27;INSTAL_PAYMENT_PERC_VAR&#x27;, &#x27;INSTAL_PAYMENT_DIFF_MAX&#x27;, &#x27;INSTAL_PAYMENT_DIFF_MEAN&#x27;, &#x27;INSTAL_PAYMENT_DIFF_SUM&#x27;, &#x27;INSTAL_PAYMENT_DIFF_VAR&#x27;, &#x27;INSTAL_AMT_INSTALMENT_MAX&#x27;, &#x27;INSTAL_AMT_INSTALMENT_MEAN&#x27;, &#x27;INSTAL_AMT_INSTALMENT_SUM&#x27;, &#x27;INSTAL_AMT_PAYMENT_MIN&#x27;, &#x27;INSTAL_AMT_PAYMENT_MAX&#x27;, &#x27;INSTAL_AMT_PAYMENT_MEAN&#x27;, &#x27;INSTAL_AMT_PAYMENT_SUM&#x27;, &#x27;INSTAL_DAYS_ENTRY_PAYMENT_MAX&#x27;, &#x27;INSTAL_DAYS_ENTRY_PAYMENT_MEAN&#x27;, &#x27;INSTAL_DAYS_ENTRY_PAYMENT_SUM&#x27;, &#x27;INSTAL_COUNT&#x27;, &#x27;CC_MONTHS_BALANCE_MIN&#x27;, &#x27;CC_MONTHS_BALANCE_MAX&#x27;, &#x27;CC_MONTHS_BALANCE_MEAN&#x27;, &#x27;CC_MONTHS_BALANCE_SUM&#x27;, &#x27;CC_MONTHS_BALANCE_VAR&#x27;, &#x27;CC_AMT_BALANCE_MIN&#x27;, &#x27;CC_AMT_BALANCE_MAX&#x27;, &#x27;CC_AMT_BALANCE_MEAN&#x27;, &#x27;CC_AMT_BALANCE_SUM&#x27;, &#x27;CC_AMT_BALANCE_VAR&#x27;, &#x27;CC_AMT_CREDIT_LIMIT_ACTUAL_MIN&#x27;, &#x27;CC_AMT_CREDIT_LIMIT_ACTUAL_MAX&#x27;, &#x27;CC_AMT_CREDIT_LIMIT_ACTUAL_MEAN&#x27;, &#x27;CC_AMT_CREDIT_LIMIT_ACTUAL_SUM&#x27;, &#x27;CC_AMT_CREDIT_LIMIT_ACTUAL_VAR&#x27;, &#x27;CC_AMT_DRAWINGS_ATM_CURRENT_MIN&#x27;, &#x27;CC_AMT_DRAWINGS_ATM_CURRENT_MAX&#x27;, &#x27;CC_AMT_DRAWINGS_ATM_CURRENT_MEAN&#x27;, &#x27;CC_AMT_DRAWINGS_ATM_CURRENT_SUM&#x27;, &#x27;CC_AMT_DRAWINGS_ATM_CURRENT_VAR&#x27;, &#x27;CC_AMT_DRAWINGS_CURRENT_MIN&#x27;, &#x27;CC_AMT_DRAWINGS_CURRENT_MAX&#x27;, &#x27;CC_AMT_DRAWINGS_CURRENT_MEAN&#x27;, &#x27;CC_AMT_DRAWINGS_CURRENT_SUM&#x27;, &#x27;CC_AMT_DRAWINGS_CURRENT_VAR&#x27;, &#x27;CC_AMT_DRAWINGS_OTHER_CURRENT_MIN&#x27;, &#x27;CC_AMT_DRAWINGS_OTHER_CURRENT_MAX&#x27;, &#x27;CC_AMT_DRAWINGS_OTHER_CURRENT_MEAN&#x27;, &#x27;CC_AMT_DRAWINGS_OTHER_CURRENT_SUM&#x27;, &#x27;CC_AMT_DRAWINGS_OTHER_CURRENT_VAR&#x27;, &#x27;CC_AMT_DRAWINGS_POS_CURRENT_MIN&#x27;, &#x27;CC_AMT_DRAWINGS_POS_CURRENT_MAX&#x27;, &#x27;CC_AMT_DRAWINGS_POS_CURRENT_MEAN&#x27;, &#x27;CC_AMT_DRAWINGS_POS_CURRENT_SUM&#x27;, &#x27;CC_AMT_DRAWINGS_POS_CURRENT_VAR&#x27;, &#x27;CC_AMT_INST_MIN_REGULARITY_MIN&#x27;, &#x27;CC_AMT_INST_MIN_REGULARITY_MAX&#x27;, &#x27;CC_AMT_INST_MIN_REGULARITY_MEAN&#x27;, &#x27;CC_AMT_INST_MIN_REGULARITY_SUM&#x27;, &#x27;CC_AMT_INST_MIN_REGULARITY_VAR&#x27;, &#x27;CC_AMT_PAYMENT_CURRENT_MIN&#x27;, &#x27;CC_AMT_PAYMENT_CURRENT_MAX&#x27;, &#x27;CC_AMT_PAYMENT_CURRENT_MEAN&#x27;, &#x27;CC_AMT_PAYMENT_CURRENT_SUM&#x27;, &#x27;CC_AMT_PAYMENT_CURRENT_VAR&#x27;, &#x27;CC_AMT_PAYMENT_TOTAL_CURRENT_MIN&#x27;, &#x27;CC_AMT_PAYMENT_TOTAL_CURRENT_MAX&#x27;, &#x27;CC_AMT_PAYMENT_TOTAL_CURRENT_MEAN&#x27;, &#x27;CC_AMT_PAYMENT_TOTAL_CURRENT_SUM&#x27;, &#x27;CC_AMT_PAYMENT_TOTAL_CURRENT_VAR&#x27;, &#x27;CC_AMT_RECEIVABLE_PRINCIPAL_MIN&#x27;, &#x27;CC_AMT_RECEIVABLE_PRINCIPAL_MAX&#x27;, &#x27;CC_AMT_RECEIVABLE_PRINCIPAL_MEAN&#x27;, &#x27;CC_AMT_RECEIVABLE_PRINCIPAL_SUM&#x27;, &#x27;CC_AMT_RECEIVABLE_PRINCIPAL_VAR&#x27;, &#x27;CC_AMT_RECIVABLE_MIN&#x27;, &#x27;CC_AMT_RECIVABLE_MAX&#x27;, &#x27;CC_AMT_RECIVABLE_MEAN&#x27;, &#x27;CC_AMT_RECIVABLE_SUM&#x27;, &#x27;CC_AMT_RECIVABLE_VAR&#x27;, &#x27;CC_AMT_TOTAL_RECEIVABLE_MIN&#x27;, &#x27;CC_AMT_TOTAL_RECEIVABLE_MAX&#x27;, &#x27;CC_AMT_TOTAL_RECEIVABLE_MEAN&#x27;, &#x27;CC_AMT_TOTAL_RECEIVABLE_SUM&#x27;, &#x27;CC_AMT_TOTAL_RECEIVABLE_VAR&#x27;, &#x27;CC_CNT_DRAWINGS_ATM_CURRENT_MIN&#x27;, &#x27;CC_CNT_DRAWINGS_ATM_CURRENT_MAX&#x27;, &#x27;CC_CNT_DRAWINGS_ATM_CURRENT_MEAN&#x27;, &#x27;CC_CNT_DRAWINGS_ATM_CURRENT_SUM&#x27;, &#x27;CC_CNT_DRAWINGS_ATM_CURRENT_VAR&#x27;, &#x27;CC_CNT_DRAWINGS_CURRENT_MIN&#x27;, &#x27;CC_CNT_DRAWINGS_CURRENT_MAX&#x27;, &#x27;CC_CNT_DRAWINGS_CURRENT_MEAN&#x27;, &#x27;CC_CNT_DRAWINGS_CURRENT_SUM&#x27;, &#x27;CC_CNT_DRAWINGS_CURRENT_VAR&#x27;, &#x27;CC_CNT_DRAWINGS_OTHER_CURRENT_MIN&#x27;, &#x27;CC_CNT_DRAWINGS_OTHER_CURRENT_MAX&#x27;, &#x27;CC_CNT_DRAWINGS_OTHER_CURRENT_MEAN&#x27;, &#x27;CC_CNT_DRAWINGS_OTHER_CURRENT_SUM&#x27;, &#x27;CC_CNT_DRAWINGS_OTHER_CURRENT_VAR&#x27;, &#x27;CC_CNT_DRAWINGS_POS_CURRENT_MIN&#x27;, &#x27;CC_CNT_DRAWINGS_POS_CURRENT_MAX&#x27;, &#x27;CC_CNT_DRAWINGS_POS_CURRENT_MEAN&#x27;, &#x27;CC_CNT_DRAWINGS_POS_CURRENT_SUM&#x27;, &#x27;CC_CNT_DRAWINGS_POS_CURRENT_VAR&#x27;, &#x27;CC_CNT_INSTALMENT_MATURE_CUM_MIN&#x27;, &#x27;CC_CNT_INSTALMENT_MATURE_CUM_MAX&#x27;, &#x27;CC_CNT_INSTALMENT_MATURE_CUM_MEAN&#x27;, &#x27;CC_CNT_INSTALMENT_MATURE_CUM_SUM&#x27;, &#x27;CC_CNT_INSTALMENT_MATURE_CUM_VAR&#x27;, &#x27;CC_SK_DPD_MIN&#x27;, &#x27;CC_SK_DPD_MAX&#x27;, &#x27;CC_SK_DPD_MEAN&#x27;, &#x27;CC_SK_DPD_SUM&#x27;, &#x27;CC_SK_DPD_VAR&#x27;, &#x27;CC_SK_DPD_DEF_MIN&#x27;, &#x27;CC_SK_DPD_DEF_MAX&#x27;, &#x27;CC_SK_DPD_DEF_MEAN&#x27;, &#x27;CC_SK_DPD_DEF_SUM&#x27;, &#x27;CC_SK_DPD_DEF_VAR&#x27;, &#x27;CC_NAME_CONTRACT_STATUS_Active_MEAN&#x27;, &#x27;CC_NAME_CONTRACT_STATUS_Active_SUM&#x27;, &#x27;CC_NAME_CONTRACT_STATUS_Active_VAR&#x27;, &#x27;CC_NAME_CONTRACT_STATUS_Approved_MEAN&#x27;, &#x27;CC_NAME_CONTRACT_STATUS_Approved_SUM&#x27;, &#x27;CC_NAME_CONTRACT_STATUS_Approved_VAR&#x27;, &#x27;CC_NAME_CONTRACT_STATUS_Completed_MEAN&#x27;, &#x27;CC_NAME_CONTRACT_STATUS_Completed_SUM&#x27;, &#x27;CC_NAME_CONTRACT_STATUS_Completed_VAR&#x27;, &#x27;CC_NAME_CONTRACT_STATUS_Demand_MEAN&#x27;, &#x27;CC_NAME_CONTRACT_STATUS_Demand_SUM&#x27;, &#x27;CC_NAME_CONTRACT_STATUS_Demand_VAR&#x27;, &#x27;CC_NAME_CONTRACT_STATUS_Refused_MEAN&#x27;, &#x27;CC_NAME_CONTRACT_STATUS_Refused_SUM&#x27;, &#x27;CC_NAME_CONTRACT_STATUS_Refused_VAR&#x27;, &#x27;CC_NAME_CONTRACT_STATUS_Sent proposal_MEAN&#x27;, &#x27;CC_NAME_CONTRACT_STATUS_Sent proposal_SUM&#x27;, &#x27;CC_NAME_CONTRACT_STATUS_Sent proposal_VAR&#x27;, &#x27;CC_NAME_CONTRACT_STATUS_Signed_MEAN&#x27;, &#x27;CC_NAME_CONTRACT_STATUS_Signed_SUM&#x27;, &#x27;CC_NAME_CONTRACT_STATUS_Signed_VAR&#x27;, &#x27;CC_NAME_CONTRACT_STATUS_nan_MEAN&#x27;, &#x27;CC_NAME_CONTRACT_STATUS_nan_SUM&#x27;, &#x27;CC_NAME_CONTRACT_STATUS_nan_VAR&#x27;, &#x27;CC_COUNT&#x27;]</pre></div></div></div><div class=\"sk-serial\"><div class=\"sk-item\"><div class=\"sk-estimator sk-toggleable\"><input class=\"sk-toggleable__control sk-hidden--visually\" id=\"sk-estimator-id-15\" type=\"checkbox\" ><label for=\"sk-estimator-id-15\" class=\"sk-toggleable__label sk-toggleable__label-arrow\">SimpleImputer</label><div class=\"sk-toggleable__content\"><pre>SimpleImputer(strategy=&#x27;median&#x27;)</pre></div></div></div></div></div></div><div class=\"sk-parallel-item\"><div class=\"sk-item\"><div class=\"sk-label-container\"><div class=\"sk-label sk-toggleable\"><input class=\"sk-toggleable__control sk-hidden--visually\" id=\"sk-estimator-id-16\" type=\"checkbox\" ><label for=\"sk-estimator-id-16\" class=\"sk-toggleable__label sk-toggleable__label-arrow\">simpleimputer-2</label><div class=\"sk-toggleable__content\"><pre>[&#x27;CC_NAME_CONTRACT_STATUS_Active_MIN&#x27;, &#x27;CC_NAME_CONTRACT_STATUS_Active_MAX&#x27;, &#x27;CC_NAME_CONTRACT_STATUS_Approved_MIN&#x27;, &#x27;CC_NAME_CONTRACT_STATUS_Approved_MAX&#x27;, &#x27;CC_NAME_CONTRACT_STATUS_Completed_MIN&#x27;, &#x27;CC_NAME_CONTRACT_STATUS_Completed_MAX&#x27;, &#x27;CC_NAME_CONTRACT_STATUS_Demand_MIN&#x27;, &#x27;CC_NAME_CONTRACT_STATUS_Demand_MAX&#x27;, &#x27;CC_NAME_CONTRACT_STATUS_Refused_MIN&#x27;, &#x27;CC_NAME_CONTRACT_STATUS_Refused_MAX&#x27;, &#x27;CC_NAME_CONTRACT_STATUS_Sent proposal_MIN&#x27;, &#x27;CC_NAME_CONTRACT_STATUS_Sent proposal_MAX&#x27;, &#x27;CC_NAME_CONTRACT_STATUS_Signed_MIN&#x27;, &#x27;CC_NAME_CONTRACT_STATUS_Signed_MAX&#x27;, &#x27;CC_NAME_CONTRACT_STATUS_nan_MIN&#x27;, &#x27;CC_NAME_CONTRACT_STATUS_nan_MAX&#x27;]</pre></div></div></div><div class=\"sk-serial\"><div class=\"sk-item\"><div class=\"sk-estimator sk-toggleable\"><input class=\"sk-toggleable__control sk-hidden--visually\" id=\"sk-estimator-id-17\" type=\"checkbox\" ><label for=\"sk-estimator-id-17\" class=\"sk-toggleable__label sk-toggleable__label-arrow\">SimpleImputer</label><div class=\"sk-toggleable__content\"><pre>SimpleImputer(strategy=&#x27;most_frequent&#x27;)</pre></div></div></div></div></div></div></div></div><div class=\"sk-item\"><div class=\"sk-estimator sk-toggleable\"><input class=\"sk-toggleable__control sk-hidden--visually\" id=\"sk-estimator-id-18\" type=\"checkbox\" ><label for=\"sk-estimator-id-18\" class=\"sk-toggleable__label sk-toggleable__label-arrow\">StandardScaler</label><div class=\"sk-toggleable__content\"><pre>StandardScaler()</pre></div></div></div><div class=\"sk-item\"><div class=\"sk-estimator sk-toggleable\"><input class=\"sk-toggleable__control sk-hidden--visually\" id=\"sk-estimator-id-19\" type=\"checkbox\" ><label for=\"sk-estimator-id-19\" class=\"sk-toggleable__label sk-toggleable__label-arrow\">TargetEncoder</label><div class=\"sk-toggleable__content\"><pre>TargetEncoder()</pre></div></div></div><div class=\"sk-item\"><div class=\"sk-estimator sk-toggleable\"><input class=\"sk-toggleable__control sk-hidden--visually\" id=\"sk-estimator-id-20\" type=\"checkbox\" ><label for=\"sk-estimator-id-20\" class=\"sk-toggleable__label sk-toggleable__label-arrow\">SelectKBest</label><div class=\"sk-toggleable__content\"><pre>SelectKBest(k=200)</pre></div></div></div><div class=\"sk-item\"><div class=\"sk-estimator sk-toggleable\"><input class=\"sk-toggleable__control sk-hidden--visually\" id=\"sk-estimator-id-21\" type=\"checkbox\" ><label for=\"sk-estimator-id-21\" class=\"sk-toggleable__label sk-toggleable__label-arrow\">RandomUnderSampler</label><div class=\"sk-toggleable__content\"><pre>RandomUnderSampler()</pre></div></div></div><div class=\"sk-item\"><div class=\"sk-estimator sk-toggleable\"><input class=\"sk-toggleable__control sk-hidden--visually\" id=\"sk-estimator-id-22\" type=\"checkbox\" ><label for=\"sk-estimator-id-22\" class=\"sk-toggleable__label sk-toggleable__label-arrow\">LGBMClassifier</label><div class=\"sk-toggleable__content\"><pre>LGBMClassifier(colsample_bytree=0.3, learning_rate=0.04, max_depth=8,\n",
       "               min_child_samples=3, n_estimators=200, num_leaves=3)</pre></div></div></div></div></div></div></div>"
      ],
      "text/plain": [
       "Pipeline(steps=[('imputer',\n",
       "                 ColumnTransformer(transformers=[('simpleimputer-1',\n",
       "                                                  SimpleImputer(strategy='median'),\n",
       "                                                  ['CODE_GENDER',\n",
       "                                                   'FLAG_OWN_CAR',\n",
       "                                                   'FLAG_OWN_REALTY',\n",
       "                                                   'CNT_CHILDREN',\n",
       "                                                   'AMT_INCOME_TOTAL',\n",
       "                                                   'AMT_CREDIT', 'AMT_ANNUITY',\n",
       "                                                   'AMT_GOODS_PRICE',\n",
       "                                                   'REGION_POPULATION_RELATIVE',\n",
       "                                                   'DAYS_BIRTH',\n",
       "                                                   'DAYS_EMPLOYED',\n",
       "                                                   'DAYS_REGISTRATION',\n",
       "                                                   'DAYS_ID_PUBLISH',\n",
       "                                                   'OWN_CAR_AGE', 'F...\n",
       "                                                   'CC_NAME_CONTRACT_STATUS_Signed_MAX',\n",
       "                                                   'CC_NAME_CONTRACT_STATUS_nan_MIN',\n",
       "                                                   'CC_NAME_CONTRACT_STATUS_nan_MAX'])])),\n",
       "                ('scaler', StandardScaler()),\n",
       "                ('category_encoding', TargetEncoder()),\n",
       "                ('reduce_dim', SelectKBest(k=200)),\n",
       "                ('sampler', RandomUnderSampler()),\n",
       "                ('classifier',\n",
       "                 LGBMClassifier(colsample_bytree=0.3, learning_rate=0.04,\n",
       "                                max_depth=8, min_child_samples=3,\n",
       "                                n_estimators=200, num_leaves=3))])"
      ]
     },
     "execution_count": 19,
     "metadata": {},
     "output_type": "execute_result"
    }
   ],
   "source": [
    "model"
   ]
  },
  {
   "cell_type": "code",
   "execution_count": 20,
   "metadata": {
    "execution": {
     "iopub.execute_input": "2024-03-08T07:48:36.055213Z",
     "iopub.status.busy": "2024-03-08T07:48:36.055092Z",
     "iopub.status.idle": "2024-03-08T07:48:36.251051Z",
     "shell.execute_reply": "2024-03-08T07:48:36.250765Z",
     "shell.execute_reply.started": "2024-03-08T07:48:36.055206Z"
    }
   },
   "outputs": [
    {
     "data": {
      "image/png": "[encoded data removed]",
      "text/plain": [
       "<Figure size 640x480 with 1 Axes>"
      ]
     },
     "metadata": {},
     "output_type": "display_data"
    }
   ],
   "source": [
    "# get names of columns after dimension reduction\n",
    "features_after_dim_reduc = X_train.columns[model[\"reduce_dim\"].get_support()]\n",
    "# Plot feature importance\n",
    "pd.DataFrame(\n",
    "    model[\"classifier\"].feature_importances_,\n",
    "    index=features_after_dim_reduc,\n",
    "    columns=[\"feature_importance\"],\n",
    ").sort_values(by=\"feature_importance\").tail(20).plot.barh()\n",
    "plt.title(\"Feature importance in LGBM model\")\n",
    "plt.show();"
   ]
  },
  {
   "cell_type": "code",
   "execution_count": 28,
   "metadata": {
    "execution": {
     "iopub.execute_input": "2024-03-08T07:51:25.798571Z",
     "iopub.status.busy": "2024-03-08T07:51:25.798419Z",
     "iopub.status.idle": "2024-03-08T07:51:56.722575Z",
     "shell.execute_reply": "2024-03-08T07:51:56.722126Z",
     "shell.execute_reply.started": "2024-03-08T07:51:25.798561Z"
    }
   },
   "outputs": [
    {
     "data": {
      "text/plain": [
       "[]"
      ]
     },
     "execution_count": 28,
     "metadata": {},
     "output_type": "execute_result"
    },
    {
     "data": {
      "image/png": "[encoded data removed]",
      "text/plain": [
       "<Figure size 640x480 with 1 Axes>"
      ]
     },
     "metadata": {},
     "output_type": "display_data"
    }
   ],
   "source": [
    "res_roc_auc = pd.Series()\n",
    "res_accuracy = pd.Series()\n",
    "res_pnl = pd.Series()\n",
    "for threshold in np.linspace(0, 1, 20):\n",
    "    y_pred_threshold = (\n",
    "        model.predict_proba(\n",
    "            X_test,\n",
    "        )[:, 1]\n",
    "        >= threshold\n",
    "    ).astype(int)\n",
    "    res_roc_auc.loc[threshold] = metrics.roc_auc_score(y_test, y_pred_threshold)\n",
    "    res_accuracy.loc[threshold] = metrics.accuracy_score(y_test, y_pred_threshold)\n",
    "    res_pnl.loc[threshold] = pnl(y_test, y_pred_threshold)\n",
    "\n",
    "ax = res_pnl.plot()\n",
    "plt.xlabel(\"proba_predict threshold\")\n",
    "plt.ylabel(\"pnl\")\n",
    "plt.plot()\n",
    "# ax = res_accuracy.plot()"
   ]
  },
  {
   "cell_type": "code",
   "execution_count": null,
   "metadata": {
    "execution": {
     "iopub.status.busy": "2024-03-07T19:57:16.521728Z",
     "iopub.status.idle": "2024-03-07T19:57:16.521839Z",
     "shell.execute_reply": "2024-03-07T19:57:16.521764Z",
     "shell.execute_reply.started": "2024-03-07T19:57:16.521761Z"
    }
   },
   "outputs": [],
   "source": [
    "res_roc_auc.max()"
   ]
  },
  {
   "cell_type": "code",
   "execution_count": null,
   "metadata": {
    "execution": {
     "iopub.status.busy": "2024-03-07T19:57:16.522336Z",
     "iopub.status.idle": "2024-03-07T19:57:16.522441Z",
     "shell.execute_reply": "2024-03-07T19:57:16.522400Z",
     "shell.execute_reply.started": "2024-03-07T19:57:16.522396Z"
    }
   },
   "outputs": [],
   "source": [
    "res_pnl.idxmax()"
   ]
  },
  {
   "cell_type": "code",
   "execution_count": null,
   "metadata": {
    "execution": {
     "iopub.status.busy": "2024-03-07T19:57:16.522611Z",
     "iopub.status.idle": "2024-03-07T19:57:16.522689Z",
     "shell.execute_reply": "2024-03-07T19:57:16.522653Z",
     "shell.execute_reply.started": "2024-03-07T19:57:16.522650Z"
    }
   },
   "outputs": [],
   "source": [
    "res_pnl.describe()"
   ]
  },
  {
   "cell_type": "code",
   "execution_count": null,
   "metadata": {
    "execution": {
     "iopub.status.busy": "2024-03-07T19:57:16.522849Z",
     "iopub.status.idle": "2024-03-07T19:57:16.522921Z",
     "shell.execute_reply": "2024-03-07T19:57:16.522888Z",
     "shell.execute_reply.started": "2024-03-07T19:57:16.522884Z"
    }
   },
   "outputs": [],
   "source": [
    "ax = res_roc_auc.plot()\n",
    "plt.xlabel(\"proba_predict threshold\")\n",
    "plt.ylabel(\"roc_auc_score\")\n",
    "plt.plot()\n",
    "# ax = res_accuracy.plot()\n",
    "# TODO: use pnl as y-axis"
   ]
  },
  {
   "cell_type": "code",
   "execution_count": null,
   "metadata": {
    "execution": {
     "iopub.status.busy": "2024-03-07T19:57:16.523105Z",
     "iopub.status.idle": "2024-03-07T19:57:16.523172Z",
     "shell.execute_reply": "2024-03-07T19:57:16.523142Z",
     "shell.execute_reply.started": "2024-03-07T19:57:16.523139Z"
    }
   },
   "outputs": [],
   "source": [
    "res_accuracy.plot()"
   ]
  },
  {
   "cell_type": "markdown",
   "metadata": {},
   "source": [
    "# Scoring metric"
   ]
  },
  {
   "cell_type": "markdown",
   "metadata": {},
   "source": [
    "## Baseline model"
   ]
  },
  {
   "cell_type": "code",
   "execution_count": null,
   "metadata": {},
   "outputs": [],
   "source": [
    "# DummyClassifier"
   ]
  },
  {
   "cell_type": "code",
   "execution_count": 29,
   "metadata": {
    "execution": {
     "iopub.execute_input": "2024-03-08T07:52:37.281520Z",
     "iopub.status.busy": "2024-03-08T07:52:37.281398Z",
     "iopub.status.idle": "2024-03-08T07:52:37.284062Z",
     "shell.execute_reply": "2024-03-08T07:52:37.283629Z",
     "shell.execute_reply.started": "2024-03-08T07:52:37.281514Z"
    }
   },
   "outputs": [],
   "source": [
    "from sklearn.dummy import DummyClassifier"
   ]
  },
  {
   "cell_type": "code",
   "execution_count": 54,
   "metadata": {
    "execution": {
     "iopub.execute_input": "2024-03-08T08:07:23.830521Z",
     "iopub.status.busy": "2024-03-08T08:07:23.830396Z",
     "iopub.status.idle": "2024-03-08T08:07:23.836577Z",
     "shell.execute_reply": "2024-03-08T08:07:23.836094Z",
     "shell.execute_reply.started": "2024-03-08T08:07:23.830513Z"
    }
   },
   "outputs": [
    {
     "data": {
      "text/plain": [
       "'$-19.7M'"
      ]
     },
     "execution_count": 54,
     "metadata": {},
     "output_type": "execute_result"
    }
   ],
   "source": [
    "human_format(pnl(y_test, y_pred, normalize=False))"
   ]
  },
  {
   "cell_type": "code",
   "execution_count": null,
   "metadata": {
    "execution": {
     "iopub.execute_input": "2024-03-08T07:55:29.819174Z",
     "iopub.status.busy": "2024-03-08T07:55:29.819037Z",
     "iopub.status.idle": "2024-03-08T07:55:29.824923Z",
     "shell.execute_reply": "2024-03-08T07:55:29.824668Z",
     "shell.execute_reply.started": "2024-03-08T07:55:29.819166Z"
    }
   },
   "outputs": [],
   "source": [
    "grant_all = DummyClassifier(strategy=\"constant\", constant=0)\n",
    "grant_all.fit(X_train, y_train)\n",
    "\n",
    "deny_all = DummyClassifier(strategy=\"constant\", constant=1)\n",
    "deny_all.fit(X_train, y_train)"
   ]
  },
  {
   "cell_type": "code",
   "execution_count": 26,
   "metadata": {
    "execution": {
     "iopub.execute_input": "2024-03-08T07:50:38.269494Z",
     "iopub.status.busy": "2024-03-08T07:50:38.269369Z",
     "iopub.status.idle": "2024-03-08T07:50:38.275536Z",
     "shell.execute_reply": "2024-03-08T07:50:38.275292Z",
     "shell.execute_reply.started": "2024-03-08T07:50:38.269487Z"
    }
   },
   "outputs": [
    {
     "data": {
      "text/plain": [
       "'$340M'"
      ]
     },
     "execution_count": 26,
     "metadata": {},
     "output_type": "execute_result"
    }
   ],
   "source": [
    "# Perfect classifier\n",
    "human_format(pnl(y_test, y_test, normalize=False))"
   ]
  },
  {
   "cell_type": "markdown",
   "metadata": {},
   "source": [
    "## Confusion matrix"
   ]
  },
  {
   "cell_type": "code",
   "execution_count": 31,
   "metadata": {
    "execution": {
     "iopub.execute_input": "2024-03-07T20:27:04.840388Z",
     "iopub.status.busy": "2024-03-07T20:27:04.840256Z",
     "iopub.status.idle": "2024-03-07T20:27:04.852947Z",
     "shell.execute_reply": "2024-03-07T20:27:04.852236Z",
     "shell.execute_reply.started": "2024-03-07T20:27:04.840381Z"
    }
   },
   "outputs": [
    {
     "ename": "NameError",
     "evalue": "name 'clf' is not defined",
     "output_type": "error",
     "traceback": [
      "\u001b[0;31m---------------------------------------------------------------------------\u001b[0m",
      "\u001b[0;31mNameError\u001b[0m                                 Traceback (most recent call last)",
      "Cell \u001b[0;32mIn[31], line 1\u001b[0m\n\u001b[0;32m----> 1\u001b[0m cm \u001b[38;5;241m=\u001b[39m metrics\u001b[38;5;241m.\u001b[39mconfusion_matrix(y_test, y_pred, labels\u001b[38;5;241m=\u001b[39mclf\u001b[38;5;241m.\u001b[39mclasses_, normalize\u001b[38;5;241m=\u001b[39m\u001b[38;5;28;01mNone\u001b[39;00m)\n\u001b[1;32m      2\u001b[0m metrics\u001b[38;5;241m.\u001b[39mConfusionMatrixDisplay(\n\u001b[1;32m      3\u001b[0m     cm,\n\u001b[1;32m      4\u001b[0m )\u001b[38;5;241m.\u001b[39mplot()\n",
      "\u001b[0;31mNameError\u001b[0m: name 'clf' is not defined"
     ]
    }
   ],
   "source": [
    "cm = metrics.confusion_matrix(y_test, y_pred, labels=clf.classes_, normalize=None)\n",
    "metrics.ConfusionMatrixDisplay(\n",
    "    cm,\n",
    ").plot();"
   ]
  },
  {
   "cell_type": "code",
   "execution_count": null,
   "metadata": {
    "execution": {
     "iopub.status.busy": "2024-03-07T19:57:16.523632Z",
     "iopub.status.idle": "2024-03-07T19:57:16.523712Z",
     "shell.execute_reply": "2024-03-07T19:57:16.523675Z",
     "shell.execute_reply.started": "2024-03-07T19:57:16.523672Z"
    }
   },
   "outputs": [],
   "source": [
    "pd.Series(y_pred).value_counts()"
   ]
  },
  {
   "cell_type": "code",
   "execution_count": null,
   "metadata": {
    "execution": {
     "iopub.status.busy": "2024-03-07T19:57:16.523869Z",
     "iopub.status.idle": "2024-03-07T19:57:16.523936Z",
     "shell.execute_reply": "2024-03-07T19:57:16.523906Z",
     "shell.execute_reply.started": "2024-03-07T19:57:16.523903Z"
    }
   },
   "outputs": [],
   "source": [
    "pd.Series(y_test).value_counts()"
   ]
  },
  {
   "cell_type": "code",
   "execution_count": null,
   "metadata": {
    "execution": {
     "iopub.status.busy": "2024-03-07T19:57:16.524107Z",
     "iopub.status.idle": "2024-03-07T19:57:16.524173Z",
     "shell.execute_reply": "2024-03-07T19:57:16.524143Z",
     "shell.execute_reply.started": "2024-03-07T19:57:16.524140Z"
    }
   },
   "outputs": [],
   "source": [
    "y_pred.mean()"
   ]
  },
  {
   "cell_type": "code",
   "execution_count": null,
   "metadata": {
    "execution": {
     "iopub.status.busy": "2024-03-07T19:57:16.524335Z",
     "iopub.status.idle": "2024-03-07T19:57:16.524409Z",
     "shell.execute_reply": "2024-03-07T19:57:16.524375Z",
     "shell.execute_reply.started": "2024-03-07T19:57:16.524372Z"
    }
   },
   "outputs": [],
   "source": [
    "metrics.accuracy_score(y_test, y_pred)"
   ]
  },
  {
   "cell_type": "markdown",
   "metadata": {},
   "source": [
    "## ROC"
   ]
  },
  {
   "cell_type": "code",
   "execution_count": null,
   "metadata": {
    "execution": {
     "iopub.status.busy": "2024-03-07T19:57:16.524556Z",
     "iopub.status.idle": "2024-03-07T19:57:16.524623Z",
     "shell.execute_reply": "2024-03-07T19:57:16.524592Z",
     "shell.execute_reply.started": "2024-03-07T19:57:16.524589Z"
    }
   },
   "outputs": [],
   "source": [
    "metrics.roc_auc_score(y_test, y_pred)"
   ]
  },
  {
   "cell_type": "code",
   "execution_count": null,
   "metadata": {
    "execution": {
     "iopub.status.busy": "2024-03-07T19:57:16.524783Z",
     "iopub.status.idle": "2024-03-07T19:57:16.524855Z",
     "shell.execute_reply": "2024-03-07T19:57:16.524823Z",
     "shell.execute_reply.started": "2024-03-07T19:57:16.524820Z"
    }
   },
   "outputs": [],
   "source": [
    "[fpr, tpr, thr] = metrics.roc_curve(y_test, y_pred)\n",
    "plt.plot(fpr, tpr, color=\"coral\", lw=2)\n",
    "plt.xlim([0.0, 1.0])\n",
    "plt.ylim([0.0, 1.05])\n",
    "plt.xlabel(\"1 - specificite\", fontsize=14)\n",
    "plt.ylabel(\"Sensibilite\", fontsize=14)\n",
    "\n",
    "# indice du premier seuil pour lequel\n",
    "# la sensibilité est supérieure à 0.95\n",
    "idx = np.min(np.where(tpr > 0.95))\n",
    "\n",
    "print(\"Sensibilité : {:.2f}\".format(tpr[idx]))\n",
    "print(\"Spécificité : {:.2f}\".format(1 - fpr[idx]))\n",
    "print(\"Seuil : {:.2f}\".format(thr[idx]))"
   ]
  },
  {
   "cell_type": "markdown",
   "metadata": {},
   "source": [
    "## Custom PnL"
   ]
  },
  {
   "cell_type": "code",
   "execution_count": null,
   "metadata": {
    "execution": {
     "iopub.status.busy": "2024-03-07T19:57:16.525085Z",
     "iopub.status.idle": "2024-03-07T19:57:16.525154Z",
     "shell.execute_reply": "2024-03-07T19:57:16.525123Z",
     "shell.execute_reply.started": "2024-03-07T19:57:16.525120Z"
    }
   },
   "outputs": [],
   "source": [
    "print(\"P&L avec prédictions modèle : \", pnl(y_pred, y_test))\n",
    "print(\"P&L avec prédictions parfaites : \", pnl(y_test, y_test))"
   ]
  },
  {
   "cell_type": "code",
   "execution_count": null,
   "metadata": {
    "execution": {
     "iopub.status.busy": "2024-03-07T19:57:16.525357Z",
     "iopub.status.idle": "2024-03-07T19:57:16.525422Z",
     "shell.execute_reply": "2024-03-07T19:57:16.525392Z",
     "shell.execute_reply.started": "2024-03-07T19:57:16.525389Z"
    }
   },
   "outputs": [],
   "source": [
    "metrics.roc_auc_score(y_pred, y_test)"
   ]
  },
  {
   "cell_type": "code",
   "execution_count": null,
   "metadata": {
    "execution": {
     "iopub.status.busy": "2024-03-07T19:57:16.525658Z",
     "iopub.status.idle": "2024-03-07T19:57:16.525730Z",
     "shell.execute_reply": "2024-03-07T19:57:16.525697Z",
     "shell.execute_reply.started": "2024-03-07T19:57:16.525693Z"
    }
   },
   "outputs": [],
   "source": [
    "print(\n",
    "    \"P&L avec prédictions modèle : \", human_format(pnl(y_pred, y_test, normalize=False))\n",
    ")\n",
    "print(\n",
    "    \"P&L avec prédictions parfaites : \",\n",
    "    human_format(pnl(y_test, y_test, normalize=False)),\n",
    ")"
   ]
  },
  {
   "cell_type": "code",
   "execution_count": null,
   "metadata": {
    "execution": {
     "iopub.status.busy": "2024-03-07T19:57:16.525871Z",
     "iopub.status.idle": "2024-03-07T19:57:16.525938Z",
     "shell.execute_reply": "2024-03-07T19:57:16.525907Z",
     "shell.execute_reply.started": "2024-03-07T19:57:16.525904Z"
    }
   },
   "outputs": [],
   "source": [
    "# mlflow.log_metric(\"custom_pnl\", pnl(y_pred, y_test))"
   ]
  },
  {
   "cell_type": "code",
   "execution_count": null,
   "metadata": {
    "editable": true,
    "execution": {
     "iopub.status.busy": "2024-03-07T19:57:16.526173Z",
     "iopub.status.idle": "2024-03-07T19:57:16.526240Z",
     "shell.execute_reply": "2024-03-07T19:57:16.526209Z",
     "shell.execute_reply.started": "2024-03-07T19:57:16.526206Z"
    },
    "slideshow": {
     "slide_type": ""
    },
    "tags": []
   },
   "outputs": [],
   "source": [
    "y_pred.mean()"
   ]
  },
  {
   "cell_type": "code",
   "execution_count": null,
   "metadata": {
    "execution": {
     "iopub.status.busy": "2024-03-07T19:57:16.526449Z",
     "iopub.status.idle": "2024-03-07T19:57:16.526523Z",
     "shell.execute_reply": "2024-03-07T19:57:16.526490Z",
     "shell.execute_reply.started": "2024-03-07T19:57:16.526487Z"
    }
   },
   "outputs": [],
   "source": [
    "y_test.mean()"
   ]
  },
  {
   "cell_type": "markdown",
   "metadata": {},
   "source": [
    "# Track model with MLFlow"
   ]
  },
  {
   "cell_type": "code",
   "execution_count": null,
   "metadata": {
    "editable": true,
    "execution": {
     "iopub.status.busy": "2024-03-07T19:57:16.526680Z",
     "iopub.status.idle": "2024-03-07T19:57:16.526756Z",
     "shell.execute_reply": "2024-03-07T19:57:16.526720Z",
     "shell.execute_reply.started": "2024-03-07T19:57:16.526716Z"
    },
    "slideshow": {
     "slide_type": ""
    },
    "tags": []
   },
   "outputs": [],
   "source": [
    "# local server must be running:\n",
    "# $ mlflow ui\n",
    "mlflow.set_tracking_uri(uri=\"http://127.0.0.1:5000\")\n",
    "mlflow.set_experiment(\"P7 ML\")\n",
    "# mlflow.sklearn.autolog()  # log only sklearn model, not shap etc\n",
    "\n",
    "# Start an MLflow run\n",
    "with mlflow.start_run():\n",
    "    # Log the hyperparameters\n",
    "    mlflow.log_params(model_params)\n",
    "\n",
    "    # Log the loss metric\n",
    "    mlflow.log_metric(\"accuracy\", metrics.accuracy_score(y_test, y_pred))\n",
    "    mlflow.log_metric(\"roc_auc\", metrics.roc_auc_score(y_test, y_pred))\n",
    "    mlflow.log_metric(\"custom_pnl\", pnl(y_pred, y_test))\n",
    "\n",
    "    # Set a tag that we can use to remind ourselves what this run was for\n",
    "    # mlflow.set_tag(\"Description\", \"Basic LR model for iris data\")\n",
    "\n",
    "    # Infer the model signature\n",
    "    signature = infer_signature(X_train, model.predict(X_train))\n",
    "\n",
    "    # Log the model\n",
    "    model_info = mlflow.sklearn.log_model(\n",
    "        sk_model=model,\n",
    "        artifact_path=\"P7_model\",\n",
    "        signature=signature,\n",
    "        input_example=X_train,\n",
    "        # registered_model_name=\"tracking-quickstart\",\n",
    "    )"
   ]
  },
  {
   "cell_type": "markdown",
   "metadata": {},
   "source": [
    "## Essai non concluant : calculer intérêts et durée du prêt en fonction du montant total et de l'annuity"
   ]
  },
  {
   "cell_type": "code",
   "execution_count": null,
   "metadata": {
    "execution": {
     "iopub.status.busy": "2024-03-07T19:57:16.526937Z",
     "iopub.status.idle": "2024-03-07T19:57:16.527004Z",
     "shell.execute_reply": "2024-03-07T19:57:16.526973Z",
     "shell.execute_reply.started": "2024-03-07T19:57:16.526970Z"
    }
   },
   "outputs": [],
   "source": [
    "df[[\"AMT_CREDIT\", \"AMT_ANNUITY\", \"AMT_GOODS_PRICE\"]].sample(10)"
   ]
  },
  {
   "cell_type": "code",
   "execution_count": null,
   "metadata": {
    "execution": {
     "iopub.status.busy": "2024-03-07T19:57:16.527200Z",
     "iopub.status.idle": "2024-03-07T19:57:16.527267Z",
     "shell.execute_reply": "2024-03-07T19:57:16.527235Z",
     "shell.execute_reply.started": "2024-03-07T19:57:16.527232Z"
    }
   },
   "outputs": [],
   "source": [
    "(df.AMT_ANNUITY / df.AMT_CREDIT).describe()\n",
    "\n",
    "# df.AMT_CREDIT * 1.0665 / df.AMT_ANNUITY"
   ]
  },
  {
   "cell_type": "markdown",
   "metadata": {},
   "source": [
    "# Shap values"
   ]
  },
  {
   "cell_type": "code",
   "execution_count": null,
   "metadata": {
    "execution": {
     "iopub.status.busy": "2024-03-07T19:57:16.527436Z",
     "iopub.status.idle": "2024-03-07T19:57:16.527507Z",
     "shell.execute_reply": "2024-03-07T19:57:16.527472Z",
     "shell.execute_reply.started": "2024-03-07T19:57:16.527469Z"
    }
   },
   "outputs": [],
   "source": [
    "explainer = shap.LinearExplainer(grid.best_estimator_[\"classifier\"], X_train)\n",
    "shap_values = explainer.shap_values(X_test)\n",
    "shap_values"
   ]
  },
  {
   "cell_type": "code",
   "execution_count": null,
   "metadata": {
    "execution": {
     "iopub.status.busy": "2024-03-07T19:57:16.527664Z",
     "iopub.status.idle": "2024-03-07T19:57:16.527731Z",
     "shell.execute_reply": "2024-03-07T19:57:16.527700Z",
     "shell.execute_reply.started": "2024-03-07T19:57:16.527697Z"
    }
   },
   "outputs": [],
   "source": [
    "X_train.sample()"
   ]
  },
  {
   "cell_type": "code",
   "execution_count": null,
   "metadata": {
    "execution": {
     "iopub.status.busy": "2024-03-07T19:57:16.527921Z",
     "iopub.status.idle": "2024-03-07T19:57:16.527996Z",
     "shell.execute_reply": "2024-03-07T19:57:16.527963Z",
     "shell.execute_reply.started": "2024-03-07T19:57:16.527959Z"
    }
   },
   "outputs": [],
   "source": [
    "len(shap_values)"
   ]
  },
  {
   "cell_type": "code",
   "execution_count": null,
   "metadata": {
    "execution": {
     "iopub.status.busy": "2024-03-07T19:57:16.528212Z",
     "iopub.status.idle": "2024-03-07T19:57:16.528282Z",
     "shell.execute_reply": "2024-03-07T19:57:16.528250Z",
     "shell.execute_reply.started": "2024-03-07T19:57:16.528246Z"
    }
   },
   "outputs": [],
   "source": [
    "model = grid.best_estimator_"
   ]
  },
  {
   "cell_type": "code",
   "execution_count": null,
   "metadata": {
    "execution": {
     "iopub.status.busy": "2024-03-07T19:57:16.528449Z",
     "iopub.status.idle": "2024-03-07T19:57:16.528520Z",
     "shell.execute_reply": "2024-03-07T19:57:16.528486Z",
     "shell.execute_reply.started": "2024-03-07T19:57:16.528483Z"
    }
   },
   "outputs": [],
   "source": [
    "X_test.shape"
   ]
  },
  {
   "cell_type": "code",
   "execution_count": null,
   "metadata": {
    "execution": {
     "iopub.status.busy": "2024-03-07T19:57:16.528682Z",
     "iopub.status.idle": "2024-03-07T19:57:16.528749Z",
     "shell.execute_reply": "2024-03-07T19:57:16.528717Z",
     "shell.execute_reply.started": "2024-03-07T19:57:16.528714Z"
    }
   },
   "outputs": [],
   "source": [
    "X_test.shape"
   ]
  },
  {
   "cell_type": "code",
   "execution_count": null,
   "metadata": {
    "execution": {
     "iopub.status.busy": "2024-03-07T19:57:16.528912Z",
     "iopub.status.idle": "2024-03-07T19:57:16.528975Z",
     "shell.execute_reply": "2024-03-07T19:57:16.528946Z",
     "shell.execute_reply.started": "2024-03-07T19:57:16.528943Z"
    }
   },
   "outputs": [],
   "source": [
    "idx = X_test.sample().index[0]"
   ]
  },
  {
   "cell_type": "code",
   "execution_count": null,
   "metadata": {
    "execution": {
     "iopub.status.busy": "2024-03-07T19:57:16.529185Z",
     "iopub.status.idle": "2024-03-07T19:57:16.529255Z",
     "shell.execute_reply": "2024-03-07T19:57:16.529222Z",
     "shell.execute_reply.started": "2024-03-07T19:57:16.529219Z"
    }
   },
   "outputs": [],
   "source": [
    "X_test.loc[X_test.sample().index[0], :]"
   ]
  },
  {
   "cell_type": "code",
   "execution_count": null,
   "metadata": {
    "execution": {
     "iopub.status.busy": "2024-03-07T19:57:16.529466Z",
     "iopub.status.idle": "2024-03-07T19:57:16.529534Z",
     "shell.execute_reply": "2024-03-07T19:57:16.529503Z",
     "shell.execute_reply.started": "2024-03-07T19:57:16.529499Z"
    }
   },
   "outputs": [],
   "source": [
    "def shap_for_one(df, idx):\n",
    "    \"\"\"\n",
    "    Return 10 top\n",
    "    \"\"\"\n",
    "    shap_for_sample = pd.DataFrame(explainer.shap_values(df.loc[idx, :])).fillna(0)\n",
    "    shap_OK = StandardScaler().fit_transform(shap_for_sample)\n",
    "    shap_OK = pd.DataFrame(shap_OK, index=df.columns)\n",
    "    shap_OK = pd.Series(shap_OK.iloc[:, 0])\n",
    "    top_shap = shap_OK.sort_values(ascending=False).head(10)\n",
    "    bottom_shap = shap_OK.sort_values(ascending=True).head(10)\n",
    "    return {\"top\": top_shap.to_dict(), \"bottom\": bottom_shap.to_dict()}\n",
    "\n",
    "\n",
    "shap_for_one(X_test, X_test.sample().index[0])"
   ]
  },
  {
   "cell_type": "code",
   "execution_count": null,
   "metadata": {
    "execution": {
     "iopub.status.busy": "2024-03-07T19:57:16.529808Z",
     "iopub.status.idle": "2024-03-07T19:57:16.529875Z",
     "shell.execute_reply": "2024-03-07T19:57:16.529844Z",
     "shell.execute_reply.started": "2024-03-07T19:57:16.529840Z"
    }
   },
   "outputs": [],
   "source": [
    "shap_dict = shap_for_one(X_test, X_test.sample().index[0])\n",
    "# merge top and bottom into one dict\n",
    "shap_dict[\"top\"].update(shap_dict[\"bottom\"])\n",
    "keys = np.fromiter(shap_dict[\"top\"].keys(), dtype=object)\n",
    "values = np.fromiter(shap_dict[\"top\"].values(), dtype=float)\n",
    "shap.bar_plot(\n",
    "    values,\n",
    "    feature_names=keys,\n",
    "    max_display=20,\n",
    ")"
   ]
  },
  {
   "cell_type": "code",
   "execution_count": null,
   "metadata": {
    "execution": {
     "iopub.status.busy": "2024-03-07T19:57:16.530013Z",
     "iopub.status.idle": "2024-03-07T19:57:16.530078Z",
     "shell.execute_reply": "2024-03-07T19:57:16.530047Z",
     "shell.execute_reply.started": "2024-03-07T19:57:16.530044Z"
    }
   },
   "outputs": [],
   "source": [
    "np.fromiter(shap_dict[\"top\"].keys(), dtype=object)"
   ]
  },
  {
   "cell_type": "code",
   "execution_count": null,
   "metadata": {
    "execution": {
     "iopub.status.busy": "2024-03-07T19:57:16.530274Z",
     "iopub.status.idle": "2024-03-07T19:57:16.530341Z",
     "shell.execute_reply": "2024-03-07T19:57:16.530310Z",
     "shell.execute_reply.started": "2024-03-07T19:57:16.530307Z"
    }
   },
   "outputs": [],
   "source": [
    "explainer.shap_values(X_test.sample(1))[0]"
   ]
  },
  {
   "cell_type": "code",
   "execution_count": null,
   "metadata": {
    "execution": {
     "iopub.status.busy": "2024-03-07T19:57:16.530490Z",
     "iopub.status.idle": "2024-03-07T19:57:16.530560Z",
     "shell.execute_reply": "2024-03-07T19:57:16.530527Z",
     "shell.execute_reply.started": "2024-03-07T19:57:16.530524Z"
    }
   },
   "outputs": [],
   "source": [
    "# explainer for only 1 sample row\n",
    "# TODO prendre que les tops\n",
    "shap.bar_plot(\n",
    "    explainer.shap_values(X_test.sample(1))[0],\n",
    "    feature_names=X_test.columns,\n",
    "    max_display=20,\n",
    ")"
   ]
  },
  {
   "cell_type": "code",
   "execution_count": null,
   "metadata": {
    "execution": {
     "iopub.status.busy": "2024-03-07T19:57:16.530748Z",
     "iopub.status.idle": "2024-03-07T19:57:16.530816Z",
     "shell.execute_reply": "2024-03-07T19:57:16.530785Z",
     "shell.execute_reply.started": "2024-03-07T19:57:16.530782Z"
    }
   },
   "outputs": [],
   "source": [
    "# shap.plots.beeswarm(explainer.shap_values(X_test))"
   ]
  },
  {
   "cell_type": "code",
   "execution_count": null,
   "metadata": {
    "execution": {
     "iopub.status.busy": "2024-03-07T19:57:16.530971Z",
     "iopub.status.idle": "2024-03-07T19:57:16.531042Z",
     "shell.execute_reply": "2024-03-07T19:57:16.531012Z",
     "shell.execute_reply.started": "2024-03-07T19:57:16.531009Z"
    }
   },
   "outputs": [],
   "source": [
    "shap.summary_plot(\n",
    "    explainer.shap_values(X_test).astype(float),\n",
    "    feature_names=X_test.columns,\n",
    "    # use_log_scale=True,\n",
    ")"
   ]
  },
  {
   "cell_type": "markdown",
   "metadata": {},
   "source": [
    "# Save trained model"
   ]
  },
  {
   "cell_type": "code",
   "execution_count": null,
   "metadata": {
    "execution": {
     "iopub.status.busy": "2024-03-07T19:57:16.531246Z",
     "iopub.status.idle": "2024-03-07T19:57:16.531313Z",
     "shell.execute_reply": "2024-03-07T19:57:16.531282Z",
     "shell.execute_reply.started": "2024-03-07T19:57:16.531279Z"
    }
   },
   "outputs": [],
   "source": [
    "# Standard\n",
    "import pickle\n",
    "\n",
    "with open(\"../models/model.pkl\", \"wb\") as f:\n",
    "    pickle.dump(grid.best_estimator_, f)\n",
    "with open(\"../models/shap_explainer.pkl\", \"wb\") as f:\n",
    "    pickle.dump(explainer, f)\n",
    "\n",
    "f.close()"
   ]
  },
  {
   "cell_type": "code",
   "execution_count": null,
   "metadata": {
    "execution": {
     "iopub.status.busy": "2024-03-07T19:57:16.531457Z",
     "iopub.status.idle": "2024-03-07T19:57:16.531525Z",
     "shell.execute_reply": "2024-03-07T19:57:16.531493Z",
     "shell.execute_reply.started": "2024-03-07T19:57:16.531490Z"
    }
   },
   "outputs": [],
   "source": [
    "grid.best_estimator_.predict_proba(pd.DataFrame(X_test.iloc[0, :]).T)"
   ]
  },
  {
   "cell_type": "code",
   "execution_count": null,
   "metadata": {},
   "outputs": [],
   "source": []
  },
  {
   "cell_type": "code",
   "execution_count": null,
   "metadata": {},
   "outputs": [],
   "source": []
  }
 ],
 "metadata": {
  "kernelspec": {
   "display_name": "Python 3 (ipykernel)",
   "language": "python",
   "name": "python3"
  },
  "language_info": {
   "codemirror_mode": {
    "name": "ipython",
    "version": 3
   },
   "file_extension": ".py",
   "mimetype": "text/x-python",
   "name": "python",
   "nbconvert_exporter": "python",
   "pygments_lexer": "ipython3",
   "version": "3.11.5"
  }
 },
 "nbformat": 4,
 "nbformat_minor": 4
}
