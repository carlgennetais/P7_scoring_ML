{
 "cells": [
  {
   "cell_type": "markdown",
   "metadata": {},
   "source": [
    "# Import"
   ]
  },
  {
   "cell_type": "code",
   "execution_count": 1,
   "metadata": {
    "execution": {
     "iopub.execute_input": "2024-03-07T22:04:00.162297Z",
     "iopub.status.busy": "2024-03-07T22:04:00.162128Z",
     "iopub.status.idle": "2024-03-07T22:04:00.804142Z",
     "shell.execute_reply": "2024-03-07T22:04:00.803647Z",
     "shell.execute_reply.started": "2024-03-07T22:04:00.162284Z"
    }
   },
   "outputs": [],
   "source": [
    "# Graphics\n",
    "import matplotlib.pyplot as plt\n",
    "\n",
    "# Pandas & ML\n",
    "import numpy as np\n",
    "import pandas as pd\n",
    "import seaborn as sns\n",
    "\n",
    "sns.set()\n",
    "\n",
    "# Third party\n",
    "import mlflow\n",
    "import shap\n",
    "from imblearn.combine import SMOTEENN, SMOTETomek\n",
    "from imblearn.over_sampling import SMOTE, RandomOverSampler\n",
    "from imblearn.pipeline import Pipeline\n",
    "from imblearn.under_sampling import RandomUnderSampler\n",
    "from lightgbm import LGBMClassifier\n",
    "from mlflow.models import infer_signature\n",
    "\n",
    "# Pandas & ML\n",
    "# from sklearn.pipeline import Pipeline\n",
    "from sklearn import metrics\n",
    "from sklearn.decomposition import NMF, PCA\n",
    "from sklearn.ensemble import RandomForestClassifier\n",
    "from sklearn.experimental import enable_halving_search_cv, enable_iterative_imputer\n",
    "from sklearn.feature_selection import (\n",
    "    SelectKBest,\n",
    "    VarianceThreshold,\n",
    "    mutual_info_classif,\n",
    ")\n",
    "from sklearn.impute import IterativeImputer, KNNImputer, SimpleImputer\n",
    "from sklearn.linear_model import LogisticRegression\n",
    "from sklearn.metrics._scorer import make_scorer\n",
    "from sklearn.model_selection import GridSearchCV, HalvingGridSearchCV, train_test_split\n",
    "from sklearn.preprocessing import (\n",
    "    FunctionTransformer,\n",
    "    MinMaxScaler,\n",
    "    RobustScaler,\n",
    "    StandardScaler,\n",
    ")\n",
    "from xgboost import XGBClassifier"
   ]
  },
  {
   "cell_type": "markdown",
   "metadata": {},
   "source": [
    "# Split train/test\n",
    "To keep some test data unseen by gridsearch"
   ]
  },
  {
   "cell_type": "code",
   "execution_count": 2,
   "metadata": {
    "execution": {
     "iopub.execute_input": "2024-03-07T22:04:01.697535Z",
     "iopub.status.busy": "2024-03-07T22:04:01.697414Z",
     "iopub.status.idle": "2024-03-07T22:04:02.334555Z",
     "shell.execute_reply": "2024-03-07T22:04:02.334016Z",
     "shell.execute_reply.started": "2024-03-07T22:04:01.697526Z"
    }
   },
   "outputs": [],
   "source": [
    "# load cleaned data\n",
    "app_train = pd.read_pickle(\"../data/processed/data_cleaned.pkl\")"
   ]
  },
  {
   "cell_type": "code",
   "execution_count": 3,
   "metadata": {
    "execution": {
     "iopub.execute_input": "2024-03-07T22:04:03.315439Z",
     "iopub.status.busy": "2024-03-07T22:04:03.315316Z",
     "iopub.status.idle": "2024-03-07T22:04:03.321307Z",
     "shell.execute_reply": "2024-03-07T22:04:03.320931Z",
     "shell.execute_reply.started": "2024-03-07T22:04:03.315431Z"
    }
   },
   "outputs": [
    {
     "name": "stdout",
     "output_type": "stream",
     "text": [
      "<class 'pandas.core.frame.DataFrame'>\n",
      "Index: 356251 entries, 0 to 356254\n",
      "Columns: 798 entries, index to CC_COUNT\n",
      "dtypes: bool(133), float64(606), int64(43), object(16)\n",
      "memory usage: 1.8+ GB\n"
     ]
    }
   ],
   "source": [
    "app_train.info()"
   ]
  },
  {
   "cell_type": "code",
   "execution_count": 4,
   "metadata": {
    "execution": {
     "iopub.execute_input": "2024-03-07T22:04:07.351522Z",
     "iopub.status.busy": "2024-03-07T22:04:07.351392Z",
     "iopub.status.idle": "2024-03-07T22:04:09.636650Z",
     "shell.execute_reply": "2024-03-07T22:04:09.635988Z",
     "shell.execute_reply.started": "2024-03-07T22:04:07.351513Z"
    }
   },
   "outputs": [],
   "source": [
    "X_train, X_test, y_train, y_test = train_test_split(\n",
    "    app_train.drop([\"TARGET\"], axis=1), app_train.TARGET, test_size=0.15\n",
    ")"
   ]
  },
  {
   "cell_type": "markdown",
   "metadata": {},
   "source": [
    "# Profits and Loss function"
   ]
  },
  {
   "cell_type": "code",
   "execution_count": 5,
   "metadata": {
    "execution": {
     "iopub.execute_input": "2024-03-07T22:04:10.918070Z",
     "iopub.status.busy": "2024-03-07T22:04:10.917962Z",
     "iopub.status.idle": "2024-03-07T22:04:10.921213Z",
     "shell.execute_reply": "2024-03-07T22:04:10.920718Z",
     "shell.execute_reply.started": "2024-03-07T22:04:10.918063Z"
    }
   },
   "outputs": [],
   "source": [
    "def human_format(num: float | int) -> str:\n",
    "    \"\"\"\n",
    "    Format a big number in a human readable way with dollar sign and SI prefixes (k,m,M etc)\n",
    "\n",
    "    Parameters\n",
    "    ----------\n",
    "    num: float | int\n",
    "        Raw number\n",
    "\n",
    "    Returns\n",
    "    -------\n",
    "    str:\n",
    "        Human readable number as a string\n",
    "    \"\"\"\n",
    "    num = float(\"{:.3g}\".format(num))\n",
    "    magnitude = 0\n",
    "    while abs(num) >= 1000:\n",
    "        magnitude += 1\n",
    "        num /= 1000.0\n",
    "    return \"{}{}\".format(\n",
    "        \"${:f}\".format(num).rstrip(\"0\").rstrip(\".\"), [\"\", \"K\", \"M\", \"B\", \"T\"][magnitude]\n",
    "    )"
   ]
  },
  {
   "cell_type": "code",
   "execution_count": 6,
   "metadata": {
    "editable": true,
    "execution": {
     "iopub.execute_input": "2024-03-07T22:04:11.773899Z",
     "iopub.status.busy": "2024-03-07T22:04:11.773794Z",
     "iopub.status.idle": "2024-03-07T22:04:13.200972Z",
     "shell.execute_reply": "2024-03-07T22:04:13.200541Z",
     "shell.execute_reply.started": "2024-03-07T22:04:11.773893Z"
    },
    "slideshow": {
     "slide_type": ""
    },
    "tags": []
   },
   "outputs": [],
   "source": [
    "# compute mean ratio of value of goods, and amount loaned for buying this goods\n",
    "GOODS_CREDIT_RATIO = (\n",
    "    app_train[app_train[\"AMT_GOODS_PRICE\"].notna()].AMT_GOODS_PRICE\n",
    "    / app_train[app_train[\"AMT_GOODS_PRICE\"].notna()].AMT_CREDIT\n",
    ").mean()\n",
    "\n",
    "\n",
    "def pnl(\n",
    "    y_true: \"ndarray\",\n",
    "    y_pred: \"ndarray\",\n",
    "    interest: \"float\" = 0.04,\n",
    "    goods_recover_rate: \"float\" = 0.30,\n",
    "    normalize: \"bool\" = True,\n",
    "):\n",
    "    \"\"\"\n",
    "    Naive estimation of gains and losses for the bank\n",
    "    if loans are granted according to model predictions.\n",
    "\n",
    "    Parameters\n",
    "    ----------\n",
    "    y_true: ndarray\n",
    "        Numpy array of true classes\n",
    "    y_pred: ndarray\n",
    "        Numpy array of predictions given by a model (0 or 1)\n",
    "    interest: float, default 0.04\n",
    "        Interest rate on credit amount the bank charges when loan is correctly repayed.\n",
    "        Because this value was not provided in the dataset, we'll use current market tendencies.\n",
    "    goods_recover_rate: float, default 0.60\n",
    "        Rate of monetary value recovered on goods seized by the bank for customers that can't repay their loan.\n",
    "    normalize: True | False, default: True\n",
    "        If False, returns total gains in dollars for the bank.\n",
    "        If True (default), returns a 0 to 1 ratio where 1 corresponds to the maximum\n",
    "        gain possible if all predictions are true (if y_pred == y_true)\n",
    "\n",
    "    Returns\n",
    "    -------\n",
    "    float:\n",
    "        Total sum of gains and losses for the bank\n",
    "    \"\"\"\n",
    "    # TODO: X en param\n",
    "    # df.apply(bank_revenue)\n",
    "    # y_proba\n",
    "    credit = app_train.loc[X_test.index, \"AMT_CREDIT\"]\n",
    "    # when goods value is missing, use 90% of credit amount\n",
    "    seized_goods = (\n",
    "        np.where(\n",
    "            app_train.loc[X_test.index, \"AMT_GOODS_PRICE\"].notna(),\n",
    "            app_train.loc[X_test.index, \"AMT_GOODS_PRICE\"],\n",
    "            app_train.loc[X_test.index, \"AMT_CREDIT\"] * GOODS_CREDIT_RATIO,\n",
    "        )\n",
    "        * goods_recover_rate\n",
    "    )\n",
    "    bank_revenue = pd.Series(np.nan)\n",
    "    # TP: loan correctly denied = no loss, no gain\n",
    "    bank_revenue = np.where((y_pred == 1) & (y_true == 1), 0, bank_revenue)\n",
    "    # FP: loan incorreclty denied: loss of interest\n",
    "    bank_revenue = np.where(\n",
    "        (y_pred == 1) & (y_true == 0),\n",
    "        -credit * interest,\n",
    "        bank_revenue,\n",
    "    )\n",
    "    # TN: loan correcly granted: gain of interest\n",
    "    bank_revenue = np.where(\n",
    "        (y_pred == 0) & (y_true == 0),\n",
    "        credit * interest,\n",
    "        bank_revenue,\n",
    "    )\n",
    "    # FN: loan incorrectly granted: loan amount is lost, customer goods are seized and sold\n",
    "    bank_revenue = np.where(\n",
    "        (y_pred == 0) & (y_true == 1),\n",
    "        -credit + seized_goods,\n",
    "        bank_revenue,\n",
    "    )\n",
    "    if normalize:\n",
    "        return bank_revenue.sum() / pnl(\n",
    "            y_true, y_true, interest, goods_recover_rate, normalize=False\n",
    "        )\n",
    "    else:\n",
    "        return bank_revenue.sum()"
   ]
  },
  {
   "cell_type": "markdown",
   "metadata": {},
   "source": [
    "### Create customer scorer from custom pnl function"
   ]
  },
  {
   "cell_type": "code",
   "execution_count": 7,
   "metadata": {
    "execution": {
     "iopub.execute_input": "2024-03-07T22:04:17.255008Z",
     "iopub.status.busy": "2024-03-07T22:04:17.254887Z",
     "iopub.status.idle": "2024-03-07T22:04:17.257303Z",
     "shell.execute_reply": "2024-03-07T22:04:17.256997Z",
     "shell.execute_reply.started": "2024-03-07T22:04:17.255001Z"
    }
   },
   "outputs": [],
   "source": [
    "pnl_scorer = make_scorer(pnl, greater_is_better=True)"
   ]
  },
  {
   "cell_type": "markdown",
   "metadata": {},
   "source": [
    "# Naive undersampler to fix target imbalance"
   ]
  },
  {
   "cell_type": "code",
   "execution_count": 8,
   "metadata": {
    "execution": {
     "iopub.execute_input": "2024-03-07T22:04:17.770406Z",
     "iopub.status.busy": "2024-03-07T22:04:17.770292Z",
     "iopub.status.idle": "2024-03-07T22:04:17.772510Z",
     "shell.execute_reply": "2024-03-07T22:04:17.772144Z",
     "shell.execute_reply.started": "2024-03-07T22:04:17.770398Z"
    }
   },
   "outputs": [],
   "source": [
    "# def NaiveUnderSampler(df):\n",
    "#     # find the minority class\n",
    "#     min_class = df.TARGET.value_counts().idxmin()\n",
    "#     # keep same number of majority class than minority\n",
    "#     target_minority_count = df[df.TARGET == min_class].shape[0]\n",
    "#     df_balanced = pd.concat(\n",
    "#         [\n",
    "#             df[df.TARGET == min_class].sample(target_minority_count),\n",
    "#             df[df.TARGET != min_class].sample(target_minority_count),\n",
    "#         ]\n",
    "#     )\n",
    "#     # shuffle rows\n",
    "#     return df_balanced.sample(frac=1)"
   ]
  },
  {
   "cell_type": "code",
   "execution_count": 9,
   "metadata": {
    "execution": {
     "iopub.execute_input": "2024-03-07T22:04:17.953498Z",
     "iopub.status.busy": "2024-03-07T22:04:17.953387Z",
     "iopub.status.idle": "2024-03-07T22:04:17.956162Z",
     "shell.execute_reply": "2024-03-07T22:04:17.955673Z",
     "shell.execute_reply.started": "2024-03-07T22:04:17.953491Z"
    }
   },
   "outputs": [],
   "source": [
    "def NaiveUnderSampler(X, y):\n",
    "    # TODO: docstring\n",
    "    # find the minority class\n",
    "    min_class = y.value_counts().idxmin()\n",
    "    # keep same number of majority class than minority\n",
    "    target_minority_count = y[y == min_class].shape[0]\n",
    "    df_balanced = pd.concat(\n",
    "        [\n",
    "            X[y == min_class].sample(target_minority_count),\n",
    "            X[y != min_class].sample(target_minority_count),\n",
    "        ]\n",
    "    )\n",
    "    # shuffle rows\n",
    "    return df_balanced.sample(frac=1)"
   ]
  },
  {
   "cell_type": "code",
   "execution_count": 10,
   "metadata": {
    "execution": {
     "iopub.execute_input": "2024-03-07T22:04:18.353120Z",
     "iopub.status.busy": "2024-03-07T22:04:18.352948Z",
     "iopub.status.idle": "2024-03-07T22:04:18.355599Z",
     "shell.execute_reply": "2024-03-07T22:04:18.355156Z",
     "shell.execute_reply.started": "2024-03-07T22:04:18.353109Z"
    }
   },
   "outputs": [],
   "source": [
    "# create transformer with fit methods from my function\n",
    "NaiveUnderSamplerTf = FunctionTransformer(NaiveUnderSampler)"
   ]
  },
  {
   "cell_type": "code",
   "execution_count": 11,
   "metadata": {
    "execution": {
     "iopub.execute_input": "2024-03-07T22:04:18.708964Z",
     "iopub.status.busy": "2024-03-07T22:04:18.708852Z",
     "iopub.status.idle": "2024-03-07T22:04:18.711018Z",
     "shell.execute_reply": "2024-03-07T22:04:18.710712Z",
     "shell.execute_reply.started": "2024-03-07T22:04:18.708957Z"
    }
   },
   "outputs": [],
   "source": [
    "# test naive imbalance fixer\n",
    "# app_train.pipe(NaiveUnderSampler).TARGET.value_counts()"
   ]
  },
  {
   "cell_type": "markdown",
   "metadata": {},
   "source": [
    "# Model Optimization"
   ]
  },
  {
   "cell_type": "code",
   "execution_count": 12,
   "metadata": {
    "execution": {
     "iopub.execute_input": "2024-03-07T22:04:20.993958Z",
     "iopub.status.busy": "2024-03-07T22:04:20.993846Z",
     "iopub.status.idle": "2024-03-07T22:04:21.006817Z",
     "shell.execute_reply": "2024-03-07T22:04:21.006357Z",
     "shell.execute_reply.started": "2024-03-07T22:04:20.993951Z"
    }
   },
   "outputs": [
    {
     "data": {
      "text/plain": [
       "<Experiment: artifact_location='mlflow-artifacts:/132287291501882802', creation_time=1708695008003, experiment_id='132287291501882802', last_update_time=1708695008003, lifecycle_stage='active', name='P7 ML', tags={}>"
      ]
     },
     "execution_count": 12,
     "metadata": {},
     "output_type": "execute_result"
    }
   ],
   "source": [
    "# local server must be running: $ mlflow ui\n",
    "mlflow.set_tracking_uri(uri=\"http://127.0.0.1:5000\")\n",
    "mlflow.set_experiment(\"P7 ML\")\n",
    "# mlflow.sklearn.autolog()  # log only sklearn model, not shap etc"
   ]
  },
  {
   "cell_type": "code",
   "execution_count": 13,
   "metadata": {
    "execution": {
     "iopub.execute_input": "2024-03-07T22:04:25.946675Z",
     "iopub.status.busy": "2024-03-07T22:04:25.946534Z",
     "iopub.status.idle": "2024-03-07T22:04:25.950048Z",
     "shell.execute_reply": "2024-03-07T22:04:25.949710Z",
     "shell.execute_reply.started": "2024-03-07T22:04:25.946668Z"
    }
   },
   "outputs": [],
   "source": [
    "from sklearn.compose import make_column_transformer\n",
    "from sklearn.preprocessing import TargetEncoder"
   ]
  },
  {
   "cell_type": "code",
   "execution_count": 14,
   "metadata": {
    "execution": {
     "iopub.execute_input": "2024-03-07T22:04:28.565683Z",
     "iopub.status.busy": "2024-03-07T22:04:28.565555Z",
     "iopub.status.idle": "2024-03-07T22:04:29.856811Z",
     "shell.execute_reply": "2024-03-07T22:04:29.856375Z",
     "shell.execute_reply.started": "2024-03-07T22:04:28.565676Z"
    }
   },
   "outputs": [],
   "source": [
    "# subset columns by dtype\n",
    "num_cols = X_train.select_dtypes(include=[\"bool\", \"int64\", \"float64\"]).columns.tolist()\n",
    "categorical_columns = X_train.select_dtypes(include=[\"object\"]).columns.tolist()"
   ]
  },
  {
   "cell_type": "code",
   "execution_count": null,
   "metadata": {},
   "outputs": [],
   "source": []
  },
  {
   "cell_type": "code",
   "execution_count": 15,
   "metadata": {
    "execution": {
     "iopub.execute_input": "2024-03-07T22:04:42.957750Z",
     "iopub.status.busy": "2024-03-07T22:04:42.957626Z",
     "iopub.status.idle": "2024-03-07T22:04:42.961146Z",
     "shell.execute_reply": "2024-03-07T22:04:42.960662Z",
     "shell.execute_reply.started": "2024-03-07T22:04:42.957741Z"
    }
   },
   "outputs": [],
   "source": [
    "column_based_imputer = make_column_transformer(\n",
    "    (SimpleImputer(strategy=\"median\"), num_cols),\n",
    "    (\n",
    "        SimpleImputer(strategy=\"most_frequent\"),\n",
    "        categorical_columns,\n",
    "    ),\n",
    ")\n",
    "\n",
    "# empty pipe, just a list of steps\n",
    "pipe = Pipeline(\n",
    "    [\n",
    "        (\"imputer\", column_based_imputer),\n",
    "        (\"category_encoding\", TargetEncoder()),\n",
    "        (\"scaler\", [RobustScaler()]),\n",
    "        (\"sampler\", [RandomOverSampler()]),\n",
    "        (\"reduce_dim\", [VarianceThreshold()]),\n",
    "        (\"classifier\", [LGBMClassifier()]),\n",
    "    ]\n",
    ")"
   ]
  },
  {
   "cell_type": "code",
   "execution_count": 17,
   "metadata": {
    "execution": {
     "iopub.execute_input": "2024-03-07T22:09:01.603850Z",
     "iopub.status.busy": "2024-03-07T22:09:01.603698Z",
     "iopub.status.idle": "2024-03-07T22:09:04.182190Z",
     "shell.execute_reply": "2024-03-07T22:09:04.181643Z",
     "shell.execute_reply.started": "2024-03-07T22:09:01.603837Z"
    }
   },
   "outputs": [
    {
     "ename": "ValueError",
     "evalue": "\nAll the 3 fits failed.\nIt is very likely that your model is misconfigured.\nYou can try to debug the error by setting error_score='raise'.\n\nBelow are more details about the failures:\n--------------------------------------------------------------------------------\n3 fits failed with the following error:\nTraceback (most recent call last):\n  File \"/home/carl/anaconda3/envs/p7env/lib/python3.11/site-packages/sklearn/model_selection/_validation.py\", line 732, in _fit_and_score\n    estimator.fit(X_train, y_train, **fit_params)\n  File \"/home/carl/anaconda3/envs/p7env/lib/python3.11/site-packages/imblearn/pipeline.py\", line 292, in fit\n    fit_params_steps = self._check_fit_params(**fit_params)\n                       ^^^^^^^^^^^^^^^^^^^^^^^^^^^^^^^^^^^^\n  File \"/home/carl/anaconda3/envs/p7env/lib/python3.11/site-packages/sklearn/pipeline.py\", line 342, in _check_fit_params\n    fit_params_steps[step][param] = pval\n    ~~~~~~~~~~~~~~~~^^^^^^\nKeyError: 'classisier'\n",
     "output_type": "error",
     "traceback": [
      "\u001b[0;31m---------------------------------------------------------------------------\u001b[0m",
      "\u001b[0;31mValueError\u001b[0m                                Traceback (most recent call last)",
      "Cell \u001b[0;32mIn[17], line 44\u001b[0m\n\u001b[1;32m      3\u001b[0m param_grid \u001b[38;5;241m=\u001b[39m [\n\u001b[1;32m      4\u001b[0m     {\n\u001b[1;32m      5\u001b[0m         \u001b[38;5;66;03m# \"imputer\": [\u001b[39;00m\n\u001b[0;32m   (...)\u001b[0m\n\u001b[1;32m     39\u001b[0m     },\n\u001b[1;32m     40\u001b[0m ]\n\u001b[1;32m     41\u001b[0m grid \u001b[38;5;241m=\u001b[39m HalvingGridSearchCV(\n\u001b[1;32m     42\u001b[0m     pipe, param_grid\u001b[38;5;241m=\u001b[39mparam_grid, cv\u001b[38;5;241m=\u001b[39m\u001b[38;5;241m3\u001b[39m, n_jobs\u001b[38;5;241m=\u001b[39m\u001b[38;5;241m-\u001b[39m\u001b[38;5;241m1\u001b[39m, verbose\u001b[38;5;241m=\u001b[39m\u001b[38;5;241m0\u001b[39m, scoring\u001b[38;5;241m=\u001b[39m\u001b[38;5;124m\"\u001b[39m\u001b[38;5;124mroc_auc\u001b[39m\u001b[38;5;124m\"\u001b[39m\n\u001b[1;32m     43\u001b[0m )\n\u001b[0;32m---> 44\u001b[0m grid\u001b[38;5;241m.\u001b[39mfit(X_train, y_train, classisier__eval_metric\u001b[38;5;241m=\u001b[39m\u001b[38;5;124m'\u001b[39m\u001b[38;5;124mauc\u001b[39m\u001b[38;5;124m'\u001b[39m)\n\u001b[1;32m     45\u001b[0m \u001b[38;5;66;03m# store results\u001b[39;00m\n\u001b[1;32m     46\u001b[0m grid_results \u001b[38;5;241m=\u001b[39m pd\u001b[38;5;241m.\u001b[39mDataFrame(grid\u001b[38;5;241m.\u001b[39mcv_results_)\u001b[38;5;241m.\u001b[39msort_values(by\u001b[38;5;241m=\u001b[39m\u001b[38;5;124m\"\u001b[39m\u001b[38;5;124mrank_test_score\u001b[39m\u001b[38;5;124m\"\u001b[39m)\n",
      "File \u001b[0;32m~/anaconda3/envs/p7env/lib/python3.11/site-packages/sklearn/base.py:1151\u001b[0m, in \u001b[0;36m_fit_context.<locals>.decorator.<locals>.wrapper\u001b[0;34m(estimator, *args, **kwargs)\u001b[0m\n\u001b[1;32m   1144\u001b[0m     estimator\u001b[38;5;241m.\u001b[39m_validate_params()\n\u001b[1;32m   1146\u001b[0m \u001b[38;5;28;01mwith\u001b[39;00m config_context(\n\u001b[1;32m   1147\u001b[0m     skip_parameter_validation\u001b[38;5;241m=\u001b[39m(\n\u001b[1;32m   1148\u001b[0m         prefer_skip_nested_validation \u001b[38;5;129;01mor\u001b[39;00m global_skip_validation\n\u001b[1;32m   1149\u001b[0m     )\n\u001b[1;32m   1150\u001b[0m ):\n\u001b[0;32m-> 1151\u001b[0m     \u001b[38;5;28;01mreturn\u001b[39;00m fit_method(estimator, \u001b[38;5;241m*\u001b[39margs, \u001b[38;5;241m*\u001b[39m\u001b[38;5;241m*\u001b[39mkwargs)\n",
      "File \u001b[0;32m~/anaconda3/envs/p7env/lib/python3.11/site-packages/sklearn/model_selection/_search_successive_halving.py:257\u001b[0m, in \u001b[0;36mBaseSuccessiveHalving.fit\u001b[0;34m(self, X, y, groups, **fit_params)\u001b[0m\n\u001b[1;32m    249\u001b[0m \u001b[38;5;28mself\u001b[39m\u001b[38;5;241m.\u001b[39m_check_input_parameters(\n\u001b[1;32m    250\u001b[0m     X\u001b[38;5;241m=\u001b[39mX,\n\u001b[1;32m    251\u001b[0m     y\u001b[38;5;241m=\u001b[39my,\n\u001b[1;32m    252\u001b[0m     groups\u001b[38;5;241m=\u001b[39mgroups,\n\u001b[1;32m    253\u001b[0m )\n\u001b[1;32m    255\u001b[0m \u001b[38;5;28mself\u001b[39m\u001b[38;5;241m.\u001b[39m_n_samples_orig \u001b[38;5;241m=\u001b[39m _num_samples(X)\n\u001b[0;32m--> 257\u001b[0m \u001b[38;5;28msuper\u001b[39m()\u001b[38;5;241m.\u001b[39mfit(X, y\u001b[38;5;241m=\u001b[39my, groups\u001b[38;5;241m=\u001b[39mgroups, \u001b[38;5;241m*\u001b[39m\u001b[38;5;241m*\u001b[39mfit_params)\n\u001b[1;32m    259\u001b[0m \u001b[38;5;66;03m# Set best_score_: BaseSearchCV does not set it, as refit is a callable\u001b[39;00m\n\u001b[1;32m    260\u001b[0m \u001b[38;5;28mself\u001b[39m\u001b[38;5;241m.\u001b[39mbest_score_ \u001b[38;5;241m=\u001b[39m \u001b[38;5;28mself\u001b[39m\u001b[38;5;241m.\u001b[39mcv_results_[\u001b[38;5;124m\"\u001b[39m\u001b[38;5;124mmean_test_score\u001b[39m\u001b[38;5;124m\"\u001b[39m][\u001b[38;5;28mself\u001b[39m\u001b[38;5;241m.\u001b[39mbest_index_]\n",
      "File \u001b[0;32m~/anaconda3/envs/p7env/lib/python3.11/site-packages/sklearn/base.py:1151\u001b[0m, in \u001b[0;36m_fit_context.<locals>.decorator.<locals>.wrapper\u001b[0;34m(estimator, *args, **kwargs)\u001b[0m\n\u001b[1;32m   1144\u001b[0m     estimator\u001b[38;5;241m.\u001b[39m_validate_params()\n\u001b[1;32m   1146\u001b[0m \u001b[38;5;28;01mwith\u001b[39;00m config_context(\n\u001b[1;32m   1147\u001b[0m     skip_parameter_validation\u001b[38;5;241m=\u001b[39m(\n\u001b[1;32m   1148\u001b[0m         prefer_skip_nested_validation \u001b[38;5;129;01mor\u001b[39;00m global_skip_validation\n\u001b[1;32m   1149\u001b[0m     )\n\u001b[1;32m   1150\u001b[0m ):\n\u001b[0;32m-> 1151\u001b[0m     \u001b[38;5;28;01mreturn\u001b[39;00m fit_method(estimator, \u001b[38;5;241m*\u001b[39margs, \u001b[38;5;241m*\u001b[39m\u001b[38;5;241m*\u001b[39mkwargs)\n",
      "File \u001b[0;32m~/anaconda3/envs/p7env/lib/python3.11/site-packages/sklearn/model_selection/_search.py:898\u001b[0m, in \u001b[0;36mBaseSearchCV.fit\u001b[0;34m(self, X, y, groups, **fit_params)\u001b[0m\n\u001b[1;32m    892\u001b[0m     results \u001b[38;5;241m=\u001b[39m \u001b[38;5;28mself\u001b[39m\u001b[38;5;241m.\u001b[39m_format_results(\n\u001b[1;32m    893\u001b[0m         all_candidate_params, n_splits, all_out, all_more_results\n\u001b[1;32m    894\u001b[0m     )\n\u001b[1;32m    896\u001b[0m     \u001b[38;5;28;01mreturn\u001b[39;00m results\n\u001b[0;32m--> 898\u001b[0m \u001b[38;5;28mself\u001b[39m\u001b[38;5;241m.\u001b[39m_run_search(evaluate_candidates)\n\u001b[1;32m    900\u001b[0m \u001b[38;5;66;03m# multimetric is determined here because in the case of a callable\u001b[39;00m\n\u001b[1;32m    901\u001b[0m \u001b[38;5;66;03m# self.scoring the return type is only known after calling\u001b[39;00m\n\u001b[1;32m    902\u001b[0m first_test_score \u001b[38;5;241m=\u001b[39m all_out[\u001b[38;5;241m0\u001b[39m][\u001b[38;5;124m\"\u001b[39m\u001b[38;5;124mtest_scores\u001b[39m\u001b[38;5;124m\"\u001b[39m]\n",
      "File \u001b[0;32m~/anaconda3/envs/p7env/lib/python3.11/site-packages/sklearn/model_selection/_search_successive_halving.py:361\u001b[0m, in \u001b[0;36mBaseSuccessiveHalving._run_search\u001b[0;34m(self, evaluate_candidates)\u001b[0m\n\u001b[1;32m    354\u001b[0m     cv \u001b[38;5;241m=\u001b[39m \u001b[38;5;28mself\u001b[39m\u001b[38;5;241m.\u001b[39m_checked_cv_orig\n\u001b[1;32m    356\u001b[0m more_results \u001b[38;5;241m=\u001b[39m {\n\u001b[1;32m    357\u001b[0m     \u001b[38;5;124m\"\u001b[39m\u001b[38;5;124miter\u001b[39m\u001b[38;5;124m\"\u001b[39m: [itr] \u001b[38;5;241m*\u001b[39m n_candidates,\n\u001b[1;32m    358\u001b[0m     \u001b[38;5;124m\"\u001b[39m\u001b[38;5;124mn_resources\u001b[39m\u001b[38;5;124m\"\u001b[39m: [n_resources] \u001b[38;5;241m*\u001b[39m n_candidates,\n\u001b[1;32m    359\u001b[0m }\n\u001b[0;32m--> 361\u001b[0m results \u001b[38;5;241m=\u001b[39m evaluate_candidates(\n\u001b[1;32m    362\u001b[0m     candidate_params, cv, more_results\u001b[38;5;241m=\u001b[39mmore_results\n\u001b[1;32m    363\u001b[0m )\n\u001b[1;32m    365\u001b[0m n_candidates_to_keep \u001b[38;5;241m=\u001b[39m ceil(n_candidates \u001b[38;5;241m/\u001b[39m \u001b[38;5;28mself\u001b[39m\u001b[38;5;241m.\u001b[39mfactor)\n\u001b[1;32m    366\u001b[0m candidate_params \u001b[38;5;241m=\u001b[39m _top_k(results, n_candidates_to_keep, itr)\n",
      "File \u001b[0;32m~/anaconda3/envs/p7env/lib/python3.11/site-packages/sklearn/model_selection/_search.py:875\u001b[0m, in \u001b[0;36mBaseSearchCV.fit.<locals>.evaluate_candidates\u001b[0;34m(candidate_params, cv, more_results)\u001b[0m\n\u001b[1;32m    868\u001b[0m \u001b[38;5;28;01melif\u001b[39;00m \u001b[38;5;28mlen\u001b[39m(out) \u001b[38;5;241m!=\u001b[39m n_candidates \u001b[38;5;241m*\u001b[39m n_splits:\n\u001b[1;32m    869\u001b[0m     \u001b[38;5;28;01mraise\u001b[39;00m \u001b[38;5;167;01mValueError\u001b[39;00m(\n\u001b[1;32m    870\u001b[0m         \u001b[38;5;124m\"\u001b[39m\u001b[38;5;124mcv.split and cv.get_n_splits returned \u001b[39m\u001b[38;5;124m\"\u001b[39m\n\u001b[1;32m    871\u001b[0m         \u001b[38;5;124m\"\u001b[39m\u001b[38;5;124minconsistent results. Expected \u001b[39m\u001b[38;5;132;01m{}\u001b[39;00m\u001b[38;5;124m \u001b[39m\u001b[38;5;124m\"\u001b[39m\n\u001b[1;32m    872\u001b[0m         \u001b[38;5;124m\"\u001b[39m\u001b[38;5;124msplits, got \u001b[39m\u001b[38;5;132;01m{}\u001b[39;00m\u001b[38;5;124m\"\u001b[39m\u001b[38;5;241m.\u001b[39mformat(n_splits, \u001b[38;5;28mlen\u001b[39m(out) \u001b[38;5;241m/\u001b[39m\u001b[38;5;241m/\u001b[39m n_candidates)\n\u001b[1;32m    873\u001b[0m     )\n\u001b[0;32m--> 875\u001b[0m _warn_or_raise_about_fit_failures(out, \u001b[38;5;28mself\u001b[39m\u001b[38;5;241m.\u001b[39merror_score)\n\u001b[1;32m    877\u001b[0m \u001b[38;5;66;03m# For callable self.scoring, the return type is only know after\u001b[39;00m\n\u001b[1;32m    878\u001b[0m \u001b[38;5;66;03m# calling. If the return type is a dictionary, the error scores\u001b[39;00m\n\u001b[1;32m    879\u001b[0m \u001b[38;5;66;03m# can now be inserted with the correct key. The type checking\u001b[39;00m\n\u001b[1;32m    880\u001b[0m \u001b[38;5;66;03m# of out will be done in `_insert_error_scores`.\u001b[39;00m\n\u001b[1;32m    881\u001b[0m \u001b[38;5;28;01mif\u001b[39;00m \u001b[38;5;28mcallable\u001b[39m(\u001b[38;5;28mself\u001b[39m\u001b[38;5;241m.\u001b[39mscoring):\n",
      "File \u001b[0;32m~/anaconda3/envs/p7env/lib/python3.11/site-packages/sklearn/model_selection/_validation.py:414\u001b[0m, in \u001b[0;36m_warn_or_raise_about_fit_failures\u001b[0;34m(results, error_score)\u001b[0m\n\u001b[1;32m    407\u001b[0m \u001b[38;5;28;01mif\u001b[39;00m num_failed_fits \u001b[38;5;241m==\u001b[39m num_fits:\n\u001b[1;32m    408\u001b[0m     all_fits_failed_message \u001b[38;5;241m=\u001b[39m (\n\u001b[1;32m    409\u001b[0m         \u001b[38;5;124mf\u001b[39m\u001b[38;5;124m\"\u001b[39m\u001b[38;5;130;01m\\n\u001b[39;00m\u001b[38;5;124mAll the \u001b[39m\u001b[38;5;132;01m{\u001b[39;00mnum_fits\u001b[38;5;132;01m}\u001b[39;00m\u001b[38;5;124m fits failed.\u001b[39m\u001b[38;5;130;01m\\n\u001b[39;00m\u001b[38;5;124m\"\u001b[39m\n\u001b[1;32m    410\u001b[0m         \u001b[38;5;124m\"\u001b[39m\u001b[38;5;124mIt is very likely that your model is misconfigured.\u001b[39m\u001b[38;5;130;01m\\n\u001b[39;00m\u001b[38;5;124m\"\u001b[39m\n\u001b[1;32m    411\u001b[0m         \u001b[38;5;124m\"\u001b[39m\u001b[38;5;124mYou can try to debug the error by setting error_score=\u001b[39m\u001b[38;5;124m'\u001b[39m\u001b[38;5;124mraise\u001b[39m\u001b[38;5;124m'\u001b[39m\u001b[38;5;124m.\u001b[39m\u001b[38;5;130;01m\\n\u001b[39;00m\u001b[38;5;130;01m\\n\u001b[39;00m\u001b[38;5;124m\"\u001b[39m\n\u001b[1;32m    412\u001b[0m         \u001b[38;5;124mf\u001b[39m\u001b[38;5;124m\"\u001b[39m\u001b[38;5;124mBelow are more details about the failures:\u001b[39m\u001b[38;5;130;01m\\n\u001b[39;00m\u001b[38;5;132;01m{\u001b[39;00mfit_errors_summary\u001b[38;5;132;01m}\u001b[39;00m\u001b[38;5;124m\"\u001b[39m\n\u001b[1;32m    413\u001b[0m     )\n\u001b[0;32m--> 414\u001b[0m     \u001b[38;5;28;01mraise\u001b[39;00m \u001b[38;5;167;01mValueError\u001b[39;00m(all_fits_failed_message)\n\u001b[1;32m    416\u001b[0m \u001b[38;5;28;01melse\u001b[39;00m:\n\u001b[1;32m    417\u001b[0m     some_fits_failed_message \u001b[38;5;241m=\u001b[39m (\n\u001b[1;32m    418\u001b[0m         \u001b[38;5;124mf\u001b[39m\u001b[38;5;124m\"\u001b[39m\u001b[38;5;130;01m\\n\u001b[39;00m\u001b[38;5;132;01m{\u001b[39;00mnum_failed_fits\u001b[38;5;132;01m}\u001b[39;00m\u001b[38;5;124m fits failed out of a total of \u001b[39m\u001b[38;5;132;01m{\u001b[39;00mnum_fits\u001b[38;5;132;01m}\u001b[39;00m\u001b[38;5;124m.\u001b[39m\u001b[38;5;130;01m\\n\u001b[39;00m\u001b[38;5;124m\"\u001b[39m\n\u001b[1;32m    419\u001b[0m         \u001b[38;5;124m\"\u001b[39m\u001b[38;5;124mThe score on these train-test partitions for these parameters\u001b[39m\u001b[38;5;124m\"\u001b[39m\n\u001b[0;32m   (...)\u001b[0m\n\u001b[1;32m    423\u001b[0m         \u001b[38;5;124mf\u001b[39m\u001b[38;5;124m\"\u001b[39m\u001b[38;5;124mBelow are more details about the failures:\u001b[39m\u001b[38;5;130;01m\\n\u001b[39;00m\u001b[38;5;132;01m{\u001b[39;00mfit_errors_summary\u001b[38;5;132;01m}\u001b[39;00m\u001b[38;5;124m\"\u001b[39m\n\u001b[1;32m    424\u001b[0m     )\n",
      "\u001b[0;31mValueError\u001b[0m: \nAll the 3 fits failed.\nIt is very likely that your model is misconfigured.\nYou can try to debug the error by setting error_score='raise'.\n\nBelow are more details about the failures:\n--------------------------------------------------------------------------------\n3 fits failed with the following error:\nTraceback (most recent call last):\n  File \"/home/carl/anaconda3/envs/p7env/lib/python3.11/site-packages/sklearn/model_selection/_validation.py\", line 732, in _fit_and_score\n    estimator.fit(X_train, y_train, **fit_params)\n  File \"/home/carl/anaconda3/envs/p7env/lib/python3.11/site-packages/imblearn/pipeline.py\", line 292, in fit\n    fit_params_steps = self._check_fit_params(**fit_params)\n                       ^^^^^^^^^^^^^^^^^^^^^^^^^^^^^^^^^^^^\n  File \"/home/carl/anaconda3/envs/p7env/lib/python3.11/site-packages/sklearn/pipeline.py\", line 342, in _check_fit_params\n    fit_params_steps[step][param] = pval\n    ~~~~~~~~~~~~~~~~^^^^^^\nKeyError: 'classisier'\n"
     ]
    }
   ],
   "source": [
    "# each step if selected through successive gridsearched\n",
    "# options that are not optimal are commented out\n",
    "param_grid = [\n",
    "    {\n",
    "        # \"imputer\": [\n",
    "        #     # SimpleImputer(),\n",
    "        #     # IterativeImputer(),\n",
    "        #     # KNNImputer(),\n",
    "        # ],\n",
    "        \"scaler\": [\n",
    "            RobustScaler(),\n",
    "            # MinMaxScaler(),\n",
    "            # StandardScaler(),\n",
    "        ],\n",
    "        \"sampler\": [\n",
    "            RandomUnderSampler(),\n",
    "            # RandomOverSampler(),\n",
    "            # SMOTE(),\n",
    "        ],\n",
    "        \"reduce_dim\": [\n",
    "            VarianceThreshold(),\n",
    "            # PCA(n_components=80),\n",
    "            # SelectKBest(k=80),\n",
    "        ],\n",
    "        \"reduce_dim__threshold\": [0.05],\n",
    "        \"classifier\": [\n",
    "            LGBMClassifier(),\n",
    "            # LogisticRegression(max_iter=500),\n",
    "            # RandomForestClassifier(),\n",
    "            # XGBClassifier(),\n",
    "        ],\n",
    "        # \"classifier__eta\": np.linspace(0, 1, 6),\n",
    "        \"classifier__max_depth\": [8],\n",
    "        # \"classifier__boosting_type\": [\"gbdt\"],\n",
    "        \"classifier__colsample_bytree\": [0.3],\n",
    "        \"classifier__learning_rate\": [0.02],\n",
    "        \"classifier__n_estimators\": [10000],\n",
    "        \"classifier__num_leaves\": [34],\n",
    "    },\n",
    "]\n",
    "grid = HalvingGridSearchCV(\n",
    "    pipe, param_grid=param_grid, cv=3, n_jobs=-1, verbose=0, scoring=\"roc_auc\"\n",
    ")\n",
    "grid.fit(X_train, y_train, classifier__eval_metric=\"auc\",classifier__early_stopping_round=20)\n",
    "#\n",
    "# store results\n",
    "grid_results = pd.DataFrame(grid.cv_results_).sort_values(by=\"rank_test_score\")\n",
    "display(grid_results.T)\n",
    "# select and display best model\n",
    "model = grid.best_estimator_\n",
    "display(model)\n",
    "\n",
    "# Log best model in MLFlow\n",
    "with mlflow.start_run(nested=True):\n",
    "    # Log the hyperparameters\n",
    "    mlflow.log_params(model.get_params())\n",
    "    # use best model to make predictions on test\n",
    "    y_pred = grid.predict(X_test)\n",
    "    # Log the loss metric\n",
    "    mlflow.log_metric(\"roc_auc_train\", grid_results.iloc[0].mean_test_score)\n",
    "    mlflow.log_metric(\"roc_auc_test\", metrics.roc_auc_score(y_test, y_pred))\n",
    "    # mlflow.log_metric(\"custom_pnl\", pnl(y_pred, y_test))\n",
    "\n",
    "    # Infer the model signature\n",
    "    signature = infer_signature(X_train, model.predict(X_train))\n",
    "\n",
    "    # Log dataset\n",
    "    dataset = mlflow.data.from_pandas(X_train)\n",
    "    mlflow.log_input(dataset, context=\"train\")\n",
    "\n",
    "    # Log the model\n",
    "    model_info = mlflow.sklearn.log_model(\n",
    "        sk_model=model,\n",
    "        artifact_path=\"P7_model\",\n",
    "        signature=signature,\n",
    "    )\n",
    "\n",
    "    # Log results from other gridsearch candidates\n",
    "    for candidate in (\n",
    "        grid_results[[\"params\", \"mean_fit_time\", \"mean_test_score\"]].iloc[1:, :].values\n",
    "    ):\n",
    "        with mlflow.start_run(nested=True):\n",
    "            mlflow.log_input(dataset, context=\"train\")\n",
    "            mlflow.log_params(candidate[0])\n",
    "            mlflow.set_tag(\"duration\", candidate[1])\n",
    "            mlflow.log_metric(\"roc_auc_train\", candidate[2])\n",
    "mlflow.end_run()"
   ]
  },
  {
   "cell_type": "code",
   "execution_count": 42,
   "metadata": {
    "execution": {
     "iopub.execute_input": "2024-03-07T21:08:27.171189Z",
     "iopub.status.busy": "2024-03-07T21:08:27.171065Z",
     "iopub.status.idle": "2024-03-07T21:08:27.178236Z",
     "shell.execute_reply": "2024-03-07T21:08:27.177702Z",
     "shell.execute_reply.started": "2024-03-07T21:08:27.171181Z"
    }
   },
   "outputs": [
    {
     "data": {
      "text/plain": [
       "0.678125507169493"
      ]
     },
     "execution_count": 42,
     "metadata": {},
     "output_type": "execute_result"
    }
   ],
   "source": [
    "metrics.roc_auc_score(y_test, y_pred)"
   ]
  },
  {
   "cell_type": "code",
   "execution_count": 34,
   "metadata": {
    "execution": {
     "iopub.execute_input": "2024-03-07T20:28:19.220273Z",
     "iopub.status.busy": "2024-03-07T20:28:19.220146Z",
     "iopub.status.idle": "2024-03-07T20:28:25.875452Z",
     "shell.execute_reply": "2024-03-07T20:28:25.874979Z",
     "shell.execute_reply.started": "2024-03-07T20:28:19.220265Z"
    }
   },
   "outputs": [
    {
     "data": {
      "text/plain": [
       "0.8103586578185968"
      ]
     },
     "execution_count": 34,
     "metadata": {},
     "output_type": "execute_result"
    }
   ],
   "source": [
    "metrics.roc_auc_score(y_train, model.predict(X_train))"
   ]
  },
  {
   "cell_type": "code",
   "execution_count": 35,
   "metadata": {
    "execution": {
     "iopub.execute_input": "2024-03-07T20:28:40.213020Z",
     "iopub.status.busy": "2024-03-07T20:28:40.212893Z",
     "iopub.status.idle": "2024-03-07T20:28:40.226307Z",
     "shell.execute_reply": "2024-03-07T20:28:40.225851Z",
     "shell.execute_reply.started": "2024-03-07T20:28:40.213013Z"
    }
   },
   "outputs": [
    {
     "data": {
      "text/plain": [
       "-129889360.88523987"
      ]
     },
     "execution_count": 35,
     "metadata": {},
     "output_type": "execute_result"
    }
   ],
   "source": [
    "pnl(y_test, y_pred, normalize=False)"
   ]
  },
  {
   "cell_type": "markdown",
   "metadata": {},
   "source": [
    "# Proba predict treshold"
   ]
  },
  {
   "cell_type": "code",
   "execution_count": null,
   "metadata": {
    "execution": {
     "iopub.status.busy": "2024-03-07T19:57:16.520548Z",
     "iopub.status.idle": "2024-03-07T19:57:16.520617Z",
     "shell.execute_reply": "2024-03-07T19:57:16.520586Z",
     "shell.execute_reply.started": "2024-03-07T19:57:16.520583Z"
    }
   },
   "outputs": [],
   "source": [
    "# faire varier seuil et afficher graphiquement resultats"
   ]
  },
  {
   "cell_type": "code",
   "execution_count": 43,
   "metadata": {
    "execution": {
     "iopub.execute_input": "2024-03-07T21:08:49.037938Z",
     "iopub.status.busy": "2024-03-07T21:08:49.037805Z",
     "iopub.status.idle": "2024-03-07T21:08:49.049645Z",
     "shell.execute_reply": "2024-03-07T21:08:49.049360Z",
     "shell.execute_reply.started": "2024-03-07T21:08:49.037931Z"
    }
   },
   "outputs": [
    {
     "data": {
      "text/html": [
       "<style>#sk-container-id-3 {color: black;}#sk-container-id-3 pre{padding: 0;}#sk-container-id-3 div.sk-toggleable {background-color: white;}#sk-container-id-3 label.sk-toggleable__label {cursor: pointer;display: block;width: 100%;margin-bottom: 0;padding: 0.3em;box-sizing: border-box;text-align: center;}#sk-container-id-3 label.sk-toggleable__label-arrow:before {content: \"▸\";float: left;margin-right: 0.25em;color: #696969;}#sk-container-id-3 label.sk-toggleable__label-arrow:hover:before {color: black;}#sk-container-id-3 div.sk-estimator:hover label.sk-toggleable__label-arrow:before {color: black;}#sk-container-id-3 div.sk-toggleable__content {max-height: 0;max-width: 0;overflow: hidden;text-align: left;background-color: #f0f8ff;}#sk-container-id-3 div.sk-toggleable__content pre {margin: 0.2em;color: black;border-radius: 0.25em;background-color: #f0f8ff;}#sk-container-id-3 input.sk-toggleable__control:checked~div.sk-toggleable__content {max-height: 200px;max-width: 100%;overflow: auto;}#sk-container-id-3 input.sk-toggleable__control:checked~label.sk-toggleable__label-arrow:before {content: \"▾\";}#sk-container-id-3 div.sk-estimator input.sk-toggleable__control:checked~label.sk-toggleable__label {background-color: #d4ebff;}#sk-container-id-3 div.sk-label input.sk-toggleable__control:checked~label.sk-toggleable__label {background-color: #d4ebff;}#sk-container-id-3 input.sk-hidden--visually {border: 0;clip: rect(1px 1px 1px 1px);clip: rect(1px, 1px, 1px, 1px);height: 1px;margin: -1px;overflow: hidden;padding: 0;position: absolute;width: 1px;}#sk-container-id-3 div.sk-estimator {font-family: monospace;background-color: #f0f8ff;border: 1px dotted black;border-radius: 0.25em;box-sizing: border-box;margin-bottom: 0.5em;}#sk-container-id-3 div.sk-estimator:hover {background-color: #d4ebff;}#sk-container-id-3 div.sk-parallel-item::after {content: \"\";width: 100%;border-bottom: 1px solid gray;flex-grow: 1;}#sk-container-id-3 div.sk-label:hover label.sk-toggleable__label {background-color: #d4ebff;}#sk-container-id-3 div.sk-serial::before {content: \"\";position: absolute;border-left: 1px solid gray;box-sizing: border-box;top: 0;bottom: 0;left: 50%;z-index: 0;}#sk-container-id-3 div.sk-serial {display: flex;flex-direction: column;align-items: center;background-color: white;padding-right: 0.2em;padding-left: 0.2em;position: relative;}#sk-container-id-3 div.sk-item {position: relative;z-index: 1;}#sk-container-id-3 div.sk-parallel {display: flex;align-items: stretch;justify-content: center;background-color: white;position: relative;}#sk-container-id-3 div.sk-item::before, #sk-container-id-3 div.sk-parallel-item::before {content: \"\";position: absolute;border-left: 1px solid gray;box-sizing: border-box;top: 0;bottom: 0;left: 50%;z-index: -1;}#sk-container-id-3 div.sk-parallel-item {display: flex;flex-direction: column;z-index: 1;position: relative;background-color: white;}#sk-container-id-3 div.sk-parallel-item:first-child::after {align-self: flex-end;width: 50%;}#sk-container-id-3 div.sk-parallel-item:last-child::after {align-self: flex-start;width: 50%;}#sk-container-id-3 div.sk-parallel-item:only-child::after {width: 0;}#sk-container-id-3 div.sk-dashed-wrapped {border: 1px dashed gray;margin: 0 0.4em 0.5em 0.4em;box-sizing: border-box;padding-bottom: 0.4em;background-color: white;}#sk-container-id-3 div.sk-label label {font-family: monospace;font-weight: bold;display: inline-block;line-height: 1.2em;}#sk-container-id-3 div.sk-label-container {text-align: center;}#sk-container-id-3 div.sk-container {/* jupyter's `normalize.less` sets `[hidden] { display: none; }` but bootstrap.min.css set `[hidden] { display: none !important; }` so we also need the `!important` here to be able to override the default hidden behavior on the sphinx rendered scikit-learn.org. See: https://github.com/scikit-learn/scikit-learn/issues/21755 */display: inline-block !important;position: relative;}#sk-container-id-3 div.sk-text-repr-fallback {display: none;}</style><div id=\"sk-container-id-3\" class=\"sk-top-container\"><div class=\"sk-text-repr-fallback\"><pre>Pipeline(steps=[(&#x27;imputer&#x27;,\n",
       "                 ColumnTransformer(transformers=[(&#x27;simpleimputer-1&#x27;,\n",
       "                                                  SimpleImputer(strategy=&#x27;median&#x27;),\n",
       "                                                  [&#x27;CNT_CHILDREN&#x27;,\n",
       "                                                   &#x27;AMT_INCOME_TOTAL&#x27;,\n",
       "                                                   &#x27;AMT_CREDIT&#x27;, &#x27;AMT_ANNUITY&#x27;,\n",
       "                                                   &#x27;AMT_GOODS_PRICE&#x27;,\n",
       "                                                   &#x27;REGION_POPULATION_RELATIVE&#x27;,\n",
       "                                                   &#x27;DAYS_BIRTH&#x27;,\n",
       "                                                   &#x27;DAYS_EMPLOYED&#x27;,\n",
       "                                                   &#x27;DAYS_REGISTRATION&#x27;,\n",
       "                                                   &#x27;DAYS_ID_PUBLISH&#x27;,\n",
       "                                                   &#x27;OWN_CAR_AGE&#x27;, &#x27;FLAG_MOBIL&#x27;,\n",
       "                                                   &#x27;FLAG_EMP_PHONE&#x27;,\n",
       "                                                   &#x27;FLAG_WORK_PHONE&#x27;,\n",
       "                                                   &#x27;...\n",
       "                                                   &#x27;HOUSETYPE_MODE&#x27;,\n",
       "                                                   &#x27;WALLSMATERIAL_MODE&#x27;,\n",
       "                                                   &#x27;EMERGENCYSTATE_MODE&#x27;,\n",
       "                                                   &#x27;CREDIT_ACTIVE&#x27;,\n",
       "                                                   &#x27;CREDIT_CURRENCY&#x27;,\n",
       "                                                   &#x27;CREDIT_TYPE&#x27;,\n",
       "                                                   &#x27;STATUS&#x27;])])),\n",
       "                (&#x27;category_encoding&#x27;, TargetEncoder()),\n",
       "                (&#x27;scaler&#x27;, RobustScaler()), (&#x27;sampler&#x27;, RandomUnderSampler()),\n",
       "                (&#x27;reduce_dim&#x27;, VarianceThreshold(threshold=0.02)),\n",
       "                (&#x27;classifier&#x27;,\n",
       "                 LGBMClassifier(colsample_bytree=0.3, learning_rate=0.047,\n",
       "                                n_estimators=200))])</pre><b>In a Jupyter environment, please rerun this cell to show the HTML representation or trust the notebook. <br />On GitHub, the HTML representation is unable to render, please try loading this page with nbviewer.org.</b></div><div class=\"sk-container\" hidden><div class=\"sk-item sk-dashed-wrapped\"><div class=\"sk-label-container\"><div class=\"sk-label sk-toggleable\"><input class=\"sk-toggleable__control sk-hidden--visually\" id=\"sk-estimator-id-23\" type=\"checkbox\" ><label for=\"sk-estimator-id-23\" class=\"sk-toggleable__label sk-toggleable__label-arrow\">Pipeline</label><div class=\"sk-toggleable__content\"><pre>Pipeline(steps=[(&#x27;imputer&#x27;,\n",
       "                 ColumnTransformer(transformers=[(&#x27;simpleimputer-1&#x27;,\n",
       "                                                  SimpleImputer(strategy=&#x27;median&#x27;),\n",
       "                                                  [&#x27;CNT_CHILDREN&#x27;,\n",
       "                                                   &#x27;AMT_INCOME_TOTAL&#x27;,\n",
       "                                                   &#x27;AMT_CREDIT&#x27;, &#x27;AMT_ANNUITY&#x27;,\n",
       "                                                   &#x27;AMT_GOODS_PRICE&#x27;,\n",
       "                                                   &#x27;REGION_POPULATION_RELATIVE&#x27;,\n",
       "                                                   &#x27;DAYS_BIRTH&#x27;,\n",
       "                                                   &#x27;DAYS_EMPLOYED&#x27;,\n",
       "                                                   &#x27;DAYS_REGISTRATION&#x27;,\n",
       "                                                   &#x27;DAYS_ID_PUBLISH&#x27;,\n",
       "                                                   &#x27;OWN_CAR_AGE&#x27;, &#x27;FLAG_MOBIL&#x27;,\n",
       "                                                   &#x27;FLAG_EMP_PHONE&#x27;,\n",
       "                                                   &#x27;FLAG_WORK_PHONE&#x27;,\n",
       "                                                   &#x27;...\n",
       "                                                   &#x27;HOUSETYPE_MODE&#x27;,\n",
       "                                                   &#x27;WALLSMATERIAL_MODE&#x27;,\n",
       "                                                   &#x27;EMERGENCYSTATE_MODE&#x27;,\n",
       "                                                   &#x27;CREDIT_ACTIVE&#x27;,\n",
       "                                                   &#x27;CREDIT_CURRENCY&#x27;,\n",
       "                                                   &#x27;CREDIT_TYPE&#x27;,\n",
       "                                                   &#x27;STATUS&#x27;])])),\n",
       "                (&#x27;category_encoding&#x27;, TargetEncoder()),\n",
       "                (&#x27;scaler&#x27;, RobustScaler()), (&#x27;sampler&#x27;, RandomUnderSampler()),\n",
       "                (&#x27;reduce_dim&#x27;, VarianceThreshold(threshold=0.02)),\n",
       "                (&#x27;classifier&#x27;,\n",
       "                 LGBMClassifier(colsample_bytree=0.3, learning_rate=0.047,\n",
       "                                n_estimators=200))])</pre></div></div></div><div class=\"sk-serial\"><div class=\"sk-item sk-dashed-wrapped\"><div class=\"sk-label-container\"><div class=\"sk-label sk-toggleable\"><input class=\"sk-toggleable__control sk-hidden--visually\" id=\"sk-estimator-id-24\" type=\"checkbox\" ><label for=\"sk-estimator-id-24\" class=\"sk-toggleable__label sk-toggleable__label-arrow\">imputer: ColumnTransformer</label><div class=\"sk-toggleable__content\"><pre>ColumnTransformer(transformers=[(&#x27;simpleimputer-1&#x27;,\n",
       "                                 SimpleImputer(strategy=&#x27;median&#x27;),\n",
       "                                 [&#x27;CNT_CHILDREN&#x27;, &#x27;AMT_INCOME_TOTAL&#x27;,\n",
       "                                  &#x27;AMT_CREDIT&#x27;, &#x27;AMT_ANNUITY&#x27;,\n",
       "                                  &#x27;AMT_GOODS_PRICE&#x27;,\n",
       "                                  &#x27;REGION_POPULATION_RELATIVE&#x27;, &#x27;DAYS_BIRTH&#x27;,\n",
       "                                  &#x27;DAYS_EMPLOYED&#x27;, &#x27;DAYS_REGISTRATION&#x27;,\n",
       "                                  &#x27;DAYS_ID_PUBLISH&#x27;, &#x27;OWN_CAR_AGE&#x27;,\n",
       "                                  &#x27;FLAG_MOBIL&#x27;, &#x27;FLAG_EMP_PHONE&#x27;,\n",
       "                                  &#x27;FLAG_WORK_PHONE&#x27;, &#x27;FLAG_CONT_MOBILE&#x27;,\n",
       "                                  &#x27;FLAG_PHO...\n",
       "                                 [&#x27;NAME_CONTRACT_TYPE&#x27;, &#x27;CODE_GENDER&#x27;,\n",
       "                                  &#x27;FLAG_OWN_CAR&#x27;, &#x27;FLAG_OWN_REALTY&#x27;,\n",
       "                                  &#x27;NAME_TYPE_SUITE&#x27;, &#x27;NAME_INCOME_TYPE&#x27;,\n",
       "                                  &#x27;NAME_EDUCATION_TYPE&#x27;, &#x27;NAME_FAMILY_STATUS&#x27;,\n",
       "                                  &#x27;NAME_HOUSING_TYPE&#x27;, &#x27;OCCUPATION_TYPE&#x27;,\n",
       "                                  &#x27;WEEKDAY_APPR_PROCESS_START&#x27;,\n",
       "                                  &#x27;ORGANIZATION_TYPE&#x27;, &#x27;FONDKAPREMONT_MODE&#x27;,\n",
       "                                  &#x27;HOUSETYPE_MODE&#x27;, &#x27;WALLSMATERIAL_MODE&#x27;,\n",
       "                                  &#x27;EMERGENCYSTATE_MODE&#x27;, &#x27;CREDIT_ACTIVE&#x27;,\n",
       "                                  &#x27;CREDIT_CURRENCY&#x27;, &#x27;CREDIT_TYPE&#x27;,\n",
       "                                  &#x27;STATUS&#x27;])])</pre></div></div></div><div class=\"sk-parallel\"><div class=\"sk-parallel-item\"><div class=\"sk-item\"><div class=\"sk-label-container\"><div class=\"sk-label sk-toggleable\"><input class=\"sk-toggleable__control sk-hidden--visually\" id=\"sk-estimator-id-25\" type=\"checkbox\" ><label for=\"sk-estimator-id-25\" class=\"sk-toggleable__label sk-toggleable__label-arrow\">simpleimputer-1</label><div class=\"sk-toggleable__content\"><pre>[&#x27;CNT_CHILDREN&#x27;, &#x27;AMT_INCOME_TOTAL&#x27;, &#x27;AMT_CREDIT&#x27;, &#x27;AMT_ANNUITY&#x27;, &#x27;AMT_GOODS_PRICE&#x27;, &#x27;REGION_POPULATION_RELATIVE&#x27;, &#x27;DAYS_BIRTH&#x27;, &#x27;DAYS_EMPLOYED&#x27;, &#x27;DAYS_REGISTRATION&#x27;, &#x27;DAYS_ID_PUBLISH&#x27;, &#x27;OWN_CAR_AGE&#x27;, &#x27;FLAG_MOBIL&#x27;, &#x27;FLAG_EMP_PHONE&#x27;, &#x27;FLAG_WORK_PHONE&#x27;, &#x27;FLAG_CONT_MOBILE&#x27;, &#x27;FLAG_PHONE&#x27;, &#x27;FLAG_EMAIL&#x27;, &#x27;CNT_FAM_MEMBERS&#x27;, &#x27;REGION_RATING_CLIENT&#x27;, &#x27;REGION_RATING_CLIENT_W_CITY&#x27;, &#x27;HOUR_APPR_PROCESS_START&#x27;, &#x27;REG_REGION_NOT_LIVE_REGION&#x27;, &#x27;REG_REGION_NOT_WORK_REGION&#x27;, &#x27;LIVE_REGION_NOT_WORK_REGION&#x27;, &#x27;REG_CITY_NOT_LIVE_CITY&#x27;, &#x27;REG_CITY_NOT_WORK_CITY&#x27;, &#x27;LIVE_CITY_NOT_WORK_CITY&#x27;, &#x27;EXT_SOURCE_1&#x27;, &#x27;EXT_SOURCE_2&#x27;, &#x27;EXT_SOURCE_3&#x27;, &#x27;APARTMENTS_AVG&#x27;, &#x27;BASEMENTAREA_AVG&#x27;, &#x27;YEARS_BEGINEXPLUATATION_AVG&#x27;, &#x27;YEARS_BUILD_AVG&#x27;, &#x27;COMMONAREA_AVG&#x27;, &#x27;ELEVATORS_AVG&#x27;, &#x27;ENTRANCES_AVG&#x27;, &#x27;FLOORSMAX_AVG&#x27;, &#x27;FLOORSMIN_AVG&#x27;, &#x27;LANDAREA_AVG&#x27;, &#x27;LIVINGAPARTMENTS_AVG&#x27;, &#x27;LIVINGAREA_AVG&#x27;, &#x27;NONLIVINGAPARTMENTS_AVG&#x27;, &#x27;NONLIVINGAREA_AVG&#x27;, &#x27;APARTMENTS_MODE&#x27;, &#x27;BASEMENTAREA_MODE&#x27;, &#x27;YEARS_BEGINEXPLUATATION_MODE&#x27;, &#x27;YEARS_BUILD_MODE&#x27;, &#x27;COMMONAREA_MODE&#x27;, &#x27;ELEVATORS_MODE&#x27;, &#x27;ENTRANCES_MODE&#x27;, &#x27;FLOORSMAX_MODE&#x27;, &#x27;FLOORSMIN_MODE&#x27;, &#x27;LANDAREA_MODE&#x27;, &#x27;LIVINGAPARTMENTS_MODE&#x27;, &#x27;LIVINGAREA_MODE&#x27;, &#x27;NONLIVINGAPARTMENTS_MODE&#x27;, &#x27;NONLIVINGAREA_MODE&#x27;, &#x27;APARTMENTS_MEDI&#x27;, &#x27;BASEMENTAREA_MEDI&#x27;, &#x27;YEARS_BEGINEXPLUATATION_MEDI&#x27;, &#x27;YEARS_BUILD_MEDI&#x27;, &#x27;COMMONAREA_MEDI&#x27;, &#x27;ELEVATORS_MEDI&#x27;, &#x27;ENTRANCES_MEDI&#x27;, &#x27;FLOORSMAX_MEDI&#x27;, &#x27;FLOORSMIN_MEDI&#x27;, &#x27;LANDAREA_MEDI&#x27;, &#x27;LIVINGAPARTMENTS_MEDI&#x27;, &#x27;LIVINGAREA_MEDI&#x27;, &#x27;NONLIVINGAPARTMENTS_MEDI&#x27;, &#x27;NONLIVINGAREA_MEDI&#x27;, &#x27;TOTALAREA_MODE&#x27;, &#x27;OBS_30_CNT_SOCIAL_CIRCLE&#x27;, &#x27;DEF_30_CNT_SOCIAL_CIRCLE&#x27;, &#x27;OBS_60_CNT_SOCIAL_CIRCLE&#x27;, &#x27;DEF_60_CNT_SOCIAL_CIRCLE&#x27;, &#x27;DAYS_LAST_PHONE_CHANGE&#x27;, &#x27;FLAG_DOCUMENT_2&#x27;, &#x27;FLAG_DOCUMENT_3&#x27;, &#x27;FLAG_DOCUMENT_4&#x27;, &#x27;FLAG_DOCUMENT_5&#x27;, &#x27;FLAG_DOCUMENT_6&#x27;, &#x27;FLAG_DOCUMENT_7&#x27;, &#x27;FLAG_DOCUMENT_8&#x27;, &#x27;FLAG_DOCUMENT_9&#x27;, &#x27;FLAG_DOCUMENT_10&#x27;, &#x27;FLAG_DOCUMENT_11&#x27;, &#x27;FLAG_DOCUMENT_12&#x27;, &#x27;FLAG_DOCUMENT_13&#x27;, &#x27;FLAG_DOCUMENT_14&#x27;, &#x27;FLAG_DOCUMENT_15&#x27;, &#x27;FLAG_DOCUMENT_16&#x27;, &#x27;FLAG_DOCUMENT_17&#x27;, &#x27;FLAG_DOCUMENT_18&#x27;, &#x27;FLAG_DOCUMENT_19&#x27;, &#x27;FLAG_DOCUMENT_20&#x27;, &#x27;FLAG_DOCUMENT_21&#x27;, &#x27;AMT_REQ_CREDIT_BUREAU_HOUR&#x27;, &#x27;AMT_REQ_CREDIT_BUREAU_DAY&#x27;, &#x27;AMT_REQ_CREDIT_BUREAU_WEEK&#x27;, &#x27;AMT_REQ_CREDIT_BUREAU_MON&#x27;, &#x27;AMT_REQ_CREDIT_BUREAU_QRT&#x27;, &#x27;AMT_REQ_CREDIT_BUREAU_YEAR&#x27;, &#x27;FLAG_ANOMALY_DAYS_EMPLOYED&#x27;, &#x27;FE_DAYS_EMPLOYED_PERC&#x27;, &#x27;FE_INCOME_CREDIT_PERC&#x27;, &#x27;FE_INCOME_PER_PERSON&#x27;, &#x27;FE_ANNUITY_INCOME_PERC&#x27;, &#x27;FE_PAYMENT_RATE&#x27;, &#x27;SK_ID_BUREAU&#x27;, &#x27;DAYS_CREDIT&#x27;, &#x27;CREDIT_DAY_OVERDUE&#x27;, &#x27;DAYS_CREDIT_ENDDATE&#x27;, &#x27;DAYS_ENDDATE_FACT&#x27;, &#x27;AMT_CREDIT_MAX_OVERDUE&#x27;, &#x27;CNT_CREDIT_PROLONG&#x27;, &#x27;AMT_CREDIT_SUM&#x27;, &#x27;AMT_CREDIT_SUM_DEBT&#x27;, &#x27;AMT_CREDIT_SUM_LIMIT&#x27;, &#x27;AMT_CREDIT_SUM_OVERDUE&#x27;, &#x27;DAYS_CREDIT_UPDATE&#x27;, &#x27;AMT_ANNUITY_bureau&#x27;, &#x27;bureau_CREDIT_ACTIVE__Active&#x27;, &#x27;bureau_CREDIT_ACTIVE__Bad debt&#x27;, &#x27;bureau_CREDIT_ACTIVE__Closed&#x27;, &#x27;bureau_CREDIT_ACTIVE__Sold&#x27;, &#x27;MONTHS_BALANCE&#x27;, &#x27;bureau_balance_STATUS__0&#x27;, &#x27;bureau_balance_STATUS__1&#x27;, &#x27;bureau_balance_STATUS__2&#x27;, &#x27;bureau_balance_STATUS__3&#x27;, &#x27;bureau_balance_STATUS__4&#x27;, &#x27;bureau_balance_STATUS__5&#x27;, &#x27;bureau_balance_STATUS__C&#x27;, &#x27;bureau_balance_STATUS__X&#x27;]</pre></div></div></div><div class=\"sk-serial\"><div class=\"sk-item\"><div class=\"sk-estimator sk-toggleable\"><input class=\"sk-toggleable__control sk-hidden--visually\" id=\"sk-estimator-id-26\" type=\"checkbox\" ><label for=\"sk-estimator-id-26\" class=\"sk-toggleable__label sk-toggleable__label-arrow\">SimpleImputer</label><div class=\"sk-toggleable__content\"><pre>SimpleImputer(strategy=&#x27;median&#x27;)</pre></div></div></div></div></div></div><div class=\"sk-parallel-item\"><div class=\"sk-item\"><div class=\"sk-label-container\"><div class=\"sk-label sk-toggleable\"><input class=\"sk-toggleable__control sk-hidden--visually\" id=\"sk-estimator-id-27\" type=\"checkbox\" ><label for=\"sk-estimator-id-27\" class=\"sk-toggleable__label sk-toggleable__label-arrow\">simpleimputer-2</label><div class=\"sk-toggleable__content\"><pre>[&#x27;NAME_CONTRACT_TYPE&#x27;, &#x27;CODE_GENDER&#x27;, &#x27;FLAG_OWN_CAR&#x27;, &#x27;FLAG_OWN_REALTY&#x27;, &#x27;NAME_TYPE_SUITE&#x27;, &#x27;NAME_INCOME_TYPE&#x27;, &#x27;NAME_EDUCATION_TYPE&#x27;, &#x27;NAME_FAMILY_STATUS&#x27;, &#x27;NAME_HOUSING_TYPE&#x27;, &#x27;OCCUPATION_TYPE&#x27;, &#x27;WEEKDAY_APPR_PROCESS_START&#x27;, &#x27;ORGANIZATION_TYPE&#x27;, &#x27;FONDKAPREMONT_MODE&#x27;, &#x27;HOUSETYPE_MODE&#x27;, &#x27;WALLSMATERIAL_MODE&#x27;, &#x27;EMERGENCYSTATE_MODE&#x27;, &#x27;CREDIT_ACTIVE&#x27;, &#x27;CREDIT_CURRENCY&#x27;, &#x27;CREDIT_TYPE&#x27;, &#x27;STATUS&#x27;]</pre></div></div></div><div class=\"sk-serial\"><div class=\"sk-item\"><div class=\"sk-estimator sk-toggleable\"><input class=\"sk-toggleable__control sk-hidden--visually\" id=\"sk-estimator-id-28\" type=\"checkbox\" ><label for=\"sk-estimator-id-28\" class=\"sk-toggleable__label sk-toggleable__label-arrow\">SimpleImputer</label><div class=\"sk-toggleable__content\"><pre>SimpleImputer(strategy=&#x27;most_frequent&#x27;)</pre></div></div></div></div></div></div></div></div><div class=\"sk-item\"><div class=\"sk-estimator sk-toggleable\"><input class=\"sk-toggleable__control sk-hidden--visually\" id=\"sk-estimator-id-29\" type=\"checkbox\" ><label for=\"sk-estimator-id-29\" class=\"sk-toggleable__label sk-toggleable__label-arrow\">TargetEncoder</label><div class=\"sk-toggleable__content\"><pre>TargetEncoder()</pre></div></div></div><div class=\"sk-item\"><div class=\"sk-estimator sk-toggleable\"><input class=\"sk-toggleable__control sk-hidden--visually\" id=\"sk-estimator-id-30\" type=\"checkbox\" ><label for=\"sk-estimator-id-30\" class=\"sk-toggleable__label sk-toggleable__label-arrow\">RobustScaler</label><div class=\"sk-toggleable__content\"><pre>RobustScaler()</pre></div></div></div><div class=\"sk-item\"><div class=\"sk-estimator sk-toggleable\"><input class=\"sk-toggleable__control sk-hidden--visually\" id=\"sk-estimator-id-31\" type=\"checkbox\" ><label for=\"sk-estimator-id-31\" class=\"sk-toggleable__label sk-toggleable__label-arrow\">RandomUnderSampler</label><div class=\"sk-toggleable__content\"><pre>RandomUnderSampler()</pre></div></div></div><div class=\"sk-item\"><div class=\"sk-estimator sk-toggleable\"><input class=\"sk-toggleable__control sk-hidden--visually\" id=\"sk-estimator-id-32\" type=\"checkbox\" ><label for=\"sk-estimator-id-32\" class=\"sk-toggleable__label sk-toggleable__label-arrow\">VarianceThreshold</label><div class=\"sk-toggleable__content\"><pre>VarianceThreshold(threshold=0.02)</pre></div></div></div><div class=\"sk-item\"><div class=\"sk-estimator sk-toggleable\"><input class=\"sk-toggleable__control sk-hidden--visually\" id=\"sk-estimator-id-33\" type=\"checkbox\" ><label for=\"sk-estimator-id-33\" class=\"sk-toggleable__label sk-toggleable__label-arrow\">LGBMClassifier</label><div class=\"sk-toggleable__content\"><pre>LGBMClassifier(colsample_bytree=0.3, learning_rate=0.047, n_estimators=200)</pre></div></div></div></div></div></div></div>"
      ],
      "text/plain": [
       "Pipeline(steps=[('imputer',\n",
       "                 ColumnTransformer(transformers=[('simpleimputer-1',\n",
       "                                                  SimpleImputer(strategy='median'),\n",
       "                                                  ['CNT_CHILDREN',\n",
       "                                                   'AMT_INCOME_TOTAL',\n",
       "                                                   'AMT_CREDIT', 'AMT_ANNUITY',\n",
       "                                                   'AMT_GOODS_PRICE',\n",
       "                                                   'REGION_POPULATION_RELATIVE',\n",
       "                                                   'DAYS_BIRTH',\n",
       "                                                   'DAYS_EMPLOYED',\n",
       "                                                   'DAYS_REGISTRATION',\n",
       "                                                   'DAYS_ID_PUBLISH',\n",
       "                                                   'OWN_CAR_AGE', 'FLAG_MOBIL',\n",
       "                                                   'FLAG_EMP_PHONE',\n",
       "                                                   'FLAG_WORK_PHONE',\n",
       "                                                   '...\n",
       "                                                   'HOUSETYPE_MODE',\n",
       "                                                   'WALLSMATERIAL_MODE',\n",
       "                                                   'EMERGENCYSTATE_MODE',\n",
       "                                                   'CREDIT_ACTIVE',\n",
       "                                                   'CREDIT_CURRENCY',\n",
       "                                                   'CREDIT_TYPE',\n",
       "                                                   'STATUS'])])),\n",
       "                ('category_encoding', TargetEncoder()),\n",
       "                ('scaler', RobustScaler()), ('sampler', RandomUnderSampler()),\n",
       "                ('reduce_dim', VarianceThreshold(threshold=0.02)),\n",
       "                ('classifier',\n",
       "                 LGBMClassifier(colsample_bytree=0.3, learning_rate=0.047,\n",
       "                                n_estimators=200))])"
      ]
     },
     "execution_count": 43,
     "metadata": {},
     "output_type": "execute_result"
    }
   ],
   "source": [
    "model"
   ]
  },
  {
   "cell_type": "code",
   "execution_count": 44,
   "metadata": {
    "execution": {
     "iopub.execute_input": "2024-03-07T21:08:50.962524Z",
     "iopub.status.busy": "2024-03-07T21:08:50.962401Z",
     "iopub.status.idle": "2024-03-07T21:08:51.070203Z",
     "shell.execute_reply": "2024-03-07T21:08:51.069888Z",
     "shell.execute_reply.started": "2024-03-07T21:08:50.962516Z"
    }
   },
   "outputs": [
    {
     "data": {
      "image/png": "[encoded data removed]",
      "text/plain": [
       "<Figure size 640x480 with 1 Axes>"
      ]
     },
     "metadata": {},
     "output_type": "display_data"
    }
   ],
   "source": [
    "# get names of columns after dimension reduction\n",
    "features_after_dim_reduc = X_train.columns[model[\"reduce_dim\"].get_support()]\n",
    "# Plot feature importance\n",
    "pd.DataFrame(\n",
    "    model[\"classifier\"].feature_importances_,\n",
    "    index=features_after_dim_reduc,\n",
    "    columns=[\"feature_importance\"],\n",
    ").sort_values(by=\"feature_importance\").tail(20).plot.barh()\n",
    "plt.title(\"Feature importance in LGBM model\")\n",
    "plt.show();"
   ]
  },
  {
   "cell_type": "code",
   "execution_count": 41,
   "metadata": {
    "execution": {
     "iopub.execute_input": "2024-03-07T21:07:11.344343Z",
     "iopub.status.busy": "2024-03-07T21:07:11.344217Z",
     "iopub.status.idle": "2024-03-07T21:07:47.204876Z",
     "shell.execute_reply": "2024-03-07T21:07:47.204395Z",
     "shell.execute_reply.started": "2024-03-07T21:07:11.344335Z"
    }
   },
   "outputs": [],
   "source": [
    "res_roc_auc = pd.Series()\n",
    "res_accuracy = pd.Series()\n",
    "res_pnl = pd.Series()\n",
    "for threshold in np.linspace(0, 1, 20):\n",
    "    y_pred_threshold = (\n",
    "        model.predict_proba(\n",
    "            X_test,\n",
    "        )[:, 1]\n",
    "        >= threshold\n",
    "    ).astype(int)\n",
    "    res_roc_auc.loc[threshold] = metrics.roc_auc_score(y_test, y_pred_threshold)\n",
    "    res_accuracy.loc[threshold] = metrics.accuracy_score(y_test, y_pred_threshold)\n",
    "    res_pnl.loc[threshold] = pnl(y_test, y_pred_threshold)"
   ]
  },
  {
   "cell_type": "code",
   "execution_count": null,
   "metadata": {
    "execution": {
     "iopub.status.busy": "2024-03-07T19:57:16.521431Z",
     "iopub.status.idle": "2024-03-07T19:57:16.521502Z",
     "shell.execute_reply": "2024-03-07T19:57:16.521469Z",
     "shell.execute_reply.started": "2024-03-07T19:57:16.521466Z"
    }
   },
   "outputs": [],
   "source": [
    "ax = res_pnl.plot()\n",
    "plt.xlabel(\"proba_predict threshold\")\n",
    "plt.ylabel(\"pnl\")\n",
    "plt.plot()\n",
    "# ax = res_accuracy.plot()\n",
    "# TODO: use pnl as y-axis"
   ]
  },
  {
   "cell_type": "code",
   "execution_count": null,
   "metadata": {
    "execution": {
     "iopub.status.busy": "2024-03-07T19:57:16.521728Z",
     "iopub.status.idle": "2024-03-07T19:57:16.521839Z",
     "shell.execute_reply": "2024-03-07T19:57:16.521764Z",
     "shell.execute_reply.started": "2024-03-07T19:57:16.521761Z"
    }
   },
   "outputs": [],
   "source": [
    "res_roc_auc.max()"
   ]
  },
  {
   "cell_type": "code",
   "execution_count": null,
   "metadata": {
    "execution": {
     "iopub.status.busy": "2024-03-07T19:57:16.522336Z",
     "iopub.status.idle": "2024-03-07T19:57:16.522441Z",
     "shell.execute_reply": "2024-03-07T19:57:16.522400Z",
     "shell.execute_reply.started": "2024-03-07T19:57:16.522396Z"
    }
   },
   "outputs": [],
   "source": [
    "res_pnl.idxmax()"
   ]
  },
  {
   "cell_type": "code",
   "execution_count": null,
   "metadata": {
    "execution": {
     "iopub.status.busy": "2024-03-07T19:57:16.522611Z",
     "iopub.status.idle": "2024-03-07T19:57:16.522689Z",
     "shell.execute_reply": "2024-03-07T19:57:16.522653Z",
     "shell.execute_reply.started": "2024-03-07T19:57:16.522650Z"
    }
   },
   "outputs": [],
   "source": [
    "res_pnl.describe()"
   ]
  },
  {
   "cell_type": "code",
   "execution_count": null,
   "metadata": {
    "execution": {
     "iopub.status.busy": "2024-03-07T19:57:16.522849Z",
     "iopub.status.idle": "2024-03-07T19:57:16.522921Z",
     "shell.execute_reply": "2024-03-07T19:57:16.522888Z",
     "shell.execute_reply.started": "2024-03-07T19:57:16.522884Z"
    }
   },
   "outputs": [],
   "source": [
    "ax = res_roc_auc.plot()\n",
    "plt.xlabel(\"proba_predict threshold\")\n",
    "plt.ylabel(\"roc_auc_score\")\n",
    "plt.plot()\n",
    "# ax = res_accuracy.plot()\n",
    "# TODO: use pnl as y-axis"
   ]
  },
  {
   "cell_type": "code",
   "execution_count": null,
   "metadata": {
    "execution": {
     "iopub.status.busy": "2024-03-07T19:57:16.523105Z",
     "iopub.status.idle": "2024-03-07T19:57:16.523172Z",
     "shell.execute_reply": "2024-03-07T19:57:16.523142Z",
     "shell.execute_reply.started": "2024-03-07T19:57:16.523139Z"
    }
   },
   "outputs": [],
   "source": [
    "res_accuracy.plot()"
   ]
  },
  {
   "cell_type": "markdown",
   "metadata": {},
   "source": [
    "# Scoring metric"
   ]
  },
  {
   "cell_type": "markdown",
   "metadata": {},
   "source": [
    "## Confusion matrix"
   ]
  },
  {
   "cell_type": "code",
   "execution_count": 31,
   "metadata": {
    "execution": {
     "iopub.execute_input": "2024-03-07T20:27:04.840388Z",
     "iopub.status.busy": "2024-03-07T20:27:04.840256Z",
     "iopub.status.idle": "2024-03-07T20:27:04.852947Z",
     "shell.execute_reply": "2024-03-07T20:27:04.852236Z",
     "shell.execute_reply.started": "2024-03-07T20:27:04.840381Z"
    }
   },
   "outputs": [
    {
     "ename": "NameError",
     "evalue": "name 'clf' is not defined",
     "output_type": "error",
     "traceback": [
      "\u001b[0;31m---------------------------------------------------------------------------\u001b[0m",
      "\u001b[0;31mNameError\u001b[0m                                 Traceback (most recent call last)",
      "Cell \u001b[0;32mIn[31], line 1\u001b[0m\n\u001b[0;32m----> 1\u001b[0m cm \u001b[38;5;241m=\u001b[39m metrics\u001b[38;5;241m.\u001b[39mconfusion_matrix(y_test, y_pred, labels\u001b[38;5;241m=\u001b[39mclf\u001b[38;5;241m.\u001b[39mclasses_, normalize\u001b[38;5;241m=\u001b[39m\u001b[38;5;28;01mNone\u001b[39;00m)\n\u001b[1;32m      2\u001b[0m metrics\u001b[38;5;241m.\u001b[39mConfusionMatrixDisplay(\n\u001b[1;32m      3\u001b[0m     cm,\n\u001b[1;32m      4\u001b[0m )\u001b[38;5;241m.\u001b[39mplot()\n",
      "\u001b[0;31mNameError\u001b[0m: name 'clf' is not defined"
     ]
    }
   ],
   "source": [
    "cm = metrics.confusion_matrix(y_test, y_pred, labels=clf.classes_, normalize=None)\n",
    "metrics.ConfusionMatrixDisplay(\n",
    "    cm,\n",
    ").plot();"
   ]
  },
  {
   "cell_type": "code",
   "execution_count": null,
   "metadata": {
    "execution": {
     "iopub.status.busy": "2024-03-07T19:57:16.523632Z",
     "iopub.status.idle": "2024-03-07T19:57:16.523712Z",
     "shell.execute_reply": "2024-03-07T19:57:16.523675Z",
     "shell.execute_reply.started": "2024-03-07T19:57:16.523672Z"
    }
   },
   "outputs": [],
   "source": [
    "pd.Series(y_pred).value_counts()"
   ]
  },
  {
   "cell_type": "code",
   "execution_count": null,
   "metadata": {
    "execution": {
     "iopub.status.busy": "2024-03-07T19:57:16.523869Z",
     "iopub.status.idle": "2024-03-07T19:57:16.523936Z",
     "shell.execute_reply": "2024-03-07T19:57:16.523906Z",
     "shell.execute_reply.started": "2024-03-07T19:57:16.523903Z"
    }
   },
   "outputs": [],
   "source": [
    "pd.Series(y_test).value_counts()"
   ]
  },
  {
   "cell_type": "code",
   "execution_count": null,
   "metadata": {
    "execution": {
     "iopub.status.busy": "2024-03-07T19:57:16.524107Z",
     "iopub.status.idle": "2024-03-07T19:57:16.524173Z",
     "shell.execute_reply": "2024-03-07T19:57:16.524143Z",
     "shell.execute_reply.started": "2024-03-07T19:57:16.524140Z"
    }
   },
   "outputs": [],
   "source": [
    "y_pred.mean()"
   ]
  },
  {
   "cell_type": "code",
   "execution_count": null,
   "metadata": {
    "execution": {
     "iopub.status.busy": "2024-03-07T19:57:16.524335Z",
     "iopub.status.idle": "2024-03-07T19:57:16.524409Z",
     "shell.execute_reply": "2024-03-07T19:57:16.524375Z",
     "shell.execute_reply.started": "2024-03-07T19:57:16.524372Z"
    }
   },
   "outputs": [],
   "source": [
    "metrics.accuracy_score(y_test, y_pred)"
   ]
  },
  {
   "cell_type": "markdown",
   "metadata": {},
   "source": [
    "## ROC"
   ]
  },
  {
   "cell_type": "code",
   "execution_count": null,
   "metadata": {
    "execution": {
     "iopub.status.busy": "2024-03-07T19:57:16.524556Z",
     "iopub.status.idle": "2024-03-07T19:57:16.524623Z",
     "shell.execute_reply": "2024-03-07T19:57:16.524592Z",
     "shell.execute_reply.started": "2024-03-07T19:57:16.524589Z"
    }
   },
   "outputs": [],
   "source": [
    "metrics.roc_auc_score(y_test, y_pred)"
   ]
  },
  {
   "cell_type": "code",
   "execution_count": null,
   "metadata": {
    "execution": {
     "iopub.status.busy": "2024-03-07T19:57:16.524783Z",
     "iopub.status.idle": "2024-03-07T19:57:16.524855Z",
     "shell.execute_reply": "2024-03-07T19:57:16.524823Z",
     "shell.execute_reply.started": "2024-03-07T19:57:16.524820Z"
    }
   },
   "outputs": [],
   "source": [
    "[fpr, tpr, thr] = metrics.roc_curve(y_test, y_pred)\n",
    "plt.plot(fpr, tpr, color=\"coral\", lw=2)\n",
    "plt.xlim([0.0, 1.0])\n",
    "plt.ylim([0.0, 1.05])\n",
    "plt.xlabel(\"1 - specificite\", fontsize=14)\n",
    "plt.ylabel(\"Sensibilite\", fontsize=14)\n",
    "\n",
    "# indice du premier seuil pour lequel\n",
    "# la sensibilité est supérieure à 0.95\n",
    "idx = np.min(np.where(tpr > 0.95))\n",
    "\n",
    "print(\"Sensibilité : {:.2f}\".format(tpr[idx]))\n",
    "print(\"Spécificité : {:.2f}\".format(1 - fpr[idx]))\n",
    "print(\"Seuil : {:.2f}\".format(thr[idx]))"
   ]
  },
  {
   "cell_type": "markdown",
   "metadata": {},
   "source": [
    "## Custom PnL"
   ]
  },
  {
   "cell_type": "code",
   "execution_count": null,
   "metadata": {
    "execution": {
     "iopub.status.busy": "2024-03-07T19:57:16.525085Z",
     "iopub.status.idle": "2024-03-07T19:57:16.525154Z",
     "shell.execute_reply": "2024-03-07T19:57:16.525123Z",
     "shell.execute_reply.started": "2024-03-07T19:57:16.525120Z"
    }
   },
   "outputs": [],
   "source": [
    "print(\"P&L avec prédictions modèle : \", pnl(y_pred, y_test))\n",
    "print(\"P&L avec prédictions parfaites : \", pnl(y_test, y_test))"
   ]
  },
  {
   "cell_type": "code",
   "execution_count": null,
   "metadata": {
    "execution": {
     "iopub.status.busy": "2024-03-07T19:57:16.525357Z",
     "iopub.status.idle": "2024-03-07T19:57:16.525422Z",
     "shell.execute_reply": "2024-03-07T19:57:16.525392Z",
     "shell.execute_reply.started": "2024-03-07T19:57:16.525389Z"
    }
   },
   "outputs": [],
   "source": [
    "metrics.roc_auc_score(y_pred, y_test)"
   ]
  },
  {
   "cell_type": "code",
   "execution_count": null,
   "metadata": {
    "execution": {
     "iopub.status.busy": "2024-03-07T19:57:16.525658Z",
     "iopub.status.idle": "2024-03-07T19:57:16.525730Z",
     "shell.execute_reply": "2024-03-07T19:57:16.525697Z",
     "shell.execute_reply.started": "2024-03-07T19:57:16.525693Z"
    }
   },
   "outputs": [],
   "source": [
    "print(\n",
    "    \"P&L avec prédictions modèle : \", human_format(pnl(y_pred, y_test, normalize=False))\n",
    ")\n",
    "print(\n",
    "    \"P&L avec prédictions parfaites : \",\n",
    "    human_format(pnl(y_test, y_test, normalize=False)),\n",
    ")"
   ]
  },
  {
   "cell_type": "code",
   "execution_count": null,
   "metadata": {
    "execution": {
     "iopub.status.busy": "2024-03-07T19:57:16.525871Z",
     "iopub.status.idle": "2024-03-07T19:57:16.525938Z",
     "shell.execute_reply": "2024-03-07T19:57:16.525907Z",
     "shell.execute_reply.started": "2024-03-07T19:57:16.525904Z"
    }
   },
   "outputs": [],
   "source": [
    "# mlflow.log_metric(\"custom_pnl\", pnl(y_pred, y_test))"
   ]
  },
  {
   "cell_type": "code",
   "execution_count": null,
   "metadata": {
    "editable": true,
    "execution": {
     "iopub.status.busy": "2024-03-07T19:57:16.526173Z",
     "iopub.status.idle": "2024-03-07T19:57:16.526240Z",
     "shell.execute_reply": "2024-03-07T19:57:16.526209Z",
     "shell.execute_reply.started": "2024-03-07T19:57:16.526206Z"
    },
    "slideshow": {
     "slide_type": ""
    },
    "tags": []
   },
   "outputs": [],
   "source": [
    "y_pred.mean()"
   ]
  },
  {
   "cell_type": "code",
   "execution_count": null,
   "metadata": {
    "execution": {
     "iopub.status.busy": "2024-03-07T19:57:16.526449Z",
     "iopub.status.idle": "2024-03-07T19:57:16.526523Z",
     "shell.execute_reply": "2024-03-07T19:57:16.526490Z",
     "shell.execute_reply.started": "2024-03-07T19:57:16.526487Z"
    }
   },
   "outputs": [],
   "source": [
    "y_test.mean()"
   ]
  },
  {
   "cell_type": "markdown",
   "metadata": {},
   "source": [
    "# Track model with MLFlow"
   ]
  },
  {
   "cell_type": "code",
   "execution_count": null,
   "metadata": {
    "editable": true,
    "execution": {
     "iopub.status.busy": "2024-03-07T19:57:16.526680Z",
     "iopub.status.idle": "2024-03-07T19:57:16.526756Z",
     "shell.execute_reply": "2024-03-07T19:57:16.526720Z",
     "shell.execute_reply.started": "2024-03-07T19:57:16.526716Z"
    },
    "slideshow": {
     "slide_type": ""
    },
    "tags": []
   },
   "outputs": [],
   "source": [
    "# local server must be running:\n",
    "# $ mlflow ui\n",
    "mlflow.set_tracking_uri(uri=\"http://127.0.0.1:5000\")\n",
    "mlflow.set_experiment(\"P7 ML\")\n",
    "# mlflow.sklearn.autolog()  # log only sklearn model, not shap etc\n",
    "\n",
    "# Start an MLflow run\n",
    "with mlflow.start_run():\n",
    "    # Log the hyperparameters\n",
    "    mlflow.log_params(model_params)\n",
    "\n",
    "    # Log the loss metric\n",
    "    mlflow.log_metric(\"accuracy\", metrics.accuracy_score(y_test, y_pred))\n",
    "    mlflow.log_metric(\"roc_auc\", metrics.roc_auc_score(y_test, y_pred))\n",
    "    mlflow.log_metric(\"custom_pnl\", pnl(y_pred, y_test))\n",
    "\n",
    "    # Set a tag that we can use to remind ourselves what this run was for\n",
    "    # mlflow.set_tag(\"Description\", \"Basic LR model for iris data\")\n",
    "\n",
    "    # Infer the model signature\n",
    "    signature = infer_signature(X_train, model.predict(X_train))\n",
    "\n",
    "    # Log the model\n",
    "    model_info = mlflow.sklearn.log_model(\n",
    "        sk_model=model,\n",
    "        artifact_path=\"P7_model\",\n",
    "        signature=signature,\n",
    "        input_example=X_train,\n",
    "        # registered_model_name=\"tracking-quickstart\",\n",
    "    )"
   ]
  },
  {
   "cell_type": "markdown",
   "metadata": {},
   "source": [
    "## Essai non concluant : calculer intérêts et durée du prêt en fonction du montant total et de l'annuity"
   ]
  },
  {
   "cell_type": "code",
   "execution_count": null,
   "metadata": {
    "execution": {
     "iopub.status.busy": "2024-03-07T19:57:16.526937Z",
     "iopub.status.idle": "2024-03-07T19:57:16.527004Z",
     "shell.execute_reply": "2024-03-07T19:57:16.526973Z",
     "shell.execute_reply.started": "2024-03-07T19:57:16.526970Z"
    }
   },
   "outputs": [],
   "source": [
    "app_train[[\"AMT_CREDIT\", \"AMT_ANNUITY\", \"AMT_GOODS_PRICE\"]].sample(10)"
   ]
  },
  {
   "cell_type": "code",
   "execution_count": null,
   "metadata": {
    "execution": {
     "iopub.status.busy": "2024-03-07T19:57:16.527200Z",
     "iopub.status.idle": "2024-03-07T19:57:16.527267Z",
     "shell.execute_reply": "2024-03-07T19:57:16.527235Z",
     "shell.execute_reply.started": "2024-03-07T19:57:16.527232Z"
    }
   },
   "outputs": [],
   "source": [
    "(app_train.AMT_ANNUITY / app_train.AMT_CREDIT).describe()\n",
    "\n",
    "# app_train.AMT_CREDIT * 1.0665 / app_train.AMT_ANNUITY"
   ]
  },
  {
   "cell_type": "markdown",
   "metadata": {},
   "source": [
    "# Shap values"
   ]
  },
  {
   "cell_type": "code",
   "execution_count": null,
   "metadata": {
    "execution": {
     "iopub.status.busy": "2024-03-07T19:57:16.527436Z",
     "iopub.status.idle": "2024-03-07T19:57:16.527507Z",
     "shell.execute_reply": "2024-03-07T19:57:16.527472Z",
     "shell.execute_reply.started": "2024-03-07T19:57:16.527469Z"
    }
   },
   "outputs": [],
   "source": [
    "explainer = shap.LinearExplainer(grid.best_estimator_[\"classifier\"], X_train)\n",
    "shap_values = explainer.shap_values(X_test)\n",
    "shap_values"
   ]
  },
  {
   "cell_type": "code",
   "execution_count": null,
   "metadata": {
    "execution": {
     "iopub.status.busy": "2024-03-07T19:57:16.527664Z",
     "iopub.status.idle": "2024-03-07T19:57:16.527731Z",
     "shell.execute_reply": "2024-03-07T19:57:16.527700Z",
     "shell.execute_reply.started": "2024-03-07T19:57:16.527697Z"
    }
   },
   "outputs": [],
   "source": [
    "X_train.sample()"
   ]
  },
  {
   "cell_type": "code",
   "execution_count": null,
   "metadata": {
    "execution": {
     "iopub.status.busy": "2024-03-07T19:57:16.527921Z",
     "iopub.status.idle": "2024-03-07T19:57:16.527996Z",
     "shell.execute_reply": "2024-03-07T19:57:16.527963Z",
     "shell.execute_reply.started": "2024-03-07T19:57:16.527959Z"
    }
   },
   "outputs": [],
   "source": [
    "len(shap_values)"
   ]
  },
  {
   "cell_type": "code",
   "execution_count": null,
   "metadata": {
    "execution": {
     "iopub.status.busy": "2024-03-07T19:57:16.528212Z",
     "iopub.status.idle": "2024-03-07T19:57:16.528282Z",
     "shell.execute_reply": "2024-03-07T19:57:16.528250Z",
     "shell.execute_reply.started": "2024-03-07T19:57:16.528246Z"
    }
   },
   "outputs": [],
   "source": [
    "model = grid.best_estimator_"
   ]
  },
  {
   "cell_type": "code",
   "execution_count": null,
   "metadata": {
    "execution": {
     "iopub.status.busy": "2024-03-07T19:57:16.528449Z",
     "iopub.status.idle": "2024-03-07T19:57:16.528520Z",
     "shell.execute_reply": "2024-03-07T19:57:16.528486Z",
     "shell.execute_reply.started": "2024-03-07T19:57:16.528483Z"
    }
   },
   "outputs": [],
   "source": [
    "X_test.shape"
   ]
  },
  {
   "cell_type": "code",
   "execution_count": null,
   "metadata": {
    "execution": {
     "iopub.status.busy": "2024-03-07T19:57:16.528682Z",
     "iopub.status.idle": "2024-03-07T19:57:16.528749Z",
     "shell.execute_reply": "2024-03-07T19:57:16.528717Z",
     "shell.execute_reply.started": "2024-03-07T19:57:16.528714Z"
    }
   },
   "outputs": [],
   "source": [
    "X_test.shape"
   ]
  },
  {
   "cell_type": "code",
   "execution_count": null,
   "metadata": {
    "execution": {
     "iopub.status.busy": "2024-03-07T19:57:16.528912Z",
     "iopub.status.idle": "2024-03-07T19:57:16.528975Z",
     "shell.execute_reply": "2024-03-07T19:57:16.528946Z",
     "shell.execute_reply.started": "2024-03-07T19:57:16.528943Z"
    }
   },
   "outputs": [],
   "source": [
    "idx = X_test.sample().index[0]"
   ]
  },
  {
   "cell_type": "code",
   "execution_count": null,
   "metadata": {
    "execution": {
     "iopub.status.busy": "2024-03-07T19:57:16.529185Z",
     "iopub.status.idle": "2024-03-07T19:57:16.529255Z",
     "shell.execute_reply": "2024-03-07T19:57:16.529222Z",
     "shell.execute_reply.started": "2024-03-07T19:57:16.529219Z"
    }
   },
   "outputs": [],
   "source": [
    "X_test.loc[X_test.sample().index[0], :]"
   ]
  },
  {
   "cell_type": "code",
   "execution_count": null,
   "metadata": {
    "execution": {
     "iopub.status.busy": "2024-03-07T19:57:16.529466Z",
     "iopub.status.idle": "2024-03-07T19:57:16.529534Z",
     "shell.execute_reply": "2024-03-07T19:57:16.529503Z",
     "shell.execute_reply.started": "2024-03-07T19:57:16.529499Z"
    }
   },
   "outputs": [],
   "source": [
    "def shap_for_one(df, idx):\n",
    "    \"\"\"\n",
    "    Return 10 top\n",
    "    \"\"\"\n",
    "    shap_for_sample = pd.DataFrame(explainer.shap_values(df.loc[idx, :])).fillna(0)\n",
    "    shap_OK = StandardScaler().fit_transform(shap_for_sample)\n",
    "    shap_OK = pd.DataFrame(shap_OK, index=df.columns)\n",
    "    shap_OK = pd.Series(shap_OK.iloc[:, 0])\n",
    "    top_shap = shap_OK.sort_values(ascending=False).head(10)\n",
    "    bottom_shap = shap_OK.sort_values(ascending=True).head(10)\n",
    "    return {\"top\": top_shap.to_dict(), \"bottom\": bottom_shap.to_dict()}\n",
    "\n",
    "\n",
    "shap_for_one(X_test, X_test.sample().index[0])"
   ]
  },
  {
   "cell_type": "code",
   "execution_count": null,
   "metadata": {
    "execution": {
     "iopub.status.busy": "2024-03-07T19:57:16.529808Z",
     "iopub.status.idle": "2024-03-07T19:57:16.529875Z",
     "shell.execute_reply": "2024-03-07T19:57:16.529844Z",
     "shell.execute_reply.started": "2024-03-07T19:57:16.529840Z"
    }
   },
   "outputs": [],
   "source": [
    "shap_dict = shap_for_one(X_test, X_test.sample().index[0])\n",
    "# merge top and bottom into one dict\n",
    "shap_dict[\"top\"].update(shap_dict[\"bottom\"])\n",
    "keys = np.fromiter(shap_dict[\"top\"].keys(), dtype=object)\n",
    "values = np.fromiter(shap_dict[\"top\"].values(), dtype=float)\n",
    "shap.bar_plot(\n",
    "    values,\n",
    "    feature_names=keys,\n",
    "    max_display=20,\n",
    ")"
   ]
  },
  {
   "cell_type": "code",
   "execution_count": null,
   "metadata": {
    "execution": {
     "iopub.status.busy": "2024-03-07T19:57:16.530013Z",
     "iopub.status.idle": "2024-03-07T19:57:16.530078Z",
     "shell.execute_reply": "2024-03-07T19:57:16.530047Z",
     "shell.execute_reply.started": "2024-03-07T19:57:16.530044Z"
    }
   },
   "outputs": [],
   "source": [
    "np.fromiter(shap_dict[\"top\"].keys(), dtype=object)"
   ]
  },
  {
   "cell_type": "code",
   "execution_count": null,
   "metadata": {
    "execution": {
     "iopub.status.busy": "2024-03-07T19:57:16.530274Z",
     "iopub.status.idle": "2024-03-07T19:57:16.530341Z",
     "shell.execute_reply": "2024-03-07T19:57:16.530310Z",
     "shell.execute_reply.started": "2024-03-07T19:57:16.530307Z"
    }
   },
   "outputs": [],
   "source": [
    "explainer.shap_values(X_test.sample(1))[0]"
   ]
  },
  {
   "cell_type": "code",
   "execution_count": null,
   "metadata": {
    "execution": {
     "iopub.status.busy": "2024-03-07T19:57:16.530490Z",
     "iopub.status.idle": "2024-03-07T19:57:16.530560Z",
     "shell.execute_reply": "2024-03-07T19:57:16.530527Z",
     "shell.execute_reply.started": "2024-03-07T19:57:16.530524Z"
    }
   },
   "outputs": [],
   "source": [
    "# explainer for only 1 sample row\n",
    "# TODO prendre que les tops\n",
    "shap.bar_plot(\n",
    "    explainer.shap_values(X_test.sample(1))[0],\n",
    "    feature_names=X_test.columns,\n",
    "    max_display=20,\n",
    ")"
   ]
  },
  {
   "cell_type": "code",
   "execution_count": null,
   "metadata": {
    "execution": {
     "iopub.status.busy": "2024-03-07T19:57:16.530748Z",
     "iopub.status.idle": "2024-03-07T19:57:16.530816Z",
     "shell.execute_reply": "2024-03-07T19:57:16.530785Z",
     "shell.execute_reply.started": "2024-03-07T19:57:16.530782Z"
    }
   },
   "outputs": [],
   "source": [
    "# shap.plots.beeswarm(explainer.shap_values(X_test))"
   ]
  },
  {
   "cell_type": "code",
   "execution_count": null,
   "metadata": {
    "execution": {
     "iopub.status.busy": "2024-03-07T19:57:16.530971Z",
     "iopub.status.idle": "2024-03-07T19:57:16.531042Z",
     "shell.execute_reply": "2024-03-07T19:57:16.531012Z",
     "shell.execute_reply.started": "2024-03-07T19:57:16.531009Z"
    }
   },
   "outputs": [],
   "source": [
    "shap.summary_plot(\n",
    "    explainer.shap_values(X_test).astype(float),\n",
    "    feature_names=X_test.columns,\n",
    "    # use_log_scale=True,\n",
    ")"
   ]
  },
  {
   "cell_type": "markdown",
   "metadata": {},
   "source": [
    "# Save trained model"
   ]
  },
  {
   "cell_type": "code",
   "execution_count": null,
   "metadata": {
    "execution": {
     "iopub.status.busy": "2024-03-07T19:57:16.531246Z",
     "iopub.status.idle": "2024-03-07T19:57:16.531313Z",
     "shell.execute_reply": "2024-03-07T19:57:16.531282Z",
     "shell.execute_reply.started": "2024-03-07T19:57:16.531279Z"
    }
   },
   "outputs": [],
   "source": [
    "# Standard\n",
    "import pickle\n",
    "\n",
    "with open(\"../models/model.pkl\", \"wb\") as f:\n",
    "    pickle.dump(grid.best_estimator_, f)\n",
    "with open(\"../models/shap_explainer.pkl\", \"wb\") as f:\n",
    "    pickle.dump(explainer, f)\n",
    "\n",
    "f.close()"
   ]
  },
  {
   "cell_type": "code",
   "execution_count": null,
   "metadata": {
    "execution": {
     "iopub.status.busy": "2024-03-07T19:57:16.531457Z",
     "iopub.status.idle": "2024-03-07T19:57:16.531525Z",
     "shell.execute_reply": "2024-03-07T19:57:16.531493Z",
     "shell.execute_reply.started": "2024-03-07T19:57:16.531490Z"
    }
   },
   "outputs": [],
   "source": [
    "grid.best_estimator_.predict_proba(pd.DataFrame(X_test.iloc[0, :]).T)"
   ]
  },
  {
   "cell_type": "code",
   "execution_count": null,
   "metadata": {},
   "outputs": [],
   "source": []
  },
  {
   "cell_type": "code",
   "execution_count": null,
   "metadata": {},
   "outputs": [],
   "source": []
  }
 ],
 "metadata": {
  "kernelspec": {
   "display_name": "Python 3 (ipykernel)",
   "language": "python",
   "name": "python3"
  },
  "language_info": {
   "codemirror_mode": {
    "name": "ipython",
    "version": 3
   },
   "file_extension": ".py",
   "mimetype": "text/x-python",
   "name": "python",
   "nbconvert_exporter": "python",
   "pygments_lexer": "ipython3",
   "version": "3.11.5"
  }
 },
 "nbformat": 4,
 "nbformat_minor": 4
}
