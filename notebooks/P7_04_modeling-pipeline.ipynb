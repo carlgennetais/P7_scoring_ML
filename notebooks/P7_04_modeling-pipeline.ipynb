{
 "cells": [
  {
   "cell_type": "markdown",
   "metadata": {},
   "source": [
    "# Import"
   ]
  },
  {
   "cell_type": "code",
   "execution_count": 22,
   "metadata": {
    "execution": {
     "iopub.execute_input": "2024-01-05T07:28:51.633104Z",
     "iopub.status.busy": "2024-01-05T07:28:51.632210Z",
     "iopub.status.idle": "2024-01-05T07:28:51.646778Z",
     "shell.execute_reply": "2024-01-05T07:28:51.645181Z",
     "shell.execute_reply.started": "2024-01-05T07:28:51.633045Z"
    }
   },
   "outputs": [],
   "source": [
    "import numpy as np\n",
    "import pandas as pd\n",
    "import seaborn as sns\n",
    "import matplotlib.pyplot as plt\n",
    "\n",
    "sns.set()\n",
    "\n",
    "from sklearn import metrics, preprocessing\n",
    "from sklearn.dummy import DummyClassifier\n",
    "from sklearn.impute import SimpleImputer\n",
    "\n",
    "# from sklearn.pipeline import Pipeline\n",
    "from imblearn.pipeline import Pipeline\n",
    "from sklearn.linear_model import LogisticRegression\n",
    "from sklearn.preprocessing import (\n",
    "    MinMaxScaler,\n",
    "    RobustScaler,\n",
    "    StandardScaler,\n",
    "    FunctionTransformer,\n",
    ")\n",
    "from imblearn.under_sampling import RandomUnderSampler\n",
    "from sklearn.model_selection import GridSearchCV, train_test_split"
   ]
  },
  {
   "cell_type": "code",
   "execution_count": 24,
   "metadata": {
    "execution": {
     "iopub.execute_input": "2024-01-05T07:30:26.198563Z",
     "iopub.status.busy": "2024-01-05T07:30:26.197623Z",
     "iopub.status.idle": "2024-01-05T07:30:27.194785Z",
     "shell.execute_reply": "2024-01-05T07:30:27.193203Z",
     "shell.execute_reply.started": "2024-01-05T07:30:26.198509Z"
    }
   },
   "outputs": [],
   "source": [
    "# load cleaned data\n",
    "app_train = pd.read_pickle(\"../data/processed/app_train_cleaned.pkl\")\n",
    "app_test = pd.read_pickle(\n",
    "    \"../data/processed/app_test_cleaned.pkl\"\n",
    ")  # used for datadrift only"
   ]
  },
  {
   "cell_type": "code",
   "execution_count": 3,
   "metadata": {
    "execution": {
     "iopub.execute_input": "2023-12-29T12:01:12.274521Z",
     "iopub.status.busy": "2023-12-29T12:01:12.274420Z",
     "iopub.status.idle": "2023-12-29T12:01:12.282804Z",
     "shell.execute_reply": "2023-12-29T12:01:12.282293Z",
     "shell.execute_reply.started": "2023-12-29T12:01:12.274511Z"
    }
   },
   "outputs": [
    {
     "name": "stdout",
     "output_type": "stream",
     "text": [
      "<class 'pandas.core.frame.DataFrame'>\n",
      "RangeIndex: 307511 entries, 0 to 307510\n",
      "Columns: 249 entries, SK_ID_CURR to FE_PAYMENT_RATE\n",
      "dtypes: bool(135), float64(71), int64(43)\n",
      "memory usage: 307.0 MB\n"
     ]
    }
   ],
   "source": [
    "app_train.info()"
   ]
  },
  {
   "cell_type": "markdown",
   "metadata": {},
   "source": [
    "# Split train/test\n",
    "To keep some test data not seen by gridsearch"
   ]
  },
  {
   "cell_type": "code",
   "execution_count": 25,
   "metadata": {
    "execution": {
     "iopub.execute_input": "2024-01-05T07:30:28.784452Z",
     "iopub.status.busy": "2024-01-05T07:30:28.783833Z",
     "iopub.status.idle": "2024-01-05T07:30:32.171090Z",
     "shell.execute_reply": "2024-01-05T07:30:32.169545Z",
     "shell.execute_reply.started": "2024-01-05T07:30:28.784421Z"
    }
   },
   "outputs": [],
   "source": [
    "X_train, X_test, y_train, y_test = train_test_split(\n",
    "    app_train.drop(\"TARGET\", axis=1), app_train.TARGET, test_size=0.15\n",
    ")"
   ]
  },
  {
   "cell_type": "markdown",
   "metadata": {},
   "source": [
    "## Naive undersampler to fix target imbalance"
   ]
  },
  {
   "cell_type": "code",
   "execution_count": 26,
   "metadata": {
    "execution": {
     "iopub.execute_input": "2024-01-05T07:30:32.188941Z",
     "iopub.status.busy": "2024-01-05T07:30:32.187483Z",
     "iopub.status.idle": "2024-01-05T07:30:32.211532Z",
     "shell.execute_reply": "2024-01-05T07:30:32.208989Z",
     "shell.execute_reply.started": "2024-01-05T07:30:32.188887Z"
    }
   },
   "outputs": [],
   "source": [
    "def NaiveUnderSampler(df):\n",
    "    # find the minority class\n",
    "    min_class = df.TARGET.value_counts().idxmin()\n",
    "    # keep same number of majority class than minority\n",
    "    target_minority_count = df[df.TARGET == min_class].shape[0]\n",
    "    df_balanced = pd.concat(\n",
    "        [\n",
    "            df[df.TARGET == min_class].sample(target_minority_count),\n",
    "            df[df.TARGET != min_class].sample(target_minority_count),\n",
    "        ]\n",
    "    )\n",
    "    # shuffle rows\n",
    "    return df_balanced.sample(frac=1)"
   ]
  },
  {
   "cell_type": "code",
   "execution_count": 27,
   "metadata": {
    "execution": {
     "iopub.execute_input": "2024-01-05T07:30:32.222359Z",
     "iopub.status.busy": "2024-01-05T07:30:32.221813Z",
     "iopub.status.idle": "2024-01-05T07:30:32.256245Z",
     "shell.execute_reply": "2024-01-05T07:30:32.252583Z",
     "shell.execute_reply.started": "2024-01-05T07:30:32.222324Z"
    }
   },
   "outputs": [],
   "source": [
    "# create transformer with fit methods from my function\n",
    "NaiveUnderSamplerTf = FunctionTransformer(NaiveUnderSampler)"
   ]
  },
  {
   "cell_type": "code",
   "execution_count": 28,
   "metadata": {
    "execution": {
     "iopub.execute_input": "2024-01-05T07:30:32.840495Z",
     "iopub.status.busy": "2024-01-05T07:30:32.840125Z",
     "iopub.status.idle": "2024-01-05T07:30:34.611243Z",
     "shell.execute_reply": "2024-01-05T07:30:34.603841Z",
     "shell.execute_reply.started": "2024-01-05T07:30:32.840469Z"
    }
   },
   "outputs": [
    {
     "data": {
      "text/plain": [
       "1    24825\n",
       "0    24825\n",
       "Name: TARGET, dtype: int64"
      ]
     },
     "execution_count": 28,
     "metadata": {},
     "output_type": "execute_result"
    }
   ],
   "source": [
    "# test naive imbalance fixer\n",
    "app_train.pipe(NaiveUnderSampler).TARGET.value_counts()"
   ]
  },
  {
   "cell_type": "markdown",
   "metadata": {},
   "source": [
    "# Pipeline"
   ]
  },
  {
   "cell_type": "code",
   "execution_count": 29,
   "metadata": {
    "execution": {
     "iopub.execute_input": "2024-01-05T07:30:35.462586Z",
     "iopub.status.busy": "2024-01-05T07:30:35.462134Z",
     "iopub.status.idle": "2024-01-05T07:30:35.477122Z",
     "shell.execute_reply": "2024-01-05T07:30:35.474443Z",
     "shell.execute_reply.started": "2024-01-05T07:30:35.462526Z"
    }
   },
   "outputs": [],
   "source": [
    "# separate target\n",
    "# X, y = app_train.drop(\"TARGET\", axis=1), app_train.TARGET\n",
    "# print(X.shape)\n",
    "# print(y.shape)"
   ]
  },
  {
   "cell_type": "code",
   "execution_count": 30,
   "metadata": {
    "execution": {
     "iopub.execute_input": "2024-01-05T07:30:38.793697Z",
     "iopub.status.busy": "2024-01-05T07:30:38.793350Z",
     "iopub.status.idle": "2024-01-05T07:30:38.822884Z",
     "shell.execute_reply": "2024-01-05T07:30:38.814333Z",
     "shell.execute_reply.started": "2024-01-05T07:30:38.793672Z"
    }
   },
   "outputs": [
    {
     "data": {
      "text/html": [
       "<style>#sk-container-id-3 {color: black;background-color: white;}#sk-container-id-3 pre{padding: 0;}#sk-container-id-3 div.sk-toggleable {background-color: white;}#sk-container-id-3 label.sk-toggleable__label {cursor: pointer;display: block;width: 100%;margin-bottom: 0;padding: 0.3em;box-sizing: border-box;text-align: center;}#sk-container-id-3 label.sk-toggleable__label-arrow:before {content: \"▸\";float: left;margin-right: 0.25em;color: #696969;}#sk-container-id-3 label.sk-toggleable__label-arrow:hover:before {color: black;}#sk-container-id-3 div.sk-estimator:hover label.sk-toggleable__label-arrow:before {color: black;}#sk-container-id-3 div.sk-toggleable__content {max-height: 0;max-width: 0;overflow: hidden;text-align: left;background-color: #f0f8ff;}#sk-container-id-3 div.sk-toggleable__content pre {margin: 0.2em;color: black;border-radius: 0.25em;background-color: #f0f8ff;}#sk-container-id-3 input.sk-toggleable__control:checked~div.sk-toggleable__content {max-height: 200px;max-width: 100%;overflow: auto;}#sk-container-id-3 input.sk-toggleable__control:checked~label.sk-toggleable__label-arrow:before {content: \"▾\";}#sk-container-id-3 div.sk-estimator input.sk-toggleable__control:checked~label.sk-toggleable__label {background-color: #d4ebff;}#sk-container-id-3 div.sk-label input.sk-toggleable__control:checked~label.sk-toggleable__label {background-color: #d4ebff;}#sk-container-id-3 input.sk-hidden--visually {border: 0;clip: rect(1px 1px 1px 1px);clip: rect(1px, 1px, 1px, 1px);height: 1px;margin: -1px;overflow: hidden;padding: 0;position: absolute;width: 1px;}#sk-container-id-3 div.sk-estimator {font-family: monospace;background-color: #f0f8ff;border: 1px dotted black;border-radius: 0.25em;box-sizing: border-box;margin-bottom: 0.5em;}#sk-container-id-3 div.sk-estimator:hover {background-color: #d4ebff;}#sk-container-id-3 div.sk-parallel-item::after {content: \"\";width: 100%;border-bottom: 1px solid gray;flex-grow: 1;}#sk-container-id-3 div.sk-label:hover label.sk-toggleable__label {background-color: #d4ebff;}#sk-container-id-3 div.sk-serial::before {content: \"\";position: absolute;border-left: 1px solid gray;box-sizing: border-box;top: 0;bottom: 0;left: 50%;z-index: 0;}#sk-container-id-3 div.sk-serial {display: flex;flex-direction: column;align-items: center;background-color: white;padding-right: 0.2em;padding-left: 0.2em;position: relative;}#sk-container-id-3 div.sk-item {position: relative;z-index: 1;}#sk-container-id-3 div.sk-parallel {display: flex;align-items: stretch;justify-content: center;background-color: white;position: relative;}#sk-container-id-3 div.sk-item::before, #sk-container-id-3 div.sk-parallel-item::before {content: \"\";position: absolute;border-left: 1px solid gray;box-sizing: border-box;top: 0;bottom: 0;left: 50%;z-index: -1;}#sk-container-id-3 div.sk-parallel-item {display: flex;flex-direction: column;z-index: 1;position: relative;background-color: white;}#sk-container-id-3 div.sk-parallel-item:first-child::after {align-self: flex-end;width: 50%;}#sk-container-id-3 div.sk-parallel-item:last-child::after {align-self: flex-start;width: 50%;}#sk-container-id-3 div.sk-parallel-item:only-child::after {width: 0;}#sk-container-id-3 div.sk-dashed-wrapped {border: 1px dashed gray;margin: 0 0.4em 0.5em 0.4em;box-sizing: border-box;padding-bottom: 0.4em;background-color: white;}#sk-container-id-3 div.sk-label label {font-family: monospace;font-weight: bold;display: inline-block;line-height: 1.2em;}#sk-container-id-3 div.sk-label-container {text-align: center;}#sk-container-id-3 div.sk-container {/* jupyter's `normalize.less` sets `[hidden] { display: none; }` but bootstrap.min.css set `[hidden] { display: none !important; }` so we also need the `!important` here to be able to override the default hidden behavior on the sphinx rendered scikit-learn.org. See: https://github.com/scikit-learn/scikit-learn/issues/21755 */display: inline-block !important;position: relative;}#sk-container-id-3 div.sk-text-repr-fallback {display: none;}</style><div id=\"sk-container-id-3\" class=\"sk-top-container\"><div class=\"sk-text-repr-fallback\"><pre>Pipeline(steps=[(&#x27;sampler&#x27;, RandomUnderSampler()), (&#x27;imputer&#x27;, SimpleImputer()),\n",
       "                (&#x27;scaler&#x27;, MinMaxScaler()),\n",
       "                (&#x27;classifier&#x27;, LogisticRegression(max_iter=500))])</pre><b>In a Jupyter environment, please rerun this cell to show the HTML representation or trust the notebook. <br />On GitHub, the HTML representation is unable to render, please try loading this page with nbviewer.org.</b></div><div class=\"sk-container\" hidden><div class=\"sk-item sk-dashed-wrapped\"><div class=\"sk-label-container\"><div class=\"sk-label sk-toggleable\"><input class=\"sk-toggleable__control sk-hidden--visually\" id=\"sk-estimator-id-12\" type=\"checkbox\" ><label for=\"sk-estimator-id-12\" class=\"sk-toggleable__label sk-toggleable__label-arrow\">Pipeline</label><div class=\"sk-toggleable__content\"><pre>Pipeline(steps=[(&#x27;sampler&#x27;, RandomUnderSampler()), (&#x27;imputer&#x27;, SimpleImputer()),\n",
       "                (&#x27;scaler&#x27;, MinMaxScaler()),\n",
       "                (&#x27;classifier&#x27;, LogisticRegression(max_iter=500))])</pre></div></div></div><div class=\"sk-serial\"><div class=\"sk-item\"><div class=\"sk-estimator sk-toggleable\"><input class=\"sk-toggleable__control sk-hidden--visually\" id=\"sk-estimator-id-13\" type=\"checkbox\" ><label for=\"sk-estimator-id-13\" class=\"sk-toggleable__label sk-toggleable__label-arrow\">RandomUnderSampler</label><div class=\"sk-toggleable__content\"><pre>RandomUnderSampler()</pre></div></div></div><div class=\"sk-item\"><div class=\"sk-estimator sk-toggleable\"><input class=\"sk-toggleable__control sk-hidden--visually\" id=\"sk-estimator-id-14\" type=\"checkbox\" ><label for=\"sk-estimator-id-14\" class=\"sk-toggleable__label sk-toggleable__label-arrow\">SimpleImputer</label><div class=\"sk-toggleable__content\"><pre>SimpleImputer()</pre></div></div></div><div class=\"sk-item\"><div class=\"sk-estimator sk-toggleable\"><input class=\"sk-toggleable__control sk-hidden--visually\" id=\"sk-estimator-id-15\" type=\"checkbox\" ><label for=\"sk-estimator-id-15\" class=\"sk-toggleable__label sk-toggleable__label-arrow\">MinMaxScaler</label><div class=\"sk-toggleable__content\"><pre>MinMaxScaler()</pre></div></div></div><div class=\"sk-item\"><div class=\"sk-estimator sk-toggleable\"><input class=\"sk-toggleable__control sk-hidden--visually\" id=\"sk-estimator-id-16\" type=\"checkbox\" ><label for=\"sk-estimator-id-16\" class=\"sk-toggleable__label sk-toggleable__label-arrow\">LogisticRegression</label><div class=\"sk-toggleable__content\"><pre>LogisticRegression(max_iter=500)</pre></div></div></div></div></div></div></div>"
      ],
      "text/plain": [
       "Pipeline(steps=[('sampler', RandomUnderSampler()), ('imputer', SimpleImputer()),\n",
       "                ('scaler', MinMaxScaler()),\n",
       "                ('classifier', LogisticRegression(max_iter=500))])"
      ]
     },
     "execution_count": 30,
     "metadata": {},
     "output_type": "execute_result"
    }
   ],
   "source": [
    "samplerList = [NaiveUnderSamplerTf, RandomUnderSampler()]\n",
    "pipe = Pipeline(\n",
    "    [\n",
    "        (\"sampler\", RandomUnderSampler()),\n",
    "        (\"imputer\", SimpleImputer(strategy=\"mean\")),\n",
    "        (\"scaler\", MinMaxScaler()),\n",
    "        (\"classifier\", LogisticRegression(max_iter=500)),\n",
    "    ]\n",
    ")\n",
    "pipe"
   ]
  },
  {
   "cell_type": "code",
   "execution_count": 31,
   "metadata": {
    "execution": {
     "iopub.execute_input": "2024-01-05T07:30:40.500804Z",
     "iopub.status.busy": "2024-01-05T07:30:40.500185Z",
     "iopub.status.idle": "2024-01-05T07:31:27.097210Z",
     "shell.execute_reply": "2024-01-05T07:31:27.095271Z",
     "shell.execute_reply.started": "2024-01-05T07:30:40.500758Z"
    }
   },
   "outputs": [
    {
     "name": "stdout",
     "output_type": "stream",
     "text": [
      "Fitting 3 folds for each of 1 candidates, totalling 3 fits\n"
     ]
    },
    {
     "name": "stderr",
     "output_type": "stream",
     "text": [
      "/usr/local/miniconda3/envs/p7env/lib/python3.11/site-packages/sklearn/linear_model/_logistic.py:458: ConvergenceWarning: lbfgs failed to converge (status=1):\n",
      "STOP: TOTAL NO. of ITERATIONS REACHED LIMIT.\n",
      "\n",
      "Increase the number of iterations (max_iter) or scale the data as shown in:\n",
      "    https://scikit-learn.org/stable/modules/preprocessing.html\n",
      "Please also refer to the documentation for alternative solver options:\n",
      "    https://scikit-learn.org/stable/modules/linear_model.html#logistic-regression\n",
      "  n_iter_i = _check_optimize_result(\n"
     ]
    },
    {
     "data": {
      "text/html": [
       "<style>#sk-container-id-4 {color: black;background-color: white;}#sk-container-id-4 pre{padding: 0;}#sk-container-id-4 div.sk-toggleable {background-color: white;}#sk-container-id-4 label.sk-toggleable__label {cursor: pointer;display: block;width: 100%;margin-bottom: 0;padding: 0.3em;box-sizing: border-box;text-align: center;}#sk-container-id-4 label.sk-toggleable__label-arrow:before {content: \"▸\";float: left;margin-right: 0.25em;color: #696969;}#sk-container-id-4 label.sk-toggleable__label-arrow:hover:before {color: black;}#sk-container-id-4 div.sk-estimator:hover label.sk-toggleable__label-arrow:before {color: black;}#sk-container-id-4 div.sk-toggleable__content {max-height: 0;max-width: 0;overflow: hidden;text-align: left;background-color: #f0f8ff;}#sk-container-id-4 div.sk-toggleable__content pre {margin: 0.2em;color: black;border-radius: 0.25em;background-color: #f0f8ff;}#sk-container-id-4 input.sk-toggleable__control:checked~div.sk-toggleable__content {max-height: 200px;max-width: 100%;overflow: auto;}#sk-container-id-4 input.sk-toggleable__control:checked~label.sk-toggleable__label-arrow:before {content: \"▾\";}#sk-container-id-4 div.sk-estimator input.sk-toggleable__control:checked~label.sk-toggleable__label {background-color: #d4ebff;}#sk-container-id-4 div.sk-label input.sk-toggleable__control:checked~label.sk-toggleable__label {background-color: #d4ebff;}#sk-container-id-4 input.sk-hidden--visually {border: 0;clip: rect(1px 1px 1px 1px);clip: rect(1px, 1px, 1px, 1px);height: 1px;margin: -1px;overflow: hidden;padding: 0;position: absolute;width: 1px;}#sk-container-id-4 div.sk-estimator {font-family: monospace;background-color: #f0f8ff;border: 1px dotted black;border-radius: 0.25em;box-sizing: border-box;margin-bottom: 0.5em;}#sk-container-id-4 div.sk-estimator:hover {background-color: #d4ebff;}#sk-container-id-4 div.sk-parallel-item::after {content: \"\";width: 100%;border-bottom: 1px solid gray;flex-grow: 1;}#sk-container-id-4 div.sk-label:hover label.sk-toggleable__label {background-color: #d4ebff;}#sk-container-id-4 div.sk-serial::before {content: \"\";position: absolute;border-left: 1px solid gray;box-sizing: border-box;top: 0;bottom: 0;left: 50%;z-index: 0;}#sk-container-id-4 div.sk-serial {display: flex;flex-direction: column;align-items: center;background-color: white;padding-right: 0.2em;padding-left: 0.2em;position: relative;}#sk-container-id-4 div.sk-item {position: relative;z-index: 1;}#sk-container-id-4 div.sk-parallel {display: flex;align-items: stretch;justify-content: center;background-color: white;position: relative;}#sk-container-id-4 div.sk-item::before, #sk-container-id-4 div.sk-parallel-item::before {content: \"\";position: absolute;border-left: 1px solid gray;box-sizing: border-box;top: 0;bottom: 0;left: 50%;z-index: -1;}#sk-container-id-4 div.sk-parallel-item {display: flex;flex-direction: column;z-index: 1;position: relative;background-color: white;}#sk-container-id-4 div.sk-parallel-item:first-child::after {align-self: flex-end;width: 50%;}#sk-container-id-4 div.sk-parallel-item:last-child::after {align-self: flex-start;width: 50%;}#sk-container-id-4 div.sk-parallel-item:only-child::after {width: 0;}#sk-container-id-4 div.sk-dashed-wrapped {border: 1px dashed gray;margin: 0 0.4em 0.5em 0.4em;box-sizing: border-box;padding-bottom: 0.4em;background-color: white;}#sk-container-id-4 div.sk-label label {font-family: monospace;font-weight: bold;display: inline-block;line-height: 1.2em;}#sk-container-id-4 div.sk-label-container {text-align: center;}#sk-container-id-4 div.sk-container {/* jupyter's `normalize.less` sets `[hidden] { display: none; }` but bootstrap.min.css set `[hidden] { display: none !important; }` so we also need the `!important` here to be able to override the default hidden behavior on the sphinx rendered scikit-learn.org. See: https://github.com/scikit-learn/scikit-learn/issues/21755 */display: inline-block !important;position: relative;}#sk-container-id-4 div.sk-text-repr-fallback {display: none;}</style><div id=\"sk-container-id-4\" class=\"sk-top-container\"><div class=\"sk-text-repr-fallback\"><pre>GridSearchCV(cv=3,\n",
       "             estimator=Pipeline(steps=[(&#x27;sampler&#x27;, RandomUnderSampler()),\n",
       "                                       (&#x27;imputer&#x27;, SimpleImputer()),\n",
       "                                       (&#x27;scaler&#x27;, MinMaxScaler()),\n",
       "                                       (&#x27;classifier&#x27;,\n",
       "                                        LogisticRegression(max_iter=500))]),\n",
       "             n_jobs=-1, param_grid={}, scoring=&#x27;roc_auc&#x27;, verbose=3)</pre><b>In a Jupyter environment, please rerun this cell to show the HTML representation or trust the notebook. <br />On GitHub, the HTML representation is unable to render, please try loading this page with nbviewer.org.</b></div><div class=\"sk-container\" hidden><div class=\"sk-item sk-dashed-wrapped\"><div class=\"sk-label-container\"><div class=\"sk-label sk-toggleable\"><input class=\"sk-toggleable__control sk-hidden--visually\" id=\"sk-estimator-id-17\" type=\"checkbox\" ><label for=\"sk-estimator-id-17\" class=\"sk-toggleable__label sk-toggleable__label-arrow\">GridSearchCV</label><div class=\"sk-toggleable__content\"><pre>GridSearchCV(cv=3,\n",
       "             estimator=Pipeline(steps=[(&#x27;sampler&#x27;, RandomUnderSampler()),\n",
       "                                       (&#x27;imputer&#x27;, SimpleImputer()),\n",
       "                                       (&#x27;scaler&#x27;, MinMaxScaler()),\n",
       "                                       (&#x27;classifier&#x27;,\n",
       "                                        LogisticRegression(max_iter=500))]),\n",
       "             n_jobs=-1, param_grid={}, scoring=&#x27;roc_auc&#x27;, verbose=3)</pre></div></div></div><div class=\"sk-parallel\"><div class=\"sk-parallel-item\"><div class=\"sk-item\"><div class=\"sk-label-container\"><div class=\"sk-label sk-toggleable\"><input class=\"sk-toggleable__control sk-hidden--visually\" id=\"sk-estimator-id-18\" type=\"checkbox\" ><label for=\"sk-estimator-id-18\" class=\"sk-toggleable__label sk-toggleable__label-arrow\">estimator: Pipeline</label><div class=\"sk-toggleable__content\"><pre>Pipeline(steps=[(&#x27;sampler&#x27;, RandomUnderSampler()), (&#x27;imputer&#x27;, SimpleImputer()),\n",
       "                (&#x27;scaler&#x27;, MinMaxScaler()),\n",
       "                (&#x27;classifier&#x27;, LogisticRegression(max_iter=500))])</pre></div></div></div><div class=\"sk-serial\"><div class=\"sk-item\"><div class=\"sk-serial\"><div class=\"sk-item\"><div class=\"sk-estimator sk-toggleable\"><input class=\"sk-toggleable__control sk-hidden--visually\" id=\"sk-estimator-id-19\" type=\"checkbox\" ><label for=\"sk-estimator-id-19\" class=\"sk-toggleable__label sk-toggleable__label-arrow\">RandomUnderSampler</label><div class=\"sk-toggleable__content\"><pre>RandomUnderSampler()</pre></div></div></div><div class=\"sk-item\"><div class=\"sk-estimator sk-toggleable\"><input class=\"sk-toggleable__control sk-hidden--visually\" id=\"sk-estimator-id-20\" type=\"checkbox\" ><label for=\"sk-estimator-id-20\" class=\"sk-toggleable__label sk-toggleable__label-arrow\">SimpleImputer</label><div class=\"sk-toggleable__content\"><pre>SimpleImputer()</pre></div></div></div><div class=\"sk-item\"><div class=\"sk-estimator sk-toggleable\"><input class=\"sk-toggleable__control sk-hidden--visually\" id=\"sk-estimator-id-21\" type=\"checkbox\" ><label for=\"sk-estimator-id-21\" class=\"sk-toggleable__label sk-toggleable__label-arrow\">MinMaxScaler</label><div class=\"sk-toggleable__content\"><pre>MinMaxScaler()</pre></div></div></div><div class=\"sk-item\"><div class=\"sk-estimator sk-toggleable\"><input class=\"sk-toggleable__control sk-hidden--visually\" id=\"sk-estimator-id-22\" type=\"checkbox\" ><label for=\"sk-estimator-id-22\" class=\"sk-toggleable__label sk-toggleable__label-arrow\">LogisticRegression</label><div class=\"sk-toggleable__content\"><pre>LogisticRegression(max_iter=500)</pre></div></div></div></div></div></div></div></div></div></div></div></div>"
      ],
      "text/plain": [
       "GridSearchCV(cv=3,\n",
       "             estimator=Pipeline(steps=[('sampler', RandomUnderSampler()),\n",
       "                                       ('imputer', SimpleImputer()),\n",
       "                                       ('scaler', MinMaxScaler()),\n",
       "                                       ('classifier',\n",
       "                                        LogisticRegression(max_iter=500))]),\n",
       "             n_jobs=-1, param_grid={}, scoring='roc_auc', verbose=3)"
      ]
     },
     "execution_count": 31,
     "metadata": {},
     "output_type": "execute_result"
    }
   ],
   "source": [
    "grid = GridSearchCV(pipe, param_grid={}, cv=3, n_jobs=-1, verbose=3, scoring=\"roc_auc\")\n",
    "grid.fit(X_train, y_train)"
   ]
  },
  {
   "cell_type": "code",
   "execution_count": 32,
   "metadata": {
    "execution": {
     "iopub.execute_input": "2024-01-05T07:31:27.104951Z",
     "iopub.status.busy": "2024-01-05T07:31:27.102687Z",
     "iopub.status.idle": "2024-01-05T07:31:27.135556Z",
     "shell.execute_reply": "2024-01-05T07:31:27.134617Z",
     "shell.execute_reply.started": "2024-01-05T07:31:27.104895Z"
    }
   },
   "outputs": [
    {
     "data": {
      "text/html": [
       "<div>\n",
       "<style scoped>\n",
       "    .dataframe tbody tr th:only-of-type {\n",
       "        vertical-align: middle;\n",
       "    }\n",
       "\n",
       "    .dataframe tbody tr th {\n",
       "        vertical-align: top;\n",
       "    }\n",
       "\n",
       "    .dataframe thead th {\n",
       "        text-align: right;\n",
       "    }\n",
       "</style>\n",
       "<table border=\"1\" class=\"dataframe\">\n",
       "  <thead>\n",
       "    <tr style=\"text-align: right;\">\n",
       "      <th></th>\n",
       "      <th>mean_fit_time</th>\n",
       "      <th>std_fit_time</th>\n",
       "      <th>mean_score_time</th>\n",
       "      <th>std_score_time</th>\n",
       "      <th>params</th>\n",
       "      <th>split0_test_score</th>\n",
       "      <th>split1_test_score</th>\n",
       "      <th>split2_test_score</th>\n",
       "      <th>mean_test_score</th>\n",
       "      <th>std_test_score</th>\n",
       "      <th>rank_test_score</th>\n",
       "    </tr>\n",
       "  </thead>\n",
       "  <tbody>\n",
       "    <tr>\n",
       "      <th>0</th>\n",
       "      <td>23.84216</td>\n",
       "      <td>1.011094</td>\n",
       "      <td>7.030889</td>\n",
       "      <td>0.697363</td>\n",
       "      <td>{}</td>\n",
       "      <td>0.744817</td>\n",
       "      <td>0.740656</td>\n",
       "      <td>0.745193</td>\n",
       "      <td>0.743555</td>\n",
       "      <td>0.002056</td>\n",
       "      <td>1</td>\n",
       "    </tr>\n",
       "  </tbody>\n",
       "</table>\n",
       "</div>"
      ],
      "text/plain": [
       "   mean_fit_time  std_fit_time  mean_score_time  std_score_time params  \\\n",
       "0       23.84216      1.011094         7.030889        0.697363     {}   \n",
       "\n",
       "   split0_test_score  split1_test_score  split2_test_score  mean_test_score  \\\n",
       "0           0.744817           0.740656           0.745193         0.743555   \n",
       "\n",
       "   std_test_score  rank_test_score  \n",
       "0        0.002056                1  "
      ]
     },
     "execution_count": 32,
     "metadata": {},
     "output_type": "execute_result"
    }
   ],
   "source": [
    "pd.DataFrame(grid.cv_results_)"
   ]
  },
  {
   "cell_type": "code",
   "execution_count": 33,
   "metadata": {
    "execution": {
     "iopub.execute_input": "2024-01-05T07:31:27.139395Z",
     "iopub.status.busy": "2024-01-05T07:31:27.138493Z",
     "iopub.status.idle": "2024-01-05T07:31:28.044077Z",
     "shell.execute_reply": "2024-01-05T07:31:28.043302Z",
     "shell.execute_reply.started": "2024-01-05T07:31:27.139334Z"
    }
   },
   "outputs": [],
   "source": [
    "y_pred = grid.predict(X_test)"
   ]
  },
  {
   "cell_type": "code",
   "execution_count": 34,
   "metadata": {
    "execution": {
     "iopub.execute_input": "2024-01-05T07:31:28.047997Z",
     "iopub.status.busy": "2024-01-05T07:31:28.047379Z",
     "iopub.status.idle": "2024-01-05T07:31:28.058173Z",
     "shell.execute_reply": "2024-01-05T07:31:28.056801Z",
     "shell.execute_reply.started": "2024-01-05T07:31:28.047958Z"
    }
   },
   "outputs": [
    {
     "data": {
      "text/plain": [
       "(46127,)"
      ]
     },
     "execution_count": 34,
     "metadata": {},
     "output_type": "execute_result"
    }
   ],
   "source": [
    "y_pred.shape"
   ]
  },
  {
   "cell_type": "code",
   "execution_count": 20,
   "metadata": {
    "execution": {
     "iopub.execute_input": "2024-01-05T07:20:17.538378Z",
     "iopub.status.busy": "2024-01-05T07:20:17.532762Z",
     "iopub.status.idle": "2024-01-05T07:20:17.567165Z",
     "shell.execute_reply": "2024-01-05T07:20:17.565181Z",
     "shell.execute_reply.started": "2024-01-05T07:20:17.538315Z"
    }
   },
   "outputs": [
    {
     "data": {
      "text/plain": [
       "(307511, 243)"
      ]
     },
     "execution_count": 20,
     "metadata": {},
     "output_type": "execute_result"
    }
   ],
   "source": [
    "X_train.shape"
   ]
  },
  {
   "cell_type": "markdown",
   "metadata": {},
   "source": [
    "# Modeling"
   ]
  },
  {
   "cell_type": "markdown",
   "metadata": {},
   "source": [
    "## Logistic Regression"
   ]
  },
  {
   "cell_type": "code",
   "execution_count": 14,
   "metadata": {
    "execution": {
     "iopub.execute_input": "2024-01-05T07:15:55.113148Z",
     "iopub.status.busy": "2024-01-05T07:15:55.105668Z",
     "iopub.status.idle": "2024-01-05T07:15:55.121624Z",
     "shell.execute_reply": "2024-01-05T07:15:55.118532Z",
     "shell.execute_reply.started": "2024-01-05T07:15:55.113101Z"
    }
   },
   "outputs": [],
   "source": [
    "# # Make the model with the specified regularization parameter\n",
    "# log_reg = LogisticRegression(max_iter=500)\n",
    "# dummy = DummyClassifier()\n",
    "\n",
    "# # Train on the training data\n",
    "# log_reg.fit(X_train, y_train)\n",
    "# # dummy.fit(X_train, y_train)"
   ]
  },
  {
   "cell_type": "code",
   "execution_count": null,
   "metadata": {
    "execution": {
     "iopub.status.busy": "2024-01-05T07:13:08.000392Z",
     "iopub.status.idle": "2024-01-05T07:13:08.001358Z",
     "shell.execute_reply": "2024-01-05T07:13:08.001076Z",
     "shell.execute_reply.started": "2024-01-05T07:13:08.001049Z"
    }
   },
   "outputs": [],
   "source": [
    "# y_pred = log_reg.predict(X_test)"
   ]
  },
  {
   "cell_type": "code",
   "execution_count": null,
   "metadata": {
    "execution": {
     "iopub.status.busy": "2023-12-29T12:01:26.824496Z",
     "iopub.status.idle": "2023-12-29T12:01:26.824611Z",
     "shell.execute_reply": "2023-12-29T12:01:26.824563Z",
     "shell.execute_reply.started": "2023-12-29T12:01:26.824557Z"
    }
   },
   "outputs": [],
   "source": [
    "# y_pred"
   ]
  },
  {
   "cell_type": "markdown",
   "metadata": {},
   "source": [
    "# Scoring metric"
   ]
  },
  {
   "cell_type": "code",
   "execution_count": 35,
   "metadata": {
    "execution": {
     "iopub.execute_input": "2024-01-05T07:31:28.061422Z",
     "iopub.status.busy": "2024-01-05T07:31:28.060657Z",
     "iopub.status.idle": "2024-01-05T07:31:28.075436Z",
     "shell.execute_reply": "2024-01-05T07:31:28.071553Z",
     "shell.execute_reply.started": "2024-01-05T07:31:28.061377Z"
    }
   },
   "outputs": [
    {
     "data": {
      "text/plain": [
       "0.3432046306935201"
      ]
     },
     "execution_count": 35,
     "metadata": {},
     "output_type": "execute_result"
    }
   ],
   "source": [
    "y_pred.mean()"
   ]
  },
  {
   "cell_type": "code",
   "execution_count": 36,
   "metadata": {
    "execution": {
     "iopub.execute_input": "2024-01-05T07:31:28.078309Z",
     "iopub.status.busy": "2024-01-05T07:31:28.077106Z",
     "iopub.status.idle": "2024-01-05T07:31:28.113091Z",
     "shell.execute_reply": "2024-01-05T07:31:28.109030Z",
     "shell.execute_reply.started": "2024-01-05T07:31:28.078259Z"
    }
   },
   "outputs": [
    {
     "data": {
      "text/plain": [
       "0.6870379604136406"
      ]
     },
     "execution_count": 36,
     "metadata": {},
     "output_type": "execute_result"
    }
   ],
   "source": [
    "metrics.accuracy_score(y_test, y_pred)"
   ]
  },
  {
   "cell_type": "code",
   "execution_count": null,
   "metadata": {
    "execution": {
     "iopub.status.busy": "2024-01-05T07:13:08.025758Z",
     "iopub.status.idle": "2024-01-05T07:13:08.026901Z",
     "shell.execute_reply": "2024-01-05T07:13:08.026501Z",
     "shell.execute_reply.started": "2024-01-05T07:13:08.026470Z"
    }
   },
   "outputs": [],
   "source": [
    "[fpr, tpr, thr] = metrics.roc_curve(y_test, y_pred)\n",
    "plt.plot(fpr, tpr, color=\"coral\", lw=2)\n",
    "plt.xlim([0.0, 1.0])\n",
    "plt.ylim([0.0, 1.05])\n",
    "plt.xlabel(\"1 - specificite\", fontsize=14)\n",
    "plt.ylabel(\"Sensibilite\", fontsize=14)\n",
    "\n",
    "# indice du premier seuil pour lequel\n",
    "# la sensibilité est supérieure à 0.95\n",
    "idx = np.min(np.where(tpr > 0.95))\n",
    "\n",
    "print(\"Sensibilité : {:.2f}\".format(tpr[idx]))\n",
    "print(\"Spécificité : {:.2f}\".format(1 - fpr[idx]))\n",
    "print(\"Seuil : {:.2f}\".format(thr[idx]))"
   ]
  },
  {
   "cell_type": "markdown",
   "metadata": {},
   "source": [
    "# Profits and Loss function"
   ]
  },
  {
   "cell_type": "code",
   "execution_count": 100,
   "metadata": {
    "execution": {
     "iopub.execute_input": "2024-01-05T08:15:03.734740Z",
     "iopub.status.busy": "2024-01-05T08:15:03.733929Z",
     "iopub.status.idle": "2024-01-05T08:15:03.811929Z",
     "shell.execute_reply": "2024-01-05T08:15:03.809320Z",
     "shell.execute_reply.started": "2024-01-05T08:15:03.734697Z"
    }
   },
   "outputs": [
    {
     "name": "stdout",
     "output_type": "stream",
     "text": [
      "(46127, 2)\n",
      "(46127,)\n"
     ]
    },
    {
     "data": {
      "text/plain": [
       "273660         0.00\n",
       "256492      6750.00\n",
       "4110        3375.00\n",
       "156093      2362.50\n",
       "98261       5970.24\n",
       "            ...    \n",
       "178857      3597.75\n",
       "116442     11812.50\n",
       "106726   -739386.90\n",
       "188140     15103.80\n",
       "303409      4691.52\n",
       "Name: pnl, Length: 46127, dtype: float64"
      ]
     },
     "execution_count": 100,
     "metadata": {},
     "output_type": "execute_result"
    }
   ],
   "source": [
    "INTEREST = 0.015\n",
    "\n",
    "\n",
    "def pnl(y_pred, y_true):\n",
    "    r = pd.concat([pd.Series(y_pred, index=X_test.index), y_test], axis=1).rename(\n",
    "        columns={0: \"pred\", \"TARGET\": \"true\"}\n",
    "    )\n",
    "    credit = app_train.loc[X_test.index, \"AMT_CREDIT\"]\n",
    "    print(r.shape)\n",
    "    print(credit.shape)\n",
    "    r[\"pnl\"] = np.nan\n",
    "    # TP : pret refusé correctement = pas de perte\n",
    "    r[\"pnl\"] = np.where((r.pred == 1) & (r.true == 1), 0, r.pnl)\n",
    "    # FP : pret refusé par erreur : perte des interets\n",
    "    r[\"pnl\"] = np.where(\n",
    "        (r.pred == 1) & (r.true == 0),\n",
    "        credit * -1 * INTEREST,\n",
    "        r.pnl,\n",
    "    )\n",
    "    # TN : pret accordé correctement : gain des interets\n",
    "    r[\"pnl\"] = np.where(\n",
    "        (r.pred == 0) & (r.true == 0),\n",
    "        credit * INTEREST,\n",
    "        r.pnl,\n",
    "    )\n",
    "    # FN : pret accordé par erreur : perte du montant du pret et des interets\n",
    "    r[\"pnl\"] = np.where(\n",
    "        (r.pred == 0) & (r.true == 1),\n",
    "        credit * -1 * (1 + INTEREST),\n",
    "        r.pnl,\n",
    "    )\n",
    "    return r.pnl  # .sum()"
   ]
  },
  {
   "cell_type": "code",
   "execution_count": 97,
   "metadata": {
    "execution": {
     "iopub.execute_input": "2024-01-05T08:13:18.453502Z",
     "iopub.status.busy": "2024-01-05T08:13:18.451483Z",
     "iopub.status.idle": "2024-01-05T08:13:18.693008Z",
     "shell.execute_reply": "2024-01-05T08:13:18.647651Z",
     "shell.execute_reply.started": "2024-01-05T08:13:18.453444Z"
    }
   },
   "outputs": [
    {
     "ename": "ValueError",
     "evalue": "operands could not be broadcast together with shapes (46127,) (261384,) (46127,) ",
     "output_type": "error",
     "traceback": [
      "\u001b[0;31m---------------------------------------------------------------------------\u001b[0m",
      "\u001b[0;31mValueError\u001b[0m                                Traceback (most recent call last)",
      "Cell \u001b[0;32mIn[97], line 1\u001b[0m\n\u001b[0;32m----> 1\u001b[0m pnl(y_pred, y_test)\n",
      "Cell \u001b[0;32mIn[96], line 13\u001b[0m, in \u001b[0;36mpnl\u001b[0;34m(y_pred, y_true)\u001b[0m\n\u001b[1;32m     11\u001b[0m r[\u001b[38;5;124m\"\u001b[39m\u001b[38;5;124mpnl\u001b[39m\u001b[38;5;124m\"\u001b[39m] \u001b[38;5;241m=\u001b[39m np\u001b[38;5;241m.\u001b[39mwhere((r\u001b[38;5;241m.\u001b[39mpred \u001b[38;5;241m==\u001b[39m \u001b[38;5;241m1\u001b[39m) \u001b[38;5;241m&\u001b[39m (r\u001b[38;5;241m.\u001b[39mtrue \u001b[38;5;241m==\u001b[39m \u001b[38;5;241m1\u001b[39m), \u001b[38;5;241m0\u001b[39m, r\u001b[38;5;241m.\u001b[39mpnl)\n\u001b[1;32m     12\u001b[0m \u001b[38;5;66;03m# FP : pret refusé par erreur : perte des interets\u001b[39;00m\n\u001b[0;32m---> 13\u001b[0m r[\u001b[38;5;124m\"\u001b[39m\u001b[38;5;124mpnl\u001b[39m\u001b[38;5;124m\"\u001b[39m] \u001b[38;5;241m=\u001b[39m np\u001b[38;5;241m.\u001b[39mwhere(\n\u001b[1;32m     14\u001b[0m     (r\u001b[38;5;241m.\u001b[39mpred \u001b[38;5;241m==\u001b[39m \u001b[38;5;241m1\u001b[39m) \u001b[38;5;241m&\u001b[39m (r\u001b[38;5;241m.\u001b[39mtrue \u001b[38;5;241m==\u001b[39m \u001b[38;5;241m0\u001b[39m),\n\u001b[1;32m     15\u001b[0m     credit \u001b[38;5;241m*\u001b[39m \u001b[38;5;241m-\u001b[39m\u001b[38;5;241m1\u001b[39m \u001b[38;5;241m*\u001b[39m INTEREST,\n\u001b[1;32m     16\u001b[0m     r\u001b[38;5;241m.\u001b[39mpnl,\n\u001b[1;32m     17\u001b[0m )\n\u001b[1;32m     18\u001b[0m \u001b[38;5;66;03m# TN : pret accordé correctement : gain des interets\u001b[39;00m\n\u001b[1;32m     19\u001b[0m r[\u001b[38;5;124m\"\u001b[39m\u001b[38;5;124mpnl\u001b[39m\u001b[38;5;124m\"\u001b[39m] \u001b[38;5;241m=\u001b[39m np\u001b[38;5;241m.\u001b[39mwhere(\n\u001b[1;32m     20\u001b[0m     (r\u001b[38;5;241m.\u001b[39mpred \u001b[38;5;241m==\u001b[39m \u001b[38;5;241m0\u001b[39m) \u001b[38;5;241m&\u001b[39m (r\u001b[38;5;241m.\u001b[39mtrue \u001b[38;5;241m==\u001b[39m \u001b[38;5;241m0\u001b[39m),\n\u001b[1;32m     21\u001b[0m     credit \u001b[38;5;241m*\u001b[39m INTEREST,\n\u001b[1;32m     22\u001b[0m     r\u001b[38;5;241m.\u001b[39mpnl,\n\u001b[1;32m     23\u001b[0m )\n",
      "File \u001b[0;32m<__array_function__ internals>:180\u001b[0m, in \u001b[0;36mwhere\u001b[0;34m(*args, **kwargs)\u001b[0m\n",
      "\u001b[0;31mValueError\u001b[0m: operands could not be broadcast together with shapes (46127,) (261384,) (46127,) "
     ]
    }
   ],
   "source": [
    "pnl(y_pred, y_test)"
   ]
  },
  {
   "cell_type": "markdown",
   "metadata": {},
   "source": [
    "Essai d'estimer intérêts et durée du prêt en fonction du montant total et de l'annuity : non concluant"
   ]
  },
  {
   "cell_type": "code",
   "execution_count": 33,
   "metadata": {
    "execution": {
     "iopub.execute_input": "2024-01-04T19:08:35.908830Z",
     "iopub.status.busy": "2024-01-04T19:08:35.906892Z",
     "iopub.status.idle": "2024-01-04T19:08:36.009286Z",
     "shell.execute_reply": "2024-01-04T19:08:36.001246Z",
     "shell.execute_reply.started": "2024-01-04T19:08:35.908785Z"
    }
   },
   "outputs": [
    {
     "data": {
      "text/html": [
       "<div>\n",
       "<style scoped>\n",
       "    .dataframe tbody tr th:only-of-type {\n",
       "        vertical-align: middle;\n",
       "    }\n",
       "\n",
       "    .dataframe tbody tr th {\n",
       "        vertical-align: top;\n",
       "    }\n",
       "\n",
       "    .dataframe thead th {\n",
       "        text-align: right;\n",
       "    }\n",
       "</style>\n",
       "<table border=\"1\" class=\"dataframe\">\n",
       "  <thead>\n",
       "    <tr style=\"text-align: right;\">\n",
       "      <th></th>\n",
       "      <th>AMT_CREDIT</th>\n",
       "      <th>AMT_ANNUITY</th>\n",
       "      <th>AMT_GOODS_PRICE</th>\n",
       "    </tr>\n",
       "  </thead>\n",
       "  <tbody>\n",
       "    <tr>\n",
       "      <th>118835</th>\n",
       "      <td>810000.0</td>\n",
       "      <td>28827.0</td>\n",
       "      <td>810000.0</td>\n",
       "    </tr>\n",
       "    <tr>\n",
       "      <th>304723</th>\n",
       "      <td>270000.0</td>\n",
       "      <td>14647.5</td>\n",
       "      <td>270000.0</td>\n",
       "    </tr>\n",
       "    <tr>\n",
       "      <th>236024</th>\n",
       "      <td>749349.0</td>\n",
       "      <td>24304.5</td>\n",
       "      <td>625500.0</td>\n",
       "    </tr>\n",
       "    <tr>\n",
       "      <th>156584</th>\n",
       "      <td>597024.0</td>\n",
       "      <td>38286.0</td>\n",
       "      <td>540000.0</td>\n",
       "    </tr>\n",
       "    <tr>\n",
       "      <th>254212</th>\n",
       "      <td>540000.0</td>\n",
       "      <td>29295.0</td>\n",
       "      <td>540000.0</td>\n",
       "    </tr>\n",
       "    <tr>\n",
       "      <th>46099</th>\n",
       "      <td>1288350.0</td>\n",
       "      <td>37800.0</td>\n",
       "      <td>1125000.0</td>\n",
       "    </tr>\n",
       "    <tr>\n",
       "      <th>121198</th>\n",
       "      <td>904500.0</td>\n",
       "      <td>29178.0</td>\n",
       "      <td>904500.0</td>\n",
       "    </tr>\n",
       "    <tr>\n",
       "      <th>190959</th>\n",
       "      <td>1080000.0</td>\n",
       "      <td>38394.0</td>\n",
       "      <td>1080000.0</td>\n",
       "    </tr>\n",
       "    <tr>\n",
       "      <th>177385</th>\n",
       "      <td>202500.0</td>\n",
       "      <td>7762.5</td>\n",
       "      <td>202500.0</td>\n",
       "    </tr>\n",
       "    <tr>\n",
       "      <th>115880</th>\n",
       "      <td>657702.0</td>\n",
       "      <td>19359.0</td>\n",
       "      <td>549000.0</td>\n",
       "    </tr>\n",
       "  </tbody>\n",
       "</table>\n",
       "</div>"
      ],
      "text/plain": [
       "        AMT_CREDIT  AMT_ANNUITY  AMT_GOODS_PRICE\n",
       "118835    810000.0      28827.0         810000.0\n",
       "304723    270000.0      14647.5         270000.0\n",
       "236024    749349.0      24304.5         625500.0\n",
       "156584    597024.0      38286.0         540000.0\n",
       "254212    540000.0      29295.0         540000.0\n",
       "46099    1288350.0      37800.0        1125000.0\n",
       "121198    904500.0      29178.0         904500.0\n",
       "190959   1080000.0      38394.0        1080000.0\n",
       "177385    202500.0       7762.5         202500.0\n",
       "115880    657702.0      19359.0         549000.0"
      ]
     },
     "execution_count": 33,
     "metadata": {},
     "output_type": "execute_result"
    }
   ],
   "source": [
    "app_train[[\"AMT_CREDIT\", \"AMT_ANNUITY\", \"AMT_GOODS_PRICE\"]].sample(10)"
   ]
  },
  {
   "cell_type": "code",
   "execution_count": 44,
   "metadata": {
    "execution": {
     "iopub.execute_input": "2024-01-05T06:18:51.314487Z",
     "iopub.status.busy": "2024-01-05T06:18:51.313060Z",
     "iopub.status.idle": "2024-01-05T06:18:51.379379Z",
     "shell.execute_reply": "2024-01-05T06:18:51.373131Z",
     "shell.execute_reply.started": "2024-01-05T06:18:51.314376Z"
    }
   },
   "outputs": [
    {
     "data": {
      "text/plain": [
       "count    307499.000000\n",
       "mean          0.053695\n",
       "std           0.022481\n",
       "min           0.022073\n",
       "25%           0.036900\n",
       "50%           0.050000\n",
       "75%           0.064043\n",
       "max           0.124430\n",
       "dtype: float64"
      ]
     },
     "execution_count": 44,
     "metadata": {},
     "output_type": "execute_result"
    }
   ],
   "source": [
    "(app_train.AMT_ANNUITY / app_train.AMT_CREDIT).describe()\n",
    "\n",
    "# app_train.AMT_CREDIT * 1.0665 / app_train.AMT_ANNUITY"
   ]
  },
  {
   "cell_type": "markdown",
   "metadata": {},
   "source": [
    "# Shap values"
   ]
  },
  {
   "cell_type": "markdown",
   "metadata": {},
   "source": [
    "# Data Drift\n",
    "Pour simuler évolution des commportements utilisateurs dans le temps, on fait l'hypothèse que `app_train` représente les données d'entrainement et `app_test` les données de test.  \n",
    "On applique le même nettoyage à train et test"
   ]
  },
  {
   "cell_type": "code",
   "execution_count": null,
   "metadata": {
    "execution": {
     "iopub.execute_input": "2024-01-05T06:52:36.460326Z",
     "iopub.status.busy": "2024-01-05T06:52:36.459889Z"
    }
   },
   "outputs": [],
   "source": [
    "from evidently.report import Report\n",
    "from evidently.metric_preset import DataDriftPreset\n",
    "\n",
    "data_drift_report = Report(\n",
    "    metrics=[\n",
    "        DataDriftPreset(),\n",
    "    ]\n",
    ")\n",
    "\n",
    "data_drift_report.run(\n",
    "    current_data=app_test,\n",
    "    reference_data=app_train.drop(\"TARGET\", axis=1),\n",
    "    column_mapping=None,\n",
    ")\n",
    "data_drift_report"
   ]
  },
  {
   "cell_type": "code",
   "execution_count": null,
   "metadata": {},
   "outputs": [],
   "source": [
    "data_drift_report.save_html(\"../reports/data_drift_report.html\")"
   ]
  }
 ],
 "metadata": {
  "kernelspec": {
   "display_name": "Python 3 (ipykernel)",
   "language": "python",
   "name": "python3"
  },
  "language_info": {
   "codemirror_mode": {
    "name": "ipython",
    "version": 3
   },
   "file_extension": ".py",
   "mimetype": "text/x-python",
   "name": "python",
   "nbconvert_exporter": "python",
   "pygments_lexer": "ipython3",
   "version": "3.11.5"
  }
 },
 "nbformat": 4,
 "nbformat_minor": 4
}
