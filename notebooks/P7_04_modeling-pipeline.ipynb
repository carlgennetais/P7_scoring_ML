{
 "cells": [
  {
   "cell_type": "markdown",
   "metadata": {},
   "source": [
    "# Import"
   ]
  },
  {
   "cell_type": "code",
   "execution_count": 1,
   "metadata": {
    "editable": true,
    "execution": {
     "iopub.execute_input": "2024-01-19T14:58:47.840571Z",
     "iopub.status.busy": "2024-01-19T14:58:47.840446Z",
     "iopub.status.idle": "2024-01-19T14:58:48.729322Z",
     "shell.execute_reply": "2024-01-19T14:58:48.728660Z",
     "shell.execute_reply.started": "2024-01-19T14:58:47.840558Z"
    },
    "slideshow": {
     "slide_type": ""
    },
    "tags": []
   },
   "outputs": [],
   "source": [
    "# Graphics\n",
    "import matplotlib.pyplot as plt\n",
    "import seaborn as sns\n",
    "\n",
    "# Pandas & ML\n",
    "import numpy as np\n",
    "import pandas as pd\n",
    "\n",
    "sns.set()\n",
    "\n",
    "# Pandas & ML\n",
    "from sklearn import metrics, preprocessing\n",
    "from sklearn.dummy import DummyClassifier\n",
    "from sklearn.impute import SimpleImputer\n",
    "from sklearn.linear_model import LogisticRegression\n",
    "from sklearn.model_selection import GridSearchCV, train_test_split\n",
    "from sklearn.preprocessing import (\n",
    "    FunctionTransformer,\n",
    "    MinMaxScaler,\n",
    "    RobustScaler,\n",
    "    StandardScaler,\n",
    ")\n",
    "\n",
    "# Third party\n",
    "import evidently\n",
    "import shap\n",
    "\n",
    "# from sklearn.pipeline import Pipeline\n",
    "from imblearn.pipeline import Pipeline\n",
    "from imblearn.under_sampling import RandomUnderSampler"
   ]
  },
  {
   "cell_type": "code",
   "execution_count": 2,
   "metadata": {
    "execution": {
     "iopub.execute_input": "2024-01-19T14:58:48.729874Z",
     "iopub.status.busy": "2024-01-19T14:58:48.729707Z",
     "iopub.status.idle": "2024-01-19T14:58:49.025300Z",
     "shell.execute_reply": "2024-01-19T14:58:49.024661Z",
     "shell.execute_reply.started": "2024-01-19T14:58:48.729863Z"
    }
   },
   "outputs": [],
   "source": [
    "# load cleaned data\n",
    "app_train = pd.read_pickle(\"../data/processed/app_train_cleaned.pkl\").set_index(\n",
    "    \"SK_ID_CURR\"\n",
    ")\n",
    "app_test = pd.read_pickle(\"../data/processed/app_test_cleaned.pkl\").set_index(\n",
    "    \"SK_ID_CURR\"\n",
    ")  # used for datadrift only"
   ]
  },
  {
   "cell_type": "code",
   "execution_count": 3,
   "metadata": {
    "execution": {
     "iopub.execute_input": "2024-01-19T14:58:49.025733Z",
     "iopub.status.busy": "2024-01-19T14:58:49.025642Z",
     "iopub.status.idle": "2024-01-19T14:58:49.034881Z",
     "shell.execute_reply": "2024-01-19T14:58:49.034445Z",
     "shell.execute_reply.started": "2024-01-19T14:58:49.025725Z"
    }
   },
   "outputs": [
    {
     "name": "stdout",
     "output_type": "stream",
     "text": [
      "<class 'pandas.core.frame.DataFrame'>\n",
      "Index: 307511 entries, 100002 to 456255\n",
      "Columns: 243 entries, NAME_CONTRACT_TYPE to FE_PAYMENT_RATE\n",
      "dtypes: bool(130), float64(71), int64(42)\n",
      "memory usage: 305.6 MB\n"
     ]
    }
   ],
   "source": [
    "app_train.info()"
   ]
  },
  {
   "cell_type": "markdown",
   "metadata": {},
   "source": [
    "# Split train/test\n",
    "To keep some test data not seen by gridsearch"
   ]
  },
  {
   "cell_type": "code",
   "execution_count": 4,
   "metadata": {
    "execution": {
     "iopub.execute_input": "2024-01-19T14:58:49.035408Z",
     "iopub.status.busy": "2024-01-19T14:58:49.035274Z",
     "iopub.status.idle": "2024-01-19T14:58:49.284762Z",
     "shell.execute_reply": "2024-01-19T14:58:49.284273Z",
     "shell.execute_reply.started": "2024-01-19T14:58:49.035397Z"
    }
   },
   "outputs": [],
   "source": [
    "X_train, X_test, y_train, y_test = train_test_split(\n",
    "    app_train.drop(\"TARGET\", axis=1), app_train.TARGET, test_size=0.15\n",
    ")"
   ]
  },
  {
   "cell_type": "markdown",
   "metadata": {},
   "source": [
    "## Naive undersampler to fix target imbalance"
   ]
  },
  {
   "cell_type": "code",
   "execution_count": 5,
   "metadata": {
    "execution": {
     "iopub.execute_input": "2024-01-19T14:58:49.285413Z",
     "iopub.status.busy": "2024-01-19T14:58:49.285278Z",
     "iopub.status.idle": "2024-01-19T14:58:49.289236Z",
     "shell.execute_reply": "2024-01-19T14:58:49.288756Z",
     "shell.execute_reply.started": "2024-01-19T14:58:49.285398Z"
    }
   },
   "outputs": [],
   "source": [
    "def NaiveUnderSampler(df):\n",
    "    # find the minority class\n",
    "    min_class = df.TARGET.value_counts().idxmin()\n",
    "    # keep same number of majority class than minority\n",
    "    target_minority_count = df[df.TARGET == min_class].shape[0]\n",
    "    df_balanced = pd.concat(\n",
    "        [\n",
    "            df[df.TARGET == min_class].sample(target_minority_count),\n",
    "            df[df.TARGET != min_class].sample(target_minority_count),\n",
    "        ]\n",
    "    )\n",
    "    # shuffle rows\n",
    "    return df_balanced.sample(frac=1)"
   ]
  },
  {
   "cell_type": "code",
   "execution_count": 6,
   "metadata": {
    "execution": {
     "iopub.execute_input": "2024-01-19T14:58:49.290010Z",
     "iopub.status.busy": "2024-01-19T14:58:49.289812Z",
     "iopub.status.idle": "2024-01-19T14:58:49.293129Z",
     "shell.execute_reply": "2024-01-19T14:58:49.292731Z",
     "shell.execute_reply.started": "2024-01-19T14:58:49.289995Z"
    }
   },
   "outputs": [],
   "source": [
    "# create transformer with fit methods from my function\n",
    "NaiveUnderSamplerTf = FunctionTransformer(NaiveUnderSampler)"
   ]
  },
  {
   "cell_type": "code",
   "execution_count": 7,
   "metadata": {
    "execution": {
     "iopub.execute_input": "2024-01-19T14:58:49.294514Z",
     "iopub.status.busy": "2024-01-19T14:58:49.294401Z",
     "iopub.status.idle": "2024-01-19T14:58:49.473012Z",
     "shell.execute_reply": "2024-01-19T14:58:49.472062Z",
     "shell.execute_reply.started": "2024-01-19T14:58:49.294507Z"
    }
   },
   "outputs": [
    {
     "data": {
      "text/plain": [
       "TARGET\n",
       "0    24825\n",
       "1    24825\n",
       "Name: count, dtype: int64"
      ]
     },
     "execution_count": 7,
     "metadata": {},
     "output_type": "execute_result"
    }
   ],
   "source": [
    "# test naive imbalance fixer\n",
    "app_train.pipe(NaiveUnderSampler).TARGET.value_counts()"
   ]
  },
  {
   "cell_type": "markdown",
   "metadata": {},
   "source": [
    "# Pipeline"
   ]
  },
  {
   "cell_type": "code",
   "execution_count": 8,
   "metadata": {
    "execution": {
     "iopub.execute_input": "2024-01-19T14:58:49.473554Z",
     "iopub.status.busy": "2024-01-19T14:58:49.473430Z",
     "iopub.status.idle": "2024-01-19T14:58:49.476212Z",
     "shell.execute_reply": "2024-01-19T14:58:49.475950Z",
     "shell.execute_reply.started": "2024-01-19T14:58:49.473541Z"
    }
   },
   "outputs": [],
   "source": [
    "# separate target\n",
    "# X, y = app_train.drop(\"TARGET\", axis=1), app_train.TARGET\n",
    "# print(X.shape)\n",
    "# print(y.shape)"
   ]
  },
  {
   "cell_type": "code",
   "execution_count": 9,
   "metadata": {
    "execution": {
     "iopub.execute_input": "2024-01-19T14:58:49.476595Z",
     "iopub.status.busy": "2024-01-19T14:58:49.476516Z",
     "iopub.status.idle": "2024-01-19T14:58:49.492730Z",
     "shell.execute_reply": "2024-01-19T14:58:49.492187Z",
     "shell.execute_reply.started": "2024-01-19T14:58:49.476587Z"
    }
   },
   "outputs": [
    {
     "data": {
      "text/html": [
       "<style>#sk-container-id-1 {color: black;background-color: white;}#sk-container-id-1 pre{padding: 0;}#sk-container-id-1 div.sk-toggleable {background-color: white;}#sk-container-id-1 label.sk-toggleable__label {cursor: pointer;display: block;width: 100%;margin-bottom: 0;padding: 0.3em;box-sizing: border-box;text-align: center;}#sk-container-id-1 label.sk-toggleable__label-arrow:before {content: \"▸\";float: left;margin-right: 0.25em;color: #696969;}#sk-container-id-1 label.sk-toggleable__label-arrow:hover:before {color: black;}#sk-container-id-1 div.sk-estimator:hover label.sk-toggleable__label-arrow:before {color: black;}#sk-container-id-1 div.sk-toggleable__content {max-height: 0;max-width: 0;overflow: hidden;text-align: left;background-color: #f0f8ff;}#sk-container-id-1 div.sk-toggleable__content pre {margin: 0.2em;color: black;border-radius: 0.25em;background-color: #f0f8ff;}#sk-container-id-1 input.sk-toggleable__control:checked~div.sk-toggleable__content {max-height: 200px;max-width: 100%;overflow: auto;}#sk-container-id-1 input.sk-toggleable__control:checked~label.sk-toggleable__label-arrow:before {content: \"▾\";}#sk-container-id-1 div.sk-estimator input.sk-toggleable__control:checked~label.sk-toggleable__label {background-color: #d4ebff;}#sk-container-id-1 div.sk-label input.sk-toggleable__control:checked~label.sk-toggleable__label {background-color: #d4ebff;}#sk-container-id-1 input.sk-hidden--visually {border: 0;clip: rect(1px 1px 1px 1px);clip: rect(1px, 1px, 1px, 1px);height: 1px;margin: -1px;overflow: hidden;padding: 0;position: absolute;width: 1px;}#sk-container-id-1 div.sk-estimator {font-family: monospace;background-color: #f0f8ff;border: 1px dotted black;border-radius: 0.25em;box-sizing: border-box;margin-bottom: 0.5em;}#sk-container-id-1 div.sk-estimator:hover {background-color: #d4ebff;}#sk-container-id-1 div.sk-parallel-item::after {content: \"\";width: 100%;border-bottom: 1px solid gray;flex-grow: 1;}#sk-container-id-1 div.sk-label:hover label.sk-toggleable__label {background-color: #d4ebff;}#sk-container-id-1 div.sk-serial::before {content: \"\";position: absolute;border-left: 1px solid gray;box-sizing: border-box;top: 0;bottom: 0;left: 50%;z-index: 0;}#sk-container-id-1 div.sk-serial {display: flex;flex-direction: column;align-items: center;background-color: white;padding-right: 0.2em;padding-left: 0.2em;position: relative;}#sk-container-id-1 div.sk-item {position: relative;z-index: 1;}#sk-container-id-1 div.sk-parallel {display: flex;align-items: stretch;justify-content: center;background-color: white;position: relative;}#sk-container-id-1 div.sk-item::before, #sk-container-id-1 div.sk-parallel-item::before {content: \"\";position: absolute;border-left: 1px solid gray;box-sizing: border-box;top: 0;bottom: 0;left: 50%;z-index: -1;}#sk-container-id-1 div.sk-parallel-item {display: flex;flex-direction: column;z-index: 1;position: relative;background-color: white;}#sk-container-id-1 div.sk-parallel-item:first-child::after {align-self: flex-end;width: 50%;}#sk-container-id-1 div.sk-parallel-item:last-child::after {align-self: flex-start;width: 50%;}#sk-container-id-1 div.sk-parallel-item:only-child::after {width: 0;}#sk-container-id-1 div.sk-dashed-wrapped {border: 1px dashed gray;margin: 0 0.4em 0.5em 0.4em;box-sizing: border-box;padding-bottom: 0.4em;background-color: white;}#sk-container-id-1 div.sk-label label {font-family: monospace;font-weight: bold;display: inline-block;line-height: 1.2em;}#sk-container-id-1 div.sk-label-container {text-align: center;}#sk-container-id-1 div.sk-container {/* jupyter's `normalize.less` sets `[hidden] { display: none; }` but bootstrap.min.css set `[hidden] { display: none !important; }` so we also need the `!important` here to be able to override the default hidden behavior on the sphinx rendered scikit-learn.org. See: https://github.com/scikit-learn/scikit-learn/issues/21755 */display: inline-block !important;position: relative;}#sk-container-id-1 div.sk-text-repr-fallback {display: none;}</style><div id=\"sk-container-id-1\" class=\"sk-top-container\"><div class=\"sk-text-repr-fallback\"><pre>Pipeline(steps=[(&#x27;sampler&#x27;, RandomUnderSampler()), (&#x27;imputer&#x27;, SimpleImputer()),\n",
       "                (&#x27;scaler&#x27;, MinMaxScaler()),\n",
       "                (&#x27;classifier&#x27;, LogisticRegression(max_iter=500))])</pre><b>In a Jupyter environment, please rerun this cell to show the HTML representation or trust the notebook. <br />On GitHub, the HTML representation is unable to render, please try loading this page with nbviewer.org.</b></div><div class=\"sk-container\" hidden><div class=\"sk-item sk-dashed-wrapped\"><div class=\"sk-label-container\"><div class=\"sk-label sk-toggleable\"><input class=\"sk-toggleable__control sk-hidden--visually\" id=\"sk-estimator-id-1\" type=\"checkbox\" ><label for=\"sk-estimator-id-1\" class=\"sk-toggleable__label sk-toggleable__label-arrow\">Pipeline</label><div class=\"sk-toggleable__content\"><pre>Pipeline(steps=[(&#x27;sampler&#x27;, RandomUnderSampler()), (&#x27;imputer&#x27;, SimpleImputer()),\n",
       "                (&#x27;scaler&#x27;, MinMaxScaler()),\n",
       "                (&#x27;classifier&#x27;, LogisticRegression(max_iter=500))])</pre></div></div></div><div class=\"sk-serial\"><div class=\"sk-item\"><div class=\"sk-estimator sk-toggleable\"><input class=\"sk-toggleable__control sk-hidden--visually\" id=\"sk-estimator-id-2\" type=\"checkbox\" ><label for=\"sk-estimator-id-2\" class=\"sk-toggleable__label sk-toggleable__label-arrow\">RandomUnderSampler</label><div class=\"sk-toggleable__content\"><pre>RandomUnderSampler()</pre></div></div></div><div class=\"sk-item\"><div class=\"sk-estimator sk-toggleable\"><input class=\"sk-toggleable__control sk-hidden--visually\" id=\"sk-estimator-id-3\" type=\"checkbox\" ><label for=\"sk-estimator-id-3\" class=\"sk-toggleable__label sk-toggleable__label-arrow\">SimpleImputer</label><div class=\"sk-toggleable__content\"><pre>SimpleImputer()</pre></div></div></div><div class=\"sk-item\"><div class=\"sk-estimator sk-toggleable\"><input class=\"sk-toggleable__control sk-hidden--visually\" id=\"sk-estimator-id-4\" type=\"checkbox\" ><label for=\"sk-estimator-id-4\" class=\"sk-toggleable__label sk-toggleable__label-arrow\">MinMaxScaler</label><div class=\"sk-toggleable__content\"><pre>MinMaxScaler()</pre></div></div></div><div class=\"sk-item\"><div class=\"sk-estimator sk-toggleable\"><input class=\"sk-toggleable__control sk-hidden--visually\" id=\"sk-estimator-id-5\" type=\"checkbox\" ><label for=\"sk-estimator-id-5\" class=\"sk-toggleable__label sk-toggleable__label-arrow\">LogisticRegression</label><div class=\"sk-toggleable__content\"><pre>LogisticRegression(max_iter=500)</pre></div></div></div></div></div></div></div>"
      ],
      "text/plain": [
       "Pipeline(steps=[('sampler', RandomUnderSampler()), ('imputer', SimpleImputer()),\n",
       "                ('scaler', MinMaxScaler()),\n",
       "                ('classifier', LogisticRegression(max_iter=500))])"
      ]
     },
     "execution_count": 9,
     "metadata": {},
     "output_type": "execute_result"
    }
   ],
   "source": [
    "samplerList = [NaiveUnderSamplerTf, RandomUnderSampler()]\n",
    "pipe = Pipeline(\n",
    "    [\n",
    "        (\"sampler\", RandomUnderSampler()),\n",
    "        (\"imputer\", SimpleImputer(strategy=\"mean\")),\n",
    "        (\"scaler\", MinMaxScaler()),\n",
    "        (\"classifier\", LogisticRegression(max_iter=500)),\n",
    "    ]\n",
    ")\n",
    "pipe"
   ]
  },
  {
   "cell_type": "code",
   "execution_count": 10,
   "metadata": {
    "execution": {
     "iopub.execute_input": "2024-01-19T14:58:49.493296Z",
     "iopub.status.busy": "2024-01-19T14:58:49.493164Z",
     "iopub.status.idle": "2024-01-19T14:59:00.799791Z",
     "shell.execute_reply": "2024-01-19T14:59:00.798994Z",
     "shell.execute_reply.started": "2024-01-19T14:58:49.493285Z"
    }
   },
   "outputs": [
    {
     "name": "stdout",
     "output_type": "stream",
     "text": [
      "Fitting 3 folds for each of 1 candidates, totalling 3 fits\n"
     ]
    },
    {
     "name": "stderr",
     "output_type": "stream",
     "text": [
      "/home/carl/anaconda3/envs/p7env/lib/python3.11/site-packages/sklearn/linear_model/_logistic.py:458: ConvergenceWarning: lbfgs failed to converge (status=1):\n",
      "STOP: TOTAL NO. of ITERATIONS REACHED LIMIT.\n",
      "\n",
      "Increase the number of iterations (max_iter) or scale the data as shown in:\n",
      "    https://scikit-learn.org/stable/modules/preprocessing.html\n",
      "Please also refer to the documentation for alternative solver options:\n",
      "    https://scikit-learn.org/stable/modules/linear_model.html#logistic-regression\n",
      "  n_iter_i = _check_optimize_result(\n"
     ]
    },
    {
     "data": {
      "text/html": [
       "<style>#sk-container-id-2 {color: black;background-color: white;}#sk-container-id-2 pre{padding: 0;}#sk-container-id-2 div.sk-toggleable {background-color: white;}#sk-container-id-2 label.sk-toggleable__label {cursor: pointer;display: block;width: 100%;margin-bottom: 0;padding: 0.3em;box-sizing: border-box;text-align: center;}#sk-container-id-2 label.sk-toggleable__label-arrow:before {content: \"▸\";float: left;margin-right: 0.25em;color: #696969;}#sk-container-id-2 label.sk-toggleable__label-arrow:hover:before {color: black;}#sk-container-id-2 div.sk-estimator:hover label.sk-toggleable__label-arrow:before {color: black;}#sk-container-id-2 div.sk-toggleable__content {max-height: 0;max-width: 0;overflow: hidden;text-align: left;background-color: #f0f8ff;}#sk-container-id-2 div.sk-toggleable__content pre {margin: 0.2em;color: black;border-radius: 0.25em;background-color: #f0f8ff;}#sk-container-id-2 input.sk-toggleable__control:checked~div.sk-toggleable__content {max-height: 200px;max-width: 100%;overflow: auto;}#sk-container-id-2 input.sk-toggleable__control:checked~label.sk-toggleable__label-arrow:before {content: \"▾\";}#sk-container-id-2 div.sk-estimator input.sk-toggleable__control:checked~label.sk-toggleable__label {background-color: #d4ebff;}#sk-container-id-2 div.sk-label input.sk-toggleable__control:checked~label.sk-toggleable__label {background-color: #d4ebff;}#sk-container-id-2 input.sk-hidden--visually {border: 0;clip: rect(1px 1px 1px 1px);clip: rect(1px, 1px, 1px, 1px);height: 1px;margin: -1px;overflow: hidden;padding: 0;position: absolute;width: 1px;}#sk-container-id-2 div.sk-estimator {font-family: monospace;background-color: #f0f8ff;border: 1px dotted black;border-radius: 0.25em;box-sizing: border-box;margin-bottom: 0.5em;}#sk-container-id-2 div.sk-estimator:hover {background-color: #d4ebff;}#sk-container-id-2 div.sk-parallel-item::after {content: \"\";width: 100%;border-bottom: 1px solid gray;flex-grow: 1;}#sk-container-id-2 div.sk-label:hover label.sk-toggleable__label {background-color: #d4ebff;}#sk-container-id-2 div.sk-serial::before {content: \"\";position: absolute;border-left: 1px solid gray;box-sizing: border-box;top: 0;bottom: 0;left: 50%;z-index: 0;}#sk-container-id-2 div.sk-serial {display: flex;flex-direction: column;align-items: center;background-color: white;padding-right: 0.2em;padding-left: 0.2em;position: relative;}#sk-container-id-2 div.sk-item {position: relative;z-index: 1;}#sk-container-id-2 div.sk-parallel {display: flex;align-items: stretch;justify-content: center;background-color: white;position: relative;}#sk-container-id-2 div.sk-item::before, #sk-container-id-2 div.sk-parallel-item::before {content: \"\";position: absolute;border-left: 1px solid gray;box-sizing: border-box;top: 0;bottom: 0;left: 50%;z-index: -1;}#sk-container-id-2 div.sk-parallel-item {display: flex;flex-direction: column;z-index: 1;position: relative;background-color: white;}#sk-container-id-2 div.sk-parallel-item:first-child::after {align-self: flex-end;width: 50%;}#sk-container-id-2 div.sk-parallel-item:last-child::after {align-self: flex-start;width: 50%;}#sk-container-id-2 div.sk-parallel-item:only-child::after {width: 0;}#sk-container-id-2 div.sk-dashed-wrapped {border: 1px dashed gray;margin: 0 0.4em 0.5em 0.4em;box-sizing: border-box;padding-bottom: 0.4em;background-color: white;}#sk-container-id-2 div.sk-label label {font-family: monospace;font-weight: bold;display: inline-block;line-height: 1.2em;}#sk-container-id-2 div.sk-label-container {text-align: center;}#sk-container-id-2 div.sk-container {/* jupyter's `normalize.less` sets `[hidden] { display: none; }` but bootstrap.min.css set `[hidden] { display: none !important; }` so we also need the `!important` here to be able to override the default hidden behavior on the sphinx rendered scikit-learn.org. See: https://github.com/scikit-learn/scikit-learn/issues/21755 */display: inline-block !important;position: relative;}#sk-container-id-2 div.sk-text-repr-fallback {display: none;}</style><div id=\"sk-container-id-2\" class=\"sk-top-container\"><div class=\"sk-text-repr-fallback\"><pre>GridSearchCV(cv=3,\n",
       "             estimator=Pipeline(steps=[(&#x27;sampler&#x27;, RandomUnderSampler()),\n",
       "                                       (&#x27;imputer&#x27;, SimpleImputer()),\n",
       "                                       (&#x27;scaler&#x27;, MinMaxScaler()),\n",
       "                                       (&#x27;classifier&#x27;,\n",
       "                                        LogisticRegression(max_iter=500))]),\n",
       "             n_jobs=-1, param_grid={}, scoring=&#x27;roc_auc&#x27;, verbose=3)</pre><b>In a Jupyter environment, please rerun this cell to show the HTML representation or trust the notebook. <br />On GitHub, the HTML representation is unable to render, please try loading this page with nbviewer.org.</b></div><div class=\"sk-container\" hidden><div class=\"sk-item sk-dashed-wrapped\"><div class=\"sk-label-container\"><div class=\"sk-label sk-toggleable\"><input class=\"sk-toggleable__control sk-hidden--visually\" id=\"sk-estimator-id-6\" type=\"checkbox\" ><label for=\"sk-estimator-id-6\" class=\"sk-toggleable__label sk-toggleable__label-arrow\">GridSearchCV</label><div class=\"sk-toggleable__content\"><pre>GridSearchCV(cv=3,\n",
       "             estimator=Pipeline(steps=[(&#x27;sampler&#x27;, RandomUnderSampler()),\n",
       "                                       (&#x27;imputer&#x27;, SimpleImputer()),\n",
       "                                       (&#x27;scaler&#x27;, MinMaxScaler()),\n",
       "                                       (&#x27;classifier&#x27;,\n",
       "                                        LogisticRegression(max_iter=500))]),\n",
       "             n_jobs=-1, param_grid={}, scoring=&#x27;roc_auc&#x27;, verbose=3)</pre></div></div></div><div class=\"sk-parallel\"><div class=\"sk-parallel-item\"><div class=\"sk-item\"><div class=\"sk-label-container\"><div class=\"sk-label sk-toggleable\"><input class=\"sk-toggleable__control sk-hidden--visually\" id=\"sk-estimator-id-7\" type=\"checkbox\" ><label for=\"sk-estimator-id-7\" class=\"sk-toggleable__label sk-toggleable__label-arrow\">estimator: Pipeline</label><div class=\"sk-toggleable__content\"><pre>Pipeline(steps=[(&#x27;sampler&#x27;, RandomUnderSampler()), (&#x27;imputer&#x27;, SimpleImputer()),\n",
       "                (&#x27;scaler&#x27;, MinMaxScaler()),\n",
       "                (&#x27;classifier&#x27;, LogisticRegression(max_iter=500))])</pre></div></div></div><div class=\"sk-serial\"><div class=\"sk-item\"><div class=\"sk-serial\"><div class=\"sk-item\"><div class=\"sk-estimator sk-toggleable\"><input class=\"sk-toggleable__control sk-hidden--visually\" id=\"sk-estimator-id-8\" type=\"checkbox\" ><label for=\"sk-estimator-id-8\" class=\"sk-toggleable__label sk-toggleable__label-arrow\">RandomUnderSampler</label><div class=\"sk-toggleable__content\"><pre>RandomUnderSampler()</pre></div></div></div><div class=\"sk-item\"><div class=\"sk-estimator sk-toggleable\"><input class=\"sk-toggleable__control sk-hidden--visually\" id=\"sk-estimator-id-9\" type=\"checkbox\" ><label for=\"sk-estimator-id-9\" class=\"sk-toggleable__label sk-toggleable__label-arrow\">SimpleImputer</label><div class=\"sk-toggleable__content\"><pre>SimpleImputer()</pre></div></div></div><div class=\"sk-item\"><div class=\"sk-estimator sk-toggleable\"><input class=\"sk-toggleable__control sk-hidden--visually\" id=\"sk-estimator-id-10\" type=\"checkbox\" ><label for=\"sk-estimator-id-10\" class=\"sk-toggleable__label sk-toggleable__label-arrow\">MinMaxScaler</label><div class=\"sk-toggleable__content\"><pre>MinMaxScaler()</pre></div></div></div><div class=\"sk-item\"><div class=\"sk-estimator sk-toggleable\"><input class=\"sk-toggleable__control sk-hidden--visually\" id=\"sk-estimator-id-11\" type=\"checkbox\" ><label for=\"sk-estimator-id-11\" class=\"sk-toggleable__label sk-toggleable__label-arrow\">LogisticRegression</label><div class=\"sk-toggleable__content\"><pre>LogisticRegression(max_iter=500)</pre></div></div></div></div></div></div></div></div></div></div></div></div>"
      ],
      "text/plain": [
       "GridSearchCV(cv=3,\n",
       "             estimator=Pipeline(steps=[('sampler', RandomUnderSampler()),\n",
       "                                       ('imputer', SimpleImputer()),\n",
       "                                       ('scaler', MinMaxScaler()),\n",
       "                                       ('classifier',\n",
       "                                        LogisticRegression(max_iter=500))]),\n",
       "             n_jobs=-1, param_grid={}, scoring='roc_auc', verbose=3)"
      ]
     },
     "execution_count": 10,
     "metadata": {},
     "output_type": "execute_result"
    }
   ],
   "source": [
    "grid = GridSearchCV(pipe, param_grid={}, cv=3, n_jobs=-1, verbose=3, scoring=\"roc_auc\")\n",
    "grid.fit(X_train, y_train)"
   ]
  },
  {
   "cell_type": "code",
   "execution_count": 11,
   "metadata": {
    "execution": {
     "iopub.execute_input": "2024-01-19T14:59:00.800978Z",
     "iopub.status.busy": "2024-01-19T14:59:00.800731Z",
     "iopub.status.idle": "2024-01-19T14:59:00.825922Z",
     "shell.execute_reply": "2024-01-19T14:59:00.825219Z",
     "shell.execute_reply.started": "2024-01-19T14:59:00.800953Z"
    }
   },
   "outputs": [
    {
     "data": {
      "text/html": [
       "<div>\n",
       "<style scoped>\n",
       "    .dataframe tbody tr th:only-of-type {\n",
       "        vertical-align: middle;\n",
       "    }\n",
       "\n",
       "    .dataframe tbody tr th {\n",
       "        vertical-align: top;\n",
       "    }\n",
       "\n",
       "    .dataframe thead th {\n",
       "        text-align: right;\n",
       "    }\n",
       "</style>\n",
       "<table border=\"1\" class=\"dataframe\">\n",
       "  <thead>\n",
       "    <tr style=\"text-align: right;\">\n",
       "      <th></th>\n",
       "      <th>mean_fit_time</th>\n",
       "      <th>std_fit_time</th>\n",
       "      <th>mean_score_time</th>\n",
       "      <th>std_score_time</th>\n",
       "      <th>params</th>\n",
       "      <th>split0_test_score</th>\n",
       "      <th>split1_test_score</th>\n",
       "      <th>split2_test_score</th>\n",
       "      <th>mean_test_score</th>\n",
       "      <th>std_test_score</th>\n",
       "      <th>rank_test_score</th>\n",
       "    </tr>\n",
       "  </thead>\n",
       "  <tbody>\n",
       "    <tr>\n",
       "      <th>0</th>\n",
       "      <td>4.348807</td>\n",
       "      <td>0.366545</td>\n",
       "      <td>0.602441</td>\n",
       "      <td>0.079818</td>\n",
       "      <td>{}</td>\n",
       "      <td>0.744033</td>\n",
       "      <td>0.747568</td>\n",
       "      <td>0.744992</td>\n",
       "      <td>0.745531</td>\n",
       "      <td>0.001493</td>\n",
       "      <td>1</td>\n",
       "    </tr>\n",
       "  </tbody>\n",
       "</table>\n",
       "</div>"
      ],
      "text/plain": [
       "   mean_fit_time  std_fit_time  mean_score_time  std_score_time params  \\\n",
       "0       4.348807      0.366545         0.602441        0.079818     {}   \n",
       "\n",
       "   split0_test_score  split1_test_score  split2_test_score  mean_test_score  \\\n",
       "0           0.744033           0.747568           0.744992         0.745531   \n",
       "\n",
       "   std_test_score  rank_test_score  \n",
       "0        0.001493                1  "
      ]
     },
     "execution_count": 11,
     "metadata": {},
     "output_type": "execute_result"
    }
   ],
   "source": [
    "pd.DataFrame(grid.cv_results_)"
   ]
  },
  {
   "cell_type": "code",
   "execution_count": 12,
   "metadata": {
    "execution": {
     "iopub.execute_input": "2024-01-19T14:59:00.827095Z",
     "iopub.status.busy": "2024-01-19T14:59:00.826858Z",
     "iopub.status.idle": "2024-01-19T14:59:01.121245Z",
     "shell.execute_reply": "2024-01-19T14:59:01.120266Z",
     "shell.execute_reply.started": "2024-01-19T14:59:00.827076Z"
    }
   },
   "outputs": [],
   "source": [
    "y_pred = grid.predict(X_test)"
   ]
  },
  {
   "cell_type": "code",
   "execution_count": 13,
   "metadata": {
    "execution": {
     "iopub.execute_input": "2024-01-19T14:59:01.123763Z",
     "iopub.status.busy": "2024-01-19T14:59:01.122155Z",
     "iopub.status.idle": "2024-01-19T14:59:01.129175Z",
     "shell.execute_reply": "2024-01-19T14:59:01.128592Z",
     "shell.execute_reply.started": "2024-01-19T14:59:01.123730Z"
    }
   },
   "outputs": [
    {
     "data": {
      "text/plain": [
       "(46127,)"
      ]
     },
     "execution_count": 13,
     "metadata": {},
     "output_type": "execute_result"
    }
   ],
   "source": [
    "y_pred.shape"
   ]
  },
  {
   "cell_type": "code",
   "execution_count": 14,
   "metadata": {
    "execution": {
     "iopub.execute_input": "2024-01-19T14:59:01.130804Z",
     "iopub.status.busy": "2024-01-19T14:59:01.130005Z",
     "iopub.status.idle": "2024-01-19T14:59:01.139962Z",
     "shell.execute_reply": "2024-01-19T14:59:01.139304Z",
     "shell.execute_reply.started": "2024-01-19T14:59:01.130781Z"
    }
   },
   "outputs": [
    {
     "data": {
      "text/plain": [
       "(261384, 242)"
      ]
     },
     "execution_count": 14,
     "metadata": {},
     "output_type": "execute_result"
    }
   ],
   "source": [
    "X_train.shape"
   ]
  },
  {
   "cell_type": "markdown",
   "metadata": {},
   "source": [
    "# Proba predict treshold"
   ]
  },
  {
   "cell_type": "code",
   "execution_count": 15,
   "metadata": {
    "execution": {
     "iopub.execute_input": "2024-01-19T14:59:01.140783Z",
     "iopub.status.busy": "2024-01-19T14:59:01.140574Z",
     "iopub.status.idle": "2024-01-19T14:59:01.146418Z",
     "shell.execute_reply": "2024-01-19T14:59:01.145470Z",
     "shell.execute_reply.started": "2024-01-19T14:59:01.140765Z"
    }
   },
   "outputs": [],
   "source": [
    "# faire varier seuil et afficher graphiquement resultats"
   ]
  },
  {
   "cell_type": "code",
   "execution_count": 16,
   "metadata": {
    "execution": {
     "iopub.execute_input": "2024-01-19T14:59:01.148655Z",
     "iopub.status.busy": "2024-01-19T14:59:01.148354Z",
     "iopub.status.idle": "2024-01-19T14:59:01.152949Z",
     "shell.execute_reply": "2024-01-19T14:59:01.152331Z",
     "shell.execute_reply.started": "2024-01-19T14:59:01.148635Z"
    }
   },
   "outputs": [],
   "source": [
    "# # Make the model with the specified regularization parameter\n",
    "# log_reg = LogisticRegression(max_iter=500)\n",
    "# dummy = DummyClassifier()\n",
    "\n",
    "# # Train on the training data\n",
    "# log_reg.fit(X_train, y_train)\n",
    "# # dummy.fit(X_train, y_train)"
   ]
  },
  {
   "cell_type": "code",
   "execution_count": 17,
   "metadata": {
    "execution": {
     "iopub.execute_input": "2024-01-19T14:59:01.155185Z",
     "iopub.status.busy": "2024-01-19T14:59:01.154848Z",
     "iopub.status.idle": "2024-01-19T14:59:01.159682Z",
     "shell.execute_reply": "2024-01-19T14:59:01.159144Z",
     "shell.execute_reply.started": "2024-01-19T14:59:01.155166Z"
    }
   },
   "outputs": [],
   "source": [
    "# y_pred = log_reg.predict(X_test)"
   ]
  },
  {
   "cell_type": "code",
   "execution_count": 18,
   "metadata": {
    "execution": {
     "iopub.execute_input": "2024-01-19T14:59:01.162207Z",
     "iopub.status.busy": "2024-01-19T14:59:01.161741Z",
     "iopub.status.idle": "2024-01-19T14:59:01.164876Z",
     "shell.execute_reply": "2024-01-19T14:59:01.164154Z",
     "shell.execute_reply.started": "2024-01-19T14:59:01.162186Z"
    }
   },
   "outputs": [],
   "source": [
    "# y_pred"
   ]
  },
  {
   "cell_type": "markdown",
   "metadata": {},
   "source": [
    "# Scoring metric"
   ]
  },
  {
   "cell_type": "code",
   "execution_count": 19,
   "metadata": {
    "execution": {
     "iopub.execute_input": "2024-01-19T14:59:01.165834Z",
     "iopub.status.busy": "2024-01-19T14:59:01.165635Z",
     "iopub.status.idle": "2024-01-19T14:59:01.173892Z",
     "shell.execute_reply": "2024-01-19T14:59:01.173243Z",
     "shell.execute_reply.started": "2024-01-19T14:59:01.165814Z"
    }
   },
   "outputs": [
    {
     "data": {
      "text/plain": [
       "0.34344310273809264"
      ]
     },
     "execution_count": 19,
     "metadata": {},
     "output_type": "execute_result"
    }
   ],
   "source": [
    "y_pred.mean()"
   ]
  },
  {
   "cell_type": "code",
   "execution_count": 20,
   "metadata": {
    "execution": {
     "iopub.execute_input": "2024-01-19T14:59:01.174787Z",
     "iopub.status.busy": "2024-01-19T14:59:01.174592Z",
     "iopub.status.idle": "2024-01-19T14:59:01.185555Z",
     "shell.execute_reply": "2024-01-19T14:59:01.184915Z",
     "shell.execute_reply.started": "2024-01-19T14:59:01.174770Z"
    }
   },
   "outputs": [
    {
     "data": {
      "text/plain": [
       "0.6841329373252109"
      ]
     },
     "execution_count": 20,
     "metadata": {},
     "output_type": "execute_result"
    }
   ],
   "source": [
    "metrics.accuracy_score(y_test, y_pred)"
   ]
  },
  {
   "cell_type": "code",
   "execution_count": 21,
   "metadata": {
    "execution": {
     "iopub.execute_input": "2024-01-19T14:59:01.186801Z",
     "iopub.status.busy": "2024-01-19T14:59:01.186449Z",
     "iopub.status.idle": "2024-01-19T14:59:01.351838Z",
     "shell.execute_reply": "2024-01-19T14:59:01.351046Z",
     "shell.execute_reply.started": "2024-01-19T14:59:01.186781Z"
    }
   },
   "outputs": [
    {
     "name": "stdout",
     "output_type": "stream",
     "text": [
      "Sensibilité : 1.00\n",
      "Spécificité : 0.00\n",
      "Seuil : 0.00\n"
     ]
    },
    {
     "data": {
      "image/png": "[encoded data removed]",
      "text/plain": [
       "<Figure size 640x480 with 1 Axes>"
      ]
     },
     "metadata": {},
     "output_type": "display_data"
    }
   ],
   "source": [
    "[fpr, tpr, thr] = metrics.roc_curve(y_test, y_pred)\n",
    "plt.plot(fpr, tpr, color=\"coral\", lw=2)\n",
    "plt.xlim([0.0, 1.0])\n",
    "plt.ylim([0.0, 1.05])\n",
    "plt.xlabel(\"1 - specificite\", fontsize=14)\n",
    "plt.ylabel(\"Sensibilite\", fontsize=14)\n",
    "\n",
    "# indice du premier seuil pour lequel\n",
    "# la sensibilité est supérieure à 0.95\n",
    "idx = np.min(np.where(tpr > 0.95))\n",
    "\n",
    "print(\"Sensibilité : {:.2f}\".format(tpr[idx]))\n",
    "print(\"Spécificité : {:.2f}\".format(1 - fpr[idx]))\n",
    "print(\"Seuil : {:.2f}\".format(thr[idx]))"
   ]
  },
  {
   "cell_type": "markdown",
   "metadata": {},
   "source": [
    "# Profits and Loss function"
   ]
  },
  {
   "cell_type": "code",
   "execution_count": 22,
   "metadata": {
    "execution": {
     "iopub.execute_input": "2024-01-19T14:59:01.352464Z",
     "iopub.status.busy": "2024-01-19T14:59:01.352357Z",
     "iopub.status.idle": "2024-01-19T14:59:01.356086Z",
     "shell.execute_reply": "2024-01-19T14:59:01.355271Z",
     "shell.execute_reply.started": "2024-01-19T14:59:01.352457Z"
    }
   },
   "outputs": [],
   "source": [
    "def human_format(num):\n",
    "    num = float(\"{:.3g}\".format(num))\n",
    "    magnitude = 0\n",
    "    while abs(num) >= 1000:\n",
    "        magnitude += 1\n",
    "        num /= 1000.0\n",
    "    return \"{}{}\".format(\n",
    "        \"{:f}\".format(num).rstrip(\"0\").rstrip(\".\"), [\"\", \"K\", \"M\", \"B\", \"T\"][magnitude]\n",
    "    )"
   ]
  },
  {
   "cell_type": "code",
   "execution_count": 23,
   "metadata": {
    "editable": true,
    "execution": {
     "iopub.execute_input": "2024-01-19T14:59:01.356660Z",
     "iopub.status.busy": "2024-01-19T14:59:01.356545Z",
     "iopub.status.idle": "2024-01-19T14:59:01.505189Z",
     "shell.execute_reply": "2024-01-19T14:59:01.504365Z",
     "shell.execute_reply.started": "2024-01-19T14:59:01.356639Z"
    },
    "slideshow": {
     "slide_type": ""
    },
    "tags": []
   },
   "outputs": [],
   "source": [
    "# compute mean ratio of value of goods, and amount loaned for buying this goods\n",
    "GOODS_CREDIT_RATIO = (\n",
    "    app_train[app_train[\"AMT_GOODS_PRICE\"].notna()].AMT_GOODS_PRICE\n",
    "    / app_train[app_train[\"AMT_GOODS_PRICE\"].notna()].AMT_CREDIT\n",
    ").mean()\n",
    "\n",
    "\n",
    "def pnl(y_pred, y_true, interest=0.04, goods_recover_rate=0.60):\n",
    "    # ajouter type casting\n",
    "    # todo X en param\n",
    "    # df.apply(pnl)\n",
    "    # y_proba\n",
    "    # interest  et GOODS_P en param\n",
    "    # interest = 0.04\n",
    "    # goods_recover_rate = 0.60\n",
    "    credit = app_train.loc[X_test.index, \"AMT_CREDIT\"]\n",
    "    # when goods value is missing, use 90% of credit amount\n",
    "    seized_goods = (\n",
    "        np.where(\n",
    "            app_train.loc[X_test.index, \"AMT_GOODS_PRICE\"].notna(),\n",
    "            app_train.loc[X_test.index, \"AMT_GOODS_PRICE\"],\n",
    "            app_train.loc[X_test.index, \"AMT_CREDIT\"] * GOODS_CREDIT_RATIO,\n",
    "        )\n",
    "        * goods_recover_rate\n",
    "    )\n",
    "    pnl = pd.Series(np.nan)\n",
    "    # TP : pret refusé correctement = pas de perte\n",
    "    pnl = np.where((y_pred == 1) & (y_true == 1), 0, pnl)\n",
    "    # FP : pret refusé par erreur : perte des interets\n",
    "    pnl = np.where(\n",
    "        (y_pred == 1) & (y_true == 0),\n",
    "        -credit * interest,\n",
    "        pnl,\n",
    "    )\n",
    "    # TN : pret accordé correctement : gain des interets\n",
    "    pnl = np.where(\n",
    "        (y_pred == 0) & (y_true == 0),\n",
    "        credit * interest,\n",
    "        pnl,\n",
    "    )\n",
    "    # FN : pret accordé par erreur : perte du montant du pret et des interets\n",
    "    pnl = np.where(\n",
    "        (y_pred == 0) & (y_true == 1),\n",
    "        -credit * (1 + interest) + seized_goods,\n",
    "        pnl,\n",
    "    )\n",
    "    return pnl.sum()"
   ]
  },
  {
   "cell_type": "code",
   "execution_count": 24,
   "metadata": {
    "execution": {
     "iopub.execute_input": "2024-01-19T14:59:01.505870Z",
     "iopub.status.busy": "2024-01-19T14:59:01.505763Z",
     "iopub.status.idle": "2024-01-19T14:59:01.527817Z",
     "shell.execute_reply": "2024-01-19T14:59:01.527211Z",
     "shell.execute_reply.started": "2024-01-19T14:59:01.505862Z"
    }
   },
   "outputs": [
    {
     "name": "stdout",
     "output_type": "stream",
     "text": [
      "P&L avec prédictions modèle : $ 63.2M\n",
      "P&L avec prédictions parfaites : $ 1.03B\n"
     ]
    }
   ],
   "source": [
    "print(\"P&L avec prédictions modèle : $\", human_format(pnl(y_pred, y_test)))\n",
    "print(\"P&L avec prédictions parfaites : $\", human_format(pnl(y_test, y_test)))"
   ]
  },
  {
   "cell_type": "code",
   "execution_count": 25,
   "metadata": {
    "editable": true,
    "execution": {
     "iopub.execute_input": "2024-01-19T14:59:01.528390Z",
     "iopub.status.busy": "2024-01-19T14:59:01.528268Z",
     "iopub.status.idle": "2024-01-19T14:59:01.532465Z",
     "shell.execute_reply": "2024-01-19T14:59:01.531914Z",
     "shell.execute_reply.started": "2024-01-19T14:59:01.528380Z"
    },
    "slideshow": {
     "slide_type": ""
    },
    "tags": []
   },
   "outputs": [
    {
     "data": {
      "text/plain": [
       "0.34344310273809264"
      ]
     },
     "execution_count": 25,
     "metadata": {},
     "output_type": "execute_result"
    }
   ],
   "source": [
    "y_pred.mean()"
   ]
  },
  {
   "cell_type": "code",
   "execution_count": 26,
   "metadata": {
    "execution": {
     "iopub.execute_input": "2024-01-19T14:59:01.535346Z",
     "iopub.status.busy": "2024-01-19T14:59:01.535251Z",
     "iopub.status.idle": "2024-01-19T14:59:01.538185Z",
     "shell.execute_reply": "2024-01-19T14:59:01.537786Z",
     "shell.execute_reply.started": "2024-01-19T14:59:01.535340Z"
    }
   },
   "outputs": [
    {
     "data": {
      "text/plain": [
       "0.08021332408350858"
      ]
     },
     "execution_count": 26,
     "metadata": {},
     "output_type": "execute_result"
    }
   ],
   "source": [
    "y_test.mean()"
   ]
  },
  {
   "cell_type": "markdown",
   "metadata": {},
   "source": [
    "## Essai non concluant : calculer intérêts et durée du prêt en fonction du montant total et de l'annuity"
   ]
  },
  {
   "cell_type": "code",
   "execution_count": 27,
   "metadata": {
    "execution": {
     "iopub.execute_input": "2024-01-19T14:59:01.538667Z",
     "iopub.status.busy": "2024-01-19T14:59:01.538552Z",
     "iopub.status.idle": "2024-01-19T14:59:01.550014Z",
     "shell.execute_reply": "2024-01-19T14:59:01.549734Z",
     "shell.execute_reply.started": "2024-01-19T14:59:01.538657Z"
    }
   },
   "outputs": [
    {
     "data": {
      "text/html": [
       "<div>\n",
       "<style scoped>\n",
       "    .dataframe tbody tr th:only-of-type {\n",
       "        vertical-align: middle;\n",
       "    }\n",
       "\n",
       "    .dataframe tbody tr th {\n",
       "        vertical-align: top;\n",
       "    }\n",
       "\n",
       "    .dataframe thead th {\n",
       "        text-align: right;\n",
       "    }\n",
       "</style>\n",
       "<table border=\"1\" class=\"dataframe\">\n",
       "  <thead>\n",
       "    <tr style=\"text-align: right;\">\n",
       "      <th></th>\n",
       "      <th>AMT_CREDIT</th>\n",
       "      <th>AMT_ANNUITY</th>\n",
       "      <th>AMT_GOODS_PRICE</th>\n",
       "    </tr>\n",
       "    <tr>\n",
       "      <th>SK_ID_CURR</th>\n",
       "      <th></th>\n",
       "      <th></th>\n",
       "      <th></th>\n",
       "    </tr>\n",
       "  </thead>\n",
       "  <tbody>\n",
       "    <tr>\n",
       "      <th>322577</th>\n",
       "      <td>948582.0</td>\n",
       "      <td>33736.5</td>\n",
       "      <td>679500.0</td>\n",
       "    </tr>\n",
       "    <tr>\n",
       "      <th>213522</th>\n",
       "      <td>894906.0</td>\n",
       "      <td>26293.5</td>\n",
       "      <td>747000.0</td>\n",
       "    </tr>\n",
       "    <tr>\n",
       "      <th>245053</th>\n",
       "      <td>776254.5</td>\n",
       "      <td>23665.5</td>\n",
       "      <td>589500.0</td>\n",
       "    </tr>\n",
       "    <tr>\n",
       "      <th>365017</th>\n",
       "      <td>180000.0</td>\n",
       "      <td>9000.0</td>\n",
       "      <td>180000.0</td>\n",
       "    </tr>\n",
       "    <tr>\n",
       "      <th>139987</th>\n",
       "      <td>436360.5</td>\n",
       "      <td>35113.5</td>\n",
       "      <td>373500.0</td>\n",
       "    </tr>\n",
       "    <tr>\n",
       "      <th>161006</th>\n",
       "      <td>1256400.0</td>\n",
       "      <td>36864.0</td>\n",
       "      <td>900000.0</td>\n",
       "    </tr>\n",
       "    <tr>\n",
       "      <th>305904</th>\n",
       "      <td>755190.0</td>\n",
       "      <td>33264.0</td>\n",
       "      <td>675000.0</td>\n",
       "    </tr>\n",
       "    <tr>\n",
       "      <th>167287</th>\n",
       "      <td>808650.0</td>\n",
       "      <td>26086.5</td>\n",
       "      <td>675000.0</td>\n",
       "    </tr>\n",
       "    <tr>\n",
       "      <th>369714</th>\n",
       "      <td>254700.0</td>\n",
       "      <td>16276.5</td>\n",
       "      <td>225000.0</td>\n",
       "    </tr>\n",
       "    <tr>\n",
       "      <th>308166</th>\n",
       "      <td>225000.0</td>\n",
       "      <td>10489.5</td>\n",
       "      <td>225000.0</td>\n",
       "    </tr>\n",
       "  </tbody>\n",
       "</table>\n",
       "</div>"
      ],
      "text/plain": [
       "            AMT_CREDIT  AMT_ANNUITY  AMT_GOODS_PRICE\n",
       "SK_ID_CURR                                          \n",
       "322577        948582.0      33736.5         679500.0\n",
       "213522        894906.0      26293.5         747000.0\n",
       "245053        776254.5      23665.5         589500.0\n",
       "365017        180000.0       9000.0         180000.0\n",
       "139987        436360.5      35113.5         373500.0\n",
       "161006       1256400.0      36864.0         900000.0\n",
       "305904        755190.0      33264.0         675000.0\n",
       "167287        808650.0      26086.5         675000.0\n",
       "369714        254700.0      16276.5         225000.0\n",
       "308166        225000.0      10489.5         225000.0"
      ]
     },
     "execution_count": 27,
     "metadata": {},
     "output_type": "execute_result"
    }
   ],
   "source": [
    "app_train[[\"AMT_CREDIT\", \"AMT_ANNUITY\", \"AMT_GOODS_PRICE\"]].sample(10)"
   ]
  },
  {
   "cell_type": "code",
   "execution_count": 28,
   "metadata": {
    "execution": {
     "iopub.execute_input": "2024-01-19T14:59:01.550535Z",
     "iopub.status.busy": "2024-01-19T14:59:01.550438Z",
     "iopub.status.idle": "2024-01-19T14:59:01.563779Z",
     "shell.execute_reply": "2024-01-19T14:59:01.563106Z",
     "shell.execute_reply.started": "2024-01-19T14:59:01.550527Z"
    }
   },
   "outputs": [
    {
     "data": {
      "text/plain": [
       "count    307499.000000\n",
       "mean          0.053695\n",
       "std           0.022481\n",
       "min           0.022073\n",
       "25%           0.036900\n",
       "50%           0.050000\n",
       "75%           0.064043\n",
       "max           0.124430\n",
       "dtype: float64"
      ]
     },
     "execution_count": 28,
     "metadata": {},
     "output_type": "execute_result"
    }
   ],
   "source": [
    "(app_train.AMT_ANNUITY / app_train.AMT_CREDIT).describe()\n",
    "\n",
    "# app_train.AMT_CREDIT * 1.0665 / app_train.AMT_ANNUITY"
   ]
  },
  {
   "cell_type": "markdown",
   "metadata": {},
   "source": [
    "# Shap values"
   ]
  },
  {
   "cell_type": "code",
   "execution_count": 29,
   "metadata": {
    "execution": {
     "iopub.execute_input": "2024-01-19T14:59:01.564304Z",
     "iopub.status.busy": "2024-01-19T14:59:01.564173Z",
     "iopub.status.idle": "2024-01-19T14:59:02.971350Z",
     "shell.execute_reply": "2024-01-19T14:59:02.970898Z",
     "shell.execute_reply.started": "2024-01-19T14:59:01.564295Z"
    }
   },
   "outputs": [
    {
     "data": {
      "text/plain": [
       "array([[0.005732502738214933, -0.11949141341576791,\n",
       "        -0.026615856350538907, ..., -26219.374923096744,\n",
       "        -0.07978795758182905, 0.019009465769855113],\n",
       "       [0.005732502738214933, 0.0865282648872802, -0.026615856350538907,\n",
       "        ..., -15386.061316437566, 0.15164159928418763,\n",
       "        0.017150134832964275],\n",
       "       [0.005732502738214933, 0.0865282648872802, 0.009844220841980144,\n",
       "        ..., 6280.565896880789, 0.09437019165156936,\n",
       "        0.014891606524861751],\n",
       "       ...,\n",
       "       [0.005732502738214933, 0.0865282648872802, -0.026615856350538907,\n",
       "        ..., -16830.50313065879, -0.12202285664681012,\n",
       "        -0.018426510117922523],\n",
       "       [-0.04203835341357618, 0.0865282648872802, 0.009844220841980144,\n",
       "        ..., -28386.03764442858, -0.06195053075159271,\n",
       "        0.002306261250482104],\n",
       "       [0.005732502738214933, 0.0865282648872802, 0.009844220841980144,\n",
       "        ..., -11052.735873773896, -0.05288440058581142,\n",
       "        0.007997332667415296]], dtype=object)"
      ]
     },
     "execution_count": 29,
     "metadata": {},
     "output_type": "execute_result"
    }
   ],
   "source": [
    "explainer = shap.LinearExplainer(grid.best_estimator_[\"classifier\"], X_train)\n",
    "shap_values = explainer.shap_values(X_test)\n",
    "shap_values"
   ]
  },
  {
   "cell_type": "code",
   "execution_count": 45,
   "metadata": {
    "execution": {
     "iopub.execute_input": "2024-01-19T15:10:47.691757Z",
     "iopub.status.busy": "2024-01-19T15:10:47.691614Z",
     "iopub.status.idle": "2024-01-19T15:10:47.701517Z",
     "shell.execute_reply": "2024-01-19T15:10:47.701044Z",
     "shell.execute_reply.started": "2024-01-19T15:10:47.691749Z"
    }
   },
   "outputs": [
    {
     "data": {
      "text/html": [
       "<div>\n",
       "<style scoped>\n",
       "    .dataframe tbody tr th:only-of-type {\n",
       "        vertical-align: middle;\n",
       "    }\n",
       "\n",
       "    .dataframe tbody tr th {\n",
       "        vertical-align: top;\n",
       "    }\n",
       "\n",
       "    .dataframe thead th {\n",
       "        text-align: right;\n",
       "    }\n",
       "</style>\n",
       "<table border=\"1\" class=\"dataframe\">\n",
       "  <thead>\n",
       "    <tr style=\"text-align: right;\">\n",
       "      <th></th>\n",
       "      <th>NAME_CONTRACT_TYPE</th>\n",
       "      <th>FLAG_OWN_CAR</th>\n",
       "      <th>FLAG_OWN_REALTY</th>\n",
       "      <th>CNT_CHILDREN</th>\n",
       "      <th>AMT_INCOME_TOTAL</th>\n",
       "      <th>AMT_CREDIT</th>\n",
       "      <th>AMT_ANNUITY</th>\n",
       "      <th>AMT_GOODS_PRICE</th>\n",
       "      <th>REGION_POPULATION_RELATIVE</th>\n",
       "      <th>DAYS_BIRTH</th>\n",
       "      <th>...</th>\n",
       "      <th>WALLSMATERIAL_MODE_Panel</th>\n",
       "      <th>WALLSMATERIAL_MODE_Stone, brick</th>\n",
       "      <th>WALLSMATERIAL_MODE_Wooden</th>\n",
       "      <th>EMERGENCYSTATE_MODE_No</th>\n",
       "      <th>EMERGENCYSTATE_MODE_Yes</th>\n",
       "      <th>FE_DAYS_EMPLOYED_PERC</th>\n",
       "      <th>FE_INCOME_CREDIT_PERC</th>\n",
       "      <th>FE_INCOME_PER_PERSON</th>\n",
       "      <th>FE_ANNUITY_INCOME_PERC</th>\n",
       "      <th>FE_PAYMENT_RATE</th>\n",
       "    </tr>\n",
       "    <tr>\n",
       "      <th>SK_ID_CURR</th>\n",
       "      <th></th>\n",
       "      <th></th>\n",
       "      <th></th>\n",
       "      <th></th>\n",
       "      <th></th>\n",
       "      <th></th>\n",
       "      <th></th>\n",
       "      <th></th>\n",
       "      <th></th>\n",
       "      <th></th>\n",
       "      <th></th>\n",
       "      <th></th>\n",
       "      <th></th>\n",
       "      <th></th>\n",
       "      <th></th>\n",
       "      <th></th>\n",
       "      <th></th>\n",
       "      <th></th>\n",
       "      <th></th>\n",
       "      <th></th>\n",
       "      <th></th>\n",
       "    </tr>\n",
       "  </thead>\n",
       "  <tbody>\n",
       "    <tr>\n",
       "      <th>128656</th>\n",
       "      <td>0</td>\n",
       "      <td>0</td>\n",
       "      <td>0</td>\n",
       "      <td>1</td>\n",
       "      <td>225000.0</td>\n",
       "      <td>1096020.0</td>\n",
       "      <td>56092.5</td>\n",
       "      <td>900000.0</td>\n",
       "      <td>0.020713</td>\n",
       "      <td>-11100</td>\n",
       "      <td>...</td>\n",
       "      <td>True</td>\n",
       "      <td>False</td>\n",
       "      <td>False</td>\n",
       "      <td>True</td>\n",
       "      <td>False</td>\n",
       "      <td>0.280901</td>\n",
       "      <td>0.205288</td>\n",
       "      <td>75000.0</td>\n",
       "      <td>0.2493</td>\n",
       "      <td>0.051178</td>\n",
       "    </tr>\n",
       "  </tbody>\n",
       "</table>\n",
       "<p>1 rows × 242 columns</p>\n",
       "</div>"
      ],
      "text/plain": [
       "            NAME_CONTRACT_TYPE  FLAG_OWN_CAR  FLAG_OWN_REALTY  CNT_CHILDREN  \\\n",
       "SK_ID_CURR                                                                    \n",
       "128656                       0             0                0             1   \n",
       "\n",
       "            AMT_INCOME_TOTAL  AMT_CREDIT  AMT_ANNUITY  AMT_GOODS_PRICE  \\\n",
       "SK_ID_CURR                                                               \n",
       "128656              225000.0   1096020.0      56092.5         900000.0   \n",
       "\n",
       "            REGION_POPULATION_RELATIVE  DAYS_BIRTH  ...  \\\n",
       "SK_ID_CURR                                          ...   \n",
       "128656                        0.020713      -11100  ...   \n",
       "\n",
       "            WALLSMATERIAL_MODE_Panel  WALLSMATERIAL_MODE_Stone, brick  \\\n",
       "SK_ID_CURR                                                              \n",
       "128656                          True                            False   \n",
       "\n",
       "            WALLSMATERIAL_MODE_Wooden  EMERGENCYSTATE_MODE_No  \\\n",
       "SK_ID_CURR                                                      \n",
       "128656                          False                    True   \n",
       "\n",
       "            EMERGENCYSTATE_MODE_Yes  FE_DAYS_EMPLOYED_PERC  \\\n",
       "SK_ID_CURR                                                   \n",
       "128656                        False               0.280901   \n",
       "\n",
       "            FE_INCOME_CREDIT_PERC  FE_INCOME_PER_PERSON  \\\n",
       "SK_ID_CURR                                                \n",
       "128656                   0.205288               75000.0   \n",
       "\n",
       "            FE_ANNUITY_INCOME_PERC  FE_PAYMENT_RATE  \n",
       "SK_ID_CURR                                           \n",
       "128656                      0.2493         0.051178  \n",
       "\n",
       "[1 rows x 242 columns]"
      ]
     },
     "execution_count": 45,
     "metadata": {},
     "output_type": "execute_result"
    }
   ],
   "source": [
    "X_train.sample()"
   ]
  },
  {
   "cell_type": "code",
   "execution_count": null,
   "metadata": {},
   "outputs": [],
   "source": [
    "explainer"
   ]
  },
  {
   "cell_type": "code",
   "execution_count": 42,
   "metadata": {
    "execution": {
     "iopub.execute_input": "2024-01-19T15:05:12.258174Z",
     "iopub.status.busy": "2024-01-19T15:05:12.258059Z",
     "iopub.status.idle": "2024-01-19T15:05:12.260919Z",
     "shell.execute_reply": "2024-01-19T15:05:12.260454Z",
     "shell.execute_reply.started": "2024-01-19T15:05:12.258166Z"
    }
   },
   "outputs": [
    {
     "data": {
      "text/plain": [
       "46127"
      ]
     },
     "execution_count": 42,
     "metadata": {},
     "output_type": "execute_result"
    }
   ],
   "source": [
    "len(shap_values)"
   ]
  },
  {
   "cell_type": "code",
   "execution_count": 43,
   "metadata": {
    "execution": {
     "iopub.execute_input": "2024-01-19T15:06:05.291676Z",
     "iopub.status.busy": "2024-01-19T15:06:05.291560Z",
     "iopub.status.idle": "2024-01-19T15:06:05.296822Z",
     "shell.execute_reply": "2024-01-19T15:06:05.296501Z",
     "shell.execute_reply.started": "2024-01-19T15:06:05.291669Z"
    }
   },
   "outputs": [
    {
     "data": {
      "text/html": [
       "<style>#sk-container-id-3 {color: black;background-color: white;}#sk-container-id-3 pre{padding: 0;}#sk-container-id-3 div.sk-toggleable {background-color: white;}#sk-container-id-3 label.sk-toggleable__label {cursor: pointer;display: block;width: 100%;margin-bottom: 0;padding: 0.3em;box-sizing: border-box;text-align: center;}#sk-container-id-3 label.sk-toggleable__label-arrow:before {content: \"▸\";float: left;margin-right: 0.25em;color: #696969;}#sk-container-id-3 label.sk-toggleable__label-arrow:hover:before {color: black;}#sk-container-id-3 div.sk-estimator:hover label.sk-toggleable__label-arrow:before {color: black;}#sk-container-id-3 div.sk-toggleable__content {max-height: 0;max-width: 0;overflow: hidden;text-align: left;background-color: #f0f8ff;}#sk-container-id-3 div.sk-toggleable__content pre {margin: 0.2em;color: black;border-radius: 0.25em;background-color: #f0f8ff;}#sk-container-id-3 input.sk-toggleable__control:checked~div.sk-toggleable__content {max-height: 200px;max-width: 100%;overflow: auto;}#sk-container-id-3 input.sk-toggleable__control:checked~label.sk-toggleable__label-arrow:before {content: \"▾\";}#sk-container-id-3 div.sk-estimator input.sk-toggleable__control:checked~label.sk-toggleable__label {background-color: #d4ebff;}#sk-container-id-3 div.sk-label input.sk-toggleable__control:checked~label.sk-toggleable__label {background-color: #d4ebff;}#sk-container-id-3 input.sk-hidden--visually {border: 0;clip: rect(1px 1px 1px 1px);clip: rect(1px, 1px, 1px, 1px);height: 1px;margin: -1px;overflow: hidden;padding: 0;position: absolute;width: 1px;}#sk-container-id-3 div.sk-estimator {font-family: monospace;background-color: #f0f8ff;border: 1px dotted black;border-radius: 0.25em;box-sizing: border-box;margin-bottom: 0.5em;}#sk-container-id-3 div.sk-estimator:hover {background-color: #d4ebff;}#sk-container-id-3 div.sk-parallel-item::after {content: \"\";width: 100%;border-bottom: 1px solid gray;flex-grow: 1;}#sk-container-id-3 div.sk-label:hover label.sk-toggleable__label {background-color: #d4ebff;}#sk-container-id-3 div.sk-serial::before {content: \"\";position: absolute;border-left: 1px solid gray;box-sizing: border-box;top: 0;bottom: 0;left: 50%;z-index: 0;}#sk-container-id-3 div.sk-serial {display: flex;flex-direction: column;align-items: center;background-color: white;padding-right: 0.2em;padding-left: 0.2em;position: relative;}#sk-container-id-3 div.sk-item {position: relative;z-index: 1;}#sk-container-id-3 div.sk-parallel {display: flex;align-items: stretch;justify-content: center;background-color: white;position: relative;}#sk-container-id-3 div.sk-item::before, #sk-container-id-3 div.sk-parallel-item::before {content: \"\";position: absolute;border-left: 1px solid gray;box-sizing: border-box;top: 0;bottom: 0;left: 50%;z-index: -1;}#sk-container-id-3 div.sk-parallel-item {display: flex;flex-direction: column;z-index: 1;position: relative;background-color: white;}#sk-container-id-3 div.sk-parallel-item:first-child::after {align-self: flex-end;width: 50%;}#sk-container-id-3 div.sk-parallel-item:last-child::after {align-self: flex-start;width: 50%;}#sk-container-id-3 div.sk-parallel-item:only-child::after {width: 0;}#sk-container-id-3 div.sk-dashed-wrapped {border: 1px dashed gray;margin: 0 0.4em 0.5em 0.4em;box-sizing: border-box;padding-bottom: 0.4em;background-color: white;}#sk-container-id-3 div.sk-label label {font-family: monospace;font-weight: bold;display: inline-block;line-height: 1.2em;}#sk-container-id-3 div.sk-label-container {text-align: center;}#sk-container-id-3 div.sk-container {/* jupyter's `normalize.less` sets `[hidden] { display: none; }` but bootstrap.min.css set `[hidden] { display: none !important; }` so we also need the `!important` here to be able to override the default hidden behavior on the sphinx rendered scikit-learn.org. See: https://github.com/scikit-learn/scikit-learn/issues/21755 */display: inline-block !important;position: relative;}#sk-container-id-3 div.sk-text-repr-fallback {display: none;}</style><div id=\"sk-container-id-3\" class=\"sk-top-container\"><div class=\"sk-text-repr-fallback\"><pre>Pipeline(steps=[(&#x27;sampler&#x27;, RandomUnderSampler()), (&#x27;imputer&#x27;, SimpleImputer()),\n",
       "                (&#x27;scaler&#x27;, MinMaxScaler()),\n",
       "                (&#x27;classifier&#x27;, LogisticRegression(max_iter=500))])</pre><b>In a Jupyter environment, please rerun this cell to show the HTML representation or trust the notebook. <br />On GitHub, the HTML representation is unable to render, please try loading this page with nbviewer.org.</b></div><div class=\"sk-container\" hidden><div class=\"sk-item sk-dashed-wrapped\"><div class=\"sk-label-container\"><div class=\"sk-label sk-toggleable\"><input class=\"sk-toggleable__control sk-hidden--visually\" id=\"sk-estimator-id-12\" type=\"checkbox\" ><label for=\"sk-estimator-id-12\" class=\"sk-toggleable__label sk-toggleable__label-arrow\">Pipeline</label><div class=\"sk-toggleable__content\"><pre>Pipeline(steps=[(&#x27;sampler&#x27;, RandomUnderSampler()), (&#x27;imputer&#x27;, SimpleImputer()),\n",
       "                (&#x27;scaler&#x27;, MinMaxScaler()),\n",
       "                (&#x27;classifier&#x27;, LogisticRegression(max_iter=500))])</pre></div></div></div><div class=\"sk-serial\"><div class=\"sk-item\"><div class=\"sk-estimator sk-toggleable\"><input class=\"sk-toggleable__control sk-hidden--visually\" id=\"sk-estimator-id-13\" type=\"checkbox\" ><label for=\"sk-estimator-id-13\" class=\"sk-toggleable__label sk-toggleable__label-arrow\">RandomUnderSampler</label><div class=\"sk-toggleable__content\"><pre>RandomUnderSampler()</pre></div></div></div><div class=\"sk-item\"><div class=\"sk-estimator sk-toggleable\"><input class=\"sk-toggleable__control sk-hidden--visually\" id=\"sk-estimator-id-14\" type=\"checkbox\" ><label for=\"sk-estimator-id-14\" class=\"sk-toggleable__label sk-toggleable__label-arrow\">SimpleImputer</label><div class=\"sk-toggleable__content\"><pre>SimpleImputer()</pre></div></div></div><div class=\"sk-item\"><div class=\"sk-estimator sk-toggleable\"><input class=\"sk-toggleable__control sk-hidden--visually\" id=\"sk-estimator-id-15\" type=\"checkbox\" ><label for=\"sk-estimator-id-15\" class=\"sk-toggleable__label sk-toggleable__label-arrow\">MinMaxScaler</label><div class=\"sk-toggleable__content\"><pre>MinMaxScaler()</pre></div></div></div><div class=\"sk-item\"><div class=\"sk-estimator sk-toggleable\"><input class=\"sk-toggleable__control sk-hidden--visually\" id=\"sk-estimator-id-16\" type=\"checkbox\" ><label for=\"sk-estimator-id-16\" class=\"sk-toggleable__label sk-toggleable__label-arrow\">LogisticRegression</label><div class=\"sk-toggleable__content\"><pre>LogisticRegression(max_iter=500)</pre></div></div></div></div></div></div></div>"
      ],
      "text/plain": [
       "Pipeline(steps=[('sampler', RandomUnderSampler()), ('imputer', SimpleImputer()),\n",
       "                ('scaler', MinMaxScaler()),\n",
       "                ('classifier', LogisticRegression(max_iter=500))])"
      ]
     },
     "execution_count": 43,
     "metadata": {},
     "output_type": "execute_result"
    }
   ],
   "source": [
    "grid.best_estimator_"
   ]
  },
  {
   "cell_type": "code",
   "execution_count": 30,
   "metadata": {
    "execution": {
     "iopub.execute_input": "2024-01-19T14:59:02.971791Z",
     "iopub.status.busy": "2024-01-19T14:59:02.971703Z",
     "iopub.status.idle": "2024-01-19T14:59:02.975281Z",
     "shell.execute_reply": "2024-01-19T14:59:02.975036Z",
     "shell.execute_reply.started": "2024-01-19T14:59:02.971784Z"
    }
   },
   "outputs": [
    {
     "data": {
      "text/plain": [
       "(46127, 242)"
      ]
     },
     "execution_count": 30,
     "metadata": {},
     "output_type": "execute_result"
    }
   ],
   "source": [
    "X_test.shape"
   ]
  },
  {
   "cell_type": "code",
   "execution_count": 31,
   "metadata": {
    "execution": {
     "iopub.execute_input": "2024-01-19T14:59:02.975687Z",
     "iopub.status.busy": "2024-01-19T14:59:02.975582Z",
     "iopub.status.idle": "2024-01-19T14:59:02.987304Z",
     "shell.execute_reply": "2024-01-19T14:59:02.986884Z",
     "shell.execute_reply.started": "2024-01-19T14:59:02.975678Z"
    }
   },
   "outputs": [
    {
     "data": {
      "text/plain": [
       "(46127, 242)"
      ]
     },
     "execution_count": 31,
     "metadata": {},
     "output_type": "execute_result"
    }
   ],
   "source": [
    "X_test.shape"
   ]
  },
  {
   "cell_type": "code",
   "execution_count": 151,
   "metadata": {
    "execution": {
     "iopub.execute_input": "2024-01-19T15:48:33.492948Z",
     "iopub.status.busy": "2024-01-19T15:48:33.492832Z",
     "iopub.status.idle": "2024-01-19T15:48:33.499157Z",
     "shell.execute_reply": "2024-01-19T15:48:33.498877Z",
     "shell.execute_reply.started": "2024-01-19T15:48:33.492940Z"
    }
   },
   "outputs": [
    {
     "data": {
      "text/plain": [
       "{'top': {'AMT_CREDIT': 4.129715433620307,\n",
       "  'AMT_INCOME_TOTAL': 0.8232857461793862,\n",
       "  'FE_INCOME_PER_PERSON': 0.5389226274328889,\n",
       "  'AMT_ANNUITY': 0.34961838684147095,\n",
       "  'DAYS_LAST_PHONE_CHANGE': 0.0428491743859195,\n",
       "  'NAME_EDUCATION_TYPE_Incomplete higher': 0.03877050139967813,\n",
       "  'FLAG_EMP_PHONE': 0.038769172597491665,\n",
       "  'FLAG_DOCUMENT_3': 0.03876709225115629,\n",
       "  'ORGANIZATION_TYPE_XNA': 0.03876637749776808,\n",
       "  'FLAG_ANOMALY_DAYS_EMPLOYED': 0.03876637749776808},\n",
       " 'bottom': {'AMT_GOODS_PRICE': -14.949964954460894,\n",
       "  'DAYS_REGISTRATION': -0.016024734012685768,\n",
       "  'DAYS_BIRTH': 0.01792093755671402,\n",
       "  'DAYS_ID_PUBLISH': 0.03205292842258939,\n",
       "  'NAME_INCOME_TYPE_Pensioner': 0.038743304504785,\n",
       "  'HOUR_APPR_PROCESS_START': 0.038751962002762264,\n",
       "  'NAME_EDUCATION_TYPE_Secondary / secondary special': 0.03875349127405482,\n",
       "  'OBS_30_CNT_SOCIAL_CIRCLE': 0.038754755011199855,\n",
       "  'EXT_SOURCE_2': 0.03875713762680495,\n",
       "  'OBS_60_CNT_SOCIAL_CIRCLE': 0.03875935744377403}}"
      ]
     },
     "execution_count": 151,
     "metadata": {},
     "output_type": "execute_result"
    }
   ],
   "source": [
    "def shap_for_one(df, idx):\n",
    "    \"\"\"\n",
    "    Return 20\n",
    "    TODO\n",
    "    \"\"\"\n",
    "    shap_for_sample = pd.DataFrame(explainer.shap_values(df.loc[idx, :])).fillna(0)\n",
    "    shap_OK = StandardScaler().fit_transform(shap_for_sample)\n",
    "    shap_OK = pd.DataFrame(shap_OK, index=df.columns)\n",
    "    shap_OK = pd.Series(shap_OK.iloc[:, 0])\n",
    "    top_shap = shap_OK.sort_values(ascending=False).head(10)\n",
    "    bottom_shap = shap_OK.sort_values(ascending=True).head(10)\n",
    "    return {\"top\": top_shap.to_dict(), \"bottom\": bottom_shap.to_dict()}\n",
    "\n",
    "shap_for_one(X_test, X_test.sample().index[0])"
   ]
  },
  {
   "cell_type": "code",
   "execution_count": 138,
   "metadata": {
    "execution": {
     "iopub.execute_input": "2024-01-19T15:45:33.288268Z",
     "iopub.status.busy": "2024-01-19T15:45:33.287973Z",
     "iopub.status.idle": "2024-01-19T15:45:33.291599Z",
     "shell.execute_reply": "2024-01-19T15:45:33.291321Z",
     "shell.execute_reply.started": "2024-01-19T15:45:33.288256Z"
    }
   },
   "outputs": [],
   "source": [
    "idx = X_test.sample().index[0]"
   ]
  },
  {
   "cell_type": "code",
   "execution_count": 133,
   "metadata": {
    "execution": {
     "iopub.execute_input": "2024-01-19T15:41:50.243178Z",
     "iopub.status.busy": "2024-01-19T15:41:50.243038Z",
     "iopub.status.idle": "2024-01-19T15:41:50.248634Z",
     "shell.execute_reply": "2024-01-19T15:41:50.248258Z",
     "shell.execute_reply.started": "2024-01-19T15:41:50.243170Z"
    }
   },
   "outputs": [
    {
     "data": {
      "text/plain": [
       "NAME_CONTRACT_TYPE               0\n",
       "FLAG_OWN_CAR                     0\n",
       "FLAG_OWN_REALTY                  1\n",
       "CNT_CHILDREN                     0\n",
       "AMT_INCOME_TOTAL          157500.0\n",
       "                            ...   \n",
       "FE_DAYS_EMPLOYED_PERC     0.090781\n",
       "FE_INCOME_CREDIT_PERC     0.150553\n",
       "FE_INCOME_PER_PERSON       78750.0\n",
       "FE_ANNUITY_INCOME_PERC    0.195029\n",
       "FE_PAYMENT_RATE           0.029362\n",
       "Name: 287978, Length: 242, dtype: object"
      ]
     },
     "execution_count": 133,
     "metadata": {},
     "output_type": "execute_result"
    }
   ],
   "source": [
    "X_test.loc[X_test.sample().index[0], :]"
   ]
  },
  {
   "cell_type": "code",
   "execution_count": 44,
   "metadata": {
    "execution": {
     "iopub.execute_input": "2024-01-19T15:10:13.946394Z",
     "iopub.status.busy": "2024-01-19T15:10:13.946277Z",
     "iopub.status.idle": "2024-01-19T15:10:14.025230Z",
     "shell.execute_reply": "2024-01-19T15:10:14.024781Z",
     "shell.execute_reply.started": "2024-01-19T15:10:13.946387Z"
    }
   },
   "outputs": [
    {
     "data": {
      "image/png": "[encoded data removed]",
      "text/plain": [
       "<Figure size 640x480 with 1 Axes>"
      ]
     },
     "metadata": {},
     "output_type": "display_data"
    }
   ],
   "source": [
    "# explainer for only 1 sample row\n",
    "# TODO prendre que les tops\n",
    "shap.bar_plot(\n",
    "    explainer.shap_values(X_test.sample(1))[0],\n",
    "    feature_names=X_test.columns,\n",
    "    max_display=20,\n",
    ")"
   ]
  },
  {
   "cell_type": "code",
   "execution_count": 34,
   "metadata": {
    "execution": {
     "iopub.execute_input": "2024-01-19T14:59:03.108643Z",
     "iopub.status.busy": "2024-01-19T14:59:03.108495Z",
     "iopub.status.idle": "2024-01-19T14:59:03.111830Z",
     "shell.execute_reply": "2024-01-19T14:59:03.111460Z",
     "shell.execute_reply.started": "2024-01-19T14:59:03.108632Z"
    }
   },
   "outputs": [],
   "source": [
    "# shap.plots.beeswarm(explainer.shap_values(X_test))"
   ]
  },
  {
   "cell_type": "code",
   "execution_count": 35,
   "metadata": {
    "execution": {
     "iopub.execute_input": "2024-01-19T14:59:03.112495Z",
     "iopub.status.busy": "2024-01-19T14:59:03.112359Z",
     "iopub.status.idle": "2024-01-19T14:59:04.891421Z",
     "shell.execute_reply": "2024-01-19T14:59:04.890663Z",
     "shell.execute_reply.started": "2024-01-19T14:59:03.112484Z"
    }
   },
   "outputs": [
    {
     "data": {
      "image/png": "[encoded data removed]",
      "text/plain": [
       "<Figure size 800x950 with 1 Axes>"
      ]
     },
     "metadata": {},
     "output_type": "display_data"
    }
   ],
   "source": [
    "shap.summary_plot(\n",
    "    explainer.shap_values(X_test).astype(float),\n",
    "    feature_names=X_test.columns,\n",
    "    # use_log_scale=True,\n",
    ")"
   ]
  },
  {
   "cell_type": "markdown",
   "metadata": {},
   "source": [
    "# Data Drift\n",
    "Pour simuler évolution des commportements utilisateurs dans le temps, on fait l'hypothèse que `app_train` représente les données d'entrainement et `app_test` les données de test.  \n",
    "On applique le même nettoyage à train et test"
   ]
  },
  {
   "cell_type": "code",
   "execution_count": 36,
   "metadata": {
    "execution": {
     "iopub.execute_input": "2024-01-19T14:59:04.891938Z",
     "iopub.status.busy": "2024-01-19T14:59:04.891836Z",
     "iopub.status.idle": "2024-01-19T14:59:05.454511Z",
     "shell.execute_reply": "2024-01-19T14:59:05.453519Z",
     "shell.execute_reply.started": "2024-01-19T14:59:04.891930Z"
    }
   },
   "outputs": [],
   "source": [
    "# Third party\n",
    "from evidently.metric_preset import DataDriftPreset\n",
    "from evidently.report import Report\n",
    "\n",
    "# data_drift_report = Report(\n",
    "#     metrics=[\n",
    "#         DataDriftPreset(),\n",
    "#     ]\n",
    "# )\n",
    "\n",
    "# data_drift_report.run(\n",
    "#     reference_data=app_train.sample(frac=0.05).drop(\"TARGET\", axis=1),\n",
    "#     current_data=app_test.sample(frac=0.05),\n",
    "#     # column_mapping=None,\n",
    "# )\n",
    "\n",
    "# data_drift_report.save_html(\"../reports/data_drift_report.html\")"
   ]
  },
  {
   "cell_type": "code",
   "execution_count": 37,
   "metadata": {
    "execution": {
     "iopub.execute_input": "2024-01-19T14:59:05.455128Z",
     "iopub.status.busy": "2024-01-19T14:59:05.455012Z",
     "iopub.status.idle": "2024-01-19T14:59:05.458139Z",
     "shell.execute_reply": "2024-01-19T14:59:05.457419Z",
     "shell.execute_reply.started": "2024-01-19T14:59:05.455118Z"
    }
   },
   "outputs": [],
   "source": [
    "# ! firefox ../reports/data_drift_report.html"
   ]
  },
  {
   "cell_type": "markdown",
   "metadata": {},
   "source": [
    "# Save trained model"
   ]
  },
  {
   "cell_type": "code",
   "execution_count": 38,
   "metadata": {
    "execution": {
     "iopub.execute_input": "2024-01-19T14:59:05.459206Z",
     "iopub.status.busy": "2024-01-19T14:59:05.458751Z",
     "iopub.status.idle": "2024-01-19T14:59:05.464883Z",
     "shell.execute_reply": "2024-01-19T14:59:05.464553Z",
     "shell.execute_reply.started": "2024-01-19T14:59:05.459197Z"
    }
   },
   "outputs": [],
   "source": [
    "# Standard\n",
    "import pickle\n",
    "\n",
    "with open(\"../models/model.pkl\", \"wb\") as f:\n",
    "    pickle.dump(grid.best_estimator_, f)\n",
    "with open(\"../models/shap_explainer.pkl\", \"wb\") as f:\n",
    "    pickle.dump(explainer, f)\n",
    "\n",
    "f.close()"
   ]
  },
  {
   "cell_type": "code",
   "execution_count": 39,
   "metadata": {
    "execution": {
     "iopub.execute_input": "2024-01-19T14:59:05.465351Z",
     "iopub.status.busy": "2024-01-19T14:59:05.465238Z",
     "iopub.status.idle": "2024-01-19T14:59:05.470879Z",
     "shell.execute_reply": "2024-01-19T14:59:05.470530Z",
     "shell.execute_reply.started": "2024-01-19T14:59:05.465337Z"
    }
   },
   "outputs": [
    {
     "data": {
      "text/plain": [
       "array([[0.59076465, 0.40923535]])"
      ]
     },
     "execution_count": 39,
     "metadata": {},
     "output_type": "execute_result"
    }
   ],
   "source": [
    "grid.best_estimator_.predict_proba(pd.DataFrame(X_test.iloc[0, :]).T)"
   ]
  }
 ],
 "metadata": {
  "kernelspec": {
   "display_name": "Python 3 (ipykernel)",
   "language": "python",
   "name": "python3"
  },
  "language_info": {
   "codemirror_mode": {
    "name": "ipython",
    "version": 3
   },
   "file_extension": ".py",
   "mimetype": "text/x-python",
   "name": "python",
   "nbconvert_exporter": "python",
   "pygments_lexer": "ipython3",
   "version": "3.11.5"
  }
 },
 "nbformat": 4,
 "nbformat_minor": 4
}
