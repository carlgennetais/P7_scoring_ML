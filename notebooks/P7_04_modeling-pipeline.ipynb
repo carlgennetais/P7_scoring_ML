{
 "cells": [
  {
   "cell_type": "markdown",
   "metadata": {},
   "source": [
    "# Import"
   ]
  },
  {
   "cell_type": "code",
   "execution_count": 1,
   "metadata": {
    "editable": true,
    "execution": {
     "iopub.execute_input": "2024-03-03T17:46:19.142169Z",
     "iopub.status.busy": "2024-03-03T17:46:19.141997Z",
     "iopub.status.idle": "2024-03-03T17:46:21.894880Z",
     "shell.execute_reply": "2024-03-03T17:46:21.894112Z",
     "shell.execute_reply.started": "2024-03-03T17:46:19.142150Z"
    },
    "slideshow": {
     "slide_type": ""
    },
    "tags": []
   },
   "outputs": [],
   "source": [
    "# Graphics\n",
    "import matplotlib.pyplot as plt\n",
    "\n",
    "# Pandas & ML\n",
    "import numpy as np\n",
    "import pandas as pd\n",
    "import seaborn as sns\n",
    "\n",
    "sns.set()\n",
    "\n",
    "# Third party\n",
    "import mlflow\n",
    "import shap\n",
    "\n",
    "# from sklearn.pipeline import Pipeline\n",
    "from imblearn.pipeline import Pipeline\n",
    "from imblearn.under_sampling import RandomUnderSampler\n",
    "from mlflow.models import infer_signature\n",
    "\n",
    "# Pandas & ML\n",
    "from sklearn import metrics\n",
    "from sklearn.impute import SimpleImputer\n",
    "from sklearn.linear_model import LogisticRegression\n",
    "from sklearn.model_selection import GridSearchCV, train_test_split\n",
    "from sklearn.preprocessing import FunctionTransformer, MinMaxScaler, StandardScaler"
   ]
  },
  {
   "cell_type": "code",
   "execution_count": 112,
   "metadata": {
    "execution": {
     "iopub.execute_input": "2024-03-03T18:54:37.283523Z",
     "iopub.status.busy": "2024-03-03T18:54:37.283228Z",
     "iopub.status.idle": "2024-03-03T18:54:37.287754Z",
     "shell.execute_reply": "2024-03-03T18:54:37.287044Z",
     "shell.execute_reply.started": "2024-03-03T18:54:37.283500Z"
    }
   },
   "outputs": [],
   "source": [
    "from sklearn.ensemble import RandomForestClassifier"
   ]
  },
  {
   "cell_type": "markdown",
   "metadata": {},
   "source": [
    "# Split train/test\n",
    "To keep some test data not seen by gridsearch"
   ]
  },
  {
   "cell_type": "code",
   "execution_count": 2,
   "metadata": {
    "execution": {
     "iopub.execute_input": "2024-03-03T17:46:21.896534Z",
     "iopub.status.busy": "2024-03-03T17:46:21.895957Z",
     "iopub.status.idle": "2024-03-03T17:46:22.501976Z",
     "shell.execute_reply": "2024-03-03T17:46:22.500394Z",
     "shell.execute_reply.started": "2024-03-03T17:46:21.896505Z"
    }
   },
   "outputs": [],
   "source": [
    "# load cleaned data\n",
    "app_train = pd.read_pickle(\"../data/processed/app_train_cleaned.pkl\").set_index(\n",
    "    \"SK_ID_CURR\"\n",
    ")"
   ]
  },
  {
   "cell_type": "code",
   "execution_count": 3,
   "metadata": {
    "execution": {
     "iopub.execute_input": "2024-03-03T17:46:22.503807Z",
     "iopub.status.busy": "2024-03-03T17:46:22.503475Z",
     "iopub.status.idle": "2024-03-03T17:46:22.527804Z",
     "shell.execute_reply": "2024-03-03T17:46:22.526632Z",
     "shell.execute_reply.started": "2024-03-03T17:46:22.503780Z"
    }
   },
   "outputs": [
    {
     "name": "stdout",
     "output_type": "stream",
     "text": [
      "<class 'pandas.core.frame.DataFrame'>\n",
      "Index: 307511 entries, 100002 to 456255\n",
      "Columns: 245 entries, NAME_CONTRACT_TYPE to FE_PAYMENT_RATE\n",
      "dtypes: bool(132), float64(71), int64(42)\n",
      "memory usage: 306.2 MB\n"
     ]
    }
   ],
   "source": [
    "app_train.info()"
   ]
  },
  {
   "cell_type": "code",
   "execution_count": 4,
   "metadata": {
    "execution": {
     "iopub.execute_input": "2024-03-03T17:46:22.528966Z",
     "iopub.status.busy": "2024-03-03T17:46:22.528723Z",
     "iopub.status.idle": "2024-03-03T17:46:23.071938Z",
     "shell.execute_reply": "2024-03-03T17:46:23.070272Z",
     "shell.execute_reply.started": "2024-03-03T17:46:22.528942Z"
    }
   },
   "outputs": [],
   "source": [
    "X_train, X_test, y_train, y_test = train_test_split(\n",
    "    app_train.drop(\"TARGET\", axis=1), app_train.TARGET, test_size=0.15\n",
    ")"
   ]
  },
  {
   "cell_type": "markdown",
   "metadata": {},
   "source": [
    "# Profits and Loss function"
   ]
  },
  {
   "cell_type": "code",
   "execution_count": 5,
   "metadata": {
    "execution": {
     "iopub.execute_input": "2024-03-03T17:46:23.074047Z",
     "iopub.status.busy": "2024-03-03T17:46:23.073639Z",
     "iopub.status.idle": "2024-03-03T17:46:23.081885Z",
     "shell.execute_reply": "2024-03-03T17:46:23.080717Z",
     "shell.execute_reply.started": "2024-03-03T17:46:23.074009Z"
    },
    "jupyter": {
     "source_hidden": true
    }
   },
   "outputs": [],
   "source": [
    "def human_format(num: float | int) -> str:\n",
    "    \"\"\"\n",
    "    Format a big number in a human readable way with dollar sign and SI prefixes (k,m,M etc)\n",
    "\n",
    "    Parameters\n",
    "    ----------\n",
    "    num: float | int\n",
    "        Raw number\n",
    "\n",
    "    Returns\n",
    "    -------\n",
    "    str:\n",
    "        Human readable number as a string\n",
    "    \"\"\"\n",
    "    num = float(\"{:.3g}\".format(num))\n",
    "    magnitude = 0\n",
    "    while abs(num) >= 1000:\n",
    "        magnitude += 1\n",
    "        num /= 1000.0\n",
    "    return \"{}{}\".format(\n",
    "        \"${:f}\".format(num).rstrip(\"0\").rstrip(\".\"), [\"\", \"K\", \"M\", \"B\", \"T\"][magnitude]\n",
    "    )"
   ]
  },
  {
   "cell_type": "code",
   "execution_count": 88,
   "metadata": {
    "editable": true,
    "execution": {
     "iopub.execute_input": "2024-03-03T18:29:47.967769Z",
     "iopub.status.busy": "2024-03-03T18:29:47.967467Z",
     "iopub.status.idle": "2024-03-03T18:29:48.292403Z",
     "shell.execute_reply": "2024-03-03T18:29:48.291739Z",
     "shell.execute_reply.started": "2024-03-03T18:29:47.967747Z"
    },
    "slideshow": {
     "slide_type": ""
    },
    "tags": []
   },
   "outputs": [],
   "source": [
    "# compute mean ratio of value of goods, and amount loaned for buying this goods\n",
    "GOODS_CREDIT_RATIO = (\n",
    "    app_train[app_train[\"AMT_GOODS_PRICE\"].notna()].AMT_GOODS_PRICE\n",
    "    / app_train[app_train[\"AMT_GOODS_PRICE\"].notna()].AMT_CREDIT\n",
    ").mean()\n",
    "\n",
    "\n",
    "def pnl(\n",
    "    y_true: \"ndarray\",\n",
    "    y_pred: \"ndarray\",\n",
    "    interest: \"float\" = 0.04,\n",
    "    goods_recover_rate: \"float\" = 0.30,\n",
    "    normalize: \"bool\" = True,\n",
    "):\n",
    "    \"\"\"\n",
    "    Naive estimation of gains and losses for the bank\n",
    "    if loans are granted according to model predictions.\n",
    "\n",
    "    Parameters\n",
    "    ----------\n",
    "    y_true: ndarray\n",
    "        Numpy array of true classes\n",
    "    y_pred: ndarray\n",
    "        Numpy array of predictions given by a model (0 or 1)\n",
    "    interest: float, default 0.04\n",
    "        Interest rate on credit amount the bank charges when loan is correctly repayed.\n",
    "        Because this value was not provided in the dataset, we'll use current market tendencies.\n",
    "    goods_recover_rate: float, default 0.60\n",
    "        Rate of monetary value recovered on goods seized by the bank for customers that can't repay their loan.\n",
    "    normalize: True | False, default: True\n",
    "        If False, returns total gains in dollars for the bank.\n",
    "        If True (default), returns a 0 to 1 ratio where 1 corresponds to the maximum\n",
    "        gain possible if all predictions are true (if y_pred == y_true)\n",
    "\n",
    "    Returns\n",
    "    -------\n",
    "    float:\n",
    "        Total sum of gains and losses for the bank\n",
    "    \"\"\"\n",
    "    # TODO: X en param\n",
    "    # df.apply(bank_revenue)\n",
    "    # y_proba\n",
    "    credit = app_train.loc[X_test.index, \"AMT_CREDIT\"]\n",
    "    # when goods value is missing, use 90% of credit amount\n",
    "    seized_goods = (\n",
    "        np.where(\n",
    "            app_train.loc[X_test.index, \"AMT_GOODS_PRICE\"].notna(),\n",
    "            app_train.loc[X_test.index, \"AMT_GOODS_PRICE\"],\n",
    "            app_train.loc[X_test.index, \"AMT_CREDIT\"] * GOODS_CREDIT_RATIO,\n",
    "        )\n",
    "        * goods_recover_rate\n",
    "    )\n",
    "    bank_revenue = pd.Series(np.nan)\n",
    "    # TP: loan correctly denied = no loss, no gain\n",
    "    bank_revenue = np.where((y_pred == 1) & (y_true == 1), 0, bank_revenue)\n",
    "    # FP: loan incorreclty denied: loss of interest\n",
    "    bank_revenue = np.where(\n",
    "        (y_pred == 1) & (y_true == 0),\n",
    "        -credit * interest,\n",
    "        bank_revenue,\n",
    "    )\n",
    "    # TN: loan correcly granted: gain of interest\n",
    "    bank_revenue = np.where(\n",
    "        (y_pred == 0) & (y_true == 0),\n",
    "        credit * interest,\n",
    "        bank_revenue,\n",
    "    )\n",
    "    # FN: loan incorrectly granted: loan amount is lost, customer goods are seized and sold\n",
    "    bank_revenue = np.where(\n",
    "        (y_pred == 0) & (y_true == 1),\n",
    "        -credit + seized_goods,\n",
    "        bank_revenue,\n",
    "    )\n",
    "    if normalize:\n",
    "        return bank_revenue.sum() / pnl(\n",
    "            y_true, y_true, interest, goods_recover_rate, normalize=False\n",
    "        )\n",
    "    else:\n",
    "        return bank_revenue.sum()"
   ]
  },
  {
   "cell_type": "markdown",
   "metadata": {
    "jp-MarkdownHeadingCollapsed": true
   },
   "source": [
    "### Create customer scorer from custom pnl function"
   ]
  },
  {
   "cell_type": "code",
   "execution_count": 7,
   "metadata": {
    "execution": {
     "iopub.execute_input": "2024-03-03T17:46:38.541038Z",
     "iopub.status.busy": "2024-03-03T17:46:38.540799Z",
     "iopub.status.idle": "2024-03-03T17:46:38.544898Z",
     "shell.execute_reply": "2024-03-03T17:46:38.544159Z",
     "shell.execute_reply.started": "2024-03-03T17:46:38.541021Z"
    }
   },
   "outputs": [],
   "source": [
    "from sklearn.metrics._scorer import make_scorer"
   ]
  },
  {
   "cell_type": "code",
   "execution_count": 8,
   "metadata": {
    "execution": {
     "iopub.execute_input": "2024-03-03T17:46:38.718644Z",
     "iopub.status.busy": "2024-03-03T17:46:38.718302Z",
     "iopub.status.idle": "2024-03-03T17:46:38.723935Z",
     "shell.execute_reply": "2024-03-03T17:46:38.723138Z",
     "shell.execute_reply.started": "2024-03-03T17:46:38.718619Z"
    }
   },
   "outputs": [],
   "source": [
    "pnl_scorer = make_scorer(pnl, greater_is_better=True)"
   ]
  },
  {
   "cell_type": "markdown",
   "metadata": {
    "jp-MarkdownHeadingCollapsed": true
   },
   "source": [
    "# Naive undersampler to fix target imbalance"
   ]
  },
  {
   "cell_type": "code",
   "execution_count": 113,
   "metadata": {
    "execution": {
     "iopub.execute_input": "2024-03-02T18:24:40.525661Z",
     "iopub.status.busy": "2024-03-02T18:24:40.524624Z",
     "iopub.status.idle": "2024-03-02T18:24:40.529559Z",
     "shell.execute_reply": "2024-03-02T18:24:40.529002Z",
     "shell.execute_reply.started": "2024-03-02T18:24:40.525631Z"
    }
   },
   "outputs": [],
   "source": [
    "# def NaiveUnderSampler(df):\n",
    "#     # find the minority class\n",
    "#     min_class = df.TARGET.value_counts().idxmin()\n",
    "#     # keep same number of majority class than minority\n",
    "#     target_minority_count = df[df.TARGET == min_class].shape[0]\n",
    "#     df_balanced = pd.concat(\n",
    "#         [\n",
    "#             df[df.TARGET == min_class].sample(target_minority_count),\n",
    "#             df[df.TARGET != min_class].sample(target_minority_count),\n",
    "#         ]\n",
    "#     )\n",
    "#     # shuffle rows\n",
    "#     return df_balanced.sample(frac=1)"
   ]
  },
  {
   "cell_type": "code",
   "execution_count": 9,
   "metadata": {
    "execution": {
     "iopub.execute_input": "2024-03-03T17:46:41.932720Z",
     "iopub.status.busy": "2024-03-03T17:46:41.932422Z",
     "iopub.status.idle": "2024-03-03T17:46:41.938808Z",
     "shell.execute_reply": "2024-03-03T17:46:41.937683Z",
     "shell.execute_reply.started": "2024-03-03T17:46:41.932698Z"
    }
   },
   "outputs": [],
   "source": [
    "def NaiveUnderSampler(X, y):\n",
    "    # TODO: docstring\n",
    "    # find the minority class\n",
    "    min_class = y.value_counts().idxmin()\n",
    "    # keep same number of majority class than minority\n",
    "    target_minority_count = y[y == min_class].shape[0]\n",
    "    df_balanced = pd.concat(\n",
    "        [\n",
    "            X[y == min_class].sample(target_minority_count),\n",
    "            X[y != min_class].sample(target_minority_count),\n",
    "        ]\n",
    "    )\n",
    "    # shuffle rows\n",
    "    return df_balanced.sample(frac=1)"
   ]
  },
  {
   "cell_type": "code",
   "execution_count": 10,
   "metadata": {
    "execution": {
     "iopub.execute_input": "2024-03-03T17:46:42.082548Z",
     "iopub.status.busy": "2024-03-03T17:46:42.082264Z",
     "iopub.status.idle": "2024-03-03T17:46:42.087386Z",
     "shell.execute_reply": "2024-03-03T17:46:42.086349Z",
     "shell.execute_reply.started": "2024-03-03T17:46:42.082529Z"
    }
   },
   "outputs": [],
   "source": [
    "# create transformer with fit methods from my function\n",
    "NaiveUnderSamplerTf = FunctionTransformer(NaiveUnderSampler)"
   ]
  },
  {
   "cell_type": "code",
   "execution_count": 131,
   "metadata": {
    "execution": {
     "iopub.execute_input": "2024-03-02T18:29:54.331293Z",
     "iopub.status.busy": "2024-03-02T18:29:54.330917Z",
     "iopub.status.idle": "2024-03-02T18:29:54.333086Z",
     "shell.execute_reply": "2024-03-02T18:29:54.332693Z",
     "shell.execute_reply.started": "2024-03-02T18:29:54.331280Z"
    }
   },
   "outputs": [],
   "source": [
    "# test naive imbalance fixer\n",
    "# app_train.pipe(NaiveUnderSampler).TARGET.value_counts()"
   ]
  },
  {
   "cell_type": "markdown",
   "metadata": {},
   "source": [
    "# Pipeline"
   ]
  },
  {
   "cell_type": "code",
   "execution_count": 12,
   "metadata": {
    "execution": {
     "iopub.execute_input": "2024-03-02T17:03:12.294950Z",
     "iopub.status.busy": "2024-03-02T17:03:12.294832Z",
     "iopub.status.idle": "2024-03-02T17:03:12.297170Z",
     "shell.execute_reply": "2024-03-02T17:03:12.296742Z",
     "shell.execute_reply.started": "2024-03-02T17:03:12.294941Z"
    }
   },
   "outputs": [],
   "source": [
    "# separate target\n",
    "# X, y = app_train.drop(\"TARGET\", axis=1), app_train.TARGET\n",
    "# print(X.shape)\n",
    "# print(y.shape)"
   ]
  },
  {
   "cell_type": "code",
   "execution_count": 11,
   "metadata": {
    "execution": {
     "iopub.execute_input": "2024-03-03T17:46:46.405149Z",
     "iopub.status.busy": "2024-03-03T17:46:46.404871Z",
     "iopub.status.idle": "2024-03-03T17:46:46.419219Z",
     "shell.execute_reply": "2024-03-03T17:46:46.418211Z",
     "shell.execute_reply.started": "2024-03-03T17:46:46.405130Z"
    }
   },
   "outputs": [
    {
     "data": {
      "text/html": [
       "<style>#sk-container-id-1 {color: black;background-color: white;}#sk-container-id-1 pre{padding: 0;}#sk-container-id-1 div.sk-toggleable {background-color: white;}#sk-container-id-1 label.sk-toggleable__label {cursor: pointer;display: block;width: 100%;margin-bottom: 0;padding: 0.3em;box-sizing: border-box;text-align: center;}#sk-container-id-1 label.sk-toggleable__label-arrow:before {content: \"▸\";float: left;margin-right: 0.25em;color: #696969;}#sk-container-id-1 label.sk-toggleable__label-arrow:hover:before {color: black;}#sk-container-id-1 div.sk-estimator:hover label.sk-toggleable__label-arrow:before {color: black;}#sk-container-id-1 div.sk-toggleable__content {max-height: 0;max-width: 0;overflow: hidden;text-align: left;background-color: #f0f8ff;}#sk-container-id-1 div.sk-toggleable__content pre {margin: 0.2em;color: black;border-radius: 0.25em;background-color: #f0f8ff;}#sk-container-id-1 input.sk-toggleable__control:checked~div.sk-toggleable__content {max-height: 200px;max-width: 100%;overflow: auto;}#sk-container-id-1 input.sk-toggleable__control:checked~label.sk-toggleable__label-arrow:before {content: \"▾\";}#sk-container-id-1 div.sk-estimator input.sk-toggleable__control:checked~label.sk-toggleable__label {background-color: #d4ebff;}#sk-container-id-1 div.sk-label input.sk-toggleable__control:checked~label.sk-toggleable__label {background-color: #d4ebff;}#sk-container-id-1 input.sk-hidden--visually {border: 0;clip: rect(1px 1px 1px 1px);clip: rect(1px, 1px, 1px, 1px);height: 1px;margin: -1px;overflow: hidden;padding: 0;position: absolute;width: 1px;}#sk-container-id-1 div.sk-estimator {font-family: monospace;background-color: #f0f8ff;border: 1px dotted black;border-radius: 0.25em;box-sizing: border-box;margin-bottom: 0.5em;}#sk-container-id-1 div.sk-estimator:hover {background-color: #d4ebff;}#sk-container-id-1 div.sk-parallel-item::after {content: \"\";width: 100%;border-bottom: 1px solid gray;flex-grow: 1;}#sk-container-id-1 div.sk-label:hover label.sk-toggleable__label {background-color: #d4ebff;}#sk-container-id-1 div.sk-serial::before {content: \"\";position: absolute;border-left: 1px solid gray;box-sizing: border-box;top: 0;bottom: 0;left: 50%;z-index: 0;}#sk-container-id-1 div.sk-serial {display: flex;flex-direction: column;align-items: center;background-color: white;padding-right: 0.2em;padding-left: 0.2em;position: relative;}#sk-container-id-1 div.sk-item {position: relative;z-index: 1;}#sk-container-id-1 div.sk-parallel {display: flex;align-items: stretch;justify-content: center;background-color: white;position: relative;}#sk-container-id-1 div.sk-item::before, #sk-container-id-1 div.sk-parallel-item::before {content: \"\";position: absolute;border-left: 1px solid gray;box-sizing: border-box;top: 0;bottom: 0;left: 50%;z-index: -1;}#sk-container-id-1 div.sk-parallel-item {display: flex;flex-direction: column;z-index: 1;position: relative;background-color: white;}#sk-container-id-1 div.sk-parallel-item:first-child::after {align-self: flex-end;width: 50%;}#sk-container-id-1 div.sk-parallel-item:last-child::after {align-self: flex-start;width: 50%;}#sk-container-id-1 div.sk-parallel-item:only-child::after {width: 0;}#sk-container-id-1 div.sk-dashed-wrapped {border: 1px dashed gray;margin: 0 0.4em 0.5em 0.4em;box-sizing: border-box;padding-bottom: 0.4em;background-color: white;}#sk-container-id-1 div.sk-label label {font-family: monospace;font-weight: bold;display: inline-block;line-height: 1.2em;}#sk-container-id-1 div.sk-label-container {text-align: center;}#sk-container-id-1 div.sk-container {/* jupyter's `normalize.less` sets `[hidden] { display: none; }` but bootstrap.min.css set `[hidden] { display: none !important; }` so we also need the `!important` here to be able to override the default hidden behavior on the sphinx rendered scikit-learn.org. See: https://github.com/scikit-learn/scikit-learn/issues/21755 */display: inline-block !important;position: relative;}#sk-container-id-1 div.sk-text-repr-fallback {display: none;}</style><div id=\"sk-container-id-1\" class=\"sk-top-container\"><div class=\"sk-text-repr-fallback\"><pre>Pipeline(steps=[(&#x27;sampler&#x27;, RandomUnderSampler()), (&#x27;imputer&#x27;, SimpleImputer()),\n",
       "                (&#x27;scaler&#x27;, MinMaxScaler()),\n",
       "                (&#x27;classifier&#x27;, LogisticRegression(max_iter=500))])</pre><b>In a Jupyter environment, please rerun this cell to show the HTML representation or trust the notebook. <br />On GitHub, the HTML representation is unable to render, please try loading this page with nbviewer.org.</b></div><div class=\"sk-container\" hidden><div class=\"sk-item sk-dashed-wrapped\"><div class=\"sk-label-container\"><div class=\"sk-label sk-toggleable\"><input class=\"sk-toggleable__control sk-hidden--visually\" id=\"sk-estimator-id-1\" type=\"checkbox\" ><label for=\"sk-estimator-id-1\" class=\"sk-toggleable__label sk-toggleable__label-arrow\">Pipeline</label><div class=\"sk-toggleable__content\"><pre>Pipeline(steps=[(&#x27;sampler&#x27;, RandomUnderSampler()), (&#x27;imputer&#x27;, SimpleImputer()),\n",
       "                (&#x27;scaler&#x27;, MinMaxScaler()),\n",
       "                (&#x27;classifier&#x27;, LogisticRegression(max_iter=500))])</pre></div></div></div><div class=\"sk-serial\"><div class=\"sk-item\"><div class=\"sk-estimator sk-toggleable\"><input class=\"sk-toggleable__control sk-hidden--visually\" id=\"sk-estimator-id-2\" type=\"checkbox\" ><label for=\"sk-estimator-id-2\" class=\"sk-toggleable__label sk-toggleable__label-arrow\">RandomUnderSampler</label><div class=\"sk-toggleable__content\"><pre>RandomUnderSampler()</pre></div></div></div><div class=\"sk-item\"><div class=\"sk-estimator sk-toggleable\"><input class=\"sk-toggleable__control sk-hidden--visually\" id=\"sk-estimator-id-3\" type=\"checkbox\" ><label for=\"sk-estimator-id-3\" class=\"sk-toggleable__label sk-toggleable__label-arrow\">SimpleImputer</label><div class=\"sk-toggleable__content\"><pre>SimpleImputer()</pre></div></div></div><div class=\"sk-item\"><div class=\"sk-estimator sk-toggleable\"><input class=\"sk-toggleable__control sk-hidden--visually\" id=\"sk-estimator-id-4\" type=\"checkbox\" ><label for=\"sk-estimator-id-4\" class=\"sk-toggleable__label sk-toggleable__label-arrow\">MinMaxScaler</label><div class=\"sk-toggleable__content\"><pre>MinMaxScaler()</pre></div></div></div><div class=\"sk-item\"><div class=\"sk-estimator sk-toggleable\"><input class=\"sk-toggleable__control sk-hidden--visually\" id=\"sk-estimator-id-5\" type=\"checkbox\" ><label for=\"sk-estimator-id-5\" class=\"sk-toggleable__label sk-toggleable__label-arrow\">LogisticRegression</label><div class=\"sk-toggleable__content\"><pre>LogisticRegression(max_iter=500)</pre></div></div></div></div></div></div></div>"
      ],
      "text/plain": [
       "Pipeline(steps=[('sampler', RandomUnderSampler()), ('imputer', SimpleImputer()),\n",
       "                ('scaler', MinMaxScaler()),\n",
       "                ('classifier', LogisticRegression(max_iter=500))])"
      ]
     },
     "execution_count": 11,
     "metadata": {},
     "output_type": "execute_result"
    }
   ],
   "source": [
    "model_params = {\"max_iter\": 500}\n",
    "pipe = Pipeline(\n",
    "    [\n",
    "        (\"sampler\", RandomUnderSampler()),\n",
    "        (\"imputer\", SimpleImputer()),\n",
    "        (\"scaler\", MinMaxScaler()),\n",
    "        (\"classifier\", LogisticRegression(**model_params)),\n",
    "    ]\n",
    ")\n",
    "pipe"
   ]
  },
  {
   "cell_type": "code",
   "execution_count": 113,
   "metadata": {
    "execution": {
     "iopub.execute_input": "2024-03-03T18:54:51.270839Z",
     "iopub.status.busy": "2024-03-03T18:54:51.270581Z",
     "iopub.status.idle": "2024-03-03T18:54:51.278235Z",
     "shell.execute_reply": "2024-03-03T18:54:51.277127Z",
     "shell.execute_reply.started": "2024-03-03T18:54:51.270821Z"
    },
    "scrolled": true
   },
   "outputs": [
    {
     "data": {
      "text/plain": [
       "\u001b[0;31mInit signature:\u001b[0m\n",
       "\u001b[0mRandomForestClassifier\u001b[0m\u001b[0;34m(\u001b[0m\u001b[0;34m\u001b[0m\n",
       "\u001b[0;34m\u001b[0m    \u001b[0mn_estimators\u001b[0m\u001b[0;34m=\u001b[0m\u001b[0;36m100\u001b[0m\u001b[0;34m,\u001b[0m\u001b[0;34m\u001b[0m\n",
       "\u001b[0;34m\u001b[0m    \u001b[0;34m*\u001b[0m\u001b[0;34m,\u001b[0m\u001b[0;34m\u001b[0m\n",
       "\u001b[0;34m\u001b[0m    \u001b[0mcriterion\u001b[0m\u001b[0;34m=\u001b[0m\u001b[0;34m'gini'\u001b[0m\u001b[0;34m,\u001b[0m\u001b[0;34m\u001b[0m\n",
       "\u001b[0;34m\u001b[0m    \u001b[0mmax_depth\u001b[0m\u001b[0;34m=\u001b[0m\u001b[0;32mNone\u001b[0m\u001b[0;34m,\u001b[0m\u001b[0;34m\u001b[0m\n",
       "\u001b[0;34m\u001b[0m    \u001b[0mmin_samples_split\u001b[0m\u001b[0;34m=\u001b[0m\u001b[0;36m2\u001b[0m\u001b[0;34m,\u001b[0m\u001b[0;34m\u001b[0m\n",
       "\u001b[0;34m\u001b[0m    \u001b[0mmin_samples_leaf\u001b[0m\u001b[0;34m=\u001b[0m\u001b[0;36m1\u001b[0m\u001b[0;34m,\u001b[0m\u001b[0;34m\u001b[0m\n",
       "\u001b[0;34m\u001b[0m    \u001b[0mmin_weight_fraction_leaf\u001b[0m\u001b[0;34m=\u001b[0m\u001b[0;36m0.0\u001b[0m\u001b[0;34m,\u001b[0m\u001b[0;34m\u001b[0m\n",
       "\u001b[0;34m\u001b[0m    \u001b[0mmax_features\u001b[0m\u001b[0;34m=\u001b[0m\u001b[0;34m'sqrt'\u001b[0m\u001b[0;34m,\u001b[0m\u001b[0;34m\u001b[0m\n",
       "\u001b[0;34m\u001b[0m    \u001b[0mmax_leaf_nodes\u001b[0m\u001b[0;34m=\u001b[0m\u001b[0;32mNone\u001b[0m\u001b[0;34m,\u001b[0m\u001b[0;34m\u001b[0m\n",
       "\u001b[0;34m\u001b[0m    \u001b[0mmin_impurity_decrease\u001b[0m\u001b[0;34m=\u001b[0m\u001b[0;36m0.0\u001b[0m\u001b[0;34m,\u001b[0m\u001b[0;34m\u001b[0m\n",
       "\u001b[0;34m\u001b[0m    \u001b[0mbootstrap\u001b[0m\u001b[0;34m=\u001b[0m\u001b[0;32mTrue\u001b[0m\u001b[0;34m,\u001b[0m\u001b[0;34m\u001b[0m\n",
       "\u001b[0;34m\u001b[0m    \u001b[0moob_score\u001b[0m\u001b[0;34m=\u001b[0m\u001b[0;32mFalse\u001b[0m\u001b[0;34m,\u001b[0m\u001b[0;34m\u001b[0m\n",
       "\u001b[0;34m\u001b[0m    \u001b[0mn_jobs\u001b[0m\u001b[0;34m=\u001b[0m\u001b[0;32mNone\u001b[0m\u001b[0;34m,\u001b[0m\u001b[0;34m\u001b[0m\n",
       "\u001b[0;34m\u001b[0m    \u001b[0mrandom_state\u001b[0m\u001b[0;34m=\u001b[0m\u001b[0;32mNone\u001b[0m\u001b[0;34m,\u001b[0m\u001b[0;34m\u001b[0m\n",
       "\u001b[0;34m\u001b[0m    \u001b[0mverbose\u001b[0m\u001b[0;34m=\u001b[0m\u001b[0;36m0\u001b[0m\u001b[0;34m,\u001b[0m\u001b[0;34m\u001b[0m\n",
       "\u001b[0;34m\u001b[0m    \u001b[0mwarm_start\u001b[0m\u001b[0;34m=\u001b[0m\u001b[0;32mFalse\u001b[0m\u001b[0;34m,\u001b[0m\u001b[0;34m\u001b[0m\n",
       "\u001b[0;34m\u001b[0m    \u001b[0mclass_weight\u001b[0m\u001b[0;34m=\u001b[0m\u001b[0;32mNone\u001b[0m\u001b[0;34m,\u001b[0m\u001b[0;34m\u001b[0m\n",
       "\u001b[0;34m\u001b[0m    \u001b[0mccp_alpha\u001b[0m\u001b[0;34m=\u001b[0m\u001b[0;36m0.0\u001b[0m\u001b[0;34m,\u001b[0m\u001b[0;34m\u001b[0m\n",
       "\u001b[0;34m\u001b[0m    \u001b[0mmax_samples\u001b[0m\u001b[0;34m=\u001b[0m\u001b[0;32mNone\u001b[0m\u001b[0;34m,\u001b[0m\u001b[0;34m\u001b[0m\n",
       "\u001b[0;34m\u001b[0m\u001b[0;34m)\u001b[0m\u001b[0;34m\u001b[0m\u001b[0;34m\u001b[0m\u001b[0m\n",
       "\u001b[0;31mDocstring:\u001b[0m     \n",
       "A random forest classifier.\n",
       "\n",
       "A random forest is a meta estimator that fits a number of decision tree\n",
       "classifiers on various sub-samples of the dataset and uses averaging to\n",
       "improve the predictive accuracy and control over-fitting.\n",
       "The sub-sample size is controlled with the `max_samples` parameter if\n",
       "`bootstrap=True` (default), otherwise the whole dataset is used to build\n",
       "each tree.\n",
       "\n",
       "Read more in the :ref:`User Guide <forest>`.\n",
       "\n",
       "Parameters\n",
       "----------\n",
       "n_estimators : int, default=100\n",
       "    The number of trees in the forest.\n",
       "\n",
       "    .. versionchanged:: 0.22\n",
       "       The default value of ``n_estimators`` changed from 10 to 100\n",
       "       in 0.22.\n",
       "\n",
       "criterion : {\"gini\", \"entropy\", \"log_loss\"}, default=\"gini\"\n",
       "    The function to measure the quality of a split. Supported criteria are\n",
       "    \"gini\" for the Gini impurity and \"log_loss\" and \"entropy\" both for the\n",
       "    Shannon information gain, see :ref:`tree_mathematical_formulation`.\n",
       "    Note: This parameter is tree-specific.\n",
       "\n",
       "max_depth : int, default=None\n",
       "    The maximum depth of the tree. If None, then nodes are expanded until\n",
       "    all leaves are pure or until all leaves contain less than\n",
       "    min_samples_split samples.\n",
       "\n",
       "min_samples_split : int or float, default=2\n",
       "    The minimum number of samples required to split an internal node:\n",
       "\n",
       "    - If int, then consider `min_samples_split` as the minimum number.\n",
       "    - If float, then `min_samples_split` is a fraction and\n",
       "      `ceil(min_samples_split * n_samples)` are the minimum\n",
       "      number of samples for each split.\n",
       "\n",
       "    .. versionchanged:: 0.18\n",
       "       Added float values for fractions.\n",
       "\n",
       "min_samples_leaf : int or float, default=1\n",
       "    The minimum number of samples required to be at a leaf node.\n",
       "    A split point at any depth will only be considered if it leaves at\n",
       "    least ``min_samples_leaf`` training samples in each of the left and\n",
       "    right branches.  This may have the effect of smoothing the model,\n",
       "    especially in regression.\n",
       "\n",
       "    - If int, then consider `min_samples_leaf` as the minimum number.\n",
       "    - If float, then `min_samples_leaf` is a fraction and\n",
       "      `ceil(min_samples_leaf * n_samples)` are the minimum\n",
       "      number of samples for each node.\n",
       "\n",
       "    .. versionchanged:: 0.18\n",
       "       Added float values for fractions.\n",
       "\n",
       "min_weight_fraction_leaf : float, default=0.0\n",
       "    The minimum weighted fraction of the sum total of weights (of all\n",
       "    the input samples) required to be at a leaf node. Samples have\n",
       "    equal weight when sample_weight is not provided.\n",
       "\n",
       "max_features : {\"sqrt\", \"log2\", None}, int or float, default=\"sqrt\"\n",
       "    The number of features to consider when looking for the best split:\n",
       "\n",
       "    - If int, then consider `max_features` features at each split.\n",
       "    - If float, then `max_features` is a fraction and\n",
       "      `max(1, int(max_features * n_features_in_))` features are considered at each\n",
       "      split.\n",
       "    - If \"auto\", then `max_features=sqrt(n_features)`.\n",
       "    - If \"sqrt\", then `max_features=sqrt(n_features)`.\n",
       "    - If \"log2\", then `max_features=log2(n_features)`.\n",
       "    - If None, then `max_features=n_features`.\n",
       "\n",
       "    .. versionchanged:: 1.1\n",
       "        The default of `max_features` changed from `\"auto\"` to `\"sqrt\"`.\n",
       "\n",
       "    .. deprecated:: 1.1\n",
       "        The `\"auto\"` option was deprecated in 1.1 and will be removed\n",
       "        in 1.3.\n",
       "\n",
       "    Note: the search for a split does not stop until at least one\n",
       "    valid partition of the node samples is found, even if it requires to\n",
       "    effectively inspect more than ``max_features`` features.\n",
       "\n",
       "max_leaf_nodes : int, default=None\n",
       "    Grow trees with ``max_leaf_nodes`` in best-first fashion.\n",
       "    Best nodes are defined as relative reduction in impurity.\n",
       "    If None then unlimited number of leaf nodes.\n",
       "\n",
       "min_impurity_decrease : float, default=0.0\n",
       "    A node will be split if this split induces a decrease of the impurity\n",
       "    greater than or equal to this value.\n",
       "\n",
       "    The weighted impurity decrease equation is the following::\n",
       "\n",
       "        N_t / N * (impurity - N_t_R / N_t * right_impurity\n",
       "                            - N_t_L / N_t * left_impurity)\n",
       "\n",
       "    where ``N`` is the total number of samples, ``N_t`` is the number of\n",
       "    samples at the current node, ``N_t_L`` is the number of samples in the\n",
       "    left child, and ``N_t_R`` is the number of samples in the right child.\n",
       "\n",
       "    ``N``, ``N_t``, ``N_t_R`` and ``N_t_L`` all refer to the weighted sum,\n",
       "    if ``sample_weight`` is passed.\n",
       "\n",
       "    .. versionadded:: 0.19\n",
       "\n",
       "bootstrap : bool, default=True\n",
       "    Whether bootstrap samples are used when building trees. If False, the\n",
       "    whole dataset is used to build each tree.\n",
       "\n",
       "oob_score : bool, default=False\n",
       "    Whether to use out-of-bag samples to estimate the generalization score.\n",
       "    Only available if bootstrap=True.\n",
       "\n",
       "n_jobs : int, default=None\n",
       "    The number of jobs to run in parallel. :meth:`fit`, :meth:`predict`,\n",
       "    :meth:`decision_path` and :meth:`apply` are all parallelized over the\n",
       "    trees. ``None`` means 1 unless in a :obj:`joblib.parallel_backend`\n",
       "    context. ``-1`` means using all processors. See :term:`Glossary\n",
       "    <n_jobs>` for more details.\n",
       "\n",
       "random_state : int, RandomState instance or None, default=None\n",
       "    Controls both the randomness of the bootstrapping of the samples used\n",
       "    when building trees (if ``bootstrap=True``) and the sampling of the\n",
       "    features to consider when looking for the best split at each node\n",
       "    (if ``max_features < n_features``).\n",
       "    See :term:`Glossary <random_state>` for details.\n",
       "\n",
       "verbose : int, default=0\n",
       "    Controls the verbosity when fitting and predicting.\n",
       "\n",
       "warm_start : bool, default=False\n",
       "    When set to ``True``, reuse the solution of the previous call to fit\n",
       "    and add more estimators to the ensemble, otherwise, just fit a whole\n",
       "    new forest. See :term:`Glossary <warm_start>` and\n",
       "    :ref:`gradient_boosting_warm_start` for details.\n",
       "\n",
       "class_weight : {\"balanced\", \"balanced_subsample\"}, dict or list of dicts,             default=None\n",
       "    Weights associated with classes in the form ``{class_label: weight}``.\n",
       "    If not given, all classes are supposed to have weight one. For\n",
       "    multi-output problems, a list of dicts can be provided in the same\n",
       "    order as the columns of y.\n",
       "\n",
       "    Note that for multioutput (including multilabel) weights should be\n",
       "    defined for each class of every column in its own dict. For example,\n",
       "    for four-class multilabel classification weights should be\n",
       "    [{0: 1, 1: 1}, {0: 1, 1: 5}, {0: 1, 1: 1}, {0: 1, 1: 1}] instead of\n",
       "    [{1:1}, {2:5}, {3:1}, {4:1}].\n",
       "\n",
       "    The \"balanced\" mode uses the values of y to automatically adjust\n",
       "    weights inversely proportional to class frequencies in the input data\n",
       "    as ``n_samples / (n_classes * np.bincount(y))``\n",
       "\n",
       "    The \"balanced_subsample\" mode is the same as \"balanced\" except that\n",
       "    weights are computed based on the bootstrap sample for every tree\n",
       "    grown.\n",
       "\n",
       "    For multi-output, the weights of each column of y will be multiplied.\n",
       "\n",
       "    Note that these weights will be multiplied with sample_weight (passed\n",
       "    through the fit method) if sample_weight is specified.\n",
       "\n",
       "ccp_alpha : non-negative float, default=0.0\n",
       "    Complexity parameter used for Minimal Cost-Complexity Pruning. The\n",
       "    subtree with the largest cost complexity that is smaller than\n",
       "    ``ccp_alpha`` will be chosen. By default, no pruning is performed. See\n",
       "    :ref:`minimal_cost_complexity_pruning` for details.\n",
       "\n",
       "    .. versionadded:: 0.22\n",
       "\n",
       "max_samples : int or float, default=None\n",
       "    If bootstrap is True, the number of samples to draw from X\n",
       "    to train each base estimator.\n",
       "\n",
       "    - If None (default), then draw `X.shape[0]` samples.\n",
       "    - If int, then draw `max_samples` samples.\n",
       "    - If float, then draw `max_samples * X.shape[0]` samples. Thus,\n",
       "      `max_samples` should be in the interval `(0.0, 1.0]`.\n",
       "\n",
       "    .. versionadded:: 0.22\n",
       "\n",
       "Attributes\n",
       "----------\n",
       "estimator_ : :class:`~sklearn.tree.DecisionTreeClassifier`\n",
       "    The child estimator template used to create the collection of fitted\n",
       "    sub-estimators.\n",
       "\n",
       "    .. versionadded:: 1.2\n",
       "       `base_estimator_` was renamed to `estimator_`.\n",
       "\n",
       "base_estimator_ : DecisionTreeClassifier\n",
       "    The child estimator template used to create the collection of fitted\n",
       "    sub-estimators.\n",
       "\n",
       "    .. deprecated:: 1.2\n",
       "        `base_estimator_` is deprecated and will be removed in 1.4.\n",
       "        Use `estimator_` instead.\n",
       "\n",
       "estimators_ : list of DecisionTreeClassifier\n",
       "    The collection of fitted sub-estimators.\n",
       "\n",
       "classes_ : ndarray of shape (n_classes,) or a list of such arrays\n",
       "    The classes labels (single output problem), or a list of arrays of\n",
       "    class labels (multi-output problem).\n",
       "\n",
       "n_classes_ : int or list\n",
       "    The number of classes (single output problem), or a list containing the\n",
       "    number of classes for each output (multi-output problem).\n",
       "\n",
       "n_features_in_ : int\n",
       "    Number of features seen during :term:`fit`.\n",
       "\n",
       "    .. versionadded:: 0.24\n",
       "\n",
       "feature_names_in_ : ndarray of shape (`n_features_in_`,)\n",
       "    Names of features seen during :term:`fit`. Defined only when `X`\n",
       "    has feature names that are all strings.\n",
       "\n",
       "    .. versionadded:: 1.0\n",
       "\n",
       "n_outputs_ : int\n",
       "    The number of outputs when ``fit`` is performed.\n",
       "\n",
       "feature_importances_ : ndarray of shape (n_features,)\n",
       "    The impurity-based feature importances.\n",
       "    The higher, the more important the feature.\n",
       "    The importance of a feature is computed as the (normalized)\n",
       "    total reduction of the criterion brought by that feature.  It is also\n",
       "    known as the Gini importance.\n",
       "\n",
       "    Warning: impurity-based feature importances can be misleading for\n",
       "    high cardinality features (many unique values). See\n",
       "    :func:`sklearn.inspection.permutation_importance` as an alternative.\n",
       "\n",
       "oob_score_ : float\n",
       "    Score of the training dataset obtained using an out-of-bag estimate.\n",
       "    This attribute exists only when ``oob_score`` is True.\n",
       "\n",
       "oob_decision_function_ : ndarray of shape (n_samples, n_classes) or             (n_samples, n_classes, n_outputs)\n",
       "    Decision function computed with out-of-bag estimate on the training\n",
       "    set. If n_estimators is small it might be possible that a data point\n",
       "    was never left out during the bootstrap. In this case,\n",
       "    `oob_decision_function_` might contain NaN. This attribute exists\n",
       "    only when ``oob_score`` is True.\n",
       "\n",
       "See Also\n",
       "--------\n",
       "sklearn.tree.DecisionTreeClassifier : A decision tree classifier.\n",
       "sklearn.ensemble.ExtraTreesClassifier : Ensemble of extremely randomized\n",
       "    tree classifiers.\n",
       "\n",
       "Notes\n",
       "-----\n",
       "The default values for the parameters controlling the size of the trees\n",
       "(e.g. ``max_depth``, ``min_samples_leaf``, etc.) lead to fully grown and\n",
       "unpruned trees which can potentially be very large on some data sets. To\n",
       "reduce memory consumption, the complexity and size of the trees should be\n",
       "controlled by setting those parameter values.\n",
       "\n",
       "The features are always randomly permuted at each split. Therefore,\n",
       "the best found split may vary, even with the same training data,\n",
       "``max_features=n_features`` and ``bootstrap=False``, if the improvement\n",
       "of the criterion is identical for several splits enumerated during the\n",
       "search of the best split. To obtain a deterministic behaviour during\n",
       "fitting, ``random_state`` has to be fixed.\n",
       "\n",
       "References\n",
       "----------\n",
       ".. [1] L. Breiman, \"Random Forests\", Machine Learning, 45(1), 5-32, 2001.\n",
       "\n",
       "Examples\n",
       "--------\n",
       ">>> from sklearn.ensemble import RandomForestClassifier\n",
       ">>> from sklearn.datasets import make_classification\n",
       ">>> X, y = make_classification(n_samples=1000, n_features=4,\n",
       "...                            n_informative=2, n_redundant=0,\n",
       "...                            random_state=0, shuffle=False)\n",
       ">>> clf = RandomForestClassifier(max_depth=2, random_state=0)\n",
       ">>> clf.fit(X, y)\n",
       "RandomForestClassifier(...)\n",
       ">>> print(clf.predict([[0, 0, 0, 0]]))\n",
       "[1]\n",
       "\u001b[0;31mFile:\u001b[0m           ~/anaconda3/envs/p7env/lib/python3.11/site-packages/sklearn/ensemble/_forest.py\n",
       "\u001b[0;31mType:\u001b[0m           ABCMeta\n",
       "\u001b[0;31mSubclasses:\u001b[0m     BalancedRandomForestClassifier"
      ]
     },
     "metadata": {},
     "output_type": "display_data"
    }
   ],
   "source": [
    "?RandomForestClassifier"
   ]
  },
  {
   "cell_type": "code",
   "execution_count": 114,
   "metadata": {
    "execution": {
     "iopub.execute_input": "2024-03-03T18:59:12.695987Z",
     "iopub.status.busy": "2024-03-03T18:59:12.695763Z",
     "iopub.status.idle": "2024-03-03T19:01:14.712631Z",
     "shell.execute_reply": "2024-03-03T19:01:14.711364Z",
     "shell.execute_reply.started": "2024-03-03T18:59:12.695971Z"
    },
    "scrolled": true
   },
   "outputs": [
    {
     "name": "stdout",
     "output_type": "stream",
     "text": [
      "Fitting 3 folds for each of 9 candidates, totalling 27 fits\n"
     ]
    },
    {
     "name": "stderr",
     "output_type": "stream",
     "text": [
      "/home/carl/anaconda3/envs/p7env/lib/python3.11/site-packages/sklearn/linear_model/_logistic.py:458: ConvergenceWarning: lbfgs failed to converge (status=1):\n",
      "STOP: TOTAL NO. of ITERATIONS REACHED LIMIT.\n",
      "\n",
      "Increase the number of iterations (max_iter) or scale the data as shown in:\n",
      "    https://scikit-learn.org/stable/modules/preprocessing.html\n",
      "Please also refer to the documentation for alternative solver options:\n",
      "    https://scikit-learn.org/stable/modules/linear_model.html#logistic-regression\n",
      "  n_iter_i = _check_optimize_result(\n",
      "/home/carl/anaconda3/envs/p7env/lib/python3.11/site-packages/sklearn/linear_model/_logistic.py:458: ConvergenceWarning: lbfgs failed to converge (status=1):\n",
      "STOP: TOTAL NO. of ITERATIONS REACHED LIMIT.\n",
      "\n",
      "Increase the number of iterations (max_iter) or scale the data as shown in:\n",
      "    https://scikit-learn.org/stable/modules/preprocessing.html\n",
      "Please also refer to the documentation for alternative solver options:\n",
      "    https://scikit-learn.org/stable/modules/linear_model.html#logistic-regression\n",
      "  n_iter_i = _check_optimize_result(\n",
      "/home/carl/anaconda3/envs/p7env/lib/python3.11/site-packages/sklearn/linear_model/_logistic.py:458: ConvergenceWarning: lbfgs failed to converge (status=1):\n",
      "STOP: TOTAL NO. of ITERATIONS REACHED LIMIT.\n",
      "\n",
      "Increase the number of iterations (max_iter) or scale the data as shown in:\n",
      "    https://scikit-learn.org/stable/modules/preprocessing.html\n",
      "Please also refer to the documentation for alternative solver options:\n",
      "    https://scikit-learn.org/stable/modules/linear_model.html#logistic-regression\n",
      "  n_iter_i = _check_optimize_result(\n",
      "/home/carl/anaconda3/envs/p7env/lib/python3.11/site-packages/sklearn/linear_model/_logistic.py:458: ConvergenceWarning: lbfgs failed to converge (status=1):\n",
      "STOP: TOTAL NO. of ITERATIONS REACHED LIMIT.\n",
      "\n",
      "Increase the number of iterations (max_iter) or scale the data as shown in:\n",
      "    https://scikit-learn.org/stable/modules/preprocessing.html\n",
      "Please also refer to the documentation for alternative solver options:\n",
      "    https://scikit-learn.org/stable/modules/linear_model.html#logistic-regression\n",
      "  n_iter_i = _check_optimize_result(\n",
      "/home/carl/anaconda3/envs/p7env/lib/python3.11/site-packages/sklearn/linear_model/_logistic.py:458: ConvergenceWarning: lbfgs failed to converge (status=1):\n",
      "STOP: TOTAL NO. of ITERATIONS REACHED LIMIT.\n",
      "\n",
      "Increase the number of iterations (max_iter) or scale the data as shown in:\n",
      "    https://scikit-learn.org/stable/modules/preprocessing.html\n",
      "Please also refer to the documentation for alternative solver options:\n",
      "    https://scikit-learn.org/stable/modules/linear_model.html#logistic-regression\n",
      "  n_iter_i = _check_optimize_result(\n",
      "/home/carl/anaconda3/envs/p7env/lib/python3.11/site-packages/sklearn/linear_model/_logistic.py:458: ConvergenceWarning: lbfgs failed to converge (status=1):\n",
      "STOP: TOTAL NO. of ITERATIONS REACHED LIMIT.\n",
      "\n",
      "Increase the number of iterations (max_iter) or scale the data as shown in:\n",
      "    https://scikit-learn.org/stable/modules/preprocessing.html\n",
      "Please also refer to the documentation for alternative solver options:\n",
      "    https://scikit-learn.org/stable/modules/linear_model.html#logistic-regression\n",
      "  n_iter_i = _check_optimize_result(\n",
      "/home/carl/anaconda3/envs/p7env/lib/python3.11/site-packages/sklearn/linear_model/_logistic.py:458: ConvergenceWarning: lbfgs failed to converge (status=1):\n",
      "STOP: TOTAL NO. of ITERATIONS REACHED LIMIT.\n",
      "\n",
      "Increase the number of iterations (max_iter) or scale the data as shown in:\n",
      "    https://scikit-learn.org/stable/modules/preprocessing.html\n",
      "Please also refer to the documentation for alternative solver options:\n",
      "    https://scikit-learn.org/stable/modules/linear_model.html#logistic-regression\n",
      "  n_iter_i = _check_optimize_result(\n",
      "/home/carl/anaconda3/envs/p7env/lib/python3.11/site-packages/sklearn/linear_model/_logistic.py:458: ConvergenceWarning: lbfgs failed to converge (status=1):\n",
      "STOP: TOTAL NO. of ITERATIONS REACHED LIMIT.\n",
      "\n",
      "Increase the number of iterations (max_iter) or scale the data as shown in:\n",
      "    https://scikit-learn.org/stable/modules/preprocessing.html\n",
      "Please also refer to the documentation for alternative solver options:\n",
      "    https://scikit-learn.org/stable/modules/linear_model.html#logistic-regression\n",
      "  n_iter_i = _check_optimize_result(\n",
      "/home/carl/anaconda3/envs/p7env/lib/python3.11/site-packages/sklearn/linear_model/_logistic.py:458: ConvergenceWarning: lbfgs failed to converge (status=1):\n",
      "STOP: TOTAL NO. of ITERATIONS REACHED LIMIT.\n",
      "\n",
      "Increase the number of iterations (max_iter) or scale the data as shown in:\n",
      "    https://scikit-learn.org/stable/modules/preprocessing.html\n",
      "Please also refer to the documentation for alternative solver options:\n",
      "    https://scikit-learn.org/stable/modules/linear_model.html#logistic-regression\n",
      "  n_iter_i = _check_optimize_result(\n",
      "/home/carl/anaconda3/envs/p7env/lib/python3.11/site-packages/sklearn/linear_model/_logistic.py:458: ConvergenceWarning: lbfgs failed to converge (status=1):\n",
      "STOP: TOTAL NO. of ITERATIONS REACHED LIMIT.\n",
      "\n",
      "Increase the number of iterations (max_iter) or scale the data as shown in:\n",
      "    https://scikit-learn.org/stable/modules/preprocessing.html\n",
      "Please also refer to the documentation for alternative solver options:\n",
      "    https://scikit-learn.org/stable/modules/linear_model.html#logistic-regression\n",
      "  n_iter_i = _check_optimize_result(\n",
      "/home/carl/anaconda3/envs/p7env/lib/python3.11/site-packages/sklearn/linear_model/_logistic.py:458: ConvergenceWarning: lbfgs failed to converge (status=1):\n",
      "STOP: TOTAL NO. of ITERATIONS REACHED LIMIT.\n",
      "\n",
      "Increase the number of iterations (max_iter) or scale the data as shown in:\n",
      "    https://scikit-learn.org/stable/modules/preprocessing.html\n",
      "Please also refer to the documentation for alternative solver options:\n",
      "    https://scikit-learn.org/stable/modules/linear_model.html#logistic-regression\n",
      "  n_iter_i = _check_optimize_result(\n",
      "/home/carl/anaconda3/envs/p7env/lib/python3.11/site-packages/sklearn/linear_model/_logistic.py:458: ConvergenceWarning: lbfgs failed to converge (status=1):\n",
      "STOP: TOTAL NO. of ITERATIONS REACHED LIMIT.\n",
      "\n",
      "Increase the number of iterations (max_iter) or scale the data as shown in:\n",
      "    https://scikit-learn.org/stable/modules/preprocessing.html\n",
      "Please also refer to the documentation for alternative solver options:\n",
      "    https://scikit-learn.org/stable/modules/linear_model.html#logistic-regression\n",
      "  n_iter_i = _check_optimize_result(\n",
      "/home/carl/anaconda3/envs/p7env/lib/python3.11/site-packages/sklearn/linear_model/_logistic.py:458: ConvergenceWarning: lbfgs failed to converge (status=1):\n",
      "STOP: TOTAL NO. of ITERATIONS REACHED LIMIT.\n",
      "\n",
      "Increase the number of iterations (max_iter) or scale the data as shown in:\n",
      "    https://scikit-learn.org/stable/modules/preprocessing.html\n",
      "Please also refer to the documentation for alternative solver options:\n",
      "    https://scikit-learn.org/stable/modules/linear_model.html#logistic-regression\n",
      "  n_iter_i = _check_optimize_result(\n",
      "/home/carl/anaconda3/envs/p7env/lib/python3.11/site-packages/sklearn/linear_model/_logistic.py:458: ConvergenceWarning: lbfgs failed to converge (status=1):\n",
      "STOP: TOTAL NO. of ITERATIONS REACHED LIMIT.\n",
      "\n",
      "Increase the number of iterations (max_iter) or scale the data as shown in:\n",
      "    https://scikit-learn.org/stable/modules/preprocessing.html\n",
      "Please also refer to the documentation for alternative solver options:\n",
      "    https://scikit-learn.org/stable/modules/linear_model.html#logistic-regression\n",
      "  n_iter_i = _check_optimize_result(\n",
      "/home/carl/anaconda3/envs/p7env/lib/python3.11/site-packages/sklearn/linear_model/_logistic.py:458: ConvergenceWarning: lbfgs failed to converge (status=1):\n",
      "STOP: TOTAL NO. of ITERATIONS REACHED LIMIT.\n",
      "\n",
      "Increase the number of iterations (max_iter) or scale the data as shown in:\n",
      "    https://scikit-learn.org/stable/modules/preprocessing.html\n",
      "Please also refer to the documentation for alternative solver options:\n",
      "    https://scikit-learn.org/stable/modules/linear_model.html#logistic-regression\n",
      "  n_iter_i = _check_optimize_result(\n",
      "lbfgs failed to converge (status=1):\n",
      "STOP: TOTAL NO. of ITERATIONS REACHED LIMIT.\n",
      "\n",
      "Increase the number of iterations (max_iter) or scale the data as shown in:\n",
      "    https://scikit-learn.org/stable/modules/preprocessing.html\n",
      "Please also refer to the documentation for alternative solver options:\n",
      "    https://scikit-learn.org/stable/modules/linear_model.html#logistic-regression\n"
     ]
    },
    {
     "data": {
      "text/html": [
       "<style>#sk-container-id-11 {color: black;background-color: white;}#sk-container-id-11 pre{padding: 0;}#sk-container-id-11 div.sk-toggleable {background-color: white;}#sk-container-id-11 label.sk-toggleable__label {cursor: pointer;display: block;width: 100%;margin-bottom: 0;padding: 0.3em;box-sizing: border-box;text-align: center;}#sk-container-id-11 label.sk-toggleable__label-arrow:before {content: \"▸\";float: left;margin-right: 0.25em;color: #696969;}#sk-container-id-11 label.sk-toggleable__label-arrow:hover:before {color: black;}#sk-container-id-11 div.sk-estimator:hover label.sk-toggleable__label-arrow:before {color: black;}#sk-container-id-11 div.sk-toggleable__content {max-height: 0;max-width: 0;overflow: hidden;text-align: left;background-color: #f0f8ff;}#sk-container-id-11 div.sk-toggleable__content pre {margin: 0.2em;color: black;border-radius: 0.25em;background-color: #f0f8ff;}#sk-container-id-11 input.sk-toggleable__control:checked~div.sk-toggleable__content {max-height: 200px;max-width: 100%;overflow: auto;}#sk-container-id-11 input.sk-toggleable__control:checked~label.sk-toggleable__label-arrow:before {content: \"▾\";}#sk-container-id-11 div.sk-estimator input.sk-toggleable__control:checked~label.sk-toggleable__label {background-color: #d4ebff;}#sk-container-id-11 div.sk-label input.sk-toggleable__control:checked~label.sk-toggleable__label {background-color: #d4ebff;}#sk-container-id-11 input.sk-hidden--visually {border: 0;clip: rect(1px 1px 1px 1px);clip: rect(1px, 1px, 1px, 1px);height: 1px;margin: -1px;overflow: hidden;padding: 0;position: absolute;width: 1px;}#sk-container-id-11 div.sk-estimator {font-family: monospace;background-color: #f0f8ff;border: 1px dotted black;border-radius: 0.25em;box-sizing: border-box;margin-bottom: 0.5em;}#sk-container-id-11 div.sk-estimator:hover {background-color: #d4ebff;}#sk-container-id-11 div.sk-parallel-item::after {content: \"\";width: 100%;border-bottom: 1px solid gray;flex-grow: 1;}#sk-container-id-11 div.sk-label:hover label.sk-toggleable__label {background-color: #d4ebff;}#sk-container-id-11 div.sk-serial::before {content: \"\";position: absolute;border-left: 1px solid gray;box-sizing: border-box;top: 0;bottom: 0;left: 50%;z-index: 0;}#sk-container-id-11 div.sk-serial {display: flex;flex-direction: column;align-items: center;background-color: white;padding-right: 0.2em;padding-left: 0.2em;position: relative;}#sk-container-id-11 div.sk-item {position: relative;z-index: 1;}#sk-container-id-11 div.sk-parallel {display: flex;align-items: stretch;justify-content: center;background-color: white;position: relative;}#sk-container-id-11 div.sk-item::before, #sk-container-id-11 div.sk-parallel-item::before {content: \"\";position: absolute;border-left: 1px solid gray;box-sizing: border-box;top: 0;bottom: 0;left: 50%;z-index: -1;}#sk-container-id-11 div.sk-parallel-item {display: flex;flex-direction: column;z-index: 1;position: relative;background-color: white;}#sk-container-id-11 div.sk-parallel-item:first-child::after {align-self: flex-end;width: 50%;}#sk-container-id-11 div.sk-parallel-item:last-child::after {align-self: flex-start;width: 50%;}#sk-container-id-11 div.sk-parallel-item:only-child::after {width: 0;}#sk-container-id-11 div.sk-dashed-wrapped {border: 1px dashed gray;margin: 0 0.4em 0.5em 0.4em;box-sizing: border-box;padding-bottom: 0.4em;background-color: white;}#sk-container-id-11 div.sk-label label {font-family: monospace;font-weight: bold;display: inline-block;line-height: 1.2em;}#sk-container-id-11 div.sk-label-container {text-align: center;}#sk-container-id-11 div.sk-container {/* jupyter's `normalize.less` sets `[hidden] { display: none; }` but bootstrap.min.css set `[hidden] { display: none !important; }` so we also need the `!important` here to be able to override the default hidden behavior on the sphinx rendered scikit-learn.org. See: https://github.com/scikit-learn/scikit-learn/issues/21755 */display: inline-block !important;position: relative;}#sk-container-id-11 div.sk-text-repr-fallback {display: none;}</style><div id=\"sk-container-id-11\" class=\"sk-top-container\"><div class=\"sk-text-repr-fallback\"><pre>GridSearchCV(cv=3,\n",
       "             estimator=Pipeline(steps=[(&#x27;sampler&#x27;, RandomUnderSampler()),\n",
       "                                       (&#x27;imputer&#x27;, SimpleImputer()),\n",
       "                                       (&#x27;scaler&#x27;, MinMaxScaler()),\n",
       "                                       (&#x27;classifier&#x27;,\n",
       "                                        LogisticRegression(max_iter=500))]),\n",
       "             n_jobs=-1,\n",
       "             param_grid=[{&#x27;classifier__class_weight&#x27;: [&#x27;balanced&#x27;],\n",
       "                          &#x27;sampler&#x27;: [&#x27;passthrough&#x27;]},\n",
       "                         {&#x27;classifier&#x27;: [RandomForestClassifier(),\n",
       "                                         LogisticRegression()],\n",
       "                          &#x27;imputer__strategy&#x27;: [&#x27;mean&#x27;, &#x27;median&#x27;],\n",
       "                          &#x27;scaler&#x27;: [MinMaxScaler(), StandardScaler()]}],\n",
       "             scoring=&#x27;roc_auc&#x27;, verbose=3)</pre><b>In a Jupyter environment, please rerun this cell to show the HTML representation or trust the notebook. <br />On GitHub, the HTML representation is unable to render, please try loading this page with nbviewer.org.</b></div><div class=\"sk-container\" hidden><div class=\"sk-item sk-dashed-wrapped\"><div class=\"sk-label-container\"><div class=\"sk-label sk-toggleable\"><input class=\"sk-toggleable__control sk-hidden--visually\" id=\"sk-estimator-id-54\" type=\"checkbox\" ><label for=\"sk-estimator-id-54\" class=\"sk-toggleable__label sk-toggleable__label-arrow\">GridSearchCV</label><div class=\"sk-toggleable__content\"><pre>GridSearchCV(cv=3,\n",
       "             estimator=Pipeline(steps=[(&#x27;sampler&#x27;, RandomUnderSampler()),\n",
       "                                       (&#x27;imputer&#x27;, SimpleImputer()),\n",
       "                                       (&#x27;scaler&#x27;, MinMaxScaler()),\n",
       "                                       (&#x27;classifier&#x27;,\n",
       "                                        LogisticRegression(max_iter=500))]),\n",
       "             n_jobs=-1,\n",
       "             param_grid=[{&#x27;classifier__class_weight&#x27;: [&#x27;balanced&#x27;],\n",
       "                          &#x27;sampler&#x27;: [&#x27;passthrough&#x27;]},\n",
       "                         {&#x27;classifier&#x27;: [RandomForestClassifier(),\n",
       "                                         LogisticRegression()],\n",
       "                          &#x27;imputer__strategy&#x27;: [&#x27;mean&#x27;, &#x27;median&#x27;],\n",
       "                          &#x27;scaler&#x27;: [MinMaxScaler(), StandardScaler()]}],\n",
       "             scoring=&#x27;roc_auc&#x27;, verbose=3)</pre></div></div></div><div class=\"sk-parallel\"><div class=\"sk-parallel-item\"><div class=\"sk-item\"><div class=\"sk-label-container\"><div class=\"sk-label sk-toggleable\"><input class=\"sk-toggleable__control sk-hidden--visually\" id=\"sk-estimator-id-55\" type=\"checkbox\" ><label for=\"sk-estimator-id-55\" class=\"sk-toggleable__label sk-toggleable__label-arrow\">estimator: Pipeline</label><div class=\"sk-toggleable__content\"><pre>Pipeline(steps=[(&#x27;sampler&#x27;, RandomUnderSampler()), (&#x27;imputer&#x27;, SimpleImputer()),\n",
       "                (&#x27;scaler&#x27;, MinMaxScaler()),\n",
       "                (&#x27;classifier&#x27;, LogisticRegression(max_iter=500))])</pre></div></div></div><div class=\"sk-serial\"><div class=\"sk-item\"><div class=\"sk-serial\"><div class=\"sk-item\"><div class=\"sk-estimator sk-toggleable\"><input class=\"sk-toggleable__control sk-hidden--visually\" id=\"sk-estimator-id-56\" type=\"checkbox\" ><label for=\"sk-estimator-id-56\" class=\"sk-toggleable__label sk-toggleable__label-arrow\">RandomUnderSampler</label><div class=\"sk-toggleable__content\"><pre>RandomUnderSampler()</pre></div></div></div><div class=\"sk-item\"><div class=\"sk-estimator sk-toggleable\"><input class=\"sk-toggleable__control sk-hidden--visually\" id=\"sk-estimator-id-57\" type=\"checkbox\" ><label for=\"sk-estimator-id-57\" class=\"sk-toggleable__label sk-toggleable__label-arrow\">SimpleImputer</label><div class=\"sk-toggleable__content\"><pre>SimpleImputer()</pre></div></div></div><div class=\"sk-item\"><div class=\"sk-estimator sk-toggleable\"><input class=\"sk-toggleable__control sk-hidden--visually\" id=\"sk-estimator-id-58\" type=\"checkbox\" ><label for=\"sk-estimator-id-58\" class=\"sk-toggleable__label sk-toggleable__label-arrow\">MinMaxScaler</label><div class=\"sk-toggleable__content\"><pre>MinMaxScaler()</pre></div></div></div><div class=\"sk-item\"><div class=\"sk-estimator sk-toggleable\"><input class=\"sk-toggleable__control sk-hidden--visually\" id=\"sk-estimator-id-59\" type=\"checkbox\" ><label for=\"sk-estimator-id-59\" class=\"sk-toggleable__label sk-toggleable__label-arrow\">LogisticRegression</label><div class=\"sk-toggleable__content\"><pre>LogisticRegression(max_iter=500)</pre></div></div></div></div></div></div></div></div></div></div></div></div>"
      ],
      "text/plain": [
       "GridSearchCV(cv=3,\n",
       "             estimator=Pipeline(steps=[('sampler', RandomUnderSampler()),\n",
       "                                       ('imputer', SimpleImputer()),\n",
       "                                       ('scaler', MinMaxScaler()),\n",
       "                                       ('classifier',\n",
       "                                        LogisticRegression(max_iter=500))]),\n",
       "             n_jobs=-1,\n",
       "             param_grid=[{'classifier__class_weight': ['balanced'],\n",
       "                          'sampler': ['passthrough']},\n",
       "                         {'classifier': [RandomForestClassifier(),\n",
       "                                         LogisticRegression()],\n",
       "                          'imputer__strategy': ['mean', 'median'],\n",
       "                          'scaler': [MinMaxScaler(), StandardScaler()]}],\n",
       "             scoring='roc_auc', verbose=3)"
      ]
     },
     "execution_count": 114,
     "metadata": {},
     "output_type": "execute_result"
    }
   ],
   "source": [
    "# grid = GridSearchCV(pipe, param_grid={}, cv=3, n_jobs=-1, verbose=3, scoring=pnl_scorer)\n",
    "param_grid = [\n",
    "    {\n",
    "        \"sampler\": [\"passthrough\"],\n",
    "        # \"imputer__strategy\": [\"mean\", \"median\"],\n",
    "        \"classifier__class_weight\": [\"balanced\"],\n",
    "        \"classifier\": [LogisticRegression()],\n",
    "        \"classifier__penalty\": [\"l1\", \"l2\"],\n",
    "    },\n",
    "    {\n",
    "        \"imputer__strategy\": [\"mean\", \"median\"],\n",
    "        \"scaler\": [MinMaxScaler(), StandardScaler()],\n",
    "        \"classifier\": [RandomForestClassifier()],\n",
    "        \"classifier__n_estimators\": [100, 500],\n",
    "        \"classifier__oob_score\": [True, False],\n",
    "    },\n",
    "]\n",
    "grid = GridSearchCV(\n",
    "    pipe, param_grid=param_grid, cv=3, n_jobs=-1, verbose=3, scoring=\"roc_auc\"\n",
    ")\n",
    "grid.fit(X_train, y_train)"
   ]
  },
  {
   "cell_type": "code",
   "execution_count": 117,
   "metadata": {
    "execution": {
     "iopub.execute_input": "2024-03-03T19:11:40.604836Z",
     "iopub.status.busy": "2024-03-03T19:11:40.604558Z",
     "iopub.status.idle": "2024-03-03T19:11:40.636344Z",
     "shell.execute_reply": "2024-03-03T19:11:40.635604Z",
     "shell.execute_reply.started": "2024-03-03T19:11:40.604816Z"
    }
   },
   "outputs": [
    {
     "data": {
      "text/html": [
       "<div>\n",
       "<style scoped>\n",
       "    .dataframe tbody tr th:only-of-type {\n",
       "        vertical-align: middle;\n",
       "    }\n",
       "\n",
       "    .dataframe tbody tr th {\n",
       "        vertical-align: top;\n",
       "    }\n",
       "\n",
       "    .dataframe thead th {\n",
       "        text-align: right;\n",
       "    }\n",
       "</style>\n",
       "<table border=\"1\" class=\"dataframe\">\n",
       "  <thead>\n",
       "    <tr style=\"text-align: right;\">\n",
       "      <th></th>\n",
       "      <th>mean_fit_time</th>\n",
       "      <th>std_fit_time</th>\n",
       "      <th>mean_score_time</th>\n",
       "      <th>std_score_time</th>\n",
       "      <th>param_classifier__class_weight</th>\n",
       "      <th>param_sampler</th>\n",
       "      <th>param_classifier</th>\n",
       "      <th>param_imputer__strategy</th>\n",
       "      <th>param_scaler</th>\n",
       "      <th>params</th>\n",
       "      <th>split0_test_score</th>\n",
       "      <th>split1_test_score</th>\n",
       "      <th>split2_test_score</th>\n",
       "      <th>mean_test_score</th>\n",
       "      <th>std_test_score</th>\n",
       "      <th>rank_test_score</th>\n",
       "    </tr>\n",
       "  </thead>\n",
       "  <tbody>\n",
       "    <tr>\n",
       "      <th>0</th>\n",
       "      <td>69.712546</td>\n",
       "      <td>0.915075</td>\n",
       "      <td>1.173884</td>\n",
       "      <td>0.199538</td>\n",
       "      <td>balanced</td>\n",
       "      <td>passthrough</td>\n",
       "      <td>NaN</td>\n",
       "      <td>NaN</td>\n",
       "      <td>NaN</td>\n",
       "      <td>{'classifier__class_weight': 'balanced', 'samp...</td>\n",
       "      <td>0.743190</td>\n",
       "      <td>0.749416</td>\n",
       "      <td>0.750237</td>\n",
       "      <td>0.747614</td>\n",
       "      <td>0.003146</td>\n",
       "      <td>1</td>\n",
       "    </tr>\n",
       "    <tr>\n",
       "      <th>1</th>\n",
       "      <td>33.462857</td>\n",
       "      <td>1.122318</td>\n",
       "      <td>9.946853</td>\n",
       "      <td>1.193247</td>\n",
       "      <td>NaN</td>\n",
       "      <td>NaN</td>\n",
       "      <td>RandomForestClassifier()</td>\n",
       "      <td>mean</td>\n",
       "      <td>MinMaxScaler()</td>\n",
       "      <td>{'classifier': RandomForestClassifier(), 'impu...</td>\n",
       "      <td>0.728392</td>\n",
       "      <td>0.735927</td>\n",
       "      <td>0.736446</td>\n",
       "      <td>0.733588</td>\n",
       "      <td>0.003680</td>\n",
       "      <td>8</td>\n",
       "    </tr>\n",
       "    <tr>\n",
       "      <th>2</th>\n",
       "      <td>33.523089</td>\n",
       "      <td>0.572604</td>\n",
       "      <td>8.994391</td>\n",
       "      <td>0.966064</td>\n",
       "      <td>NaN</td>\n",
       "      <td>NaN</td>\n",
       "      <td>RandomForestClassifier()</td>\n",
       "      <td>mean</td>\n",
       "      <td>StandardScaler()</td>\n",
       "      <td>{'classifier': RandomForestClassifier(), 'impu...</td>\n",
       "      <td>0.730187</td>\n",
       "      <td>0.735847</td>\n",
       "      <td>0.733317</td>\n",
       "      <td>0.733117</td>\n",
       "      <td>0.002315</td>\n",
       "      <td>9</td>\n",
       "    </tr>\n",
       "    <tr>\n",
       "      <th>3</th>\n",
       "      <td>34.210618</td>\n",
       "      <td>0.999062</td>\n",
       "      <td>8.755884</td>\n",
       "      <td>0.754939</td>\n",
       "      <td>NaN</td>\n",
       "      <td>NaN</td>\n",
       "      <td>RandomForestClassifier()</td>\n",
       "      <td>median</td>\n",
       "      <td>MinMaxScaler()</td>\n",
       "      <td>{'classifier': RandomForestClassifier(), 'impu...</td>\n",
       "      <td>0.730051</td>\n",
       "      <td>0.737342</td>\n",
       "      <td>0.738338</td>\n",
       "      <td>0.735244</td>\n",
       "      <td>0.003694</td>\n",
       "      <td>6</td>\n",
       "    </tr>\n",
       "    <tr>\n",
       "      <th>4</th>\n",
       "      <td>35.303410</td>\n",
       "      <td>1.548439</td>\n",
       "      <td>8.876162</td>\n",
       "      <td>0.598341</td>\n",
       "      <td>NaN</td>\n",
       "      <td>NaN</td>\n",
       "      <td>RandomForestClassifier()</td>\n",
       "      <td>median</td>\n",
       "      <td>StandardScaler()</td>\n",
       "      <td>{'classifier': RandomForestClassifier(), 'impu...</td>\n",
       "      <td>0.729275</td>\n",
       "      <td>0.736961</td>\n",
       "      <td>0.737317</td>\n",
       "      <td>0.734518</td>\n",
       "      <td>0.003710</td>\n",
       "      <td>7</td>\n",
       "    </tr>\n",
       "    <tr>\n",
       "      <th>5</th>\n",
       "      <td>10.176002</td>\n",
       "      <td>0.875884</td>\n",
       "      <td>4.129261</td>\n",
       "      <td>0.214467</td>\n",
       "      <td>NaN</td>\n",
       "      <td>NaN</td>\n",
       "      <td>LogisticRegression()</td>\n",
       "      <td>mean</td>\n",
       "      <td>MinMaxScaler()</td>\n",
       "      <td>{'classifier': LogisticRegression(), 'imputer_...</td>\n",
       "      <td>0.742845</td>\n",
       "      <td>0.748260</td>\n",
       "      <td>0.748455</td>\n",
       "      <td>0.746520</td>\n",
       "      <td>0.002600</td>\n",
       "      <td>5</td>\n",
       "    </tr>\n",
       "    <tr>\n",
       "      <th>6</th>\n",
       "      <td>11.370690</td>\n",
       "      <td>0.445431</td>\n",
       "      <td>4.166053</td>\n",
       "      <td>0.070858</td>\n",
       "      <td>NaN</td>\n",
       "      <td>NaN</td>\n",
       "      <td>LogisticRegression()</td>\n",
       "      <td>mean</td>\n",
       "      <td>StandardScaler()</td>\n",
       "      <td>{'classifier': LogisticRegression(), 'imputer_...</td>\n",
       "      <td>0.742685</td>\n",
       "      <td>0.747949</td>\n",
       "      <td>0.749123</td>\n",
       "      <td>0.746586</td>\n",
       "      <td>0.002799</td>\n",
       "      <td>3</td>\n",
       "    </tr>\n",
       "    <tr>\n",
       "      <th>7</th>\n",
       "      <td>12.351981</td>\n",
       "      <td>1.322505</td>\n",
       "      <td>3.271708</td>\n",
       "      <td>0.180037</td>\n",
       "      <td>NaN</td>\n",
       "      <td>NaN</td>\n",
       "      <td>LogisticRegression()</td>\n",
       "      <td>median</td>\n",
       "      <td>MinMaxScaler()</td>\n",
       "      <td>{'classifier': LogisticRegression(), 'imputer_...</td>\n",
       "      <td>0.742675</td>\n",
       "      <td>0.748586</td>\n",
       "      <td>0.749017</td>\n",
       "      <td>0.746759</td>\n",
       "      <td>0.002893</td>\n",
       "      <td>2</td>\n",
       "    </tr>\n",
       "    <tr>\n",
       "      <th>8</th>\n",
       "      <td>11.230648</td>\n",
       "      <td>0.558998</td>\n",
       "      <td>3.586396</td>\n",
       "      <td>0.130823</td>\n",
       "      <td>NaN</td>\n",
       "      <td>NaN</td>\n",
       "      <td>LogisticRegression()</td>\n",
       "      <td>median</td>\n",
       "      <td>StandardScaler()</td>\n",
       "      <td>{'classifier': LogisticRegression(), 'imputer_...</td>\n",
       "      <td>0.742323</td>\n",
       "      <td>0.749149</td>\n",
       "      <td>0.748177</td>\n",
       "      <td>0.746550</td>\n",
       "      <td>0.003015</td>\n",
       "      <td>4</td>\n",
       "    </tr>\n",
       "  </tbody>\n",
       "</table>\n",
       "</div>"
      ],
      "text/plain": [
       "   mean_fit_time  std_fit_time  mean_score_time  std_score_time  \\\n",
       "0      69.712546      0.915075         1.173884        0.199538   \n",
       "1      33.462857      1.122318         9.946853        1.193247   \n",
       "2      33.523089      0.572604         8.994391        0.966064   \n",
       "3      34.210618      0.999062         8.755884        0.754939   \n",
       "4      35.303410      1.548439         8.876162        0.598341   \n",
       "5      10.176002      0.875884         4.129261        0.214467   \n",
       "6      11.370690      0.445431         4.166053        0.070858   \n",
       "7      12.351981      1.322505         3.271708        0.180037   \n",
       "8      11.230648      0.558998         3.586396        0.130823   \n",
       "\n",
       "  param_classifier__class_weight param_sampler          param_classifier  \\\n",
       "0                       balanced   passthrough                       NaN   \n",
       "1                            NaN           NaN  RandomForestClassifier()   \n",
       "2                            NaN           NaN  RandomForestClassifier()   \n",
       "3                            NaN           NaN  RandomForestClassifier()   \n",
       "4                            NaN           NaN  RandomForestClassifier()   \n",
       "5                            NaN           NaN      LogisticRegression()   \n",
       "6                            NaN           NaN      LogisticRegression()   \n",
       "7                            NaN           NaN      LogisticRegression()   \n",
       "8                            NaN           NaN      LogisticRegression()   \n",
       "\n",
       "  param_imputer__strategy      param_scaler  \\\n",
       "0                     NaN               NaN   \n",
       "1                    mean    MinMaxScaler()   \n",
       "2                    mean  StandardScaler()   \n",
       "3                  median    MinMaxScaler()   \n",
       "4                  median  StandardScaler()   \n",
       "5                    mean    MinMaxScaler()   \n",
       "6                    mean  StandardScaler()   \n",
       "7                  median    MinMaxScaler()   \n",
       "8                  median  StandardScaler()   \n",
       "\n",
       "                                              params  split0_test_score  \\\n",
       "0  {'classifier__class_weight': 'balanced', 'samp...           0.743190   \n",
       "1  {'classifier': RandomForestClassifier(), 'impu...           0.728392   \n",
       "2  {'classifier': RandomForestClassifier(), 'impu...           0.730187   \n",
       "3  {'classifier': RandomForestClassifier(), 'impu...           0.730051   \n",
       "4  {'classifier': RandomForestClassifier(), 'impu...           0.729275   \n",
       "5  {'classifier': LogisticRegression(), 'imputer_...           0.742845   \n",
       "6  {'classifier': LogisticRegression(), 'imputer_...           0.742685   \n",
       "7  {'classifier': LogisticRegression(), 'imputer_...           0.742675   \n",
       "8  {'classifier': LogisticRegression(), 'imputer_...           0.742323   \n",
       "\n",
       "   split1_test_score  split2_test_score  mean_test_score  std_test_score  \\\n",
       "0           0.749416           0.750237         0.747614        0.003146   \n",
       "1           0.735927           0.736446         0.733588        0.003680   \n",
       "2           0.735847           0.733317         0.733117        0.002315   \n",
       "3           0.737342           0.738338         0.735244        0.003694   \n",
       "4           0.736961           0.737317         0.734518        0.003710   \n",
       "5           0.748260           0.748455         0.746520        0.002600   \n",
       "6           0.747949           0.749123         0.746586        0.002799   \n",
       "7           0.748586           0.749017         0.746759        0.002893   \n",
       "8           0.749149           0.748177         0.746550        0.003015   \n",
       "\n",
       "   rank_test_score  \n",
       "0                1  \n",
       "1                8  \n",
       "2                9  \n",
       "3                6  \n",
       "4                7  \n",
       "5                5  \n",
       "6                3  \n",
       "7                2  \n",
       "8                4  "
      ]
     },
     "execution_count": 117,
     "metadata": {},
     "output_type": "execute_result"
    }
   ],
   "source": [
    "grid_results = pd.DataFrame(grid.cv_results_)\n",
    "grid_results\n",
    "# TODO: log each cv_result to ML FLow"
   ]
  },
  {
   "cell_type": "code",
   "execution_count": 158,
   "metadata": {
    "execution": {
     "iopub.execute_input": "2024-03-03T20:10:10.415667Z",
     "iopub.status.busy": "2024-03-03T20:10:10.415415Z",
     "iopub.status.idle": "2024-03-03T20:10:10.919427Z",
     "shell.execute_reply": "2024-03-03T20:10:10.918400Z",
     "shell.execute_reply.started": "2024-03-03T20:10:10.415648Z"
    }
   },
   "outputs": [
    {
     "data": {
      "text/html": [
       "<style>#sk-container-id-21 {color: black;background-color: white;}#sk-container-id-21 pre{padding: 0;}#sk-container-id-21 div.sk-toggleable {background-color: white;}#sk-container-id-21 label.sk-toggleable__label {cursor: pointer;display: block;width: 100%;margin-bottom: 0;padding: 0.3em;box-sizing: border-box;text-align: center;}#sk-container-id-21 label.sk-toggleable__label-arrow:before {content: \"▸\";float: left;margin-right: 0.25em;color: #696969;}#sk-container-id-21 label.sk-toggleable__label-arrow:hover:before {color: black;}#sk-container-id-21 div.sk-estimator:hover label.sk-toggleable__label-arrow:before {color: black;}#sk-container-id-21 div.sk-toggleable__content {max-height: 0;max-width: 0;overflow: hidden;text-align: left;background-color: #f0f8ff;}#sk-container-id-21 div.sk-toggleable__content pre {margin: 0.2em;color: black;border-radius: 0.25em;background-color: #f0f8ff;}#sk-container-id-21 input.sk-toggleable__control:checked~div.sk-toggleable__content {max-height: 200px;max-width: 100%;overflow: auto;}#sk-container-id-21 input.sk-toggleable__control:checked~label.sk-toggleable__label-arrow:before {content: \"▾\";}#sk-container-id-21 div.sk-estimator input.sk-toggleable__control:checked~label.sk-toggleable__label {background-color: #d4ebff;}#sk-container-id-21 div.sk-label input.sk-toggleable__control:checked~label.sk-toggleable__label {background-color: #d4ebff;}#sk-container-id-21 input.sk-hidden--visually {border: 0;clip: rect(1px 1px 1px 1px);clip: rect(1px, 1px, 1px, 1px);height: 1px;margin: -1px;overflow: hidden;padding: 0;position: absolute;width: 1px;}#sk-container-id-21 div.sk-estimator {font-family: monospace;background-color: #f0f8ff;border: 1px dotted black;border-radius: 0.25em;box-sizing: border-box;margin-bottom: 0.5em;}#sk-container-id-21 div.sk-estimator:hover {background-color: #d4ebff;}#sk-container-id-21 div.sk-parallel-item::after {content: \"\";width: 100%;border-bottom: 1px solid gray;flex-grow: 1;}#sk-container-id-21 div.sk-label:hover label.sk-toggleable__label {background-color: #d4ebff;}#sk-container-id-21 div.sk-serial::before {content: \"\";position: absolute;border-left: 1px solid gray;box-sizing: border-box;top: 0;bottom: 0;left: 50%;z-index: 0;}#sk-container-id-21 div.sk-serial {display: flex;flex-direction: column;align-items: center;background-color: white;padding-right: 0.2em;padding-left: 0.2em;position: relative;}#sk-container-id-21 div.sk-item {position: relative;z-index: 1;}#sk-container-id-21 div.sk-parallel {display: flex;align-items: stretch;justify-content: center;background-color: white;position: relative;}#sk-container-id-21 div.sk-item::before, #sk-container-id-21 div.sk-parallel-item::before {content: \"\";position: absolute;border-left: 1px solid gray;box-sizing: border-box;top: 0;bottom: 0;left: 50%;z-index: -1;}#sk-container-id-21 div.sk-parallel-item {display: flex;flex-direction: column;z-index: 1;position: relative;background-color: white;}#sk-container-id-21 div.sk-parallel-item:first-child::after {align-self: flex-end;width: 50%;}#sk-container-id-21 div.sk-parallel-item:last-child::after {align-self: flex-start;width: 50%;}#sk-container-id-21 div.sk-parallel-item:only-child::after {width: 0;}#sk-container-id-21 div.sk-dashed-wrapped {border: 1px dashed gray;margin: 0 0.4em 0.5em 0.4em;box-sizing: border-box;padding-bottom: 0.4em;background-color: white;}#sk-container-id-21 div.sk-label label {font-family: monospace;font-weight: bold;display: inline-block;line-height: 1.2em;}#sk-container-id-21 div.sk-label-container {text-align: center;}#sk-container-id-21 div.sk-container {/* jupyter's `normalize.less` sets `[hidden] { display: none; }` but bootstrap.min.css set `[hidden] { display: none !important; }` so we also need the `!important` here to be able to override the default hidden behavior on the sphinx rendered scikit-learn.org. See: https://github.com/scikit-learn/scikit-learn/issues/21755 */display: inline-block !important;position: relative;}#sk-container-id-21 div.sk-text-repr-fallback {display: none;}</style><div id=\"sk-container-id-21\" class=\"sk-top-container\"><div class=\"sk-text-repr-fallback\"><pre>Pipeline(steps=[(&#x27;sampler&#x27;, &#x27;passthrough&#x27;), (&#x27;imputer&#x27;, SimpleImputer()),\n",
       "                (&#x27;scaler&#x27;, MinMaxScaler()),\n",
       "                (&#x27;classifier&#x27;,\n",
       "                 LogisticRegression(class_weight=&#x27;balanced&#x27;, max_iter=500))])</pre><b>In a Jupyter environment, please rerun this cell to show the HTML representation or trust the notebook. <br />On GitHub, the HTML representation is unable to render, please try loading this page with nbviewer.org.</b></div><div class=\"sk-container\" hidden><div class=\"sk-item sk-dashed-wrapped\"><div class=\"sk-label-container\"><div class=\"sk-label sk-toggleable\"><input class=\"sk-toggleable__control sk-hidden--visually\" id=\"sk-estimator-id-97\" type=\"checkbox\" ><label for=\"sk-estimator-id-97\" class=\"sk-toggleable__label sk-toggleable__label-arrow\">Pipeline</label><div class=\"sk-toggleable__content\"><pre>Pipeline(steps=[(&#x27;sampler&#x27;, &#x27;passthrough&#x27;), (&#x27;imputer&#x27;, SimpleImputer()),\n",
       "                (&#x27;scaler&#x27;, MinMaxScaler()),\n",
       "                (&#x27;classifier&#x27;,\n",
       "                 LogisticRegression(class_weight=&#x27;balanced&#x27;, max_iter=500))])</pre></div></div></div><div class=\"sk-serial\"><div class=\"sk-item\"><div class=\"sk-estimator sk-toggleable\"><input class=\"sk-toggleable__control sk-hidden--visually\" id=\"sk-estimator-id-98\" type=\"checkbox\" ><label for=\"sk-estimator-id-98\" class=\"sk-toggleable__label sk-toggleable__label-arrow\">passthrough</label><div class=\"sk-toggleable__content\"><pre>passthrough</pre></div></div></div><div class=\"sk-item\"><div class=\"sk-estimator sk-toggleable\"><input class=\"sk-toggleable__control sk-hidden--visually\" id=\"sk-estimator-id-99\" type=\"checkbox\" ><label for=\"sk-estimator-id-99\" class=\"sk-toggleable__label sk-toggleable__label-arrow\">SimpleImputer</label><div class=\"sk-toggleable__content\"><pre>SimpleImputer()</pre></div></div></div><div class=\"sk-item\"><div class=\"sk-estimator sk-toggleable\"><input class=\"sk-toggleable__control sk-hidden--visually\" id=\"sk-estimator-id-100\" type=\"checkbox\" ><label for=\"sk-estimator-id-100\" class=\"sk-toggleable__label sk-toggleable__label-arrow\">MinMaxScaler</label><div class=\"sk-toggleable__content\"><pre>MinMaxScaler()</pre></div></div></div><div class=\"sk-item\"><div class=\"sk-estimator sk-toggleable\"><input class=\"sk-toggleable__control sk-hidden--visually\" id=\"sk-estimator-id-101\" type=\"checkbox\" ><label for=\"sk-estimator-id-101\" class=\"sk-toggleable__label sk-toggleable__label-arrow\">LogisticRegression</label><div class=\"sk-toggleable__content\"><pre>LogisticRegression(class_weight=&#x27;balanced&#x27;, max_iter=500)</pre></div></div></div></div></div></div></div>"
      ],
      "text/plain": [
       "Pipeline(steps=[('sampler', 'passthrough'), ('imputer', SimpleImputer()),\n",
       "                ('scaler', MinMaxScaler()),\n",
       "                ('classifier',\n",
       "                 LogisticRegression(class_weight='balanced', max_iter=500))])"
      ]
     },
     "execution_count": 158,
     "metadata": {},
     "output_type": "execute_result"
    }
   ],
   "source": [
    "model = grid.best_estimator_\n",
    "y_pred = grid.predict(X_test)\n",
    "model"
   ]
  },
  {
   "cell_type": "code",
   "execution_count": 127,
   "metadata": {
    "execution": {
     "iopub.execute_input": "2024-03-03T19:26:51.681980Z",
     "iopub.status.busy": "2024-03-03T19:26:51.681705Z",
     "iopub.status.idle": "2024-03-03T19:26:51.721807Z",
     "shell.execute_reply": "2024-03-03T19:26:51.720501Z",
     "shell.execute_reply.started": "2024-03-03T19:26:51.681961Z"
    }
   },
   "outputs": [
    {
     "data": {
      "text/plain": [
       "<Experiment: artifact_location='mlflow-artifacts:/132287291501882802', creation_time=1708695008003, experiment_id='132287291501882802', last_update_time=1708695008003, lifecycle_stage='active', name='P7 ML', tags={}>"
      ]
     },
     "execution_count": 127,
     "metadata": {},
     "output_type": "execute_result"
    }
   ],
   "source": [
    "# local server must be running: $ mlflow ui\n",
    "mlflow.set_tracking_uri(uri=\"http://127.0.0.1:5000\")\n",
    "mlflow.set_experiment(\"P7 ML\")\n",
    "# mlflow.sklearn.autolog()  # log only sklearn model, not shap etc"
   ]
  },
  {
   "cell_type": "code",
   "execution_count": null,
   "metadata": {
    "execution": {
     "iopub.execute_input": "2024-03-03T20:10:15.633100Z",
     "iopub.status.busy": "2024-03-03T20:10:15.632848Z"
    }
   },
   "outputs": [],
   "source": [
    "# Log best model in MLFlow\n",
    "with mlflow.start_run(nested=True):\n",
    "    # Log the hyperparameters\n",
    "    mlflow.log_params(model.get_params())\n",
    "    # Log the loss metric\n",
    "    # mlflow.log_metric(\"accuracy\", metrics.accuracy_score(y_test, y_pred))\n",
    "    mlflow.log_metric(\"roc_auc\", metrics.roc_auc_score(y_test, y_pred))\n",
    "    # mlflow.log_metric(\"custom_pnl\", pnl(y_pred, y_test))\n",
    "\n",
    "    # Set a tag that we can use to remind ourselves what this run was for\n",
    "    # mlflow.set_tag(\"Description\", \"Basic LR model for iris data\")\n",
    "\n",
    "    # Infer the model signature\n",
    "    signature = infer_signature(X_train, model.predict(X_train))\n",
    "\n",
    "    # Log dataset\n",
    "    dataset = mlflow.data.from_pandas(X_train)\n",
    "    mlflow.log_input(dataset, context=\"train\")\n",
    "\n",
    "    # Log the model\n",
    "    model_info = mlflow.sklearn.log_model(\n",
    "        sk_model=model,\n",
    "        artifact_path=\"P7_model\",\n",
    "        signature=signature,\n",
    "        # input_example=dataset,\n",
    "        # registered_model_name=\"tracking-quickstart\",\n",
    "    )\n",
    "\n",
    "    # Log results from other gridsearch candidates\n",
    "    for candidate in grid_results[[\"params\", \"mean_fit_time\", \"mean_test_score\"]].values:\n",
    "        with mlflow.start_run(nested=True):\n",
    "            mlflow.log_input(dataset, context=\"train\")\n",
    "            mlflow.log_params(candidate[0])\n",
    "            mlflow.set_tag(\"duration\", candidate[1])\n",
    "            mlflow.log_metric(\"roc_auc\", candidate[2])\n",
    "mlflow.end_run()"
   ]
  },
  {
   "cell_type": "markdown",
   "metadata": {},
   "source": [
    "# Proba predict treshold"
   ]
  },
  {
   "cell_type": "code",
   "execution_count": 42,
   "metadata": {
    "execution": {
     "iopub.execute_input": "2024-03-02T17:06:31.907073Z",
     "iopub.status.busy": "2024-03-02T17:06:31.906761Z",
     "iopub.status.idle": "2024-03-02T17:06:31.911020Z",
     "shell.execute_reply": "2024-03-02T17:06:31.910031Z",
     "shell.execute_reply.started": "2024-03-02T17:06:31.907051Z"
    }
   },
   "outputs": [],
   "source": [
    "# faire varier seuil et afficher graphiquement resultats"
   ]
  },
  {
   "cell_type": "code",
   "execution_count": 58,
   "metadata": {
    "execution": {
     "iopub.execute_input": "2024-03-03T18:12:08.079955Z",
     "iopub.status.busy": "2024-03-03T18:12:08.079665Z",
     "iopub.status.idle": "2024-03-03T18:12:08.090761Z",
     "shell.execute_reply": "2024-03-03T18:12:08.089747Z",
     "shell.execute_reply.started": "2024-03-03T18:12:08.079938Z"
    }
   },
   "outputs": [
    {
     "data": {
      "text/html": [
       "<style>#sk-container-id-5 {color: black;background-color: white;}#sk-container-id-5 pre{padding: 0;}#sk-container-id-5 div.sk-toggleable {background-color: white;}#sk-container-id-5 label.sk-toggleable__label {cursor: pointer;display: block;width: 100%;margin-bottom: 0;padding: 0.3em;box-sizing: border-box;text-align: center;}#sk-container-id-5 label.sk-toggleable__label-arrow:before {content: \"▸\";float: left;margin-right: 0.25em;color: #696969;}#sk-container-id-5 label.sk-toggleable__label-arrow:hover:before {color: black;}#sk-container-id-5 div.sk-estimator:hover label.sk-toggleable__label-arrow:before {color: black;}#sk-container-id-5 div.sk-toggleable__content {max-height: 0;max-width: 0;overflow: hidden;text-align: left;background-color: #f0f8ff;}#sk-container-id-5 div.sk-toggleable__content pre {margin: 0.2em;color: black;border-radius: 0.25em;background-color: #f0f8ff;}#sk-container-id-5 input.sk-toggleable__control:checked~div.sk-toggleable__content {max-height: 200px;max-width: 100%;overflow: auto;}#sk-container-id-5 input.sk-toggleable__control:checked~label.sk-toggleable__label-arrow:before {content: \"▾\";}#sk-container-id-5 div.sk-estimator input.sk-toggleable__control:checked~label.sk-toggleable__label {background-color: #d4ebff;}#sk-container-id-5 div.sk-label input.sk-toggleable__control:checked~label.sk-toggleable__label {background-color: #d4ebff;}#sk-container-id-5 input.sk-hidden--visually {border: 0;clip: rect(1px 1px 1px 1px);clip: rect(1px, 1px, 1px, 1px);height: 1px;margin: -1px;overflow: hidden;padding: 0;position: absolute;width: 1px;}#sk-container-id-5 div.sk-estimator {font-family: monospace;background-color: #f0f8ff;border: 1px dotted black;border-radius: 0.25em;box-sizing: border-box;margin-bottom: 0.5em;}#sk-container-id-5 div.sk-estimator:hover {background-color: #d4ebff;}#sk-container-id-5 div.sk-parallel-item::after {content: \"\";width: 100%;border-bottom: 1px solid gray;flex-grow: 1;}#sk-container-id-5 div.sk-label:hover label.sk-toggleable__label {background-color: #d4ebff;}#sk-container-id-5 div.sk-serial::before {content: \"\";position: absolute;border-left: 1px solid gray;box-sizing: border-box;top: 0;bottom: 0;left: 50%;z-index: 0;}#sk-container-id-5 div.sk-serial {display: flex;flex-direction: column;align-items: center;background-color: white;padding-right: 0.2em;padding-left: 0.2em;position: relative;}#sk-container-id-5 div.sk-item {position: relative;z-index: 1;}#sk-container-id-5 div.sk-parallel {display: flex;align-items: stretch;justify-content: center;background-color: white;position: relative;}#sk-container-id-5 div.sk-item::before, #sk-container-id-5 div.sk-parallel-item::before {content: \"\";position: absolute;border-left: 1px solid gray;box-sizing: border-box;top: 0;bottom: 0;left: 50%;z-index: -1;}#sk-container-id-5 div.sk-parallel-item {display: flex;flex-direction: column;z-index: 1;position: relative;background-color: white;}#sk-container-id-5 div.sk-parallel-item:first-child::after {align-self: flex-end;width: 50%;}#sk-container-id-5 div.sk-parallel-item:last-child::after {align-self: flex-start;width: 50%;}#sk-container-id-5 div.sk-parallel-item:only-child::after {width: 0;}#sk-container-id-5 div.sk-dashed-wrapped {border: 1px dashed gray;margin: 0 0.4em 0.5em 0.4em;box-sizing: border-box;padding-bottom: 0.4em;background-color: white;}#sk-container-id-5 div.sk-label label {font-family: monospace;font-weight: bold;display: inline-block;line-height: 1.2em;}#sk-container-id-5 div.sk-label-container {text-align: center;}#sk-container-id-5 div.sk-container {/* jupyter's `normalize.less` sets `[hidden] { display: none; }` but bootstrap.min.css set `[hidden] { display: none !important; }` so we also need the `!important` here to be able to override the default hidden behavior on the sphinx rendered scikit-learn.org. See: https://github.com/scikit-learn/scikit-learn/issues/21755 */display: inline-block !important;position: relative;}#sk-container-id-5 div.sk-text-repr-fallback {display: none;}</style><div id=\"sk-container-id-5\" class=\"sk-top-container\"><div class=\"sk-text-repr-fallback\"><pre>Pipeline(steps=[(&#x27;sampler&#x27;, &#x27;passthrough&#x27;), (&#x27;imputer&#x27;, SimpleImputer()),\n",
       "                (&#x27;scaler&#x27;, MinMaxScaler()),\n",
       "                (&#x27;classifier&#x27;,\n",
       "                 LogisticRegression(class_weight=&#x27;balanced&#x27;, max_iter=500))])</pre><b>In a Jupyter environment, please rerun this cell to show the HTML representation or trust the notebook. <br />On GitHub, the HTML representation is unable to render, please try loading this page with nbviewer.org.</b></div><div class=\"sk-container\" hidden><div class=\"sk-item sk-dashed-wrapped\"><div class=\"sk-label-container\"><div class=\"sk-label sk-toggleable\"><input class=\"sk-toggleable__control sk-hidden--visually\" id=\"sk-estimator-id-22\" type=\"checkbox\" ><label for=\"sk-estimator-id-22\" class=\"sk-toggleable__label sk-toggleable__label-arrow\">Pipeline</label><div class=\"sk-toggleable__content\"><pre>Pipeline(steps=[(&#x27;sampler&#x27;, &#x27;passthrough&#x27;), (&#x27;imputer&#x27;, SimpleImputer()),\n",
       "                (&#x27;scaler&#x27;, MinMaxScaler()),\n",
       "                (&#x27;classifier&#x27;,\n",
       "                 LogisticRegression(class_weight=&#x27;balanced&#x27;, max_iter=500))])</pre></div></div></div><div class=\"sk-serial\"><div class=\"sk-item\"><div class=\"sk-estimator sk-toggleable\"><input class=\"sk-toggleable__control sk-hidden--visually\" id=\"sk-estimator-id-23\" type=\"checkbox\" ><label for=\"sk-estimator-id-23\" class=\"sk-toggleable__label sk-toggleable__label-arrow\">passthrough</label><div class=\"sk-toggleable__content\"><pre>passthrough</pre></div></div></div><div class=\"sk-item\"><div class=\"sk-estimator sk-toggleable\"><input class=\"sk-toggleable__control sk-hidden--visually\" id=\"sk-estimator-id-24\" type=\"checkbox\" ><label for=\"sk-estimator-id-24\" class=\"sk-toggleable__label sk-toggleable__label-arrow\">SimpleImputer</label><div class=\"sk-toggleable__content\"><pre>SimpleImputer()</pre></div></div></div><div class=\"sk-item\"><div class=\"sk-estimator sk-toggleable\"><input class=\"sk-toggleable__control sk-hidden--visually\" id=\"sk-estimator-id-25\" type=\"checkbox\" ><label for=\"sk-estimator-id-25\" class=\"sk-toggleable__label sk-toggleable__label-arrow\">MinMaxScaler</label><div class=\"sk-toggleable__content\"><pre>MinMaxScaler()</pre></div></div></div><div class=\"sk-item\"><div class=\"sk-estimator sk-toggleable\"><input class=\"sk-toggleable__control sk-hidden--visually\" id=\"sk-estimator-id-26\" type=\"checkbox\" ><label for=\"sk-estimator-id-26\" class=\"sk-toggleable__label sk-toggleable__label-arrow\">LogisticRegression</label><div class=\"sk-toggleable__content\"><pre>LogisticRegression(class_weight=&#x27;balanced&#x27;, max_iter=500)</pre></div></div></div></div></div></div></div>"
      ],
      "text/plain": [
       "Pipeline(steps=[('sampler', 'passthrough'), ('imputer', SimpleImputer()),\n",
       "                ('scaler', MinMaxScaler()),\n",
       "                ('classifier',\n",
       "                 LogisticRegression(class_weight='balanced', max_iter=500))])"
      ]
     },
     "execution_count": 58,
     "metadata": {},
     "output_type": "execute_result"
    }
   ],
   "source": [
    "model"
   ]
  },
  {
   "cell_type": "code",
   "execution_count": 98,
   "metadata": {
    "execution": {
     "iopub.execute_input": "2024-03-03T18:33:16.298631Z",
     "iopub.status.busy": "2024-03-03T18:33:16.298336Z",
     "iopub.status.idle": "2024-03-03T18:33:27.663669Z",
     "shell.execute_reply": "2024-03-03T18:33:27.662364Z",
     "shell.execute_reply.started": "2024-03-03T18:33:16.298611Z"
    }
   },
   "outputs": [],
   "source": [
    "res_roc_auc = pd.Series()\n",
    "res_accuracy = pd.Series()\n",
    "res_pnl = pd.Series()\n",
    "for threshold in np.linspace(0, 1, 20):\n",
    "    y_pred_threshold = (\n",
    "        model.predict_proba(\n",
    "            X_test,\n",
    "        )[:, 1]\n",
    "        >= threshold\n",
    "    ).astype(int)\n",
    "    res_roc_auc.loc[threshold] = metrics.roc_auc_score(y_test, y_pred_threshold)\n",
    "    res_accuracy.loc[threshold] = metrics.accuracy_score(y_test, y_pred_threshold)\n",
    "    res_pnl.loc[threshold] = pnl(y_test, y_pred_threshold)"
   ]
  },
  {
   "cell_type": "code",
   "execution_count": 145,
   "metadata": {
    "execution": {
     "iopub.execute_input": "2024-03-02T18:49:14.330298Z",
     "iopub.status.busy": "2024-03-02T18:49:14.330041Z",
     "iopub.status.idle": "2024-03-02T18:49:14.335872Z",
     "shell.execute_reply": "2024-03-02T18:49:14.334927Z",
     "shell.execute_reply.started": "2024-03-02T18:49:14.330280Z"
    }
   },
   "outputs": [
    {
     "data": {
      "text/plain": [
       "0.4897959183673469"
      ]
     },
     "execution_count": 145,
     "metadata": {},
     "output_type": "execute_result"
    }
   ],
   "source": [
    "res_roc_auc.idxmax()"
   ]
  },
  {
   "cell_type": "code",
   "execution_count": 146,
   "metadata": {
    "execution": {
     "iopub.execute_input": "2024-03-02T18:49:16.123714Z",
     "iopub.status.busy": "2024-03-02T18:49:16.123540Z",
     "iopub.status.idle": "2024-03-02T18:49:16.127679Z",
     "shell.execute_reply": "2024-03-02T18:49:16.127173Z",
     "shell.execute_reply.started": "2024-03-02T18:49:16.123702Z"
    }
   },
   "outputs": [
    {
     "data": {
      "text/plain": [
       "0.6867648314453287"
      ]
     },
     "execution_count": 146,
     "metadata": {},
     "output_type": "execute_result"
    }
   ],
   "source": [
    "res_roc_auc.max()"
   ]
  },
  {
   "cell_type": "code",
   "execution_count": 101,
   "metadata": {
    "execution": {
     "iopub.execute_input": "2024-03-03T18:33:53.211829Z",
     "iopub.status.busy": "2024-03-03T18:33:53.211570Z",
     "iopub.status.idle": "2024-03-03T18:33:53.217376Z",
     "shell.execute_reply": "2024-03-03T18:33:53.216238Z",
     "shell.execute_reply.started": "2024-03-03T18:33:53.211810Z"
    }
   },
   "outputs": [
    {
     "data": {
      "text/plain": [
       "0.631578947368421"
      ]
     },
     "execution_count": 101,
     "metadata": {},
     "output_type": "execute_result"
    }
   ],
   "source": [
    "res_pnl.idxmax()"
   ]
  },
  {
   "cell_type": "code",
   "execution_count": 100,
   "metadata": {
    "execution": {
     "iopub.execute_input": "2024-03-03T18:33:31.238913Z",
     "iopub.status.busy": "2024-03-03T18:33:31.238580Z",
     "iopub.status.idle": "2024-03-03T18:33:31.248417Z",
     "shell.execute_reply": "2024-03-03T18:33:31.247703Z",
     "shell.execute_reply.started": "2024-03-03T18:33:31.238890Z"
    }
   },
   "outputs": [
    {
     "data": {
      "text/plain": [
       "count    20.000000\n",
       "mean     -0.281659\n",
       "std       0.385563\n",
       "min      -1.000000\n",
       "25%      -0.531622\n",
       "50%      -0.134271\n",
       "75%       0.008883\n",
       "max       0.098764\n",
       "dtype: float64"
      ]
     },
     "execution_count": 100,
     "metadata": {},
     "output_type": "execute_result"
    }
   ],
   "source": [
    "res_pnl.describe()"
   ]
  },
  {
   "cell_type": "code",
   "execution_count": 99,
   "metadata": {
    "execution": {
     "iopub.execute_input": "2024-03-03T18:33:27.749624Z",
     "iopub.status.busy": "2024-03-03T18:33:27.749386Z",
     "iopub.status.idle": "2024-03-03T18:33:27.953007Z",
     "shell.execute_reply": "2024-03-03T18:33:27.952079Z",
     "shell.execute_reply.started": "2024-03-03T18:33:27.749605Z"
    }
   },
   "outputs": [
    {
     "data": {
      "text/plain": [
       "[]"
      ]
     },
     "execution_count": 99,
     "metadata": {},
     "output_type": "execute_result"
    },
    {
     "data": {
      "image/png": "[encoded data removed]",
      "text/plain": [
       "<Figure size 640x480 with 1 Axes>"
      ]
     },
     "metadata": {},
     "output_type": "display_data"
    }
   ],
   "source": [
    "ax = res_pnl.plot()\n",
    "plt.xlabel(\"proba_predict threshold\")\n",
    "plt.ylabel(\"pnl\")\n",
    "plt.plot()\n",
    "# ax = res_accuracy.plot()\n",
    "# TODO: use pnl as y-axis"
   ]
  },
  {
   "cell_type": "code",
   "execution_count": 102,
   "metadata": {
    "execution": {
     "iopub.execute_input": "2024-03-03T18:35:56.724888Z",
     "iopub.status.busy": "2024-03-03T18:35:56.724653Z",
     "iopub.status.idle": "2024-03-03T18:35:56.974412Z",
     "shell.execute_reply": "2024-03-03T18:35:56.973640Z",
     "shell.execute_reply.started": "2024-03-03T18:35:56.724871Z"
    }
   },
   "outputs": [
    {
     "data": {
      "text/plain": [
       "[]"
      ]
     },
     "execution_count": 102,
     "metadata": {},
     "output_type": "execute_result"
    },
    {
     "data": {
      "image/png": "[encoded data removed]",
      "text/plain": [
       "<Figure size 640x480 with 1 Axes>"
      ]
     },
     "metadata": {},
     "output_type": "display_data"
    }
   ],
   "source": [
    "ax = res_roc_auc.plot()\n",
    "plt.xlabel(\"proba_predict threshold\")\n",
    "plt.ylabel(\"roc_auc_score\")\n",
    "plt.plot()\n",
    "# ax = res_accuracy.plot()\n",
    "# TODO: use pnl as y-axis"
   ]
  },
  {
   "cell_type": "code",
   "execution_count": 92,
   "metadata": {
    "execution": {
     "iopub.execute_input": "2024-03-02T18:13:52.325408Z",
     "iopub.status.busy": "2024-03-02T18:13:52.325165Z",
     "iopub.status.idle": "2024-03-02T18:13:52.411556Z",
     "shell.execute_reply": "2024-03-02T18:13:52.411137Z",
     "shell.execute_reply.started": "2024-03-02T18:13:52.325387Z"
    }
   },
   "outputs": [
    {
     "data": {
      "text/plain": [
       "<Axes: >"
      ]
     },
     "execution_count": 92,
     "metadata": {},
     "output_type": "execute_result"
    },
    {
     "data": {
      "image/png": "[encoded data removed]",
      "text/plain": [
       "<Figure size 640x480 with 1 Axes>"
      ]
     },
     "metadata": {},
     "output_type": "display_data"
    }
   ],
   "source": [
    "res_accuracy.plot()"
   ]
  },
  {
   "cell_type": "markdown",
   "metadata": {},
   "source": [
    "# Scoring metric"
   ]
  },
  {
   "cell_type": "code",
   "execution_count": 46,
   "metadata": {
    "execution": {
     "iopub.execute_input": "2024-03-02T17:06:33.769406Z",
     "iopub.status.busy": "2024-03-02T17:06:33.769095Z",
     "iopub.status.idle": "2024-03-02T17:06:33.776472Z",
     "shell.execute_reply": "2024-03-02T17:06:33.775312Z",
     "shell.execute_reply.started": "2024-03-02T17:06:33.769384Z"
    }
   },
   "outputs": [
    {
     "data": {
      "text/plain": [
       "0.3461530123355085"
      ]
     },
     "execution_count": 46,
     "metadata": {},
     "output_type": "execute_result"
    }
   ],
   "source": [
    "y_pred.mean()"
   ]
  },
  {
   "cell_type": "code",
   "execution_count": 47,
   "metadata": {
    "execution": {
     "iopub.execute_input": "2024-03-02T17:06:33.993206Z",
     "iopub.status.busy": "2024-03-02T17:06:33.992910Z",
     "iopub.status.idle": "2024-03-02T17:06:34.001250Z",
     "shell.execute_reply": "2024-03-02T17:06:34.000723Z",
     "shell.execute_reply.started": "2024-03-02T17:06:33.993186Z"
    }
   },
   "outputs": [
    {
     "data": {
      "text/plain": [
       "0.6842846922626661"
      ]
     },
     "execution_count": 47,
     "metadata": {},
     "output_type": "execute_result"
    }
   ],
   "source": [
    "metrics.accuracy_score(y_test, y_pred)"
   ]
  },
  {
   "cell_type": "code",
   "execution_count": 48,
   "metadata": {
    "execution": {
     "iopub.execute_input": "2024-03-02T17:06:34.308469Z",
     "iopub.status.busy": "2024-03-02T17:06:34.308242Z",
     "iopub.status.idle": "2024-03-02T17:06:34.318355Z",
     "shell.execute_reply": "2024-03-02T17:06:34.317903Z",
     "shell.execute_reply.started": "2024-03-02T17:06:34.308453Z"
    }
   },
   "outputs": [
    {
     "data": {
      "text/plain": [
       "0.6867228658830676"
      ]
     },
     "execution_count": 48,
     "metadata": {},
     "output_type": "execute_result"
    }
   ],
   "source": [
    "metrics.roc_auc_score(y_test, y_pred)"
   ]
  },
  {
   "cell_type": "code",
   "execution_count": 49,
   "metadata": {
    "execution": {
     "iopub.execute_input": "2024-03-02T17:06:35.190034Z",
     "iopub.status.busy": "2024-03-02T17:06:35.189025Z",
     "iopub.status.idle": "2024-03-02T17:06:35.284577Z",
     "shell.execute_reply": "2024-03-02T17:06:35.284285Z",
     "shell.execute_reply.started": "2024-03-02T17:06:35.189999Z"
    }
   },
   "outputs": [
    {
     "name": "stdout",
     "output_type": "stream",
     "text": [
      "Sensibilité : 1.00\n",
      "Spécificité : 0.00\n",
      "Seuil : 0.00\n"
     ]
    },
    {
     "data": {
      "image/png": "[encoded data removed]",
      "text/plain": [
       "<Figure size 640x480 with 1 Axes>"
      ]
     },
     "metadata": {},
     "output_type": "display_data"
    }
   ],
   "source": [
    "[fpr, tpr, thr] = metrics.roc_curve(y_test, y_pred)\n",
    "plt.plot(fpr, tpr, color=\"coral\", lw=2)\n",
    "plt.xlim([0.0, 1.0])\n",
    "plt.ylim([0.0, 1.05])\n",
    "plt.xlabel(\"1 - specificite\", fontsize=14)\n",
    "plt.ylabel(\"Sensibilite\", fontsize=14)\n",
    "\n",
    "# indice du premier seuil pour lequel\n",
    "# la sensibilité est supérieure à 0.95\n",
    "idx = np.min(np.where(tpr > 0.95))\n",
    "\n",
    "print(\"Sensibilité : {:.2f}\".format(tpr[idx]))\n",
    "print(\"Spécificité : {:.2f}\".format(1 - fpr[idx]))\n",
    "print(\"Seuil : {:.2f}\".format(thr[idx]))"
   ]
  },
  {
   "cell_type": "markdown",
   "metadata": {},
   "source": [
    "### Custom PnL"
   ]
  },
  {
   "cell_type": "code",
   "execution_count": 54,
   "metadata": {
    "execution": {
     "iopub.execute_input": "2024-03-03T18:11:29.034169Z",
     "iopub.status.busy": "2024-03-03T18:11:29.033868Z",
     "iopub.status.idle": "2024-03-03T18:11:29.091905Z",
     "shell.execute_reply": "2024-03-03T18:11:29.090840Z",
     "shell.execute_reply.started": "2024-03-03T18:11:29.034148Z"
    }
   },
   "outputs": [
    {
     "name": "stdout",
     "output_type": "stream",
     "text": [
      "P&L avec prédictions modèle :  0.03753863397008134\n",
      "P&L avec prédictions parfaites :  1.0\n"
     ]
    }
   ],
   "source": [
    "print(\"P&L avec prédictions modèle : \", pnl(y_pred, y_test))\n",
    "print(\"P&L avec prédictions parfaites : \", pnl(y_test, y_test))"
   ]
  },
  {
   "cell_type": "code",
   "execution_count": 62,
   "metadata": {
    "execution": {
     "iopub.execute_input": "2024-03-03T18:14:35.001202Z",
     "iopub.status.busy": "2024-03-03T18:14:35.000908Z",
     "iopub.status.idle": "2024-03-03T18:14:35.017800Z",
     "shell.execute_reply": "2024-03-03T18:14:35.016610Z",
     "shell.execute_reply.started": "2024-03-03T18:14:35.001183Z"
    }
   },
   "outputs": [
    {
     "data": {
      "text/plain": [
       "0.5613626457790191"
      ]
     },
     "execution_count": 62,
     "metadata": {},
     "output_type": "execute_result"
    }
   ],
   "source": [
    "metrics.roc_auc_score(y_pred, y_test)"
   ]
  },
  {
   "cell_type": "code",
   "execution_count": 55,
   "metadata": {
    "execution": {
     "iopub.execute_input": "2024-03-03T18:11:31.836386Z",
     "iopub.status.busy": "2024-03-03T18:11:31.836025Z",
     "iopub.status.idle": "2024-03-03T18:11:31.865684Z",
     "shell.execute_reply": "2024-03-03T18:11:31.864533Z",
     "shell.execute_reply.started": "2024-03-03T18:11:31.836365Z"
    }
   },
   "outputs": [
    {
     "name": "stdout",
     "output_type": "stream",
     "text": [
      "P&L avec prédictions modèle :  $38.1M\n",
      "P&L avec prédictions parfaites :  $1.01B\n"
     ]
    }
   ],
   "source": [
    "print(\n",
    "    \"P&L avec prédictions modèle : \", human_format(pnl(y_pred, y_test, normalize=False))\n",
    ")\n",
    "print(\n",
    "    \"P&L avec prédictions parfaites : \",\n",
    "    human_format(pnl(y_test, y_test, normalize=False)),\n",
    ")"
   ]
  },
  {
   "cell_type": "code",
   "execution_count": 51,
   "metadata": {
    "execution": {
     "iopub.execute_input": "2024-03-02T17:06:43.542147Z",
     "iopub.status.busy": "2024-03-02T17:06:43.541881Z",
     "iopub.status.idle": "2024-03-02T17:06:43.546597Z",
     "shell.execute_reply": "2024-03-02T17:06:43.545525Z",
     "shell.execute_reply.started": "2024-03-02T17:06:43.542129Z"
    }
   },
   "outputs": [],
   "source": [
    "# mlflow.log_metric(\"custom_pnl\", pnl(y_pred, y_test))"
   ]
  },
  {
   "cell_type": "code",
   "execution_count": 52,
   "metadata": {
    "editable": true,
    "execution": {
     "iopub.execute_input": "2024-03-02T17:06:43.756500Z",
     "iopub.status.busy": "2024-03-02T17:06:43.755961Z",
     "iopub.status.idle": "2024-03-02T17:06:43.762730Z",
     "shell.execute_reply": "2024-03-02T17:06:43.762030Z",
     "shell.execute_reply.started": "2024-03-02T17:06:43.756473Z"
    },
    "slideshow": {
     "slide_type": ""
    },
    "tags": []
   },
   "outputs": [
    {
     "data": {
      "text/plain": [
       "0.3461530123355085"
      ]
     },
     "execution_count": 52,
     "metadata": {},
     "output_type": "execute_result"
    }
   ],
   "source": [
    "y_pred.mean()"
   ]
  },
  {
   "cell_type": "code",
   "execution_count": 53,
   "metadata": {
    "execution": {
     "iopub.execute_input": "2024-03-02T17:06:43.938420Z",
     "iopub.status.busy": "2024-03-02T17:06:43.938088Z",
     "iopub.status.idle": "2024-03-02T17:06:43.945112Z",
     "shell.execute_reply": "2024-03-02T17:06:43.944488Z",
     "shell.execute_reply.started": "2024-03-02T17:06:43.938397Z"
    }
   },
   "outputs": [
    {
     "data": {
      "text/plain": [
       "0.08025668263706723"
      ]
     },
     "execution_count": 53,
     "metadata": {},
     "output_type": "execute_result"
    }
   ],
   "source": [
    "y_test.mean()"
   ]
  },
  {
   "cell_type": "markdown",
   "metadata": {},
   "source": [
    "# Track model with MLFlow"
   ]
  },
  {
   "cell_type": "code",
   "execution_count": 144,
   "metadata": {
    "editable": true,
    "execution": {
     "iopub.execute_input": "2024-03-02T18:48:00.604762Z",
     "iopub.status.busy": "2024-03-02T18:48:00.604591Z",
     "iopub.status.idle": "2024-03-02T18:48:25.441370Z",
     "shell.execute_reply": "2024-03-02T18:48:25.440973Z",
     "shell.execute_reply.started": "2024-03-02T18:48:00.604753Z"
    },
    "slideshow": {
     "slide_type": ""
    },
    "tags": []
   },
   "outputs": [
    {
     "name": "stderr",
     "output_type": "stream",
     "text": [
      "Hint: Inferred schema contains integer column(s). Integer columns in Python cannot represent missing values. If your input data contains missing values at inference time, it will be encoded as floats and will cause a schema enforcement error. The best way to avoid this problem is to infer the model schema based on a realistic data sample (training dataset) that includes missing values. Alternatively, you can declare integer columns as doubles (float64) whenever these columns may have missing values. See `Handling Integers With Missing Values <https://www.mlflow.org/docs/latest/models.html#handling-integers-with-missing-values>`_ for more details.\n"
     ]
    }
   ],
   "source": [
    "# local server must be running:\n",
    "# $ mlflow ui\n",
    "mlflow.set_tracking_uri(uri=\"http://127.0.0.1:5000\")\n",
    "mlflow.set_experiment(\"P7 ML\")\n",
    "# mlflow.sklearn.autolog()  # log only sklearn model, not shap etc\n",
    "\n",
    "# Start an MLflow run\n",
    "with mlflow.start_run():\n",
    "    # Log the hyperparameters\n",
    "    mlflow.log_params(model_params)\n",
    "\n",
    "    # Log the loss metric\n",
    "    mlflow.log_metric(\"accuracy\", metrics.accuracy_score(y_test, y_pred))\n",
    "    mlflow.log_metric(\"roc_auc\", metrics.roc_auc_score(y_test, y_pred))\n",
    "    mlflow.log_metric(\"custom_pnl\", pnl(y_pred, y_test))\n",
    "\n",
    "    # Set a tag that we can use to remind ourselves what this run was for\n",
    "    # mlflow.set_tag(\"Description\", \"Basic LR model for iris data\")\n",
    "\n",
    "    # Infer the model signature\n",
    "    signature = infer_signature(X_train, model.predict(X_train))\n",
    "\n",
    "    # Log the model\n",
    "    model_info = mlflow.sklearn.log_model(\n",
    "        sk_model=model,\n",
    "        artifact_path=\"P7_model\",\n",
    "        signature=signature,\n",
    "        input_example=X_train,\n",
    "        # registered_model_name=\"tracking-quickstart\",\n",
    "    )"
   ]
  },
  {
   "cell_type": "markdown",
   "metadata": {
    "jp-MarkdownHeadingCollapsed": true
   },
   "source": [
    "## Essai non concluant : calculer intérêts et durée du prêt en fonction du montant total et de l'annuity"
   ]
  },
  {
   "cell_type": "code",
   "execution_count": 31,
   "metadata": {
    "execution": {
     "iopub.execute_input": "2024-03-02T15:38:55.105281Z",
     "iopub.status.busy": "2024-03-02T15:38:55.105195Z",
     "iopub.status.idle": "2024-03-02T15:38:55.116679Z",
     "shell.execute_reply": "2024-03-02T15:38:55.116187Z",
     "shell.execute_reply.started": "2024-03-02T15:38:55.105273Z"
    }
   },
   "outputs": [
    {
     "data": {
      "text/html": [
       "<div>\n",
       "<style scoped>\n",
       "    .dataframe tbody tr th:only-of-type {\n",
       "        vertical-align: middle;\n",
       "    }\n",
       "\n",
       "    .dataframe tbody tr th {\n",
       "        vertical-align: top;\n",
       "    }\n",
       "\n",
       "    .dataframe thead th {\n",
       "        text-align: right;\n",
       "    }\n",
       "</style>\n",
       "<table border=\"1\" class=\"dataframe\">\n",
       "  <thead>\n",
       "    <tr style=\"text-align: right;\">\n",
       "      <th></th>\n",
       "      <th>AMT_CREDIT</th>\n",
       "      <th>AMT_ANNUITY</th>\n",
       "      <th>AMT_GOODS_PRICE</th>\n",
       "    </tr>\n",
       "    <tr>\n",
       "      <th>SK_ID_CURR</th>\n",
       "      <th></th>\n",
       "      <th></th>\n",
       "      <th></th>\n",
       "    </tr>\n",
       "  </thead>\n",
       "  <tbody>\n",
       "    <tr>\n",
       "      <th>264232</th>\n",
       "      <td>180000.0</td>\n",
       "      <td>9000.0</td>\n",
       "      <td>180000.0</td>\n",
       "    </tr>\n",
       "    <tr>\n",
       "      <th>281527</th>\n",
       "      <td>1711368.0</td>\n",
       "      <td>70758.0</td>\n",
       "      <td>1597500.0</td>\n",
       "    </tr>\n",
       "    <tr>\n",
       "      <th>375874</th>\n",
       "      <td>973710.0</td>\n",
       "      <td>25816.5</td>\n",
       "      <td>697500.0</td>\n",
       "    </tr>\n",
       "    <tr>\n",
       "      <th>249631</th>\n",
       "      <td>225000.0</td>\n",
       "      <td>11250.0</td>\n",
       "      <td>225000.0</td>\n",
       "    </tr>\n",
       "    <tr>\n",
       "      <th>207138</th>\n",
       "      <td>1379376.0</td>\n",
       "      <td>36517.5</td>\n",
       "      <td>1080000.0</td>\n",
       "    </tr>\n",
       "    <tr>\n",
       "      <th>303536</th>\n",
       "      <td>314100.0</td>\n",
       "      <td>16573.5</td>\n",
       "      <td>225000.0</td>\n",
       "    </tr>\n",
       "    <tr>\n",
       "      <th>236871</th>\n",
       "      <td>115128.0</td>\n",
       "      <td>12528.0</td>\n",
       "      <td>108000.0</td>\n",
       "    </tr>\n",
       "    <tr>\n",
       "      <th>279827</th>\n",
       "      <td>640764.0</td>\n",
       "      <td>17617.5</td>\n",
       "      <td>459000.0</td>\n",
       "    </tr>\n",
       "    <tr>\n",
       "      <th>166967</th>\n",
       "      <td>900000.0</td>\n",
       "      <td>24880.5</td>\n",
       "      <td>900000.0</td>\n",
       "    </tr>\n",
       "    <tr>\n",
       "      <th>291610</th>\n",
       "      <td>288873.0</td>\n",
       "      <td>14179.5</td>\n",
       "      <td>238500.0</td>\n",
       "    </tr>\n",
       "  </tbody>\n",
       "</table>\n",
       "</div>"
      ],
      "text/plain": [
       "            AMT_CREDIT  AMT_ANNUITY  AMT_GOODS_PRICE\n",
       "SK_ID_CURR                                          \n",
       "264232        180000.0       9000.0         180000.0\n",
       "281527       1711368.0      70758.0        1597500.0\n",
       "375874        973710.0      25816.5         697500.0\n",
       "249631        225000.0      11250.0         225000.0\n",
       "207138       1379376.0      36517.5        1080000.0\n",
       "303536        314100.0      16573.5         225000.0\n",
       "236871        115128.0      12528.0         108000.0\n",
       "279827        640764.0      17617.5         459000.0\n",
       "166967        900000.0      24880.5         900000.0\n",
       "291610        288873.0      14179.5         238500.0"
      ]
     },
     "execution_count": 31,
     "metadata": {},
     "output_type": "execute_result"
    }
   ],
   "source": [
    "app_train[[\"AMT_CREDIT\", \"AMT_ANNUITY\", \"AMT_GOODS_PRICE\"]].sample(10)"
   ]
  },
  {
   "cell_type": "code",
   "execution_count": 32,
   "metadata": {
    "execution": {
     "iopub.execute_input": "2024-03-02T15:38:55.117380Z",
     "iopub.status.busy": "2024-03-02T15:38:55.117257Z",
     "iopub.status.idle": "2024-03-02T15:38:55.130104Z",
     "shell.execute_reply": "2024-03-02T15:38:55.129555Z",
     "shell.execute_reply.started": "2024-03-02T15:38:55.117371Z"
    }
   },
   "outputs": [
    {
     "data": {
      "text/plain": [
       "count    307499.000000\n",
       "mean          0.053695\n",
       "std           0.022481\n",
       "min           0.022073\n",
       "25%           0.036900\n",
       "50%           0.050000\n",
       "75%           0.064043\n",
       "max           0.124430\n",
       "dtype: float64"
      ]
     },
     "execution_count": 32,
     "metadata": {},
     "output_type": "execute_result"
    }
   ],
   "source": [
    "(app_train.AMT_ANNUITY / app_train.AMT_CREDIT).describe()\n",
    "\n",
    "# app_train.AMT_CREDIT * 1.0665 / app_train.AMT_ANNUITY"
   ]
  },
  {
   "cell_type": "markdown",
   "metadata": {
    "jp-MarkdownHeadingCollapsed": true
   },
   "source": [
    "# Shap values"
   ]
  },
  {
   "cell_type": "code",
   "execution_count": 33,
   "metadata": {
    "execution": {
     "iopub.execute_input": "2024-03-02T15:38:55.130607Z",
     "iopub.status.busy": "2024-03-02T15:38:55.130512Z",
     "iopub.status.idle": "2024-03-02T15:38:56.761122Z",
     "shell.execute_reply": "2024-03-02T15:38:56.760438Z",
     "shell.execute_reply.started": "2024-03-02T15:38:55.130598Z"
    }
   },
   "outputs": [
    {
     "data": {
      "text/plain": [
       "array([[0.001561305267766127, 0.09097276185909246, 0.010487651127741825,\n",
       "        ..., 2363.8564346161434, 0.14292272517024993,\n",
       "        -0.012744650173650828],\n",
       "       [0.001561305267766127, -0.1617293544161644, 0.010487651127741825,\n",
       "        ..., 967.8095221010727, -0.0324521569071178,\n",
       "        -0.03949068188670004],\n",
       "       [0.001561305267766127, -0.1617293544161644, 0.010487651127741825,\n",
       "        ..., 7948.044084676426, 0.2581056941017382, 0.021412448096166194],\n",
       "       ...,\n",
       "       [0.001561305267766127, 0.09097276185909246, 0.010487651127741825,\n",
       "        ..., 7948.044084676426, -0.15863662347747212,\n",
       "        0.003546091730118546],\n",
       "       [0.001561305267766127, 0.09097276185909246, 0.010487651127741825,\n",
       "        ..., 14928.27864725178, 0.07126372947173622,\n",
       "        0.018420590798360427],\n",
       "       [0.001561305267766127, -0.1617293544161644, 0.010487651127741825,\n",
       "        ..., 11438.161365964103, 0.10231226779872803,\n",
       "        0.018356049468852196]], dtype=object)"
      ]
     },
     "execution_count": 33,
     "metadata": {},
     "output_type": "execute_result"
    }
   ],
   "source": [
    "explainer = shap.LinearExplainer(grid.best_estimator_[\"classifier\"], X_train)\n",
    "shap_values = explainer.shap_values(X_test)\n",
    "shap_values"
   ]
  },
  {
   "cell_type": "code",
   "execution_count": 34,
   "metadata": {
    "execution": {
     "iopub.execute_input": "2024-03-02T15:38:56.761586Z",
     "iopub.status.busy": "2024-03-02T15:38:56.761478Z",
     "iopub.status.idle": "2024-03-02T15:38:56.773354Z",
     "shell.execute_reply": "2024-03-02T15:38:56.772957Z",
     "shell.execute_reply.started": "2024-03-02T15:38:56.761577Z"
    }
   },
   "outputs": [
    {
     "data": {
      "text/html": [
       "<div>\n",
       "<style scoped>\n",
       "    .dataframe tbody tr th:only-of-type {\n",
       "        vertical-align: middle;\n",
       "    }\n",
       "\n",
       "    .dataframe tbody tr th {\n",
       "        vertical-align: top;\n",
       "    }\n",
       "\n",
       "    .dataframe thead th {\n",
       "        text-align: right;\n",
       "    }\n",
       "</style>\n",
       "<table border=\"1\" class=\"dataframe\">\n",
       "  <thead>\n",
       "    <tr style=\"text-align: right;\">\n",
       "      <th></th>\n",
       "      <th>NAME_CONTRACT_TYPE</th>\n",
       "      <th>FLAG_OWN_CAR</th>\n",
       "      <th>FLAG_OWN_REALTY</th>\n",
       "      <th>CNT_CHILDREN</th>\n",
       "      <th>AMT_INCOME_TOTAL</th>\n",
       "      <th>AMT_CREDIT</th>\n",
       "      <th>AMT_ANNUITY</th>\n",
       "      <th>AMT_GOODS_PRICE</th>\n",
       "      <th>REGION_POPULATION_RELATIVE</th>\n",
       "      <th>DAYS_BIRTH</th>\n",
       "      <th>...</th>\n",
       "      <th>WALLSMATERIAL_MODE_Panel</th>\n",
       "      <th>WALLSMATERIAL_MODE_Stone, brick</th>\n",
       "      <th>WALLSMATERIAL_MODE_Wooden</th>\n",
       "      <th>EMERGENCYSTATE_MODE_No</th>\n",
       "      <th>EMERGENCYSTATE_MODE_Yes</th>\n",
       "      <th>FE_DAYS_EMPLOYED_PERC</th>\n",
       "      <th>FE_INCOME_CREDIT_PERC</th>\n",
       "      <th>FE_INCOME_PER_PERSON</th>\n",
       "      <th>FE_ANNUITY_INCOME_PERC</th>\n",
       "      <th>FE_PAYMENT_RATE</th>\n",
       "    </tr>\n",
       "    <tr>\n",
       "      <th>SK_ID_CURR</th>\n",
       "      <th></th>\n",
       "      <th></th>\n",
       "      <th></th>\n",
       "      <th></th>\n",
       "      <th></th>\n",
       "      <th></th>\n",
       "      <th></th>\n",
       "      <th></th>\n",
       "      <th></th>\n",
       "      <th></th>\n",
       "      <th></th>\n",
       "      <th></th>\n",
       "      <th></th>\n",
       "      <th></th>\n",
       "      <th></th>\n",
       "      <th></th>\n",
       "      <th></th>\n",
       "      <th></th>\n",
       "      <th></th>\n",
       "      <th></th>\n",
       "      <th></th>\n",
       "    </tr>\n",
       "  </thead>\n",
       "  <tbody>\n",
       "    <tr>\n",
       "      <th>162240</th>\n",
       "      <td>0</td>\n",
       "      <td>0</td>\n",
       "      <td>1</td>\n",
       "      <td>0</td>\n",
       "      <td>180000.0</td>\n",
       "      <td>568800.0</td>\n",
       "      <td>15133.5</td>\n",
       "      <td>450000.0</td>\n",
       "      <td>0.018801</td>\n",
       "      <td>-11749</td>\n",
       "      <td>...</td>\n",
       "      <td>True</td>\n",
       "      <td>False</td>\n",
       "      <td>False</td>\n",
       "      <td>True</td>\n",
       "      <td>False</td>\n",
       "      <td>0.028598</td>\n",
       "      <td>0.316456</td>\n",
       "      <td>90000.0</td>\n",
       "      <td>0.084075</td>\n",
       "      <td>0.026606</td>\n",
       "    </tr>\n",
       "  </tbody>\n",
       "</table>\n",
       "<p>1 rows × 244 columns</p>\n",
       "</div>"
      ],
      "text/plain": [
       "            NAME_CONTRACT_TYPE  FLAG_OWN_CAR  FLAG_OWN_REALTY  CNT_CHILDREN  \\\n",
       "SK_ID_CURR                                                                    \n",
       "162240                       0             0                1             0   \n",
       "\n",
       "            AMT_INCOME_TOTAL  AMT_CREDIT  AMT_ANNUITY  AMT_GOODS_PRICE  \\\n",
       "SK_ID_CURR                                                               \n",
       "162240              180000.0    568800.0      15133.5         450000.0   \n",
       "\n",
       "            REGION_POPULATION_RELATIVE  DAYS_BIRTH  ...  \\\n",
       "SK_ID_CURR                                          ...   \n",
       "162240                        0.018801      -11749  ...   \n",
       "\n",
       "            WALLSMATERIAL_MODE_Panel  WALLSMATERIAL_MODE_Stone, brick  \\\n",
       "SK_ID_CURR                                                              \n",
       "162240                          True                            False   \n",
       "\n",
       "            WALLSMATERIAL_MODE_Wooden  EMERGENCYSTATE_MODE_No  \\\n",
       "SK_ID_CURR                                                      \n",
       "162240                          False                    True   \n",
       "\n",
       "            EMERGENCYSTATE_MODE_Yes  FE_DAYS_EMPLOYED_PERC  \\\n",
       "SK_ID_CURR                                                   \n",
       "162240                        False               0.028598   \n",
       "\n",
       "            FE_INCOME_CREDIT_PERC  FE_INCOME_PER_PERSON  \\\n",
       "SK_ID_CURR                                                \n",
       "162240                   0.316456               90000.0   \n",
       "\n",
       "            FE_ANNUITY_INCOME_PERC  FE_PAYMENT_RATE  \n",
       "SK_ID_CURR                                           \n",
       "162240                    0.084075         0.026606  \n",
       "\n",
       "[1 rows x 244 columns]"
      ]
     },
     "execution_count": 34,
     "metadata": {},
     "output_type": "execute_result"
    }
   ],
   "source": [
    "X_train.sample()"
   ]
  },
  {
   "cell_type": "code",
   "execution_count": 35,
   "metadata": {
    "execution": {
     "iopub.execute_input": "2024-03-02T15:38:56.773806Z",
     "iopub.status.busy": "2024-03-02T15:38:56.773718Z",
     "iopub.status.idle": "2024-03-02T15:38:56.782600Z",
     "shell.execute_reply": "2024-03-02T15:38:56.782332Z",
     "shell.execute_reply.started": "2024-03-02T15:38:56.773798Z"
    }
   },
   "outputs": [
    {
     "data": {
      "text/plain": [
       "46127"
      ]
     },
     "execution_count": 35,
     "metadata": {},
     "output_type": "execute_result"
    }
   ],
   "source": [
    "len(shap_values)"
   ]
  },
  {
   "cell_type": "code",
   "execution_count": 36,
   "metadata": {
    "execution": {
     "iopub.execute_input": "2024-03-02T15:38:56.783042Z",
     "iopub.status.busy": "2024-03-02T15:38:56.782953Z",
     "iopub.status.idle": "2024-03-02T15:38:56.788279Z",
     "shell.execute_reply": "2024-03-02T15:38:56.788013Z",
     "shell.execute_reply.started": "2024-03-02T15:38:56.783034Z"
    }
   },
   "outputs": [
    {
     "data": {
      "text/html": [
       "<style>#sk-container-id-4 {color: black;background-color: white;}#sk-container-id-4 pre{padding: 0;}#sk-container-id-4 div.sk-toggleable {background-color: white;}#sk-container-id-4 label.sk-toggleable__label {cursor: pointer;display: block;width: 100%;margin-bottom: 0;padding: 0.3em;box-sizing: border-box;text-align: center;}#sk-container-id-4 label.sk-toggleable__label-arrow:before {content: \"▸\";float: left;margin-right: 0.25em;color: #696969;}#sk-container-id-4 label.sk-toggleable__label-arrow:hover:before {color: black;}#sk-container-id-4 div.sk-estimator:hover label.sk-toggleable__label-arrow:before {color: black;}#sk-container-id-4 div.sk-toggleable__content {max-height: 0;max-width: 0;overflow: hidden;text-align: left;background-color: #f0f8ff;}#sk-container-id-4 div.sk-toggleable__content pre {margin: 0.2em;color: black;border-radius: 0.25em;background-color: #f0f8ff;}#sk-container-id-4 input.sk-toggleable__control:checked~div.sk-toggleable__content {max-height: 200px;max-width: 100%;overflow: auto;}#sk-container-id-4 input.sk-toggleable__control:checked~label.sk-toggleable__label-arrow:before {content: \"▾\";}#sk-container-id-4 div.sk-estimator input.sk-toggleable__control:checked~label.sk-toggleable__label {background-color: #d4ebff;}#sk-container-id-4 div.sk-label input.sk-toggleable__control:checked~label.sk-toggleable__label {background-color: #d4ebff;}#sk-container-id-4 input.sk-hidden--visually {border: 0;clip: rect(1px 1px 1px 1px);clip: rect(1px, 1px, 1px, 1px);height: 1px;margin: -1px;overflow: hidden;padding: 0;position: absolute;width: 1px;}#sk-container-id-4 div.sk-estimator {font-family: monospace;background-color: #f0f8ff;border: 1px dotted black;border-radius: 0.25em;box-sizing: border-box;margin-bottom: 0.5em;}#sk-container-id-4 div.sk-estimator:hover {background-color: #d4ebff;}#sk-container-id-4 div.sk-parallel-item::after {content: \"\";width: 100%;border-bottom: 1px solid gray;flex-grow: 1;}#sk-container-id-4 div.sk-label:hover label.sk-toggleable__label {background-color: #d4ebff;}#sk-container-id-4 div.sk-serial::before {content: \"\";position: absolute;border-left: 1px solid gray;box-sizing: border-box;top: 0;bottom: 0;left: 50%;z-index: 0;}#sk-container-id-4 div.sk-serial {display: flex;flex-direction: column;align-items: center;background-color: white;padding-right: 0.2em;padding-left: 0.2em;position: relative;}#sk-container-id-4 div.sk-item {position: relative;z-index: 1;}#sk-container-id-4 div.sk-parallel {display: flex;align-items: stretch;justify-content: center;background-color: white;position: relative;}#sk-container-id-4 div.sk-item::before, #sk-container-id-4 div.sk-parallel-item::before {content: \"\";position: absolute;border-left: 1px solid gray;box-sizing: border-box;top: 0;bottom: 0;left: 50%;z-index: -1;}#sk-container-id-4 div.sk-parallel-item {display: flex;flex-direction: column;z-index: 1;position: relative;background-color: white;}#sk-container-id-4 div.sk-parallel-item:first-child::after {align-self: flex-end;width: 50%;}#sk-container-id-4 div.sk-parallel-item:last-child::after {align-self: flex-start;width: 50%;}#sk-container-id-4 div.sk-parallel-item:only-child::after {width: 0;}#sk-container-id-4 div.sk-dashed-wrapped {border: 1px dashed gray;margin: 0 0.4em 0.5em 0.4em;box-sizing: border-box;padding-bottom: 0.4em;background-color: white;}#sk-container-id-4 div.sk-label label {font-family: monospace;font-weight: bold;display: inline-block;line-height: 1.2em;}#sk-container-id-4 div.sk-label-container {text-align: center;}#sk-container-id-4 div.sk-container {/* jupyter's `normalize.less` sets `[hidden] { display: none; }` but bootstrap.min.css set `[hidden] { display: none !important; }` so we also need the `!important` here to be able to override the default hidden behavior on the sphinx rendered scikit-learn.org. See: https://github.com/scikit-learn/scikit-learn/issues/21755 */display: inline-block !important;position: relative;}#sk-container-id-4 div.sk-text-repr-fallback {display: none;}</style><div id=\"sk-container-id-4\" class=\"sk-top-container\"><div class=\"sk-text-repr-fallback\"><pre>Pipeline(steps=[(&#x27;sampler&#x27;, RandomUnderSampler()), (&#x27;imputer&#x27;, SimpleImputer()),\n",
       "                (&#x27;scaler&#x27;, MinMaxScaler()),\n",
       "                (&#x27;classifier&#x27;, LogisticRegression(max_iter=500))])</pre><b>In a Jupyter environment, please rerun this cell to show the HTML representation or trust the notebook. <br />On GitHub, the HTML representation is unable to render, please try loading this page with nbviewer.org.</b></div><div class=\"sk-container\" hidden><div class=\"sk-item sk-dashed-wrapped\"><div class=\"sk-label-container\"><div class=\"sk-label sk-toggleable\"><input class=\"sk-toggleable__control sk-hidden--visually\" id=\"sk-estimator-id-18\" type=\"checkbox\" ><label for=\"sk-estimator-id-18\" class=\"sk-toggleable__label sk-toggleable__label-arrow\">Pipeline</label><div class=\"sk-toggleable__content\"><pre>Pipeline(steps=[(&#x27;sampler&#x27;, RandomUnderSampler()), (&#x27;imputer&#x27;, SimpleImputer()),\n",
       "                (&#x27;scaler&#x27;, MinMaxScaler()),\n",
       "                (&#x27;classifier&#x27;, LogisticRegression(max_iter=500))])</pre></div></div></div><div class=\"sk-serial\"><div class=\"sk-item\"><div class=\"sk-estimator sk-toggleable\"><input class=\"sk-toggleable__control sk-hidden--visually\" id=\"sk-estimator-id-19\" type=\"checkbox\" ><label for=\"sk-estimator-id-19\" class=\"sk-toggleable__label sk-toggleable__label-arrow\">RandomUnderSampler</label><div class=\"sk-toggleable__content\"><pre>RandomUnderSampler()</pre></div></div></div><div class=\"sk-item\"><div class=\"sk-estimator sk-toggleable\"><input class=\"sk-toggleable__control sk-hidden--visually\" id=\"sk-estimator-id-20\" type=\"checkbox\" ><label for=\"sk-estimator-id-20\" class=\"sk-toggleable__label sk-toggleable__label-arrow\">SimpleImputer</label><div class=\"sk-toggleable__content\"><pre>SimpleImputer()</pre></div></div></div><div class=\"sk-item\"><div class=\"sk-estimator sk-toggleable\"><input class=\"sk-toggleable__control sk-hidden--visually\" id=\"sk-estimator-id-21\" type=\"checkbox\" ><label for=\"sk-estimator-id-21\" class=\"sk-toggleable__label sk-toggleable__label-arrow\">MinMaxScaler</label><div class=\"sk-toggleable__content\"><pre>MinMaxScaler()</pre></div></div></div><div class=\"sk-item\"><div class=\"sk-estimator sk-toggleable\"><input class=\"sk-toggleable__control sk-hidden--visually\" id=\"sk-estimator-id-22\" type=\"checkbox\" ><label for=\"sk-estimator-id-22\" class=\"sk-toggleable__label sk-toggleable__label-arrow\">LogisticRegression</label><div class=\"sk-toggleable__content\"><pre>LogisticRegression(max_iter=500)</pre></div></div></div></div></div></div></div>"
      ],
      "text/plain": [
       "Pipeline(steps=[('sampler', RandomUnderSampler()), ('imputer', SimpleImputer()),\n",
       "                ('scaler', MinMaxScaler()),\n",
       "                ('classifier', LogisticRegression(max_iter=500))])"
      ]
     },
     "execution_count": 36,
     "metadata": {},
     "output_type": "execute_result"
    }
   ],
   "source": [
    "model = grid.best_estimator_"
   ]
  },
  {
   "cell_type": "code",
   "execution_count": 37,
   "metadata": {
    "execution": {
     "iopub.execute_input": "2024-03-02T15:38:56.788762Z",
     "iopub.status.busy": "2024-03-02T15:38:56.788669Z",
     "iopub.status.idle": "2024-03-02T15:38:56.791132Z",
     "shell.execute_reply": "2024-03-02T15:38:56.790906Z",
     "shell.execute_reply.started": "2024-03-02T15:38:56.788754Z"
    }
   },
   "outputs": [
    {
     "data": {
      "text/plain": [
       "(46127, 244)"
      ]
     },
     "execution_count": 37,
     "metadata": {},
     "output_type": "execute_result"
    }
   ],
   "source": [
    "X_test.shape"
   ]
  },
  {
   "cell_type": "code",
   "execution_count": 38,
   "metadata": {
    "execution": {
     "iopub.execute_input": "2024-03-02T15:38:56.791528Z",
     "iopub.status.busy": "2024-03-02T15:38:56.791439Z",
     "iopub.status.idle": "2024-03-02T15:38:56.793893Z",
     "shell.execute_reply": "2024-03-02T15:38:56.793428Z",
     "shell.execute_reply.started": "2024-03-02T15:38:56.791520Z"
    }
   },
   "outputs": [
    {
     "data": {
      "text/plain": [
       "(46127, 244)"
      ]
     },
     "execution_count": 38,
     "metadata": {},
     "output_type": "execute_result"
    }
   ],
   "source": [
    "X_test.shape"
   ]
  },
  {
   "cell_type": "code",
   "execution_count": 39,
   "metadata": {
    "execution": {
     "iopub.execute_input": "2024-03-02T15:38:56.794501Z",
     "iopub.status.busy": "2024-03-02T15:38:56.794399Z",
     "iopub.status.idle": "2024-03-02T15:38:56.796879Z",
     "shell.execute_reply": "2024-03-02T15:38:56.796660Z",
     "shell.execute_reply.started": "2024-03-02T15:38:56.794492Z"
    }
   },
   "outputs": [],
   "source": [
    "idx = X_test.sample().index[0]"
   ]
  },
  {
   "cell_type": "code",
   "execution_count": 40,
   "metadata": {
    "execution": {
     "iopub.execute_input": "2024-03-02T15:38:56.797250Z",
     "iopub.status.busy": "2024-03-02T15:38:56.797167Z",
     "iopub.status.idle": "2024-03-02T15:38:56.802206Z",
     "shell.execute_reply": "2024-03-02T15:38:56.801748Z",
     "shell.execute_reply.started": "2024-03-02T15:38:56.797243Z"
    }
   },
   "outputs": [
    {
     "data": {
      "text/plain": [
       "NAME_CONTRACT_TYPE               0\n",
       "FLAG_OWN_CAR                     1\n",
       "FLAG_OWN_REALTY                  0\n",
       "CNT_CHILDREN                     1\n",
       "AMT_INCOME_TOTAL          157500.0\n",
       "                            ...   \n",
       "FE_DAYS_EMPLOYED_PERC     0.331917\n",
       "FE_INCOME_CREDIT_PERC     0.231788\n",
       "FE_INCOME_PER_PERSON       52500.0\n",
       "FE_ANNUITY_INCOME_PERC    0.171086\n",
       "FE_PAYMENT_RATE           0.039656\n",
       "Name: 444669, Length: 244, dtype: object"
      ]
     },
     "execution_count": 40,
     "metadata": {},
     "output_type": "execute_result"
    }
   ],
   "source": [
    "X_test.loc[X_test.sample().index[0], :]"
   ]
  },
  {
   "cell_type": "code",
   "execution_count": 41,
   "metadata": {
    "execution": {
     "iopub.execute_input": "2024-03-02T15:38:56.802631Z",
     "iopub.status.busy": "2024-03-02T15:38:56.802523Z",
     "iopub.status.idle": "2024-03-02T15:38:56.813015Z",
     "shell.execute_reply": "2024-03-02T15:38:56.812488Z",
     "shell.execute_reply.started": "2024-03-02T15:38:56.802621Z"
    }
   },
   "outputs": [
    {
     "data": {
      "text/plain": [
       "{'top': {'AMT_CREDIT': 6.105992844088763,\n",
       "  'FE_INCOME_PER_PERSON': 0.6196442049132869,\n",
       "  'AMT_ANNUITY': 0.35879639277025577,\n",
       "  'AMT_INCOME_TOTAL': 0.29895649344110947,\n",
       "  'DAYS_BIRTH': 0.030136130016934666,\n",
       "  'DAYS_LAST_PHONE_CHANGE': 0.029806703998635237,\n",
       "  'DAYS_ID_PUBLISH': 0.02955654133512838,\n",
       "  'CODE_GENDER_M': 0.029141785074474933,\n",
       "  'EXT_SOURCE_2': 0.029140530831497077,\n",
       "  'NAME_INCOME_TYPE_Commercial associate': 0.029140349403738795},\n",
       " 'bottom': {'AMT_GOODS_PRICE': -14.349624843301797,\n",
       "  'DAYS_REGISTRATION': 0.02891426614950176,\n",
       "  'FLAG_DOCUMENT_3': 0.029137968484059387,\n",
       "  'NAME_EDUCATION_TYPE_Secondary / secondary special': 0.029138788765212767,\n",
       "  'CODE_GENDER_F': 0.0291389237115336,\n",
       "  'HOUR_APPR_PROCESS_START': 0.029138982293111695,\n",
       "  'NAME_INCOME_TYPE_Working': 0.02913899336912268,\n",
       "  'FE_ANNUITY_INCOME_PERC': 0.02913905619428112,\n",
       "  'FLAG_EMP_PHONE': 0.029139214098371554,\n",
       "  'CNT_FAM_MEMBERS': 0.029139293010302058}}"
      ]
     },
     "execution_count": 41,
     "metadata": {},
     "output_type": "execute_result"
    }
   ],
   "source": [
    "def shap_for_one(df, idx):\n",
    "    \"\"\"\n",
    "    Return 10 top\n",
    "    \"\"\"\n",
    "    shap_for_sample = pd.DataFrame(explainer.shap_values(df.loc[idx, :])).fillna(0)\n",
    "    shap_OK = StandardScaler().fit_transform(shap_for_sample)\n",
    "    shap_OK = pd.DataFrame(shap_OK, index=df.columns)\n",
    "    shap_OK = pd.Series(shap_OK.iloc[:, 0])\n",
    "    top_shap = shap_OK.sort_values(ascending=False).head(10)\n",
    "    bottom_shap = shap_OK.sort_values(ascending=True).head(10)\n",
    "    return {\"top\": top_shap.to_dict(), \"bottom\": bottom_shap.to_dict()}\n",
    "\n",
    "\n",
    "shap_for_one(X_test, X_test.sample().index[0])"
   ]
  },
  {
   "cell_type": "code",
   "execution_count": 42,
   "metadata": {
    "execution": {
     "iopub.execute_input": "2024-03-02T15:38:56.813889Z",
     "iopub.status.busy": "2024-03-02T15:38:56.813617Z",
     "iopub.status.idle": "2024-03-02T15:38:56.913216Z",
     "shell.execute_reply": "2024-03-02T15:38:56.912611Z",
     "shell.execute_reply.started": "2024-03-02T15:38:56.813876Z"
    }
   },
   "outputs": [
    {
     "data": {
      "image/png": "[encoded data removed]",
      "text/plain": [
       "<Figure size 640x480 with 1 Axes>"
      ]
     },
     "metadata": {},
     "output_type": "display_data"
    }
   ],
   "source": [
    "shap_dict = shap_for_one(X_test, X_test.sample().index[0])\n",
    "# merge top and bottom into one dict\n",
    "shap_dict[\"top\"].update(shap_dict[\"bottom\"])\n",
    "keys = np.fromiter(shap_dict[\"top\"].keys(), dtype=object)\n",
    "values = np.fromiter(shap_dict[\"top\"].values(), dtype=float)\n",
    "shap.bar_plot(\n",
    "    values,\n",
    "    feature_names=keys,\n",
    "    max_display=20,\n",
    ")"
   ]
  },
  {
   "cell_type": "code",
   "execution_count": 43,
   "metadata": {
    "execution": {
     "iopub.execute_input": "2024-03-02T15:38:56.913675Z",
     "iopub.status.busy": "2024-03-02T15:38:56.913586Z",
     "iopub.status.idle": "2024-03-02T15:38:56.916535Z",
     "shell.execute_reply": "2024-03-02T15:38:56.916210Z",
     "shell.execute_reply.started": "2024-03-02T15:38:56.913667Z"
    }
   },
   "outputs": [
    {
     "data": {
      "text/plain": [
       "array(['AMT_GOODS_PRICE', 'FLAG_EMP_PHONE', 'OBS_30_CNT_SOCIAL_CIRCLE',\n",
       "       'HOUR_APPR_PROCESS_START', 'NAME_TYPE_SUITE_Family',\n",
       "       'FLAG_OWN_CAR', 'WEEKDAY_APPR_PROCESS_START_TUESDAY',\n",
       "       'FLAG_DOCUMENT_3',\n",
       "       'NAME_EDUCATION_TYPE_Secondary / secondary special',\n",
       "       'CODE_GENDER_F', 'AMT_CREDIT', 'AMT_ANNUITY',\n",
       "       'FE_INCOME_PER_PERSON', 'AMT_INCOME_TOTAL', 'DAYS_REGISTRATION',\n",
       "       'DAYS_BIRTH', 'DAYS_LAST_PHONE_CHANGE', 'DAYS_ID_PUBLISH',\n",
       "       'NAME_INCOME_TYPE_Pensioner', 'NAME_TYPE_SUITE_Unaccompanied'],\n",
       "      dtype=object)"
      ]
     },
     "execution_count": 43,
     "metadata": {},
     "output_type": "execute_result"
    }
   ],
   "source": [
    "np.fromiter(shap_dict[\"top\"].keys(), dtype=object)"
   ]
  },
  {
   "cell_type": "code",
   "execution_count": 44,
   "metadata": {
    "execution": {
     "iopub.execute_input": "2024-03-02T15:38:56.916978Z",
     "iopub.status.busy": "2024-03-02T15:38:56.916894Z",
     "iopub.status.idle": "2024-03-02T15:38:56.921241Z",
     "shell.execute_reply": "2024-03-02T15:38:56.920876Z",
     "shell.execute_reply.started": "2024-03-02T15:38:56.916971Z"
    }
   },
   "outputs": [
    {
     "data": {
      "text/plain": [
       "array([0.001561305267766127, 0.09097276185909246, -0.02447118596473092,\n",
       "       -0.031114826104597485, -3687.0856205195773, 189847.38246444397,\n",
       "       -19574.439506580507, 154873.23825356996, 0.00032216912810857564,\n",
       "       -532.2396985682165, nan, 590.8657741870753, -287.49799016464743,\n",
       "       nan, 0.0, 0.46280293099810355, -0.030266349190295548,\n",
       "       -0.0035772172412852784, 0.012249013803795795,\n",
       "       0.0023809784057678566, -0.008409593561776882, 0.029806085124881292,\n",
       "       -0.06459090329418395, -0.3745238994963215, 0.0028214670053932646,\n",
       "       -0.005770075829866737, 0.004740838142803497, -0.018349392331492645,\n",
       "       0.02887704480208882, -0.017945727734962166, nan,\n",
       "       0.47880495465013057, nan, nan, nan, nan, nan, nan, nan, nan, nan,\n",
       "       nan, nan, nan, nan, nan, nan, nan, nan, nan, nan, nan, nan, nan,\n",
       "       nan, nan, nan, nan, nan, nan, nan, nan, nan, nan, nan, nan, nan,\n",
       "       nan, nan, nan, nan, nan, nan, nan, nan, nan, -0.20177166695351012,\n",
       "       -0.03960720205141187, 0.03253678690109652, -0.022395897487558956,\n",
       "       57.91729074608577, 0.0, -0.32578091961850597, -0.0,\n",
       "       -0.008224971599418082, 0.29043275904077015, -0.0,\n",
       "       -0.007668865489555963, 0.0, -0.0, -0.0, 0.0, -0.0, -0.0,\n",
       "       0.00632266047361018, 0.013616770768635465, 0.0, -0.0, 0.0, 0.0,\n",
       "       0.0, nan, nan, nan, nan, nan, nan, 0.027801773559468182,\n",
       "       0.05863331701153612, -0.16432649245744232, 0.0,\n",
       "       -0.033620879240207395, 0.0, -0.0020823597527238, 0.0,\n",
       "       0.13457502895324921, -0.20297951849975682, -0.0,\n",
       "       -0.03413994306217089, -0.44398701505175414, -0.010102187162416953,\n",
       "       -0.0, 0.0, -0.13026183691874055, -0.0, 0.0063024700550453495,\n",
       "       -0.0018945846485670036, -0.002196252879006016, 0.05948184292183171,\n",
       "       -0.015025025049653496, -0.011669646724676143,\n",
       "       -0.008770342536002581, -0.009777230892204562,\n",
       "       -0.0013331032936930605, -0.0, -0.002676796919995008,\n",
       "       -0.0037972448535631602, 0.0005617333112220151, 0.0,\n",
       "       -0.0006411688608764956, 0.0006978370056507659,\n",
       "       -0.0008970189943383691, 0.0011021436555582337,\n",
       "       0.006748601533929477, -0.016855068636502938,\n",
       "       -0.0018586190315840626, -0.00032406471135468294, -0.0,\n",
       "       -0.010953045296640256, 0.0, -0.0018619357260632886,\n",
       "       0.0016950334809440824, 0.0, -0.0, -0.006468866629828549, 0.0,\n",
       "       -0.0033041810297666837, -0.0, -0.004760050942458392,\n",
       "       0.0008864629284859793, 0.0007786423060268423, 0.005542896251340562,\n",
       "       0.035170832940003754, -0.014223399425634749, -0.017181679833873427,\n",
       "       0.0009953461782437787, 0.0, 0.001958900570385204,\n",
       "       -0.0012708943557538492, 0.00022833293007907271,\n",
       "       -0.02302283788065244, 0.0, -0.00951925666743825, 0.0,\n",
       "       0.0006521503516311473, -0.0, 0.0003907438280699889, -0.0,\n",
       "       0.003199106154682023, 0.0, -0.0, 0.0008481800546757333, -0.0, 0.0,\n",
       "       -0.0, -0.0009761610341270312, 0.0, -0.0, -0.0, -0.0, 0.0, -0.0,\n",
       "       0.0, 0.0013653433892662028, 0.0, -0.004327411829368835, -0.0, 0.0,\n",
       "       -0.0012533220715789265, -0.0, -0.0015906977184476942, 0.0, 0.0,\n",
       "       0.0, 0.006593960452991823, 2.517364404597658e-05,\n",
       "       0.002941002740539069, -0.021694389636470694, -0.0, 0.0, -0.0, -0.0,\n",
       "       -0.0035027633005860104, -0.0, -0.0, -0.0, -0.006000574845306188,\n",
       "       -0.0, -0.0003493679470016088, 0.0, -0.00041572164247725903, 0.0,\n",
       "       0.027801773559468182, 0.00019934664274590618,\n",
       "       6.805547867731236e-06, 0.007263729500093701, 0.004481961281037772,\n",
       "       0.04593509239208149, 0.0, -0.0024230341277625585,\n",
       "       0.0009597534652527165, -0.0, -0.0, 0.0, 0.02522682387133739,\n",
       "       -0.01028500087299104, 0.0013112844607677302, -0.03643456242069293,\n",
       "       0.0018702533712445756, nan, -0.018735319002620734,\n",
       "       -6012.425040474281, -0.05905211852461499, 0.02315732406977921],\n",
       "      dtype=object)"
      ]
     },
     "execution_count": 44,
     "metadata": {},
     "output_type": "execute_result"
    }
   ],
   "source": [
    "explainer.shap_values(X_test.sample(1))[0]"
   ]
  },
  {
   "cell_type": "code",
   "execution_count": 45,
   "metadata": {
    "execution": {
     "iopub.execute_input": "2024-03-02T15:38:56.921640Z",
     "iopub.status.busy": "2024-03-02T15:38:56.921558Z",
     "iopub.status.idle": "2024-03-02T15:38:57.014230Z",
     "shell.execute_reply": "2024-03-02T15:38:57.013818Z",
     "shell.execute_reply.started": "2024-03-02T15:38:56.921633Z"
    }
   },
   "outputs": [
    {
     "data": {
      "image/png": "[encoded data removed]",
      "text/plain": [
       "<Figure size 640x480 with 1 Axes>"
      ]
     },
     "metadata": {},
     "output_type": "display_data"
    }
   ],
   "source": [
    "# explainer for only 1 sample row\n",
    "# TODO prendre que les tops\n",
    "shap.bar_plot(\n",
    "    explainer.shap_values(X_test.sample(1))[0],\n",
    "    feature_names=X_test.columns,\n",
    "    max_display=20,\n",
    ")"
   ]
  },
  {
   "cell_type": "code",
   "execution_count": 46,
   "metadata": {
    "execution": {
     "iopub.execute_input": "2024-03-02T15:38:57.014633Z",
     "iopub.status.busy": "2024-03-02T15:38:57.014542Z",
     "iopub.status.idle": "2024-03-02T15:38:57.016660Z",
     "shell.execute_reply": "2024-03-02T15:38:57.016262Z",
     "shell.execute_reply.started": "2024-03-02T15:38:57.014624Z"
    }
   },
   "outputs": [],
   "source": [
    "# shap.plots.beeswarm(explainer.shap_values(X_test))"
   ]
  },
  {
   "cell_type": "code",
   "execution_count": 47,
   "metadata": {
    "execution": {
     "iopub.execute_input": "2024-03-02T15:38:57.017178Z",
     "iopub.status.busy": "2024-03-02T15:38:57.017068Z",
     "iopub.status.idle": "2024-03-02T15:38:58.865751Z",
     "shell.execute_reply": "2024-03-02T15:38:58.865313Z",
     "shell.execute_reply.started": "2024-03-02T15:38:57.017168Z"
    }
   },
   "outputs": [
    {
     "data": {
      "image/png": "[encoded data removed]",
      "text/plain": [
       "<Figure size 800x950 with 1 Axes>"
      ]
     },
     "metadata": {},
     "output_type": "display_data"
    }
   ],
   "source": [
    "shap.summary_plot(\n",
    "    explainer.shap_values(X_test).astype(float),\n",
    "    feature_names=X_test.columns,\n",
    "    # use_log_scale=True,\n",
    ")"
   ]
  },
  {
   "cell_type": "markdown",
   "metadata": {
    "jp-MarkdownHeadingCollapsed": true
   },
   "source": [
    "# Save trained model"
   ]
  },
  {
   "cell_type": "code",
   "execution_count": 48,
   "metadata": {
    "execution": {
     "iopub.execute_input": "2024-03-02T15:38:58.866163Z",
     "iopub.status.busy": "2024-03-02T15:38:58.866069Z",
     "iopub.status.idle": "2024-03-02T15:38:58.870675Z",
     "shell.execute_reply": "2024-03-02T15:38:58.870185Z",
     "shell.execute_reply.started": "2024-03-02T15:38:58.866154Z"
    }
   },
   "outputs": [],
   "source": [
    "# Standard\n",
    "import pickle\n",
    "\n",
    "with open(\"../models/model.pkl\", \"wb\") as f:\n",
    "    pickle.dump(grid.best_estimator_, f)\n",
    "with open(\"../models/shap_explainer.pkl\", \"wb\") as f:\n",
    "    pickle.dump(explainer, f)\n",
    "\n",
    "f.close()"
   ]
  },
  {
   "cell_type": "code",
   "execution_count": 49,
   "metadata": {
    "execution": {
     "iopub.execute_input": "2024-03-02T15:38:58.871035Z",
     "iopub.status.busy": "2024-03-02T15:38:58.870948Z",
     "iopub.status.idle": "2024-03-02T15:38:58.883483Z",
     "shell.execute_reply": "2024-03-02T15:38:58.883076Z",
     "shell.execute_reply.started": "2024-03-02T15:38:58.871026Z"
    }
   },
   "outputs": [
    {
     "data": {
      "text/plain": [
       "array([[0.69692256, 0.30307744]])"
      ]
     },
     "execution_count": 49,
     "metadata": {},
     "output_type": "execute_result"
    }
   ],
   "source": [
    "grid.best_estimator_.predict_proba(pd.DataFrame(X_test.iloc[0, :]).T)"
   ]
  },
  {
   "cell_type": "code",
   "execution_count": null,
   "metadata": {},
   "outputs": [],
   "source": []
  },
  {
   "cell_type": "code",
   "execution_count": null,
   "metadata": {},
   "outputs": [],
   "source": []
  }
 ],
 "metadata": {
  "kernelspec": {
   "display_name": "Python 3 (ipykernel)",
   "language": "python",
   "name": "python3"
  },
  "language_info": {
   "codemirror_mode": {
    "name": "ipython",
    "version": 3
   },
   "file_extension": ".py",
   "mimetype": "text/x-python",
   "name": "python",
   "nbconvert_exporter": "python",
   "pygments_lexer": "ipython3",
   "version": "3.11.5"
  }
 },
 "nbformat": 4,
 "nbformat_minor": 4
}
