{
 "cells": [
  {
   "cell_type": "markdown",
   "id": "564f5692-1f8a-4440-a373-9b167afd85f8",
   "metadata": {},
   "source": [
    "# Data Drift\n",
    "Pour simuler évolution des commportements utilisateurs dans le temps, on fait l'hypothèse que `app_train` représente les données d'entrainement et `app_test` les données de test.  \n",
    "On applique le même nettoyage à train et test"
   ]
  },
  {
   "cell_type": "code",
   "execution_count": 1,
   "id": "f6676df1-341f-40fb-8d46-77390f45dabe",
   "metadata": {
    "execution": {
     "iopub.execute_input": "2024-03-01T16:16:09.748741Z",
     "iopub.status.busy": "2024-03-01T16:16:09.748404Z",
     "iopub.status.idle": "2024-03-01T16:16:11.525501Z",
     "shell.execute_reply": "2024-03-01T16:16:11.524552Z",
     "shell.execute_reply.started": "2024-03-01T16:16:09.748713Z"
    }
   },
   "outputs": [],
   "source": [
    "import pandas as pd\n",
    "\n",
    "# Third party\n",
    "from evidently.metric_preset import DataDriftPreset\n",
    "from evidently.report import Report"
   ]
  },
  {
   "cell_type": "code",
   "execution_count": 2,
   "id": "89a3f70c-59d8-42f7-b5d0-44bce52b86d8",
   "metadata": {
    "execution": {
     "iopub.execute_input": "2024-03-01T16:16:11.533091Z",
     "iopub.status.busy": "2024-03-01T16:16:11.532909Z",
     "iopub.status.idle": "2024-03-01T16:16:12.146418Z",
     "shell.execute_reply": "2024-03-01T16:16:12.145478Z",
     "shell.execute_reply.started": "2024-03-01T16:16:11.533073Z"
    }
   },
   "outputs": [],
   "source": [
    "# load cleaned data\n",
    "app_train = pd.read_pickle(\"../data/processed/app_train_cleaned.pkl\").set_index(\n",
    "    \"SK_ID_CURR\"\n",
    ")\n",
    "app_test = pd.read_pickle(\"../data/processed/app_test_cleaned.pkl\").set_index(\n",
    "    \"SK_ID_CURR\"\n",
    ")  # used for datadrift only"
   ]
  },
  {
   "cell_type": "code",
   "execution_count": 3,
   "id": "9f588420-f2eb-4bfb-8bcc-309c0c5d3bdc",
   "metadata": {
    "execution": {
     "iopub.execute_input": "2024-03-01T16:16:51.982880Z",
     "iopub.status.busy": "2024-03-01T16:16:51.982524Z",
     "iopub.status.idle": "2024-03-01T16:18:21.194440Z",
     "shell.execute_reply": "2024-03-01T16:18:21.193636Z",
     "shell.execute_reply.started": "2024-03-01T16:16:51.982853Z"
    }
   },
   "outputs": [],
   "source": [
    "data_drift_report = Report(\n",
    "    metrics=[\n",
    "        DataDriftPreset(),\n",
    "    ]\n",
    ")\n",
    "\n",
    "data_drift_report.run(\n",
    "    reference_data=app_train.sample(frac=0.05).drop(\"TARGET\", axis=1),\n",
    "    current_data=app_test.sample(frac=0.05),\n",
    "    # column_mapping=None,\n",
    ")"
   ]
  },
  {
   "cell_type": "code",
   "execution_count": 4,
   "id": "9b649186-56db-42e9-b8f9-af86c05ef922",
   "metadata": {
    "execution": {
     "iopub.execute_input": "2024-03-01T16:18:21.201474Z",
     "iopub.status.busy": "2024-03-01T16:18:21.201389Z",
     "iopub.status.idle": "2024-03-01T16:18:25.115075Z",
     "shell.execute_reply": "2024-03-01T16:18:25.114555Z",
     "shell.execute_reply.started": "2024-03-01T16:18:21.201466Z"
    }
   },
   "outputs": [],
   "source": [
    "data_drift_report.save_html(\"../reports/data_drift_report.html\")"
   ]
  },
  {
   "cell_type": "code",
   "execution_count": 7,
   "id": "9355a1cd-4d9b-44cf-87c5-0493dc76c251",
   "metadata": {
    "execution": {
     "iopub.execute_input": "2024-03-01T16:18:25.948380Z",
     "iopub.status.busy": "2024-03-01T16:18:25.948206Z",
     "iopub.status.idle": "2024-03-01T16:18:26.306922Z",
     "shell.execute_reply": "2024-03-01T16:18:26.306257Z",
     "shell.execute_reply.started": "2024-03-01T16:18:25.948363Z"
    }
   },
   "outputs": [
    {
     "name": "stdout",
     "output_type": "stream",
     "text": [
      "Gtk-\u001b[1;32mMessage\u001b[0m: \u001b[34m17:18:26.111\u001b[0m: Not loading module \"atk-bridge\": The functionality is provided by GTK natively. Please try to not load it.\n"
     ]
    }
   ],
   "source": [
    "# ! firefox ../reports/data_drift_report.html"
   ]
  },
  {
   "cell_type": "code",
   "execution_count": null,
   "id": "bc093204-362c-4081-9842-4f0d2c62cfcd",
   "metadata": {},
   "outputs": [],
   "source": []
  }
 ],
 "metadata": {
  "kernelspec": {
   "display_name": "Python 3 (ipykernel)",
   "language": "python",
   "name": "python3"
  },
  "language_info": {
   "codemirror_mode": {
    "name": "ipython",
    "version": 3
   },
   "file_extension": ".py",
   "mimetype": "text/x-python",
   "name": "python",
   "nbconvert_exporter": "python",
   "pygments_lexer": "ipython3",
   "version": "3.11.5"
  }
 },
 "nbformat": 4,
 "nbformat_minor": 5
}
